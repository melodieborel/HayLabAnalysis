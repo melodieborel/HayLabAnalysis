{
 "cells": [
  {
   "cell_type": "markdown",
   "metadata": {},
   "source": [
    "# Validate Minian outputs\n",
    "\n",
    "- Load\n",
    "    - spatial map (A) -> maybe to associate with a projection of neuron fluorescence\n",
    "    - temporal activity of detected neurons\n",
    "\n",
    "- Validate units\n",
    "- Extract and save relevant data for each selected unit\n",
    "    - spatial location (x, y); no need for shape\n",
    "    - Ca2+ trace\n",
    "    - Ca2+ peak time and amplitude\n",
    "    - Deconvolved spikes\n"
   ]
  },
  {
   "cell_type": "markdown",
   "metadata": {},
   "source": [
    "Load the required packages (and many more that are not useful)"
   ]
  },
  {
   "cell_type": "code",
   "execution_count": null,
   "metadata": {},
   "outputs": [],
   "source": [
    "\n",
    "import numpy as np\n",
    "import csv\n",
    "from pathlib import Path\n",
    "import xarray as xr\n",
    "import pandas as pd\n",
    "from pandas import concat\n",
    "import matplotlib.pyplot as plt\n",
    "import itertools as itt\n",
    "import os\n",
    "import sys\n",
    "import json\n",
    "from scipy import signal\n",
    "from scipy.signal import find_peaks\n",
    "from scipy.signal import chirp, find_peaks, peak_widths\n",
    "\n",
    "import holoviews as hv\n",
    "from dask.distributed import Client, LocalCluster\n",
    "from holoviews.operation.datashader import datashade, regrid\n",
    "from holoviews.util import Dynamic\n",
    "from holoviews import opts\n",
    "from holoviews.operation.datashader import shade\n",
    "hv.extension('bokeh', 'matplotlib')\n",
    "from IPython.core.display import display\n",
    "\n",
    "# add the Contrib dir that contains all tools developped by MB : mbTools.py\n",
    "#sys.path.append(os.path.join(os.path.dirname(sys.path[0]),'python'))\n",
    "#print(os.path.join(os.path.dirname(sys.path[0]),'python'))\n",
    "import HayLabAnalysis as hla\n",
    "\n",
    "from minian.utilities import (\n",
    "    TaskAnnotation,\n",
    "    get_optimal_chk,\n",
    "    load_videos,\n",
    "    open_minian,\n",
    "    save_minian,\n",
    ")\n",
    "\n",
    "\n",
    "#%reset"
   ]
  },
  {
   "cell_type": "code",
   "execution_count": null,
   "metadata": {},
   "outputs": [],
   "source": [
    "minian_path = os.path.join(os.path.abspath('..'),'minian')\n",
    "print(\"The folder used for minian procedures is : {}\".format(minian_path))\n",
    "\n",
    "sys.path.append(minian_path)\n",
    "from minian.utilities import (\n",
    "    open_minian,\n",
    ")"
   ]
  },
  {
   "cell_type": "markdown",
   "metadata": {},
   "source": [
    "Import the minian files"
   ]
  },
  {
   "cell_type": "code",
   "execution_count": null,
   "metadata": {},
   "outputs": [],
   "source": [
    "folderGen = Path('.').absolute()\n",
    "recording = 'Baseline_recording'\n",
    "experimenter = 'Gaelle'\n",
    "mouse_name = 'BlueLines'\n",
    "date = '2022_08_06_13_46_59'\n",
    "device = 'V4_Miniscope'\n",
    "#time = '10_01_23'\n",
    "minianversion = 'minian'\n",
    "\n",
    "folderMouse = Path(f'{folderGen}/{experimenter}/{recording}/{mouse_name}/{date}/{device}/{minianversion}/')\n",
    "\n",
    "minian_ds = open_minian(folderMouse)"
   ]
  },
  {
   "cell_type": "markdown",
   "metadata": {},
   "source": [
    "Import spatial map, Ca2+ traces, deconvolved spikes"
   ]
  },
  {
   "cell_type": "code",
   "execution_count": null,
   "metadata": {},
   "outputs": [],
   "source": [
    "minianversion = 'minian'\n",
    "try: # tries to retrieve minianversion either from a previous run or from a previous notebook\n",
    "    %store -r minianversion\n",
    "except:\n",
    "    print(\"the minian folder to use was not defined in store\")\n",
    "    minianversion = 'minian' #'minianAB' # or 'minian_intermediate'\n",
    "    %store minianversion\n",
    "\n",
    "folderMouse = Path(os.path.join(dpath,minianversion))\n",
    "print(folderMouse)\n",
    "minian_ds = open_minian(folderMouse)\n",
    "\n",
    "A = minian_ds['A']\n",
    "C = minian_ds['C']\n",
    "S = minian_ds['S']\n",
    "\n",
    "B = A['unit_id']\n",
    "series = B.to_series()\n",
    "D = series.count()\n",
    "\n",
    "idloc = A.idxmax(\"unit_id\")\n",
    "Hmax = A.idxmax(\"height\")\n",
    "Hmax2 = Hmax.max(\"width\")\n",
    "\n",
    "Wmax = A.idxmax(\"width\")\n",
    "Wmax2 = Wmax.max(\"height\")\n",
    "coord1 = Wmax2.to_series()\n",
    "coord2 = Hmax2.to_series()\n",
    "\n",
    "a = pd.concat([coord1,coord2], axis=1)\n",
    "unit = len(a)\n"
   ]
  },
  {
   "cell_type": "markdown",
   "metadata": {},
   "source": [
    "Plot either all cells or just the one of interest"
   ]
  },
  {
   "cell_type": "markdown",
   "metadata": {},
   "source": [
    "Plot the spatial map for all cells + interactive Ca2+ trace"
   ]
  },
  {
   "cell_type": "code",
   "execution_count": null,
   "metadata": {},
   "outputs": [],
   "source": [
    "unit_to_keep=a.index.tolist()   "
   ]
  },
  {
   "cell_type": "code",
   "execution_count": null,
   "metadata": {},
   "outputs": [],
   "source": [
    "# Set up selector object\n",
    "discrete_slider = pn.widgets.DiscreteSlider(\n",
    "    name=\"Choose unit\", \n",
    "    options=[i for i in a.index],\n",
    "    value=a.index[0]\n",
    ")\n",
    "\n",
    "drop_unit_button = pn.widgets.Button(name='Drop this unit! >', button_type='primary')\n",
    "keep_unit_button = pn.widgets.Button(name='Keep this unit!')\n",
    "next_unit_button = pn.widgets.Button(name='Next unit > ', button_type='primary')\n",
    "previous_unit_button = pn.widgets.Button(name='< Previous unit')\n",
    "\n",
    "text_input = pn.widgets.TextInput(value='', width=300)\n",
    "\n",
    "# Define a callback function for the button\n",
    "def dropunit_callback(event):\n",
    "    selected_value = discrete_slider.value\n",
    "    text=f'Unit n°{selected_value} dropped!'\n",
    "    number = selected_value\n",
    "    if number in unit_to_keep:\n",
    "        unit_to_keep.remove(number)\n",
    "    nextunit_callback(event)\n",
    "    text_input.value = text\n",
    "\n",
    "# Define a callback function for the button\n",
    "def keepunit_callback(event):\n",
    "    selected_value = discrete_slider.value\n",
    "    text=f'Unit n°{selected_value} kept!'\n",
    "    number = selected_value\n",
    "    if number not in unit_to_keep:\n",
    "        unit_to_keep.append(number)\n",
    "        unit_to_keep.sort()\n",
    "    text_input.value = text\n",
    "\n",
    "# Define a callback function for the button\n",
    "def nextunit_callback(event):\n",
    "    position = np.where(a.index == discrete_slider.value)[0]\n",
    "    position = position[0]\n",
    "    nextunitvalue=a.index[position + 1] if position+2<=len(a) else a.index[0]\n",
    "    discrete_slider.value = nextunitvalue\n",
    "    \n",
    "# Define a callback function for the button\n",
    "def previousunit_callback(event):\n",
    "    position = np.where(a.index == discrete_slider.value)[0]\n",
    "    position = position[0]\n",
    "    previousunitvalue=a.index [position - 1]\n",
    "    discrete_slider.value = previousunitvalue\n",
    "\n",
    "drop_unit_button.on_click(dropunit_callback)\n",
    "keep_unit_button.on_click(keepunit_callback)\n",
    "next_unit_button.on_click(nextunit_callback)\n",
    "previous_unit_button.on_click(previousunit_callback)"
   ]
  },
  {
   "cell_type": "code",
   "execution_count": null,
   "metadata": {},
   "outputs": [],
   "source": [
    "# Define interactivity\n",
    "@pn.depends(indexes=discrete_slider)\n",
    "def calciumtrace(indexes):\n",
    "    index = indexes\n",
    "    position = np.where(a.index == index)[0]\n",
    "    position = position[0]\n",
    "    return hv.Curve((C[position, :]), label=f'Unit n° {index}').opts(ylim=(-0.5, 20))\n",
    "\n",
    "@pn.depends(indexes=discrete_slider)\n",
    "def circlepath(indexes):\n",
    "    index = indexes\n",
    "    radius = 15\n",
    "    num_points=100\n",
    "    theta = np.linspace(0, 2*np.pi, num_points)\n",
    "    position = np.where(a.index == index)[0]\n",
    "    position = position[0]\n",
    "    return hv.Path((a.iloc[position, 0] + radius * np.cos(theta), a.iloc[position, 1] + radius * np.sin(theta)), group='keep').opts(ylim=(0, 600), xlim=(0, 600), line_color='red', line_width=3) #\n",
    "\n",
    "#@pn.depends(indexes=discrete_slider)\n",
    "#def imgZoom(indexes):\n",
    "#    index = indexes\n",
    "#    position = np.where(a.index == index)[0]\n",
    "#    position = position[0]\n",
    "#    xx1=int(a.iloc[position, 0]-20)\n",
    "#    xx2=int(a.iloc[position, 0]+20)\n",
    "#    yy1=int(a.iloc[position, 1]-20)\n",
    "#    yy2=int(a.iloc[position, 1]+20)   \n",
    "#    return hv.Image(A.max(\"unit_id\")[yy1:yy2,xx1:xx2], kdims=[\"width\", \"height\"]).opts(ylim=(xx1, xx2), xlim=(yy1, yy2), colorbar=False, invert_yaxis=False,cmap=\"Viridis\", shared_axes=False)"
   ]
  },
  {
   "cell_type": "markdown",
   "metadata": {},
   "source": [
    "### Plot the spatial map for all cells + interactive Ca2+ trace"
   ]
  },
  {
   "cell_type": "code",
   "execution_count": null,
   "metadata": {},
   "outputs": [],
   "source": [
    "output_size = 180\n",
    "hv.output(size=int(output_size))\n",
    "\n",
    "image = hv.Image(\n",
    "    A.max(\"unit_id\").compute().astype(np.float32).rename(\"A\"),\n",
    "    kdims=[\"width\", \"height\"],\n",
    ").opts(colorbar=False, invert_yaxis=False,cmap=\"Viridis\")\n",
    "\n",
    "#labels = hv.Labels([(a.iloc[i, 0], a.iloc[i, 1], a.index[i]) for i in range(len(a))]).opts(text_color='white', text_font_size='7pt') \n",
    "\n",
    "#layout = pn.Row(image * labels * hv.DynamicMap(circlepath), hv.DynamicMap(calciumtrace), # hv.DynamicMap(imgZoom)* hv.DynamicMap(circlepath),\n",
    "#            pn.Column(discrete_slider, pn.Row(previous_unit_button, next_unit_button), pn.Row(keep_unit_button, drop_unit_button), text_input       \n",
    "#                    )\n",
    "#                    )\n",
    "\n",
    "layout = pn.Row(image * hv.DynamicMap(circlepath), hv.DynamicMap(calciumtrace), # hv.DynamicMap(imgZoom)* hv.DynamicMap(circlepath),\n",
    "            pn.Column(discrete_slider, pn.Row(previous_unit_button, next_unit_button), pn.Row(keep_unit_button, drop_unit_button), text_input       \n",
    "                    )\n",
    "                    )\n",
    "\n",
    "display(layout)\n"
   ]
  },
  {
   "cell_type": "markdown",
   "metadata": {},
   "source": [
    "Feel unit to keep"
   ]
  },
  {
   "cell_type": "code",
   "execution_count": null,
   "metadata": {},
   "outputs": [],
   "source": [
    "# fill in unit_to_kepp with cell_id of cells to keep \n",
    "\n",
    "print(\"The units kept are:\")\n",
    "print(unit_to_keep)\n",
    "\n",
    "all_units=a.index.tolist()\n",
    "unit_to_drop = [e for e in all_units if e not in unit_to_keep]\n",
    "print(\"The units dropped are:\")\n",
    "print(unit_to_drop)\n"
   ]
  },
  {
   "cell_type": "markdown",
   "metadata": {},
   "source": [
    "Remove dropped units"
   ]
  },
  {
   "cell_type": "code",
   "execution_count": null,
   "metadata": {},
   "outputs": [],
   "source": [
    "# fill in unit_to_drop with cell_id of cells to drop\n",
    "unit_to_drop = [197]\n",
    "copyB = list(B.copy())\n",
    "for i in range(len(unit_to_drop)):\n",
    "    elem = unit_to_drop[i]\n",
    "    copyB.remove(elem) # IF CELL ID \n",
    "unit_to_keep = copyB\n",
    "\n",
    "A_upd = A.loc[unit_to_keep,:,:]\n",
    "C_upd = C.loc[unit_to_keep,:]\n",
    "S_upd = S.loc[unit_to_keep,:]\n",
    "\n",
    "TodropFile = folderMouse / f'TodropFile.json'\n",
    "\n",
    "with open(TodropFile, 'w') as f:\n",
    "    json.dump(unit_to_drop, f, indent=2) "
   ]
  }
 ],
 "metadata": {
  "kernelspec": {
   "display_name": ".venv",
   "language": "python",
   "name": "python3"
  },
  "language_info": {
   "codemirror_mode": {
    "name": "ipython",
    "version": 3
   },
   "file_extension": ".py",
   "mimetype": "text/x-python",
   "name": "python",
   "nbconvert_exporter": "python",
   "pygments_lexer": "ipython3",
   "version": "3.11.8"
  },
  "orig_nbformat": 4
 },
 "nbformat": 4,
 "nbformat_minor": 2
}
