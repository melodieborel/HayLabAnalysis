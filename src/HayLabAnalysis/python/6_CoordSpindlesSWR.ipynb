{
 "cells": [
  {
   "cell_type": "markdown",
   "metadata": {},
   "source": [
    "# Post-analysis of Spindles, SWR and Down-states.\n",
    "\n",
    "Restart from SWR and spindles verified files. They are most likely the .csv files."
   ]
  },
  {
   "cell_type": "markdown",
   "metadata": {},
   "source": [
    "## Load events files and packages"
   ]
  },
  {
   "cell_type": "code",
   "execution_count": null,
   "metadata": {},
   "outputs": [],
   "source": [
    "from scipy import signal\n",
    "import numpy as np\n",
    "import matplotlib.pyplot as plt\n",
    "from matplotlib.widgets import Slider, Button, Cursor\n",
    "from scipy import fftpack\n",
    "import pandas as pd\n",
    "import seaborn as sns\n",
    "from pathlib import Path\n",
    "\n",
    "# add the Contrib dir that contains all tools developped by MB : mbTools.py\n",
    "#sys.path.append(os.path.join(os.path.dirname(sys.path[0]),'python'))\n",
    "#print(os.path.join(os.path.dirname(sys.path[0]),'python'))\n",
    "import HayLabAnalysis as hla\n",
    "\n",
    "sns.set(style=\"whitegrid\", palette=\"muted\")\n",
    "%matplotlib widget\n",
    "\n",
    "folder_base = Path('/Users/ahay/Documents/DATA/OPNE/ArchTshort/OD1/')\n",
    "filenameSp = folder_base / f'TTLproperties.csv'\n",
    "filenameSwr = folder_base / f'SWRproperties.csv'\n",
    "filenameNW = folder_base / f'LFPwakeremoved.npy'\n",
    "filenameAll = folder_base / f'RawDataChannelExtractedDS.npy'\n",
    "\n",
    "#SpindlesS1 = pd.read_csv(filenameSp)\n",
    "PFCspiprop = pd.read_csv(filenameSp)\n",
    "SWRprop = pd.read_csv(filenameSwr)\n",
    "LFPwakeremoved = np.load(filenameNW, mmap_mode= 'r')\n",
    "All = np.load(filenameAll, mmap_mode= 'r')\n",
    "All = All.T\n",
    "PFC = All[:, 10]\n",
    "PFCwakeremoved = LFPwakeremoved[:, 10]\n"
   ]
  },
  {
   "cell_type": "code",
   "execution_count": null,
   "metadata": {},
   "outputs": [],
   "source": [
    "len(PFCspiprop)"
   ]
  },
  {
   "cell_type": "code",
   "execution_count": null,
   "metadata": {},
   "outputs": [],
   "source": [
    "SWRprop\n",
    "SWRprop.describe()\n",
    "r = np.corrcoef(SWRprop['Duration'], SWRprop['Avg int'])\n",
    "r[0, 1] # -0.1757 No correlation!\n",
    "r = np.corrcoef(SWRprop['Avg freq'], SWRprop['Avg int'])\n",
    "r[0, 1] # 0.2528 No correlation!\n",
    "r = np.corrcoef(SWRprop['Avg freq'], SWRprop['Duration'])\n",
    "r[0, 1] # -0.2478 No correlation!"
   ]
  },
  {
   "cell_type": "code",
   "execution_count": null,
   "metadata": {},
   "outputs": [],
   "source": [
    "fig, ax = plt.subplots()\n",
    "ax.plot(SWRprop['Duration'], SWRprop['Avg int'], marker='o', linewidth=0)\n",
    "ax.set_title('correlation Duration - Intensity')\n",
    "ax.set_xlabel('Duration (ms)')\n",
    "ax.set_ylabel('Intensity (AU)')"
   ]
  },
  {
   "cell_type": "code",
   "execution_count": null,
   "metadata": {},
   "outputs": [],
   "source": [
    "from bisect import bisect_left\n",
    "\n",
    "def take_closest(myList, myNumber):\n",
    "    \"\"\"\n",
    "    Assumes myList is sorted. Returns closest value to myNumber.\n",
    "\n",
    "    If two numbers are equally close, return the smallest number.\n",
    "    \"\"\"\n",
    "    pos = bisect_left(myList, myNumber)\n",
    "    if pos == 0:\n",
    "        return myList[0]\n",
    "    if pos == len(myList):\n",
    "        return myList[-1]\n",
    "    before = myList[pos - 1]\n",
    "    after = myList[pos]\n",
    "    if after - myNumber < myNumber - before:\n",
    "        return after\n",
    "    else:\n",
    "        return before"
   ]
  },
  {
   "cell_type": "markdown",
   "metadata": {},
   "source": [
    "determine the coupling of spindles and swrs"
   ]
  },
  {
   "cell_type": "code",
   "execution_count": null,
   "metadata": {},
   "outputs": [],
   "source": [
    "before = 100 # ms\n",
    "after = 00 # ms\n",
    "counterPFC = 0\n",
    "Coupled_spindlesPFC = list()\n",
    "unCoupled_spindlesPFC = list()\n",
    "\n",
    "nb_spindle = PFCspiprop.shape[0]\n",
    "print(nb_spindle)\n",
    "for Pspin in range(nb_spindle-2):\n",
    "    ser = pd.Series(PFCspiprop[\"peak time\"])\n",
    "    serSWR = pd.Series(SWRprop[\"peak time\"])\n",
    "    Combined_Spindle_SWR = take_closest(serSWR, ser[Pspin])\n",
    "    distance = Combined_Spindle_SWR - ser[Pspin]\n",
    "    if (distance > (- before)) and (distance <  after):\n",
    "        counterPFC = counterPFC + 1\n",
    "        Coupled_spindlesPFC.append(Pspin)\n",
    "    else:\n",
    "        unCoupled_spindlesPFC.append(Pspin)\n",
    "\n",
    "print(len(Coupled_spindlesPFC))\n",
    "print(len(unCoupled_spindlesPFC))\n",
    "print(len(Coupled_spindlesPFC)/(len(Coupled_spindlesPFC)+len(unCoupled_spindlesPFC)))"
   ]
  },
  {
   "cell_type": "markdown",
   "metadata": {},
   "source": [
    "number of events "
   ]
  },
  {
   "cell_type": "code",
   "execution_count": null,
   "metadata": {},
   "outputs": [],
   "source": [
    "nb_spindle = PFCspiprop.shape[0]\n",
    "nb_swr = SWRprop.shape[0]\n",
    "\n",
    "timesleeping = len(PFCwakeremoved)/1000\n",
    "IncSpin =  nb_spindle/timesleeping\n",
    "IncSWR =  nb_swr/timesleeping\n",
    "\n",
    "print(IncSpin)\n",
    "print(IncSWR)"
   ]
  },
  {
   "cell_type": "code",
   "execution_count": null,
   "metadata": {},
   "outputs": [],
   "source": []
  },
  {
   "cell_type": "markdown",
   "metadata": {},
   "source": [
    "event properties"
   ]
  },
  {
   "cell_type": "code",
   "execution_count": null,
   "metadata": {},
   "outputs": [],
   "source": [
    "print(\"SWR\")\n",
    "print(np.mean(SWRprop['Avg int']))\n",
    "print(np.mean(SWRprop['Max int']))\n",
    "print(\"Spindle\")\n",
    "print(np.mean(PFCspiprop['Avg int']))\n",
    "print(np.mean(PFCspiprop['Max int']))\n"
   ]
  },
  {
   "cell_type": "markdown",
   "metadata": {},
   "source": [
    "2205\n",
    "Baseline: neg coupling 0.11; pos coupling 0.1; all coupling 0.22; inc spi 0.05 ev/sec; inc swr 0.19 ev/sec\n",
    "            avg/max int swr 236/610; avg/max int spi 257/781\n",
    "DCZ: neg coupling 0.12; pos coupling 0.09; all coupling: 0.21; inc spi 0.05 ev/sec; inc swr 0.21 ev/sec\n",
    "            avg/max int swr 219/569; avg/max int spi 240/747\n",
    "\n",
    "2206\n",
    "Baseline: neg coupling 0.31; pos coupling 0.28; all coupling 0.59; inc spi 0.06 ev/sec; inc swr 0.56 ev/sec\n",
    "            avg/max int swr 445/1142; avg/max int spi 2394/7232\n",
    "DCZ: neg coupling 0.23; pos coupling 0.23; all coupling: 0.47; inc spi 0.04 ev/sec; inc swr 0.32 ev/sec\n",
    "            avg/max int swr 413/1068; avg/max int spi 2221/6773\n",
    "\n",
    "2207\n",
    "Baseline: inc spi 0.043 ev/sec; \n",
    "            avg/max int spi 257/781\n",
    "DCZ: inc spi 0.063 ev/sec;\n",
    "            avg/max int spi 2119/6370"
   ]
  },
  {
   "cell_type": "code",
   "execution_count": null,
   "metadata": {},
   "outputs": [],
   "source": [
    "\n"
   ]
  },
  {
   "cell_type": "markdown",
   "metadata": {},
   "source": [
    "Histogramme de répartition des SWR around light stim"
   ]
  },
  {
   "cell_type": "code",
   "execution_count": null,
   "metadata": {},
   "outputs": [],
   "source": [
    "folder_base = Path('/Users/ahay/Documents/DATA/OPNE/ArchTshort/OD2/')\n",
    "filenameSp = folder_base / f'TTLproperties.csv'\n",
    "filenameSwr = folder_base / f'SWRproperties.csv'\n",
    "SpindlesS1 = pd.read_csv(filenameSp)\n",
    "PFCspiprop = pd.read_csv(filenameSp)\n",
    "SWRprop = pd.read_csv(filenameSwr)\n",
    "\n",
    "\n",
    "counterPFC = 0\n",
    "#Distance_SWRstim = list()\n",
    "nb_spindle = PFCspiprop.shape[0]\n",
    "nb_swr = SWRprop.shape[0]\n",
    "#whatareyou = list()\n",
    "\n",
    "print(nb_spindle)\n",
    "for Pspin in range(nb_spindle-2):\n",
    "    ser = pd.Series(PFCspiprop[\"Start\"])\n",
    "    serSWR = pd.Series(SWRprop[\"peak time\"])\n",
    "    Combined_Spindle_SWR = take_closest(serSWR, ser[Pspin])\n",
    "    distance = Combined_Spindle_SWR - ser[Pspin]\n",
    "    if distance < 2100 and distance > -2100:\n",
    "        Distance_SWRstim.append(distance)\n",
    "    if distance < 200 and distance > 0:\n",
    "        whatareyou.append(Pspin)\n",
    "print(whatareyou)\n",
    "\n",
    "plt.close() \n",
    "plt.hist(Distance_SWRstim, bins=[-2100, -1800, -1500, -1200, -900, -600, -300, 0, 300, 600, 900, 1200, 1500, 1800, 2100])\n",
    "plt.show() "
   ]
  },
  {
   "cell_type": "code",
   "execution_count": null,
   "metadata": {},
   "outputs": [],
   "source": [
    "len(Distance_SWRstim)\n",
    "#Distance_SWRstim"
   ]
  },
  {
   "cell_type": "code",
   "execution_count": null,
   "metadata": {},
   "outputs": [],
   "source": [
    "\n",
    "plt.close() \n",
    "plt.hist(Distance_SWRstim, bins=[-2100, -1800, -1500, -1200, -900, -600, -300, 0, 300, 600, 900, 1200, 1500, 1800, 2100])\n",
    "#plt.hist(Distance_SWRstim, bins=[-2000, -1500, -1000, -500, 0, 500, 1000, 1500, 2000])\n",
    "#plt.hist(Distance_SWRstim, bins=[-2100, -1400, -700, 0, 700, 1400, 2100])\n",
    "plt.show() "
   ]
  },
  {
   "cell_type": "code",
   "execution_count": null,
   "metadata": {},
   "outputs": [],
   "source": [
    "Distance_SWRstim2 = np.array(Distance_SWRstim)\n",
    "Distance_SWRstim3 = Distance_SWRstim2[Distance_SWRstim2<150]\n",
    "Distance_SWRstim4 = Distance_SWRstim3[Distance_SWRstim3>-150]\n",
    "\n",
    "plt.close() \n",
    "plt.hist(Distance_SWRstim4, bins=2)\n",
    "plt.show() "
   ]
  },
  {
   "cell_type": "code",
   "execution_count": null,
   "metadata": {},
   "outputs": [],
   "source": [
    "counterPFC = 0\n",
    "Distance_stimSWR = list()\n",
    "nb_spindle = PFCspiprop.shape[0]\n",
    "nb_swr = SWRprop.shape[0]\n",
    "\n",
    "print(nb_swr)\n",
    "for Pspin in range(nb_swr-20):\n",
    "    ser = pd.Series(PFCspiprop[\"end time\"])\n",
    "    serSWR = pd.Series(SWRprop[\"peak time\"])\n",
    "    Combined_Spindle_SWR = take_closest(ser, serSWR[Pspin])\n",
    "    distance = Combined_Spindle_SWR - serSWR[Pspin]\n",
    "    Distance_stimSWR.append(distance)\n",
    "\n",
    "print(len(Distance_stimSWR))"
   ]
  },
  {
   "cell_type": "code",
   "execution_count": null,
   "metadata": {},
   "outputs": [],
   "source": [
    "Distance_stimSWR2 = np.array(Distance_stimSWR)\n",
    "Distance_stimSWR3 = Distance_stimSWR2[Distance_stimSWR2<500]\n",
    "Distance_stimSWR4 = Distance_stimSWR3[Distance_stimSWR3>-500]\n",
    "\n",
    "plt.close() \n",
    "plt.hist(Distance_stimSWR4, bins=21)\n",
    "plt.show() "
   ]
  }
 ],
 "metadata": {
  "interpreter": {
   "hash": "984d3fbee8ffa490637705ae3d7233e001ab0304f3daaca07b5aa8569b88ca53"
  },
  "kernelspec": {
   "display_name": "Python 3.9.12 ('formation')",
   "language": "python",
   "name": "python3"
  },
  "language_info": {
   "codemirror_mode": {
    "name": "ipython",
    "version": 3
   },
   "file_extension": ".py",
   "mimetype": "text/x-python",
   "name": "python",
   "nbconvert_exporter": "python",
   "pygments_lexer": "ipython3",
   "version": "3.10.12"
  },
  "orig_nbformat": 4
 },
 "nbformat": 4,
 "nbformat_minor": 2
}
