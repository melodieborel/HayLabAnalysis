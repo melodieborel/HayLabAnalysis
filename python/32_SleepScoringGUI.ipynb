{
 "cells": [
  {
   "cell_type": "markdown",
   "metadata": {},
   "source": [
    "# Visualisation of LFP & Sleep scoring"
   ]
  },
  {
   "cell_type": "markdown",
   "metadata": {},
   "source": [
    "### Load LFP and packages"
   ]
  },
  {
   "cell_type": "code",
   "execution_count": 1,
   "metadata": {},
   "outputs": [
    {
     "name": "stdout",
     "output_type": "stream",
     "text": [
      "\\\\10.69.168.1\\crnldata\\waking\\audrey_hay\\L1imaging\\AnalysedMarch2023\n"
     ]
    }
   ],
   "source": [
    "cd \"//10.69.168.1/crnldata/waking/audrey_hay/L1imaging/AnalysedMarch2023/\""
   ]
  },
  {
   "cell_type": "code",
   "execution_count": 2,
   "metadata": {},
   "outputs": [],
   "source": [
    "from scipy import signal\n",
    "import numpy as np\n",
    "import matplotlib.pyplot as plt\n",
    "from matplotlib.widgets import Slider, Button, Cursor\n",
    "from scipy import fftpack\n",
    "import pandas as pd\n",
    "from pathlib import Path\n",
    "import os\n",
    "from IPython.display import display\n",
    "from ipyfilechooser import FileChooser\n",
    "from ephyviewer import mkQApp, MainViewer, TraceViewer\n",
    "from ephyviewer import AnalogSignalSourceWithScatter\n",
    "import ephyviewer\n",
    "from scipy.stats import zscore\n",
    "from scipy.interpolate import interp1d\n",
    "from itertools import groupby\n",
    "\n",
    "\n",
    "from scipy.signal import find_peaks\n",
    "from scipy.signal import chirp, find_peaks, peak_widths\n",
    "\n",
    "%matplotlib widget"
   ]
  },
  {
   "cell_type": "code",
   "execution_count": 3,
   "metadata": {},
   "outputs": [
    {
     "data": {
      "application/vnd.jupyter.widget-view+json": {
       "model_id": "f789b090bcb2439abd4345a87a4c73dc",
       "version_major": 2,
       "version_minor": 0
      },
      "text/plain": [
       "FileChooser(path='\\\\10.69.168.1\\crnldata\\waking\\audrey_hay\\L1imaging\\AnalysedMarch2023\\Gaelle\\CGP\\BlackLinesOK…"
      ]
     },
     "metadata": {},
     "output_type": "display_data"
    },
    {
     "name": "stdout",
     "output_type": "stream",
     "text": [
      "Stored 'dpath' (str)\n"
     ]
    }
   ],
   "source": [
    "dpath = \"//10.69.168.1/crnldata/waking/audrey_hay/L1imaging/AnalysedMarch2023/Gaelle/Baseline_recording\"\n",
    "try:\n",
    "    %store -r dpath\n",
    "except:\n",
    "    print(\"data not in strore\")\n",
    "    dpath =\"//10.69.168.1/crnldata/waking/audrey_hay/L1imaging/AnalysedMarch2023/Gaelle/Baseline_recording\"\n",
    "\n",
    "# Set up Initial Basic Parameters#\n",
    "minian_path = \".\"\n",
    "\n",
    "fc1 = FileChooser(dpath,select_default=True, show_only_dirs = True, title = \"<b>Open Ephys folder</b>\")\n",
    "display(fc1)\n",
    "\n",
    "# Sample callback function\n",
    "def update_my_folder(chooser):\n",
    "    global dpath\n",
    "    dpath = chooser.selected\n",
    "    %store dpath\n",
    "    return \n",
    "\n",
    "# Register callback function\n",
    "fc1.register_callback(update_my_folder)"
   ]
  },
  {
   "cell_type": "code",
   "execution_count": 9,
   "metadata": {},
   "outputs": [],
   "source": [
    "folder_base = Path(dpath) \n",
    "\n",
    "filename2 = folder_base / f'RawDataChannelExtractedDS.npy'\n",
    "\n",
    "ScoringFile = folder_base / f'ScoredSleep_AB.npy'\n",
    "ScoringFile2 = folder_base / f'ScoredSleep_AH.npy'\n",
    "SleepScoredTS=np.load(ScoringFile)\n",
    "SleepScoredTS2=np.load(ScoringFile2)\n",
    "\n",
    "Channels = '//10.69.168.1/crnldata/waking/audrey_hay/L1imaging/AnalysedMarch2023/LFPChannels_perMice.xlsx' \n",
    "\n",
    "freqLFP=1000\n",
    "All = np.load(filename2, mmap_mode= 'r')\n",
    "\n",
    "def readfile(file):\n",
    "  with open(file, encoding=\"utf-8\") as file:\n",
    "    list = []\n",
    "    for row in file:\n",
    "      temp = row.split()\n",
    "      list.append(temp[:])\n",
    "    return list\n",
    "\n",
    "mice = os.path.basename(os.path.dirname(os.path.dirname(folder_base)))\n",
    "#mice = os.path.basename(os.path.dirname(os.path.dirname(os.path.dirname(folder_base))))\n",
    "\n",
    "allchannels = pd.read_excel(Channels)\n",
    "\n",
    "PFCch1=int(allchannels[mice][0].split(',')[0])\n",
    "PFCch2=int(allchannels[mice][0].split(',')[1])\n",
    "CA1ch1=int(allchannels[mice][2].split(',')[0])\n",
    "CA1ch2=int(allchannels[mice][2].split(',')[1])\n",
    "S1ch1=int(allchannels[mice][1].split(',')[0])\n",
    "S1ch2=int(allchannels[mice][1].split(',')[1])\n",
    "EMGch1=int(allchannels[mice][3])\n",
    "\n",
    "PFC  =  All[:, PFCch1]-All[:, PFCch2] \n",
    "CA1  =  All[:, CA1ch1]-All[:, CA1ch2] \n",
    "S1  =  All[:, S1ch1]-All[:, S1ch2] \n",
    "EMG  =  All[:, EMGch1]\n",
    "\n",
    "# Upscale Scoring\n",
    "indices = np.linspace(0, len(SleepScoredTS) - 1, len(SleepScoredTS))\n",
    "new_indices = np.linspace(0, len(SleepScoredTS) - 1, len(EMG))\n",
    "interpolated_func = interp1d(indices, SleepScoredTS, kind='previous')\n",
    "SleepScoredTS_upscaled = interpolated_func(new_indices)\n",
    "SleepScoredTS_upscaled = np.round(SleepScoredTS_upscaled * 2) / 2\n",
    "\n",
    "\n",
    "# Upscale Scoring\n",
    "indices = np.linspace(0, len(SleepScoredTS2) - 1, len(SleepScoredTS2))\n",
    "new_indices = np.linspace(0, len(SleepScoredTS2) - 1, len(EMG))\n",
    "interpolated_func = interp1d(indices, SleepScoredTS2, kind='previous')\n",
    "SleepScoredTS_upscaled2 = interpolated_func(new_indices)\n",
    "SleepScoredTS_upscaled2 = np.round(SleepScoredTS_upscaled2 * 2) / 2\n",
    "\n"
   ]
  },
  {
   "cell_type": "code",
   "execution_count": 10,
   "metadata": {},
   "outputs": [
    {
     "ename": "KeyError",
     "evalue": "'toKeep'",
     "output_type": "error",
     "traceback": [
      "\u001b[1;31m---------------------------------------------------------------------------\u001b[0m",
      "\u001b[1;31mKeyError\u001b[0m                                  Traceback (most recent call last)",
      "File \u001b[1;32mc:\\Users\\Manip2\\.conda\\envs\\minian311new2\\Lib\\site-packages\\pandas\\core\\indexes\\base.py:3791\u001b[0m, in \u001b[0;36mIndex.get_loc\u001b[1;34m(self, key)\u001b[0m\n\u001b[0;32m   3790\u001b[0m \u001b[38;5;28;01mtry\u001b[39;00m:\n\u001b[1;32m-> 3791\u001b[0m     \u001b[38;5;28;01mreturn\u001b[39;00m \u001b[38;5;28;43mself\u001b[39;49m\u001b[38;5;241;43m.\u001b[39;49m\u001b[43m_engine\u001b[49m\u001b[38;5;241;43m.\u001b[39;49m\u001b[43mget_loc\u001b[49m\u001b[43m(\u001b[49m\u001b[43mcasted_key\u001b[49m\u001b[43m)\u001b[49m\n\u001b[0;32m   3792\u001b[0m \u001b[38;5;28;01mexcept\u001b[39;00m \u001b[38;5;167;01mKeyError\u001b[39;00m \u001b[38;5;28;01mas\u001b[39;00m err:\n",
      "File \u001b[1;32mindex.pyx:152\u001b[0m, in \u001b[0;36mpandas._libs.index.IndexEngine.get_loc\u001b[1;34m()\u001b[0m\n",
      "File \u001b[1;32mindex.pyx:181\u001b[0m, in \u001b[0;36mpandas._libs.index.IndexEngine.get_loc\u001b[1;34m()\u001b[0m\n",
      "File \u001b[1;32mpandas\\_libs\\hashtable_class_helper.pxi:7080\u001b[0m, in \u001b[0;36mpandas._libs.hashtable.PyObjectHashTable.get_item\u001b[1;34m()\u001b[0m\n",
      "File \u001b[1;32mpandas\\_libs\\hashtable_class_helper.pxi:7088\u001b[0m, in \u001b[0;36mpandas._libs.hashtable.PyObjectHashTable.get_item\u001b[1;34m()\u001b[0m\n",
      "\u001b[1;31mKeyError\u001b[0m: 'toKeep'",
      "\nThe above exception was the direct cause of the following exception:\n",
      "\u001b[1;31mKeyError\u001b[0m                                  Traceback (most recent call last)",
      "Cell \u001b[1;32mIn[10], line 5\u001b[0m\n\u001b[0;32m      3\u001b[0m OldSWSdetection\u001b[38;5;241m=\u001b[39mfolder_base \u001b[38;5;241m/\u001b[39m \u001b[38;5;124mf\u001b[39m\u001b[38;5;124m'\u001b[39m\u001b[38;5;124mSWRproperties.csv\u001b[39m\u001b[38;5;124m'\u001b[39m\n\u001b[0;32m      4\u001b[0m SWR_prop \u001b[38;5;241m=\u001b[39m pd\u001b[38;5;241m.\u001b[39mread_csv(OldSWSdetection, index_col\u001b[38;5;241m=\u001b[39m\u001b[38;5;241m0\u001b[39m)         \n\u001b[1;32m----> 5\u001b[0m SWR_prop[\u001b[38;5;124m'\u001b[39m\u001b[38;5;124mtoKeep\u001b[39m\u001b[38;5;124m'\u001b[39m] \u001b[38;5;241m=\u001b[39m \u001b[43mSWR_prop\u001b[49m\u001b[43m[\u001b[49m\u001b[38;5;124;43m'\u001b[39;49m\u001b[38;5;124;43mtoKeep\u001b[39;49m\u001b[38;5;124;43m'\u001b[39;49m\u001b[43m]\u001b[49m\u001b[38;5;241m.\u001b[39mastype(\u001b[38;5;28mstr\u001b[39m)\n\u001b[0;32m      6\u001b[0m SWR_prop  \u001b[38;5;241m=\u001b[39m SWR_prop[SWR_prop[\u001b[38;5;124m'\u001b[39m\u001b[38;5;124mtoKeep\u001b[39m\u001b[38;5;124m'\u001b[39m]\u001b[38;5;241m.\u001b[39misin([\u001b[38;5;124m'\u001b[39m\u001b[38;5;124mVRAI\u001b[39m\u001b[38;5;124m'\u001b[39m, \u001b[38;5;124m'\u001b[39m\u001b[38;5;124mTrue\u001b[39m\u001b[38;5;124m'\u001b[39m])]        \n\u001b[0;32m      7\u001b[0m SWR_peak \u001b[38;5;241m=\u001b[39m np\u001b[38;5;241m.\u001b[39mtranspose(SWR_prop[\u001b[38;5;124m'\u001b[39m\u001b[38;5;124mpeak time\u001b[39m\u001b[38;5;124m'\u001b[39m]\u001b[38;5;241m.\u001b[39mastype(\u001b[38;5;28mint\u001b[39m))\n",
      "File \u001b[1;32mc:\\Users\\Manip2\\.conda\\envs\\minian311new2\\Lib\\site-packages\\pandas\\core\\frame.py:3893\u001b[0m, in \u001b[0;36mDataFrame.__getitem__\u001b[1;34m(self, key)\u001b[0m\n\u001b[0;32m   3891\u001b[0m \u001b[38;5;28;01mif\u001b[39;00m \u001b[38;5;28mself\u001b[39m\u001b[38;5;241m.\u001b[39mcolumns\u001b[38;5;241m.\u001b[39mnlevels \u001b[38;5;241m>\u001b[39m \u001b[38;5;241m1\u001b[39m:\n\u001b[0;32m   3892\u001b[0m     \u001b[38;5;28;01mreturn\u001b[39;00m \u001b[38;5;28mself\u001b[39m\u001b[38;5;241m.\u001b[39m_getitem_multilevel(key)\n\u001b[1;32m-> 3893\u001b[0m indexer \u001b[38;5;241m=\u001b[39m \u001b[38;5;28;43mself\u001b[39;49m\u001b[38;5;241;43m.\u001b[39;49m\u001b[43mcolumns\u001b[49m\u001b[38;5;241;43m.\u001b[39;49m\u001b[43mget_loc\u001b[49m\u001b[43m(\u001b[49m\u001b[43mkey\u001b[49m\u001b[43m)\u001b[49m\n\u001b[0;32m   3894\u001b[0m \u001b[38;5;28;01mif\u001b[39;00m is_integer(indexer):\n\u001b[0;32m   3895\u001b[0m     indexer \u001b[38;5;241m=\u001b[39m [indexer]\n",
      "File \u001b[1;32mc:\\Users\\Manip2\\.conda\\envs\\minian311new2\\Lib\\site-packages\\pandas\\core\\indexes\\base.py:3798\u001b[0m, in \u001b[0;36mIndex.get_loc\u001b[1;34m(self, key)\u001b[0m\n\u001b[0;32m   3793\u001b[0m     \u001b[38;5;28;01mif\u001b[39;00m \u001b[38;5;28misinstance\u001b[39m(casted_key, \u001b[38;5;28mslice\u001b[39m) \u001b[38;5;129;01mor\u001b[39;00m (\n\u001b[0;32m   3794\u001b[0m         \u001b[38;5;28misinstance\u001b[39m(casted_key, abc\u001b[38;5;241m.\u001b[39mIterable)\n\u001b[0;32m   3795\u001b[0m         \u001b[38;5;129;01mand\u001b[39;00m \u001b[38;5;28many\u001b[39m(\u001b[38;5;28misinstance\u001b[39m(x, \u001b[38;5;28mslice\u001b[39m) \u001b[38;5;28;01mfor\u001b[39;00m x \u001b[38;5;129;01min\u001b[39;00m casted_key)\n\u001b[0;32m   3796\u001b[0m     ):\n\u001b[0;32m   3797\u001b[0m         \u001b[38;5;28;01mraise\u001b[39;00m InvalidIndexError(key)\n\u001b[1;32m-> 3798\u001b[0m     \u001b[38;5;28;01mraise\u001b[39;00m \u001b[38;5;167;01mKeyError\u001b[39;00m(key) \u001b[38;5;28;01mfrom\u001b[39;00m \u001b[38;5;21;01merr\u001b[39;00m\n\u001b[0;32m   3799\u001b[0m \u001b[38;5;28;01mexcept\u001b[39;00m \u001b[38;5;167;01mTypeError\u001b[39;00m:\n\u001b[0;32m   3800\u001b[0m     \u001b[38;5;66;03m# If we have a listlike key, _check_indexing_error will raise\u001b[39;00m\n\u001b[0;32m   3801\u001b[0m     \u001b[38;5;66;03m#  InvalidIndexError. Otherwise we fall through and re-raise\u001b[39;00m\n\u001b[0;32m   3802\u001b[0m     \u001b[38;5;66;03m#  the TypeError.\u001b[39;00m\n\u001b[0;32m   3803\u001b[0m     \u001b[38;5;28mself\u001b[39m\u001b[38;5;241m.\u001b[39m_check_indexing_error(key)\n",
      "\u001b[1;31mKeyError\u001b[0m: 'toKeep'"
     ]
    }
   ],
   "source": [
    "OldSWSdetection=folder_base / f'SWRproperties_8sd_AB.xlsx'\n",
    "SWR_prop = pd.read_excel(OldSWSdetection, index_col=0)            \n",
    "OldSWSdetection=folder_base / f'SWRproperties.csv'\n",
    "SWR_prop = pd.read_csv(OldSWSdetection, index_col=0)         \n",
    "SWR_prop['toKeep'] = SWR_prop['toKeep'].astype(str)\n",
    "SWR_prop  = SWR_prop[SWR_prop['toKeep'].isin(['VRAI', 'True'])]        \n",
    "SWR_peak = np.transpose(SWR_prop['peak time'].astype(int))\n",
    "SWR_start = np.transpose(SWR_prop['start time'].astype(int))\n",
    "SWR_end = np.transpose(SWR_prop['end time'].astype(int))\n",
    "\n",
    "OldS1spdldetection=folder_base / f'Spindlesproperties_S1_7sd_AB.xlsx'\n",
    "S1spdl_prop = pd.read_excel(OldS1spdldetection, index_col=0)            \n",
    "OldS1spdldetection=folder_base / f'Spindleproperties_S1&PFC.csv'\n",
    "S1spdl_prop = pd.read_csv(OldS1spdldetection, index_col=0)  \n",
    "S1spdl_prop['toKeep'] = S1spdl_prop['toKeep'].astype(str)\n",
    "S1spdl_prop  = S1spdl_prop[S1spdl_prop['toKeep'].isin(['VRAI', 'True'])]\n",
    "S1spdl_peak = np.transpose(S1spdl_prop['peak time'].astype(int))\n",
    "S1spdl_start = np.transpose(S1spdl_prop['start time'].astype(int))\n",
    "S1spdl_end = np.transpose(S1spdl_prop['end time'].astype(int))\n",
    "\n",
    "OldPFCspdldetection=folder_base / f'Spindlesproperties_PFC_7sd_AB.xlsx'\n",
    "PFCspdl_prop = pd.read_excel(OldPFCspdldetection, index_col=0)            \n",
    "OldPFCspdldetection=folder_base / f'Spindleproperties_S1&PFC.csv'\n",
    "PFCspdl_prop = pd.read_csv(OldPFCspdldetection, index_col=0)  \n",
    "PFCspdl_prop['toKeep'] = PFCspdl_prop['toKeep'].astype(str)\n",
    "PFCspdl_prop  = PFCspdl_prop[PFCspdl_prop['toKeep'].isin(['VRAI', 'True'])]       \n",
    "PFCspdl_peak = np.transpose(PFCspdl_prop['peak time'].astype(int))\n",
    "PFCspdl_start = np.transpose(PFCspdl_prop['start time'].astype(int))\n",
    "PFCspdl_end = np.transpose(PFCspdl_prop['end time'].astype(int))\n"
   ]
  },
  {
   "cell_type": "markdown",
   "metadata": {},
   "source": [
    "# EphyViewer\n",
    "### LFPs, FFT, Sleep scoring\n"
   ]
  },
  {
   "cell_type": "code",
   "execution_count": 11,
   "metadata": {},
   "outputs": [
    {
     "data": {
      "text/plain": [
       "0"
      ]
     },
     "execution_count": 11,
     "metadata": {},
     "output_type": "execute_result"
    }
   ],
   "source": [
    "from ephyviewer import mkQApp, MainViewer, TraceViewer, TimeFreqViewer, CsvEpochSource, EpochEncoder,EpochViewer\n",
    "from ephyviewer import InMemoryAnalogSignalSource\n",
    "\n",
    "app = mkQApp()\n",
    "\n",
    "sample_rate = freqLFP\n",
    "t_start = 0.\n",
    "\n",
    "combined = np.stack([(S1), (PFC), (CA1)/5, (EMG)/5], axis = 1)\n",
    "\n",
    "#create 2 familly scatters from theses 2 indexes\n",
    "scatter_indexes = {0: PFCspdl_start, 1: PFCspdl_end, 2: S1spdl_start, 3: S1spdl_end, 4: SWR_start, 5: SWR_end}\n",
    "#and asign them to some channels each\n",
    "scatter_channels = {0: [1], 1: [1], 2: [0], 3: [0], 4: [2], 5: [2]}\n",
    "\n",
    "#mapp = {0: 'NREM', 0.5: 'N2', 1: 'REM', 1.5: 'Wake'}\n",
    "source = AnalogSignalSourceWithScatter(combined, sample_rate, t_start, scatter_indexes, scatter_channels, scatter_colors= {0: '#FFFFFF', 1: '#222222', 2: '#FFFFFF', 3: '#222222', 4: '#FFFFFF', 5: '#222222'}, channel_names=['S1','PFC', 'CA1', 'EMG', 'Scoring'])\n",
    "\n",
    "#Create the main window that can contain several viewers\n",
    "#win = MainViewer(debug=True, show_auto_scale=True)\n",
    "win = MainViewer()\n",
    "\n",
    "view1 = TraceViewer.from_numpy(combined, sample_rate, t_start, 'Signals')\n",
    "#view1 = TraceViewer(source=source)\n",
    "\n",
    "#Parameters can be set in script\n",
    "view1.params['scale_mode'] = 'same_for_all'\n",
    "view1.params['display_labels'] = True\n",
    "\n",
    "view1.params['scale_mode'] = 'same_for_all'\n",
    "view1.auto_scale()\n",
    "\n",
    "#And also parameters for each channel\n",
    "view1.by_channel_params['ch0', 'color'] = '#88FF88' #FF0000 red, #00FF00 green, and #0000FF blue\n",
    "view1.by_channel_params['ch1', 'color'] = '#8888FF'\n",
    "view1.by_channel_params['ch2', 'color'] = '#FF8888'\n",
    "view1.by_channel_params['ch3', 'color'] = '#FFFFFF'\n",
    "\n",
    "#create a time freq viewer conencted to the same source\n",
    "view3 = TimeFreqViewer(source=source, name='FFT')\n",
    "\n",
    "view3.params['show_axis'] = True\n",
    "view3.params['timefreq', 'f_start'] = 1\n",
    "view3.params['timefreq', 'f_stop'] = 30\n",
    "view3.params['timefreq', 'deltafreq'] = 1 #interval in Hz\n",
    "\n",
    "view3.by_channel_params['ch0', 'clim'] = 300\n",
    "view3.by_channel_params['ch1', 'clim'] = 300\n",
    "view3.by_channel_params['ch2', 'clim'] = 300\n",
    "view3.by_channel_params['ch0', 'visible'] = True\n",
    "view3.by_channel_params['ch1', 'visible'] = True\n",
    "view3.by_channel_params['ch2', 'visible'] = True\n",
    "view3.by_channel_params['ch3', 'visible'] = False\n",
    "\n",
    "\n",
    "array=SleepScoredTS_upscaled\n",
    "substates_duration = [len(list(group)) for key, group in groupby(array)]\n",
    "substates_duration =np.array(substates_duration)/freqLFP\n",
    "substates_identity = [key for key, _ in groupby(array)]\n",
    "substates_end = np.array(substates_duration).cumsum()\n",
    "substates_start =np.append([0],substates_end[:-1])\n",
    "mapp = {0: 'NREM', 0.5: 'N2', 1: 'REM', 1.5: 'Wake'}\n",
    "substates_identity = [mapp[num] for num in substates_identity]\n",
    "substates_identity = np.array(substates_identity)\n",
    "\n",
    "all_epochs = []\n",
    "ep_times=[]\n",
    "ep_durations=[]\n",
    "ep_labels=[]\n",
    "\n",
    "states=['NREM', 'N2', 'REM', 'Wake']\n",
    "for c,st in enumerate(states):\n",
    "    ep_times=[]\n",
    "    ep_durations=[]\n",
    "    ep_labels=[]\n",
    "    for subs in range(len(substates_duration)):\n",
    "        if substates_identity[subs] == st:\n",
    "            ep_times.append(substates_start[subs])\n",
    "            ep_durations.append(substates_duration[subs])\n",
    "            ep_labels.append(subs)\n",
    "    all_epochs.append({ 'time':np.array(ep_times), 'duration':np.array(ep_durations), 'label':np.array(ep_labels), 'name':st })\n",
    "\n",
    "source_ep = ephyviewer.InMemoryEpochSource(all_epochs=all_epochs)\n",
    "view2= EpochViewer(source=source_ep, name='Scoring AB')\n",
    "\n",
    "view2.by_channel_params['ch0', 'color'] = '#5555FF'\n",
    "view2.by_channel_params['ch1', 'color'] = '#AA00FF'\n",
    "view2.by_channel_params['ch2', 'color'] = '#00AA00'\n",
    "view2.by_channel_params['ch3', 'color'] = '#FFFFFF'\n",
    "\n",
    "\n",
    "array=SleepScoredTS_upscaled2\n",
    "substates_duration = [len(list(group)) for key, group in groupby(array)]\n",
    "substates_duration =np.array(substates_duration)/freqLFP\n",
    "substates_identity = [key for key, _ in groupby(array)]\n",
    "substates_end = np.array(substates_duration).cumsum()\n",
    "substates_start =np.append([0],substates_end[:-1])\n",
    "mapp = {0: 'NREM', 0.5: 'N2', 1: 'REM', 1.5: 'Wake'}\n",
    "substates_identity = [mapp[num] for num in substates_identity]\n",
    "substates_identity = np.array(substates_identity)\n",
    "\n",
    "all_epochs = []\n",
    "ep_times=[]\n",
    "ep_durations=[]\n",
    "ep_labels=[]\n",
    "\n",
    "states=['NREM', 'N2', 'REM', 'Wake']\n",
    "for c,st in enumerate(states):\n",
    "    ep_times=[]\n",
    "    ep_durations=[]\n",
    "    ep_labels=[]\n",
    "    for subs in range(len(substates_duration)):\n",
    "        if substates_identity[subs] == st:\n",
    "            ep_times.append(substates_start[subs])\n",
    "            ep_durations.append(substates_duration[subs])\n",
    "            ep_labels.append(subs)\n",
    "    all_epochs.append({ 'time':np.array(ep_times), 'duration':np.array(ep_durations), 'label':np.array(ep_labels), 'name':st })\n",
    "\n",
    "source_ep2 = ephyviewer.InMemoryEpochSource(all_epochs=all_epochs)\n",
    "view4= EpochViewer(source=source_ep2, name='Scoring AH')\n",
    "\n",
    "view4.by_channel_params['ch0', 'color'] = '#5555FF'\n",
    "view4.by_channel_params['ch1', 'color'] = '#AA00FF'\n",
    "view4.by_channel_params['ch2', 'color'] = '#00AA00'\n",
    "view4.by_channel_params['ch3', 'color'] = '#FFFFFF'\n",
    "\n",
    "\n",
    "#add them to mainwindow\n",
    "win.add_view(view1)\n",
    "win.add_view(view2)\n",
    "win.add_view(view4)\n",
    "win.add_view(view3)\n",
    "\n",
    "#Run\n",
    "win.show()\n",
    "app.exec_()"
   ]
  }
 ],
 "metadata": {
  "interpreter": {
   "hash": "984d3fbee8ffa490637705ae3d7233e001ab0304f3daaca07b5aa8569b88ca53"
  },
  "kernelspec": {
   "display_name": "Python 3.9.12 ('formation')",
   "language": "python",
   "name": "python3"
  },
  "language_info": {
   "codemirror_mode": {
    "name": "ipython",
    "version": 3
   },
   "file_extension": ".py",
   "mimetype": "text/x-python",
   "name": "python",
   "nbconvert_exporter": "python",
   "pygments_lexer": "ipython3",
   "version": "3.11.7"
  },
  "orig_nbformat": 4
 },
 "nbformat": 4,
 "nbformat_minor": 2
}
