{
 "cells": [
  {
   "cell_type": "markdown",
   "metadata": {},
   "source": [
    "\n",
    "# Associate Ca2+ signal with sleep stages\n",
    "\n",
    "Load packages"
   ]
  },
  {
   "cell_type": "code",
   "execution_count": null,
   "metadata": {},
   "outputs": [],
   "source": [
    "cd \"C:/Users/Manip2/SCRIPTS/Code python audrey/code python aurelie/interfaceJupyter/minian\""
   ]
  },
  {
   "cell_type": "code",
   "execution_count": null,
   "metadata": {},
   "outputs": [],
   "source": [
    "import os\n",
    "import quantities as pq\n",
    "import numpy as np\n",
    "import neo\n",
    "import json\n",
    "from pathlib import Path\n",
    "import xarray as xr\n",
    "import pandas as pd\n",
    "import matplotlib.pyplot as plt\n",
    "from matplotlib.widgets import Slider, Button, Cursor\n",
    "from ipyfilechooser import FileChooser\n",
    "\n",
    "%matplotlib widget\n",
    "\n",
    "from ephyviewer import mkQApp, MainViewer, TraceViewer\n",
    "\n",
    "# add the Contrib dir that contains all tools developped by MB : mbTools.py\n",
    "#sys.path.append(os.path.join(os.path.dirname(sys.path[0]),'python'))\n",
    "#print(os.path.join(os.path.dirname(sys.path[0]),'python'))\n",
    "import HayLabAnalysis as hla\n",
    "\n",
    "from minian.utilities import (\n",
    "    TaskAnnotation,\n",
    "    get_optimal_chk,\n",
    "    load_videos,\n",
    "    open_minian,\n",
    "    save_minian,\n",
    ")"
   ]
  },
  {
   "cell_type": "code",
   "execution_count": null,
   "metadata": {},
   "outputs": [],
   "source": [
    "folder_base = Path('//10.69.168.1/crnldata/waking/audrey_hay/L1imaging/AnalysedMarch2023/Gaelle/Baseline_recording/ThreeBlueCrossesOK/session1')\n",
    "try:\n",
    "    %store -r folder_base\n",
    "except:\n",
    "    print(\"folder_base not in strore\")\n",
    "    folder_base = Path('//10.69.168.1/crnldata/waking/audrey_hay/L1imaging/AnalysedMarch2023/Gaelle/Baseline_recording/ThreeBlueCrossesOK/session1')\n",
    "\n",
    "fc1 = FileChooser(folder_base,select_default=True, show_only_dirs = True, title = \"<b>Folder with Ca2+ time series</b>\")\n",
    "display(fc1)\n",
    "\n",
    "# Sample callback function\n",
    "def update_my_folder(chooser):\n",
    "    global dpath\n",
    "    dpath = chooser.selected\n",
    "    %store folder_base\n",
    "    return \n",
    "\n",
    "# Register callback function\n",
    "fc1.register_callback(update_my_folder)\n",
    "\n",
    "\n",
    "minianExtension = 'AB'"
   ]
  },
  {
   "cell_type": "markdown",
   "metadata": {},
   "source": [
    "Load sleep score and Ca2+ time series numpy arrays"
   ]
  },
  {
   "cell_type": "code",
   "execution_count": null,
   "metadata": {},
   "outputs": [],
   "source": [
    "folder_Ephys = os.path.join(folder_base, \"OpenEphys\")\n",
    "folder_Minis = os.path.join(folder_base,\"V4_Miniscope\", \"minian{}\".format(minianExtension))\n",
    "print(folder_Minis)\n",
    "filenameE = folder_Ephys / f'ScoredSleep.npy'\n",
    "SleepScoredTS = np.load(filenameE)\n",
    "filenameB = folder_base / f'SynchroFile.xlsx'\n",
    "stamps = pd.read_excel(filenameB)\n",
    "minian_ds = open_minian(folder_Minis)\n",
    "\n",
    "TodropFile = os.path.join(folder_Minis, \"TodropFile{}.json\".format(minianExtension))\n",
    "\n",
    "with open(TodropFile, 'r') as f:\n",
    "    unit_to_drop = json.load(f)\n",
    "\n",
    "print(unit_to_drop)"
   ]
  },
  {
   "cell_type": "markdown",
   "metadata": {},
   "source": [
    "Identify start time and 0 on closest matching time point.\n"
   ]
  },
  {
   "cell_type": "code",
   "execution_count": null,
   "metadata": {},
   "outputs": [],
   "source": [
    "# start time\n",
    "StartTime = (list(stamps[0])[0])\n",
    "\n",
    "# update start time of sleep scored time serie\n",
    "P = round(StartTime)\n",
    "multiple5 = [*range(0, 10000, 5)]\n",
    "for ind in multiple5:\n",
    "    if StartTime==ind:\n",
    "        P = ind\n",
    "        Pupd = int(P/5)\n",
    "    elif (StartTime>ind) and (StartTime<(ind+5)):\n",
    "        P = ind + 5\n",
    "        Pupd = int(P/5)\n",
    "SleepScoredTSupd = SleepScoredTS[Pupd:]\n",
    "\n",
    "# update start time of Ca2+ imaging time series\n",
    "First_frame = round((P - StartTime)*(list(stamps[0])[2]))\n",
    "C = minian_ds['C']\n",
    "Cupd = C.loc[:, First_frame:]\n",
    "nb_unit = Cupd.shape[0]\n",
    "rec_dur = Cupd.shape[1]\n",
    "print(nb_unit)\n"
   ]
  },
  {
   "cell_type": "code",
   "execution_count": null,
   "metadata": {},
   "outputs": [],
   "source": [
    "A = minian_ds['A']\n",
    "#unit_to_drop = [10, 12, 13, 17]\n",
    "print(unit_to_drop)\n",
    "\n",
    "B = A['unit_id']\n",
    "copyB = list(B.copy())\n",
    "for i in range(len(unit_to_drop)):\n",
    "    elem = unit_to_drop[i]\n",
    "    copyB.remove(elem)\n",
    "unit_to_keep = copyB\n",
    "\n",
    "C_upd = Cupd.loc[unit_to_keep,:]\n",
    "nb_unit = C_upd.shape[0]\n",
    "print(C_upd.unit_id)"
   ]
  },
  {
   "cell_type": "markdown",
   "metadata": {},
   "source": [
    "Reduced bins for Ca2+ imaging"
   ]
  },
  {
   "cell_type": "code",
   "execution_count": null,
   "metadata": {},
   "outputs": [],
   "source": [
    "#comes from Aurélie for Upscale scoring to miniscope frequency. Should check if it is needed\n",
    "scale_factor=len(input_arr)/len(SleepScoredTSupd)  #list(stamps[0])[2]/0.2 #cause scoring was done in 5 seconds bin, ie 0.2 Hz\n",
    "arr=SleepScoredTSupd\n",
    "# Upscale scoring to miniscope frequency\n",
    "upscaled_arr = np.repeat(arr, scale_factor, axis=0)\n",
    "\n",
    "Test2 = C_upd.to_series()\n",
    "unit = 0\n",
    "lTest2 = np.array(Test2)[(unit)*rec_dur:(unit+1)*rec_dur]\n",
    "input_arr = lTest2\n",
    "\n",
    "plt.close()\n",
    "plt.plot(upscaled_arr)\n",
    "plt.plot(input_arr)\n",
    "plt.show()"
   ]
  },
  {
   "cell_type": "code",
   "execution_count": null,
   "metadata": {},
   "outputs": [],
   "source": [
    "Test2 = C_upd.to_series()\n",
    "unit = 0\n",
    "lTest2 = np.array(Test2)[(unit)*rec_dur:(unit+1)*rec_dur]\n",
    "input_arr = lTest2\n",
    "R = round(len(lTest2)/(5*list(stamps[0])[2])) # 5 sec bins\n",
    "split_arr = np.linspace(0, len(input_arr), num=R+1, dtype=int)\n",
    "dwnsmpl_subarr = np.split(input_arr, split_arr[1:])\n",
    "dwnsmpl_arrT = np.array( list( np.mean(item) for item in dwnsmpl_subarr[:-1] ) )\n",
    "\n",
    "SleepScoredTSupd2 = SleepScoredTSupd[:len(dwnsmpl_arrT)]\n",
    "dwnsmpl_arrT2 = 2*dwnsmpl_arrT/max(dwnsmpl_arrT)\n",
    "dwnsmpl_arrT2 = dwnsmpl_arrT2[0:len(SleepScoredTSupd)]\n",
    "\n",
    "plt.close()\n",
    "plt.plot(dwnsmpl_arrT2)\n",
    "plt.plot(SleepScoredTSupd2)\n",
    "plt.show()\n"
   ]
  },
  {
   "cell_type": "markdown",
   "metadata": {},
   "source": [
    "Distribute Ca2+ intensity to vigilance state"
   ]
  },
  {
   "cell_type": "code",
   "execution_count": null,
   "metadata": {},
   "outputs": [],
   "source": [
    "data = {\n",
    "    'Unit':np.zeros(nb_unit),\n",
    "    'Wake' : np.zeros(nb_unit),\n",
    "    'NREM' : np.zeros(nb_unit),\n",
    "    'N2' : np.zeros(nb_unit),\n",
    "    'REM' : np.zeros(nb_unit),\n",
    "}\n",
    "Activity_state = pd.DataFrame(data, columns=['Unit', 'Wake', 'NREM', 'N2', 'REM'])\n",
    "\n",
    "C_upd_unit_id = C_upd['unit_id'].values #added by AB\n",
    "\n",
    "for unit in range(nb_unit):\n",
    "    lTest2 = np.array(Test2)[(unit)*rec_dur:(unit+1)*rec_dur]\n",
    "    input_arr = lTest2\n",
    "    R = round(len(lTest2)/(5*list(stamps[0])[2])) # 5 sec bins\n",
    "    split_arr = np.linspace(0, len(input_arr), num=R+1, dtype=int)\n",
    "    dwnsmpl_subarr = np.split(input_arr, split_arr[1:])\n",
    "    dwnsmpl_arrT = np.array( list( np.mean(item) for item in dwnsmpl_subarr[:-1] ) )\n",
    "    dwnsmpl_arrT = dwnsmpl_arrT[0:len(SleepScoredTSupd)]\n",
    "    Activity_state[\"Unit\"][unit] = C_upd_unit_id[unit] #added by AB\n",
    "    for time_stamp in range(len(dwnsmpl_arrT2)):\n",
    "        if(SleepScoredTSupd2[time_stamp] == 1):\n",
    "            Activity_state[\"REM\"][unit] = Activity_state[\"REM\"][unit] + dwnsmpl_arrT[time_stamp]    \n",
    "        elif(SleepScoredTSupd2[time_stamp] == 0.5):\n",
    "            Activity_state[\"N2\"][unit] = Activity_state[\"N2\"][unit] + dwnsmpl_arrT[time_stamp]     \n",
    "        elif(SleepScoredTSupd2[time_stamp] == 1.5):\n",
    "            Activity_state[\"Wake\"][unit] = Activity_state[\"Wake\"][unit] + dwnsmpl_arrT[time_stamp]     \n",
    "        elif(SleepScoredTSupd2[time_stamp] == 0):\n",
    "            Activity_state[\"NREM\"][unit] = Activity_state[\"NREM\"][unit] + dwnsmpl_arrT[time_stamp]     \n"
   ]
  },
  {
   "cell_type": "markdown",
   "metadata": {},
   "source": [
    "Define how much time (5 sec bin) is spent in each vigilance state"
   ]
  },
  {
   "cell_type": "code",
   "execution_count": null,
   "metadata": {},
   "outputs": [],
   "source": [
    "data = {\n",
    "    'Wake' : np.zeros(2),\n",
    "    'NREM' : np.zeros(2),\n",
    "    'N2' : np.zeros(2),\n",
    "    'REM' : np.zeros(2),\n",
    "}\n",
    "Activity_state_time = pd.DataFrame(data, columns=['Wake', 'NREM', 'N2', 'REM'])\n",
    "\n",
    "for time_stamp in range(len(dwnsmpl_arrT)):\n",
    "    if(SleepScoredTSupd2[time_stamp] == 1):\n",
    "        Activity_state_time[\"REM\"][0] = Activity_state_time[\"REM\"][0] + 1   \n",
    "    elif(SleepScoredTSupd2[time_stamp] == 0.5):\n",
    "        Activity_state_time[\"N2\"][0] = Activity_state_time[\"N2\"][0] + 1\n",
    "    elif(SleepScoredTSupd2[time_stamp] == 1.5):\n",
    "        Activity_state_time[\"Wake\"][0] = Activity_state_time[\"Wake\"][0] + 1    \n",
    "    elif(SleepScoredTSupd2[time_stamp] == 0):\n",
    "        Activity_state_time[\"NREM\"][0] = Activity_state_time[\"NREM\"][0] + 1     \n",
    "\n",
    "Activity_state_time[\"REM\"][1] = Activity_state_time[\"REM\"][0]/len(dwnsmpl_arrT)\n",
    "Activity_state_time[\"N2\"][1] = Activity_state_time[\"N2\"][0]/len(dwnsmpl_arrT)\n",
    "Activity_state_time[\"Wake\"][1] = Activity_state_time[\"Wake\"][0]/len(dwnsmpl_arrT)\n",
    "Activity_state_time[\"NREM\"][1] = Activity_state_time[\"NREM\"][0]/len(dwnsmpl_arrT)\n",
    "Activity_state_time.index = ['absolu', 'percentage']\n",
    "\n"
   ]
  },
  {
   "cell_type": "markdown",
   "metadata": {},
   "source": [
    "Normalise"
   ]
  },
  {
   "cell_type": "code",
   "execution_count": null,
   "metadata": {},
   "outputs": [],
   "source": [
    "# Double normalisation 1- by total fluorescence per cell 2- by time spent in each state.\n",
    "Activity_state_n = Activity_state.copy()\n",
    "row_sums = Activity_state_n.sum(axis=1)\n",
    "Activity_state_n = Activity_state_n.div(row_sums, axis=0) #Activity_state_n = Activity_state_n / row_sums[:, np.newaxis]\n",
    "# % of fluorescence power observed relative to what would have been expected if intensity was uniformally distributed\n",
    "RelativeWeight = round(Activity_state_n / Activity_state_time.loc['percentage'] * 100)\n",
    "RelativeWeight.apply(np.sum, axis=0)/nb_unit"
   ]
  },
  {
   "cell_type": "code",
   "execution_count": null,
   "metadata": {},
   "outputs": [],
   "source": [
    "\"\"\"filenameUnit = folder_Minis / f'UnitToKeepAB.xlsx'\n",
    "unitname = pd.read_excel(filenameUnit)\n",
    "RelativeWeight['Unit'] =  unitname[0]\n",
    "\"\"\"\n",
    "RelativeWeight[\"Unit\"]=C_upd_unit_id #added by AB\n",
    "\n",
    "\n",
    "filenameOut = folder_base / f'IntensityNormalisedVigilanceStatesAB.xlsx'\n",
    "writer = pd.ExcelWriter(filenameOut)\n",
    "RelativeWeight.to_excel(writer)\n",
    "writer.close()"
   ]
  },
  {
   "cell_type": "markdown",
   "metadata": {},
   "source": [
    "Do the same but instead of fluorescence intensity, use active frames"
   ]
  },
  {
   "cell_type": "code",
   "execution_count": null,
   "metadata": {},
   "outputs": [],
   "source": [
    "data = {\n",
    "    'Unit':np.zeros(nb_unit),\n",
    "    'Wake' : np.zeros(nb_unit),\n",
    "    'NREM' : np.zeros(nb_unit),\n",
    "    'N2' : np.zeros(nb_unit),\n",
    "    'REM' : np.zeros(nb_unit),\n",
    "}\n",
    "Activity_state_frame = pd.DataFrame(data, columns=['Unit', 'Wake', 'NREM', 'N2', 'REM'])\n",
    "\n",
    "for unit in range(nb_unit):\n",
    "    lTest2 = np.array(Test2)[(unit)*rec_dur:(unit+1)*rec_dur]\n",
    "    input_arr = lTest2\n",
    "    R = round(len(lTest2)/(5*list(stamps[0])[2])) # 5 sec bins\n",
    "    split_arr = np.linspace(0, len(input_arr), num=R+1, dtype=int)\n",
    "    dwnsmpl_subarr = np.split(input_arr, split_arr[1:])\n",
    "    dwnsmpl_arrT = np.array( list( np.mean(item) for item in dwnsmpl_subarr[:-1] ) )\n",
    "    dwnsmpl_arrT = dwnsmpl_arrT[0:len(SleepScoredTSupd)]\n",
    "    Activity_state_frame[\"Unit\"][unit] = C_upd_unit_id[unit] #added by AB\n",
    "    for time_stamp in range(len(dwnsmpl_arrT)):\n",
    "        if((SleepScoredTSupd2[time_stamp] == 1) and (dwnsmpl_arrT[time_stamp] > 0)):\n",
    "            Activity_state_frame[\"REM\"][unit] = Activity_state_frame[\"REM\"][unit] + 1    \n",
    "        elif((SleepScoredTSupd2[time_stamp] == 0.5) and (dwnsmpl_arrT[time_stamp] > 0)):\n",
    "            Activity_state_frame[\"N2\"][unit] = Activity_state_frame[\"N2\"][unit] + 1    \n",
    "        elif((SleepScoredTSupd2[time_stamp] == 1.5) and (dwnsmpl_arrT[time_stamp] > 0)):\n",
    "            Activity_state_frame[\"Wake\"][unit] = Activity_state_frame[\"Wake\"][unit] + 1     \n",
    "        elif((SleepScoredTSupd2[time_stamp] == 0) and (dwnsmpl_arrT[time_stamp] > 0)):\n",
    "            Activity_state_frame[\"NREM\"][unit] = Activity_state_frame[\"NREM\"][unit] + 1     \n"
   ]
  },
  {
   "cell_type": "code",
   "execution_count": null,
   "metadata": {},
   "outputs": [],
   "source": [
    "# Double normalisation 1- by total fluorescence per cell 2- by time spent in each state.\n",
    "Activity_state_frame_n = Activity_state_frame.copy()\n",
    "Activity_state_frame_n.apply(np.sum, axis=1)\n",
    "row_sums_frame = Activity_state_frame_n.sum(axis=1)\n",
    "Activity_state_n = Activity_state_n.div(row_sums, axis=0)# Activity_state_frame_n = Activity_state_frame_n / row_sums_frame[:, np.newaxis]\n",
    "# % of fluorescence power observed relative to what would have been expected if intensity was uniformally distributed\n",
    "RelativeWeight_frame = round(Activity_state_frame_n / Activity_state_time.loc['percentage'] * 100)\n",
    "RelativeWeight_frame.apply(np.sum, axis=0)/nb_unit"
   ]
  },
  {
   "cell_type": "code",
   "execution_count": null,
   "metadata": {},
   "outputs": [],
   "source": [
    "filenameOut = folder_base / f'NumFrameNormalisedVigilanceStates.xlsx'\n",
    "writer = pd.ExcelWriter(filenameOut)\n",
    "RelativeWeight_frame.to_excel(writer)\n",
    "writer.save()\n"
   ]
  },
  {
   "cell_type": "code",
   "execution_count": null,
   "metadata": {},
   "outputs": [],
   "source": [
    "Activity_state_frame"
   ]
  },
  {
   "cell_type": "code",
   "execution_count": null,
   "metadata": {},
   "outputs": [],
   "source": [
    "filenameOut = folder_base / f'NumFrameNormalisedVigilanceStatesAB.xlsx'\n",
    "writer = pd.ExcelWriter(filenameOut)\n",
    "RelativeWeight_frame.to_excel(writer)\n",
    "writer.close()\n"
   ]
  },
  {
   "cell_type": "code",
   "execution_count": null,
   "metadata": {},
   "outputs": [],
   "source": [
    "Activity_state_time"
   ]
  }
 ],
 "metadata": {
  "kernelspec": {
   "display_name": "Python 3.8.12 ('minian')",
   "language": "python",
   "name": "python3"
  },
  "language_info": {
   "codemirror_mode": {
    "name": "ipython",
    "version": 3
   },
   "file_extension": ".py",
   "mimetype": "text/x-python",
   "name": "python",
   "nbconvert_exporter": "python",
   "pygments_lexer": "ipython3",
   "version": "3.11.7"
  },
  "orig_nbformat": 4,
  "vscode": {
   "interpreter": {
    "hash": "d28f0aa69d972f186b6eef62f149b885b857325c1e4e259a67006c9c0c737cc7"
   }
  }
 },
 "nbformat": 4,
 "nbformat_minor": 2
}
