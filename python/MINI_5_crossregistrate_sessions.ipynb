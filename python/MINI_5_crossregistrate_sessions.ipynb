{
 "cells": [
  {
   "cell_type": "markdown",
   "metadata": {},
   "source": [
    "# Cross-registrate sessions"
   ]
  },
  {
   "cell_type": "markdown",
   "metadata": {},
   "source": [
    "Specify directories and dataset patterns"
   ]
  },
  {
   "cell_type": "code",
   "execution_count": null,
   "metadata": {},
   "outputs": [],
   "source": [
    "import os\n",
    "import sys\n",
    "import warnings\n",
    "import itertools as itt\n",
    "import numpy as np\n",
    "import xarray as xr\n",
    "import holoviews as hv\n",
    "import pandas as pd\n",
    "from holoviews.operation.datashader import datashade, regrid\n",
    "from dask.diagnostics import ProgressBar\n",
    "from pathlib import Path\n",
    "from IPython.display import display\n",
    "from ipyfilechooser import FileChooser\n",
    "import param\n",
    "import panel as pn\n",
    "import warnings\n",
    "from holoviews import opts\n",
    "import ipywidgets as widgets\n",
    "\n",
    "\n",
    "warnings.filterwarnings(\"ignore\")"
   ]
  },
  {
   "cell_type": "code",
   "execution_count": null,
   "metadata": {},
   "outputs": [],
   "source": [
    "try:\n",
    "    %store -r dpath\n",
    "except:\n",
    "    print(\"data not in strore\")\n",
    "    dpath =\"//10.69.168.1/crnldata/forgetting/\"\n",
    "\n",
    "\n",
    "# Set up Initial Basic Parameters#\n",
    "minian_path = \".\"\n",
    "\n",
    "fc1 = FileChooser(dpath,select_default=True, show_only_dirs = True, title = \"<b>Choose Mice Folder</b>\", layout=widgets.Layout(width='100%'))\n",
    "display(fc1)\n",
    "\n",
    "# Sample callback function\n",
    "def update_my_folder(chooser):\n",
    "    global dpath\n",
    "    dpath = chooser.selected\n",
    "    %store dpath\n",
    "    return \n",
    "\n",
    "# Register callback function\n",
    "fc1.register_callback(update_my_folder)"
   ]
  },
  {
   "cell_type": "code",
   "execution_count": null,
   "metadata": {},
   "outputs": [],
   "source": [
    "cd \"C:/Users/Manip2/SCRIPTS/minian/\""
   ]
  },
  {
   "cell_type": "code",
   "execution_count": null,
   "metadata": {},
   "outputs": [],
   "source": [
    "sys.path.append(minian_path)\n",
    "from minian.cross_registration import (calculate_centroids, calculate_centroid_distance, calculate_mapping,\n",
    "                                       group_by_session, resolve_mapping, fill_mapping)\n",
    "from minian.motion_correction import estimate_motion, apply_transform\n",
    "from minian.utilities import open_minian, open_minian_mf\n",
    "from minian.visualization import AlignViewer\n",
    "\n",
    "minian_path = \".\"\n",
    "f_pattern = r\"minian\"\n",
    "id_dims = [\"session\"]\n",
    "\n",
    "param_dist = 5\n",
    "output_size = 100\n",
    "\n",
    "hv.notebook_extension('bokeh', width=100)\n",
    "pbar = ProgressBar(minimum=2)\n",
    "pbar.register()"
   ]
  },
  {
   "cell_type": "markdown",
   "metadata": {},
   "source": [
    "## Allign videos automatically"
   ]
  },
  {
   "cell_type": "markdown",
   "metadata": {},
   "source": [
    "Open datasets"
   ]
  },
  {
   "cell_type": "code",
   "execution_count": null,
   "metadata": {},
   "outputs": [],
   "source": [
    "def correct_meta(ds,  minian_ds_path_Origin):\n",
    "    path_obj =Path(minian_ds_path_Origin)\n",
    "    print(len(path_obj.parts))\n",
    "    if len(path_obj.parts)==12:        \n",
    "        ds['animal'] = path_obj.parents[5].name\n",
    "    elif len(path_obj.parts)==13: \n",
    "        ds['animal'] = path_obj.parents[6].name\n",
    "\n",
    "    ds['session'] = path_obj.parents[1].name\n",
    "    #ds['animal'] = path_obj.parents[5].name\n",
    "    print(f\"['animal: {ds['animal'].values}']\")\n",
    "    return ds\n",
    "\n",
    "minian_ds = open_minian_mf(\n",
    "    dpath, id_dims, pattern=f_pattern, post_process=correct_meta)\n",
    "\n",
    "\"\"\"\n",
    "minian_ds = open_minian_mf(\n",
    "    dpath, id_dims, pattern=f_pattern)\n",
    "    \"\"\""
   ]
  },
  {
   "cell_type": "markdown",
   "metadata": {},
   "source": [
    "Estimate shifts"
   ]
  },
  {
   "cell_type": "code",
   "execution_count": null,
   "metadata": {},
   "outputs": [],
   "source": [
    "temps = minian_ds['max_proj'].rename('temps')\n",
    "#temps = temps.drop_sel(session=['session2_1', 'session2_2', 'session2_1', 'session3_1', 'session3_2', 'session3_3', 'session3_4'])\n",
    "shifts = estimate_motion(temps, dim='session').compute().rename('shifts')"
   ]
  },
  {
   "cell_type": "code",
   "execution_count": null,
   "metadata": {},
   "outputs": [],
   "source": [
    "\"\"\"\n",
    "try: # Try to load a pre-existing mappping\n",
    "    shiftds=xr.open_dataset(f'{dpath}/shiftdsAB.nc')\n",
    "    temps=shiftds.temps\n",
    "    shifts=shiftds.shifts\n",
    "    print('Cross-registration already done !')\n",
    "except: pass \n",
    "\"\"\"\n",
    "temps = minian_ds['max_proj'].rename('temps')\n",
    "#temps = temps.drop_sel(session=['session2_1', 'session2_2', 'session2_1', 'session3_1', 'session3_2', 'session3_3', 'session3_4'])\n",
    "shifts = estimate_motion(temps, dim='session').compute().rename('shifts')\n",
    "\n",
    "print(shifts.session.values)\n",
    "print(shifts.values)"
   ]
  },
  {
   "cell_type": "markdown",
   "metadata": {},
   "source": [
    "Apply the shifts for visualization"
   ]
  },
  {
   "cell_type": "code",
   "execution_count": null,
   "metadata": {},
   "outputs": [],
   "source": [
    "temps_sh = apply_transform(temps, shifts).compute().rename('temps_shifted')\n",
    "shiftds = xr.merge([temps, shifts, temps_sh])"
   ]
  },
  {
   "cell_type": "markdown",
   "metadata": {},
   "source": [
    "Visualize overlap of field of view across all sessions"
   ]
  },
  {
   "cell_type": "code",
   "execution_count": null,
   "metadata": {},
   "outputs": [],
   "source": [
    "hv.output(size=int(output_size * 0.6))\n",
    "opts_im = {'aspect': shiftds.sizes['width'] / shiftds.sizes['height'],'frame_width': 500, 'cmap': 'hot'}\n",
    "window = shiftds['temps_shifted'].isnull().sum('session')\n",
    "window, _ = xr.broadcast(window, shiftds['temps_shifted'])\n",
    "hv_wnd = hv.Dataset(window).to(hv.Image, ['width', 'height'])\n",
    "hv_temps = hv.Dataset(temps_sh).to(hv.Image, ['width', 'height'])\n",
    "#hv_wnd.opts(**opts_im).relabel(\"Window\") + \n",
    "hv_temps.opts(**opts_im).relabel(\"Automatically shifted\")"
   ]
  },
  {
   "cell_type": "markdown",
   "metadata": {},
   "source": [
    "## Change the shift manually /!\\ only if needed"
   ]
  },
  {
   "cell_type": "code",
   "execution_count": null,
   "metadata": {},
   "outputs": [],
   "source": [
    "# Reset all shifts to 0\n",
    "for i in np.arange(len(shifts)):\n",
    "    shifts[i]=[0,0]\n",
    "temps_sh = apply_transform(temps, shifts).compute().rename('temps_shifted')\n",
    "shiftds = xr.merge([temps, shifts, temps_sh])"
   ]
  },
  {
   "cell_type": "code",
   "execution_count": null,
   "metadata": {},
   "outputs": [],
   "source": [
    "SessionTemplate = temps_sh.session[0].item()\n",
    "\n",
    "class ImageAligner(param.Parameterized):\n",
    "    session_options = list(temps_sh.session.values)\n",
    "    Session_to_shift = param.ObjectSelector(default=temps_sh.session[0].item(), objects=session_options)\n",
    "    Left_to_Right = param.Integer(0, bounds=(-300, 300))\n",
    "    Down_to_Up = param.Integer(0, bounds=(-300, 300))\n",
    "    alpha = param.Number(0.5, bounds=(0.0, 1.0))\n",
    "\n",
    "    @param.depends('Session_to_shift', 'Left_to_Right', 'Down_to_Up', 'alpha')\n",
    "    def view(self):\n",
    "        \n",
    "        img1 = hv.Dataset(temps_sh.sel(session=SessionTemplate)).to(hv.Image, ['width', 'height']).opts(width=800, height=800, cmap='Blues')\n",
    "        img2 = hv.Dataset(temps_sh.sel(session=self.Session_to_shift)).to(hv.Image, ['width', 'height']).opts(cmap='Reds', alpha=0.5)\n",
    "        img2.data['temps_shifted'].values = np.flipud(np.rot90((img2.data['temps_shifted'])))\n",
    "        shifted = img2.data['temps_shifted'].shift(width=self.Down_to_Up, height=self.Left_to_Right)\n",
    "        shifted_img = hv.Image(shifted).opts(width=800, height=800,cmap='Reds', alpha=self.alpha)\n",
    "        return img1 * shifted_img\n",
    "    \n",
    "    @property\n",
    "    def shifted_session(self):\n",
    "        return self.Session_to_shift\n",
    "\n",
    "aligner = ImageAligner()\n",
    "\n",
    "layout = pn.Row(\n",
    "    pn.Column(\n",
    "        pn.pane.Markdown(f\"## {SessionTemplate} (blue) vs selected session (red)\"),\n",
    "        pn.Param(aligner.param, parameters=['Session_to_shift', 'Left_to_Right', 'Down_to_Up', 'alpha'])\n",
    "    ),\n",
    "    pn.panel(aligner.view)\n",
    ")\n",
    "\n",
    "#layout.servable()\n",
    "display(layout)"
   ]
  },
  {
   "cell_type": "markdown",
   "metadata": {},
   "source": [
    "Apply changes for that specific session (only run it once per session!)"
   ]
  },
  {
   "cell_type": "code",
   "execution_count": null,
   "metadata": {},
   "outputs": [],
   "source": [
    "session_data = shifts.sel(session=aligner.shifted_session)\n",
    "shifts.loc[{'session': aligner.shifted_session}] = shifts.loc[{'session': aligner.shifted_session}].values + np.array([aligner.Down_to_Up, aligner.Left_to_Right])\n",
    "print(shifts.values)"
   ]
  },
  {
   "cell_type": "code",
   "execution_count": null,
   "metadata": {},
   "outputs": [],
   "source": [
    "\"\"\"\n",
    "# Reset all shifts to 0\n",
    "for i in np.arange(len(shifts)):\n",
    "    shifts[i]=[0,0]\n",
    "\"\"\"\n",
    "\"\"\"\n",
    "Session_to_shift='session3_4'\n",
    "shifts.loc[{'session': Session_to_shift}] = np.array([42. ,64.])\n",
    "print(shifts.values)\n",
    "\"\"\""
   ]
  },
  {
   "cell_type": "markdown",
   "metadata": {},
   "source": [
    "## Validate changes"
   ]
  },
  {
   "cell_type": "markdown",
   "metadata": {},
   "source": [
    "Apply shifts and set window"
   ]
  },
  {
   "cell_type": "code",
   "execution_count": null,
   "metadata": {},
   "outputs": [],
   "source": [
    "A_shifted = apply_transform(minian_ds['A'].chunk(dict(height=-1, width=-1)), shiftds['shifts'])\n",
    "\n",
    "def set_window(wnd):\n",
    "    return wnd == wnd.min()\n",
    "\n",
    "window = xr.apply_ufunc(\n",
    "    set_window,\n",
    "    window,\n",
    "    input_core_dims=[['height', 'width']],\n",
    "    output_core_dims=[['height', 'width']],\n",
    "    vectorize=True)"
   ]
  },
  {
   "cell_type": "markdown",
   "metadata": {},
   "source": [
    "Calculate centroid distance"
   ]
  },
  {
   "cell_type": "code",
   "execution_count": null,
   "metadata": {},
   "outputs": [],
   "source": [
    "%%time\n",
    "cents = calculate_centroids(A_shifted, window)\n",
    "id_dims.remove(\"session\")\n",
    "dist = calculate_centroid_distance(cents, index_dim=id_dims)\n",
    "dist_ft = dist[dist['variable', 'distance'] < param_dist].copy()\n",
    "dist_ft = group_by_session(dist_ft)"
   ]
  },
  {
   "cell_type": "markdown",
   "metadata": {},
   "source": [
    "Generate mappings"
   ]
  },
  {
   "cell_type": "code",
   "execution_count": null,
   "metadata": {},
   "outputs": [],
   "source": [
    "%%time\n",
    "mappings = calculate_mapping(dist_ft)\n",
    "mappings_meta = resolve_mapping(mappings)\n",
    "mappings_meta_fill = fill_mapping(mappings_meta, cents)\n",
    "print(len(mappings_meta_fill))\n",
    "mappings_meta_fill"
   ]
  },
  {
   "cell_type": "markdown",
   "metadata": {},
   "source": [
    "Visualize mappings"
   ]
  },
  {
   "cell_type": "code",
   "execution_count": null,
   "metadata": {},
   "outputs": [],
   "source": [
    "hv.output(size=int(output_size * 0.7))\n",
    "alnviewer = AlignViewer(minian_ds, cents, mappings_meta_fill, shiftds)\n",
    "alnviewer.show()"
   ]
  },
  {
   "cell_type": "markdown",
   "metadata": {},
   "source": [
    "Save results"
   ]
  },
  {
   "cell_type": "code",
   "execution_count": null,
   "metadata": {},
   "outputs": [],
   "source": [
    "mappings_meta_fill.to_pickle(os.path.join(dpath, \"mappingsAB.pkl\"))\n",
    "cents.to_pickle(os.path.join(dpath, \"centsAB.pkl\"))\n",
    "#shiftds.to_netcdf(os.path.join(dpath, \"shiftdsAB.nc\"))"
   ]
  }
 ],
 "metadata": {
  "kernelspec": {
   "display_name": "minian",
   "language": "python",
   "name": "python3"
  },
  "language_info": {
   "codemirror_mode": {
    "name": "ipython",
    "version": 3
   },
   "file_extension": ".py",
   "mimetype": "text/x-python",
   "name": "python",
   "nbconvert_exporter": "python",
   "pygments_lexer": "ipython3",
   "version": "3.11.7"
  }
 },
 "nbformat": 4,
 "nbformat_minor": 4
}
