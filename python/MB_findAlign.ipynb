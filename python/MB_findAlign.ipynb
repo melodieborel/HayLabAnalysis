{
 "cells": [
  {
   "cell_type": "markdown",
   "metadata": {},
   "source": [
    "# This is just a notebook to visualise 1kHz filtered raw data"
   ]
  },
  {
   "cell_type": "markdown",
   "metadata": {},
   "source": [
    "## Setup everything"
   ]
  },
  {
   "cell_type": "markdown",
   "metadata": {},
   "source": [
    "### Import packages"
   ]
  },
  {
   "cell_type": "code",
   "execution_count": 11,
   "metadata": {},
   "outputs": [],
   "source": [
    "import os\n",
    "import numpy as np\n",
    "import matplotlib\n",
    "import matplotlib.pyplot as plt\n",
    "import pandas as pd\n",
    "\n",
    "from ephyviewer import mkQApp, MainViewer, TraceViewer, TimeFreqViewer, InMemoryAnalogSignalSource, EventList\n",
    "from ephyviewer import AnalogSignalSourceWithScatter, SpikeInterfaceRecordingSource, InMemoryEventSource\n",
    "\n",
    "# add the Contrib dir that contains all tools developped by MB : mbTools.py\n",
    "#sys.path.append(os.path.join(os.path.dirname(sys.path[0]),'python'))\n",
    "#print(os.path.join(os.path.dirname(sys.path[0]),'python'))\n",
    "import mbTools\n"
   ]
  },
  {
   "cell_type": "markdown",
   "metadata": {},
   "source": [
    "## Choose experiment\n",
    "Select the folder of the experiment to display. If the experiment was already analyzed, you can select the iterimAnalysis folder. Otherwise select the raw data recording folder."
   ]
  },
  {
   "cell_type": "code",
   "execution_count": 12,
   "metadata": {},
   "outputs": [
    {
     "name": "stdout",
     "output_type": "stream",
     "text": [
      "Local config file loaded from localConfig.ini\n",
      "reseting vars\n",
      "current folder \\\\10.69.168.1\\crnldata\\waking\\audrey_hay\\NPX\\interimAnalysis\\NPX5\\PO\\Expe_2024-07-30_11-20-27 contains a config file\n",
      "\\\\10.69.168.1\\crnldata\\waking\\audrey_hay\\NPX\\interimAnalysis\\NPX5\\PO\\Expe_2024-07-30_11-20-27\\expeConfig1.ini saved\n"
     ]
    },
    {
     "data": {
      "application/vnd.jupyter.widget-view+json": {
       "model_id": "831e20c556d64dc599a4508acaf5e75e",
       "version_major": 2,
       "version_minor": 0
      },
      "text/plain": [
       "FileChooser(path='\\\\10.69.168.1\\crnldata\\waking\\audrey_hay\\NPX\\interimAnalysis\\NPX5\\PO\\Expe_2024-07-30_11-20-2…"
      ]
     },
     "metadata": {},
     "output_type": "display_data"
    },
    {
     "name": "stdout",
     "output_type": "stream",
     "text": [
      "reseting vars\n",
      "current folder \\\\10.69.168.1\\crnldata\\waking\\audrey_hay\\NPX\\NPX5\\Reuniens\\Expe_2024-07-25_18-51-19 does not contain a config file, it must be the raw data folder\n",
      "a location for interim analysis was provided so using it\n",
      "\\\\10.69.168.1\\crnldata\\forgetting\\Aurelie\\Annie\\RealignementMB\\interimAnalysis\\NPX5\\Reuniens\\Expe_2024-07-25_18-51-19\n",
      "forgetting\\Aurelie\\Annie\\RealignementMB\\interimAnalysis\\NPX5\\Reuniens\\Expe_2024-07-25_18-51-19\n",
      "\\\\10.69.168.1\\crnldata\\forgetting\\Aurelie\\Annie\\RealignementMB\\interimAnalysis\\NPX5\\Reuniens\\Expe_2024-07-25_18-51-19\\expeConfig1.ini saved\n"
     ]
    }
   ],
   "source": [
    "theExpe = mbTools.experiment()"
   ]
  },
  {
   "cell_type": "markdown",
   "metadata": {},
   "source": [
    "## Load Data"
   ]
  },
  {
   "cell_type": "markdown",
   "metadata": {},
   "source": [
    "### Map the whole data into memory"
   ]
  },
  {
   "cell_type": "code",
   "execution_count": 13,
   "metadata": {},
   "outputs": [
    {
     "name": "stdout",
     "output_type": "stream",
     "text": [
      "The autoreload extension is already loaded. To reload it, use:\n",
      "  %reload_ext autoreload\n",
      "could not load channel map. Please make sure the animalID NPX5 is mapped in the file \\\\10.69.168.1\\crnldata\\waking\\audrey_hay\\NPX\\interimAnalysis\\NPX5\\channelMaps.ini\n",
      "********found some .bin files********\n",
      "[WindowsPath('//10.69.168.1/crnldata/waking/audrey_hay/NPX/NPX5/Reuniens/Expe_2024-07-25_18-51-19/OE_32ch_data_2024-07-25T18_51_19.bin')]\n",
      "data recorded with Bonsai\n",
      "importing \\\\10.69.168.1\\crnldata\\waking\\audrey_hay\\NPX\\NPX5\\Reuniens\\Expe_2024-07-25_18-51-19\\OE_32ch_data_2024-07-25T18_51_19.bin\n",
      "applying offset\n",
      "converting to int16\n",
      "IntanLFP file loaded, with 32 channels and 34760704 datapoint\n",
      "No section: 'OE_LFP'\n",
      "the mapping: None\n",
      "the offset:  0.0\n",
      "the sampling rate:  1000\n",
      "timestamps basename in file name is timestamps\n",
      "no ref time found for the expe so trying to get it from title\n",
      "the calculated launch start is 2024-07-25 18:51:19+02:00\n",
      "the calculated sampling rate is 4998.816676931049 Hz\n",
      "the recording took 53.035291199999996 s to start\n",
      "********found some NPX files********\n",
      "the calculated sampling rate is 30070.26150736589 Hz\n",
      "launch start would be 2024-07-25 18:51:19.896598+02:00\n",
      "the interval to first clock is 0.003561\n",
      "the first timestamp for 890143 samples, corresponding to 0.003561 s, would be 2024-07-25 18:51:19.900159+02:00\n",
      "there are 53732592 timestamps\n"
     ]
    },
    {
     "name": "stderr",
     "output_type": "stream",
     "text": [
      "c:\\Users\\Manip7\\Documents\\GitRepo\\HayLabAnalysis\\.venv\\Lib\\site-packages\\spikeinterface\\core\\baserecording.py:492: UserWarning: Setting times with Recording.set_times() is not recommended because times are not always propagated across preprocessingUse this carefully!\n",
      "  warnings.warn(\n"
     ]
    }
   ],
   "source": [
    "%load_ext autoreload\n",
    "%autoreload 2\n",
    "%reload_ext autoreload\n",
    "theExpe.analyseExpe_findData(fullSampling=True)"
   ]
  },
  {
   "cell_type": "markdown",
   "metadata": {},
   "source": [
    "### Extract submatrix of interest"
   ]
  },
  {
   "cell_type": "code",
   "execution_count": 14,
   "metadata": {},
   "outputs": [],
   "source": [
    "#initiate combined and channelLabels\n",
    "combined =  {}\n",
    "channelLabels = {}\n",
    "sample_rates = {}\n",
    "t_start = {}\n",
    "#t_end = 300 #seconds"
   ]
  },
  {
   "cell_type": "markdown",
   "metadata": {},
   "source": [
    "### Extract submatrix of interest"
   ]
  },
  {
   "cell_type": "code",
   "execution_count": 15,
   "metadata": {},
   "outputs": [
    {
     "name": "stdout",
     "output_type": "stream",
     "text": [
      "LFP data combined\n",
      "\n"
     ]
    }
   ],
   "source": [
    "#LFP\n",
    "if 'OE_LFP' in theExpe.data:\n",
    "    sample_rates['LFP'] = theExpe.data['OE_LFP'].sampling_rate #20000\n",
    "    t_start['LFP'] = theExpe.data['OE_LFP'].start\n",
    "    combined['LFP'] = theExpe.data['OE_LFP'].combineStructures(None)#['M1'])\n",
    "    channelLabels['LFP'] = theExpe.data['OE_LFP'].channelLabels[:]\n",
    "    print(\"LFP data combined\")\n",
    "else:\n",
    "    print(\"no LFP data to combine\")\n",
    "print()"
   ]
  },
  {
   "cell_type": "code",
   "execution_count": 16,
   "metadata": {},
   "outputs": [
    {
     "name": "stdout",
     "output_type": "stream",
     "text": [
      "NPX data combined\n"
     ]
    }
   ],
   "source": [
    "#NPX\n",
    "if 'NPX' in theExpe.data:\n",
    "    sample_rates['NPX'] = theExpe.data['NPX'].sampling_rate #30000\n",
    "    t_start['NPX'] = theExpe.data['NPX'].start\n",
    "    combined['NPX'] = theExpe.data['NPX'].signal['spike'].select_channels([0,1])\n",
    "    channelLabels['NPX'] = theExpe.data['NPX'].channelLabels\n",
    "    print(\"NPX data combined\")\n",
    "else:\n",
    "    print(\"no NPX data to combine\")"
   ]
  },
  {
   "cell_type": "markdown",
   "metadata": {},
   "source": [
    "## Look for artefacts\n",
    "here you should start aphyviewer and scroll for artefacts. Try to get ate least 3 distributed along recording and write their rough time in the cell above ephyviewer's cell"
   ]
  },
  {
   "cell_type": "code",
   "execution_count": 10,
   "metadata": {},
   "outputs": [
    {
     "name": "stdout",
     "output_type": "stream",
     "text": [
      "artifact are around: [3374, 4894] s\n"
     ]
    }
   ],
   "source": [
    "try:\n",
    "    print(f\"artifact are around: {artefacts} s\")\n",
    "except Exception:\n",
    "    print('make sure you have manually defined artifacts times at the end of notebook')"
   ]
  },
  {
   "cell_type": "code",
   "execution_count": null,
   "metadata": {},
   "outputs": [],
   "source": [
    "#6174\n",
    "theExpe.data['OE_LFP'].resetAlign()\n",
    "start=42#-100\n",
    "#thedata.data['OE_LFP'].start=52\n",
    "#thedata.data['OE_LFP'].sampling_rate=20046\n",
    "theExpe.data['OE_LFP'].reAlignTimes()\n",
    "start=0\n",
    "print(theExpe.data['NPX'])\n",
    "%matplotlib widget\n",
    "mbTools.tools.superCleanPlot(theExpe.data['OE_LFP'], theExpe.data['NPX'], canauxLFP=np.arange(5,6), canauxNPX=[0], scaleNPX=10, time=3374-start) #structureLFP=['M1'], "
   ]
  },
  {
   "cell_type": "code",
   "execution_count": null,
   "metadata": {},
   "outputs": [],
   "source": [
    "\n",
    "NPX=[3374.402017885, 4894.289311424] #\n",
    "timesreset=[3329.5068804, 4852.947944337] #\n",
    "thedata.data['OE_LFP'].resetAlign()\n",
    "LFPpoint=[]\n",
    "for t in timesreset:\n",
    "    if t is not np.nan:\n",
    "        p=mbTools.find_nearest(thedata.data['OE_LFP'].times,t)\n",
    "    else:\n",
    "        p=np.nan\n",
    "    print(p)\n",
    "    LFPpoint.append(p)\n",
    "print(LFPpoint)\n",
    "LFPpoint=np.array(LFPpoint).reshape(-1, 1)\n",
    "NPX2=np.array(NPX).reshape(-1, 1)\n",
    "\n",
    "from sklearn.linear_model import LinearRegression\n",
    "from sklearn.metrics import mean_absolute_error,root_mean_squared_error \n",
    "\n",
    "reg = LinearRegression()\n",
    "reg.fit(LFPpoint,NPX2)\n",
    "freq = 1/reg.coef_[0][0]\n",
    "start = reg.intercept_[0]#+thedata.data['NPX'].times[0]\n",
    "print(freq, start)\n",
    "thedata.data['OE_LFP'].sampling_rate=freq\n",
    "thedata.data['OE_LFP'].start=start\n",
    "\n",
    "print(reg.score(LFPpoint, NPX2)) \n",
    "\n",
    "y_pred = reg.predict(LFPpoint) \n",
    "mae = mean_absolute_error(y_true=NPX2,y_pred=y_pred) \n",
    "#squared True returns MSE value, False returns RMSE value. \n",
    "mse = root_mean_squared_error(y_true=NPX2,y_pred=y_pred) #default=True \n",
    "\n",
    "print(\"MAE:\",mae) \n",
    "print(\"MSE:\",mse) \n",
    "\n",
    "thedata.data['OE_LFP'].updateParser('start',start)\n",
    "thedata.data['OE_LFP'].updateParser('freq',freq)\n",
    "thedata.data['OE_LFP'].updateParser('NPX',NPX)\n",
    "thedata.data['OE_LFP'].updateParser('timesreset',timesreset)\n",
    "\n",
    "plt.close()\n",
    "plt.plot(LFPpoint,y_pred,color='r')\n",
    "plt.scatter(LFPpoint,NPX)\n",
    "plt.show()"
   ]
  },
  {
   "cell_type": "markdown",
   "metadata": {},
   "source": [
    "ok, fitting is good with plenty of artefacts to realign, now let's try to find a function that depends on timestamps, number of points theoric frequencies...\n",
    "first; let's try to see how many samples are recorded by npx at the end of recording compared to LFP"
   ]
  },
  {
   "cell_type": "code",
   "execution_count": null,
   "metadata": {},
   "outputs": [],
   "source": [
    "sizeLFP=thedata.data['OE_LFP'].signal.shape[0]\n",
    "print(sizeLFP)\n",
    "\n",
    "sizeNPX=thedata.data['NPX'].signal['spike'].get_num_frames()\n",
    "print(sizeNPX)\n",
    "print(thedata.data['NPX'].times.shape)\n",
    "\n",
    "print(thedata.data['NPX'].times)\n",
    "print(thedata.data['OE_LFP'].times)\n",
    "\n",
    "thedata.data['OE_LFP'].reAlignTimes()\n",
    "\n",
    "lastT=thedata.data['NPX'].times[-1]\n",
    "idx=mbTools.find_nearest(thedata.data['OE_LFP'].times,lastT)\n",
    "print(idx)\n",
    "print(thedata.data['OE_LFP'].times[idx])\n",
    "print(sizeLFP-idx)\n",
    "print(idx%1024)\n",
    "\n",
    "\n",
    "lastT=thedata.data['OE_LFP'].times[-1]\n",
    "idx=mbTools.find_nearest(thedata.data['NPX'].times,lastT)\n",
    "print(idx)\n",
    "print(thedata.data['NPX'].times[idx])\n",
    "print(sizeNPX-idx)\n",
    "#there are 693 npx samples recorded after stop\n"
   ]
  },
  {
   "cell_type": "markdown",
   "metadata": {},
   "source": [
    "the recordings seem to end together, it might be a coincidence that recording stops so near a multiple of 1024 => should make sure on another experiment.\n",
    "Now, let's see if we can use the end of recordin and a single artefact to realign everything"
   ]
  },
  {
   "cell_type": "code",
   "execution_count": null,
   "metadata": {},
   "outputs": [],
   "source": [
    "thedata.data['OE_LFP'].resetAlign() #so that lfpT is correct\n",
    "\n",
    "#let's try with first artefact as pt 1\n",
    "npxT1= NPX[0] #57.079179468   #213.831317136 #214.083826084  #459096    \n",
    "lfpT1= timesreset[0] #5.64385005  #162.7626014 #163.0008 #6385152\n",
    "idx1=mbTools.find_nearest(thedata.data['OE_LFP'].times,lfpT1)\n",
    "print(idx1)\n",
    "print(thedata.data['OE_LFP'].times[idx1])\n",
    "\n",
    "if False:\n",
    "    #let's try with last artefact as pt 2\n",
    "    npxT2= NPX[-1] #57.079179468   #213.831317136 #214.083826084  #459096    \n",
    "    lfpT2= timesreset[-1] #5.64385005  #162.7626014 #163.0008 #6385152\n",
    "    idx2=mbTools.find_nearest(thedata.data['OE_LFP'].times,lfpT2)\n",
    "    print(idx2)\n",
    "    print(thedata.data['OE_LFP'].times[idx2])\n",
    "else:\n",
    "    #let's try with end of file\n",
    "    endoffset=-243\n",
    "    print(thedata.data['OE_LFP'].signal.shape[0])\n",
    "    npxT2=thedata.data['NPX'].times[thedata.data['NPX'].signal['spike'].get_num_frames()-endoffset]\n",
    "    print(npxT2)\n",
    "    #lfpT2= thedata.data['NPX'].times[-endoffset]\n",
    "    idx2=thedata.data['OE_LFP'].signal.shape[0]\n",
    "    print(idx2)\n",
    "    print(thedata.data['OE_LFP'].signal.shape[0]-endoffset)\n",
    "    \n",
    "\n",
    "\n",
    "dn=idx2-idx1\n",
    "print(f\"dn measured with lfp : {dn}\")\n",
    "\n",
    "\n",
    "\n",
    "#iNPX=mbTools.find_nearest(thedata.data['NPX'].times,npxT1)\n",
    "#print(iNPX)\n",
    "\n",
    "#print(f\"dt measured with npx : {thedata.data['NPX'].times[-1]-npxT}\")\n",
    "#npxdt=thedata.data['NPX'].times[-1]-npxT\n",
    "\n",
    "\n",
    "#print(npxT-lfpT)\n",
    "\n",
    "\n",
    "\n",
    "#print(thedata.data['NPX'].times)\n",
    "#print(thedata.data['OE_LFP'].times)\n",
    "#thedata.data['OE_LFP'].times+=(thedata.data['NPX'].times[-1]-thedata.data['OE_LFP'].times[-1])\n",
    "#print(thedata.data['OE_LFP'].times)\n",
    "\n",
    "#dt=thedata.data['OE_LFP'].times[-1]-npxT1\n",
    "\n",
    "dt=npxT2-npxT1\n",
    "print(f\"dt measured with lfp : {dt}\")\n",
    "\n",
    "\n",
    "\n",
    "freqC=dn/dt\n",
    "print(\"the calculated freq is :\", freqC)\n",
    "print(\"while it previously was: \", thedata.data['OE_LFP'].sampling_rate)\n",
    "print(\"diff is: \", thedata.data['OE_LFP'].sampling_rate-freqC)\n",
    "\n",
    "\n",
    "#thedata.data['OE_LFP']\n",
    "#realign(offset=0, freq=freqC)\n",
    "#print(\"times npx\", thedata.data['NPX'].times)\n",
    "#print(\"times lfp\", thedata.data['OE_LFP'].times)\n",
    "#offsetC=-(thedata.data['OE_LFP'].times[-1]-thedata.data['NPX'].times[-1])\n",
    "#print(\"calculated offset\", offsetC)\n",
    "\n",
    "#realign(offset=offsetC, freq=freqC)\n",
    "\n",
    "#superCleanPlot(55)\n",
    "\n"
   ]
  },
  {
   "cell_type": "markdown",
   "metadata": {},
   "source": [
    "### Load extra stuff"
   ]
  },
  {
   "cell_type": "code",
   "execution_count": null,
   "metadata": {},
   "outputs": [],
   "source": [
    "from mbTools import mbTools\n",
    "All_Spindle, M1 = thedata.data['OE_LFP'].loadSpindles(relativePath='../LFP', structure = \"M1\")\n",
    "combined['LFP_DS']=M1[:,np.newaxis]\n",
    "channelLabels['LFP_DS'] = ['M1_DS']\n",
    "freqInitTheoric=20000\n",
    "freqDS=1000\n",
    "realignFactor=freqInitTheoric/sample_rates['LFP']\n",
    "sample_rates['LFP_DS']=freqDS*realignFactor\n",
    "t_start['LFP_DS']=t_start['LFP']\n",
    "print(realignFactor)"
   ]
  },
  {
   "cell_type": "code",
   "execution_count": null,
   "metadata": {},
   "outputs": [],
   "source": [
    "\n",
    "M1_i=thedata.data['OE_LFP'].combineStructures(['M1'])[:,0]\n",
    "M1_1=thedata.data['OE_LFP'].signal[:,16]\n",
    "M1_2=thedata.data['OE_LFP'].signal[:,17]\n",
    "M1_iL=thedata.data['OE_LFP'].channelLabels[:]\n",
    "print(M1_1.shape)\n",
    "print(M1_2.shape)\n",
    "print(M1_i.shape)\n",
    "combined['LFP'] = np.stack([M1_i,M1_1, M1_2], axis = 1) #cortex, filt_cortex, proj_cortexC, proj_cortex\n",
    "print(combined['LFP'].shape)\n",
    "channelLabels['LFP'] = ['M1_iL','ch16','ch17']\n",
    "\n"
   ]
  },
  {
   "cell_type": "markdown",
   "metadata": {},
   "source": [
    "## Display"
   ]
  },
  {
   "cell_type": "code",
   "execution_count": 8,
   "metadata": {},
   "outputs": [
    {
     "name": "stdout",
     "output_type": "stream",
     "text": [
      "3373.9999883140767\n",
      "66582077\n",
      "[4.27045600e-03 4.30370800e-03 4.33696400e-03 ... 5.51271731e+03\n",
      " 5.51271735e+03 5.51271738e+03]\n",
      "101456992\n",
      "(150350, 1)\n"
     ]
    },
    {
     "data": {
      "application/vnd.jupyter.widget-view+json": {
       "model_id": "289fcf8efbfd4b34a71921f3239ae1b7",
       "version_major": 2,
       "version_minor": 0
      },
      "image/png": "[encoded data removed]",
      "text/html": [
       "\n",
       "            <div style=\"display: inline-block;\">\n",
       "                <div class=\"jupyter-widgets widget-label\" style=\"text-align: center;\">\n",
       "                    Figure\n",
       "                </div>\n",
       "                <img src='data:image/png;base64,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' width=640.0/>\n",
       "            </div>\n",
       "        "
      ],
      "text/plain": [
       "Canvas(toolbar=Toolbar(toolitems=[('Home', 'Reset original view', 'home', 'home'), ('Back', 'Back to previous …"
      ]
     },
     "metadata": {},
     "output_type": "display_data"
    }
   ],
   "source": [
    "#this cell can be used to plot very precisely time of interest. Beware that it conflicts with ephyviewer however. It might be possible to have 2 notebooks open simultanéeously...\n",
    "theExpe.data['OE_LFP'].reAlignTimes()\n",
    "if True:\n",
    "    %matplotlib widget\n",
    "    #you can confiure a y-offset and some scaling, have a look at the help of superCleanPlot\n",
    "    #artefacts=[55, 2649, 2709, 5362]\n",
    "    mbTools.tools.superCleanPlot(theExpe.data['OE_LFP'], theExpe.data['NPX'], canauxLFP=np.arange(5,6), canauxNPX=[0], scaleNPX=10, time=3374) #structureLFP=['M1'], \n",
    "    #picFN = os.path.sep.join([theExpe.rawDataPath,'A1-8978.svg'])\n",
    "    #plt.savefig(picFN, format=\"svg\")"
   ]
  },
  {
   "cell_type": "code",
   "execution_count": 9,
   "metadata": {},
   "outputs": [],
   "source": [
    "# write here the rough times of artifacts on NPX and run the cell so that the list is accessible above\n",
    "artefacts=[3374, 4894]"
   ]
  },
  {
   "cell_type": "code",
   "execution_count": 7,
   "metadata": {},
   "outputs": [
    {
     "name": "stdout",
     "output_type": "stream",
     "text": [
      "debug True\n",
      "QT_MODE PySide6\n",
      "20047.0\n",
      "auto_scale same_for_all\n",
      "compute_auto_clim\n",
      "[ True False False False False False False False False False False False\n",
      " False False False False False False False False False False False False\n",
      " False False False False False False False False]\n",
      "refresh duration for LFP 0.0 s\n",
      "refresh duration for LFP 0.0009996891021728516 s\n",
      "refresh duration for LFP 0.0 s\n",
      "viewer has moved already 0 52.66196429640968 0.0\n",
      "refresh duration for tfr 0.002445220947265625 s\n",
      "refresh duration for LFP 0.0010006427764892578 s\n",
      "refresh duration for tfr 0.0019991397857666016 s\n",
      "refresh duration for NPX 0.0010027885437011719 s\n"
     ]
    },
    {
     "name": "stdout",
     "output_type": "stream",
     "text": [
      "refresh duration for LFP 0.0009951591491699219 s\n",
      "refresh duration for tfr 0.006995439529418945 s\n",
      "refresh duration for NPX 0.0 s\n",
      "auto_scale same_for_all\n",
      "compute_auto_clim\n",
      "[ True False False False False False False False False False False False\n",
      " False False False False False False False False False False False False\n",
      " False False False False False False False False]\n",
      "refresh duration for LFP 0.0 s\n",
      "refresh duration for tfr 0.006003618240356445 s\n",
      "refresh duration for NPX 0.0 s\n",
      "refresh duration for LFP 0.0 s\n",
      "refresh duration for tfr 0.001999378204345703 s\n",
      "refresh duration for NPX 0.0 s\n",
      "refresh duration for LFP 0.0009996891021728516 s\n",
      "refresh duration for tfr 0.0060024261474609375 s\n",
      "refresh duration for NPX 0.0 s\n",
      "refresh duration for LFP 0.0 s\n",
      "refresh duration for tfr 0.0030112266540527344 s\n",
      "refresh duration for NPX 0.0009887218475341797 s\n",
      "refresh duration for LFP 0.0 s\n",
      "refresh duration for tfr 0.0035028457641601562 s\n",
      "refresh duration for NPX 0.0 s\n",
      "refresh duration for LFP 0.0010013580322265625 s\n",
      "refresh duration for tfr 0.0020003318786621094 s\n",
      "refresh duration for NPX 0.0 s\n",
      "refresh duration for LFP 0.0 s\n",
      "refresh duration for tfr 0.002002716064453125 s\n",
      "refresh duration for NPX 0.0 s\n",
      "refresh duration for LFP 0.0012819766998291016 s\n",
      "refresh duration for tfr 0.003003835678100586 s\n",
      "refresh duration for NPX 0.0 s\n",
      "refresh duration for LFP 0.0 s\n",
      "refresh duration for tfr 0.002998828887939453 s\n",
      "refresh duration for NPX 0.0 s\n",
      "refresh duration for LFP 0.0 s\n",
      "refresh duration for tfr 0.004998683929443359 s\n",
      "refresh duration for NPX 0.0 s\n",
      "refresh duration for LFP 0.0 s\n",
      "refresh duration for tfr 0.002001047134399414 s\n",
      "refresh duration for NPX 0.0009984970092773438 s\n",
      "refresh duration for LFP 0.0 s\n",
      "refresh duration for tfr 0.003513336181640625 s\n",
      "refresh duration for NPX 0.0 s\n",
      "refresh duration for LFP 0.0010180473327636719 s\n",
      "refresh duration for tfr 0.0019812583923339844 s\n",
      "refresh duration for NPX 0.0 s\n",
      "save_all_settings\n"
     ]
    }
   ],
   "source": [
    "%gui qt\n",
    "app = mkQApp()\n",
    "\n",
    "#Create the main window that can contain several viewers\n",
    "win = MainViewer(debug=True)\n",
    "\n",
    "if 'LFP' in combined:\n",
    "    print(np.round(sample_rates['LFP']))\n",
    "    source = InMemoryAnalogSignalSource(combined['LFP'], np.round(sample_rates['LFP']), t_start['LFP'], channel_names=channelLabels['LFP'])\n",
    "    view1 = TraceViewer(source=source, name = 'LFP')\n",
    "\n",
    "    #Parameters can be set in script\n",
    "    view1.params['display_labels'] = True\n",
    "    view1.params['scale_mode'] = 'same_for_all'\n",
    "    view1.auto_scale()\n",
    "\n",
    "    cmap = matplotlib.colormaps[\"hsv\"]#Wistia\"]\n",
    "    nCh = len(view1.by_channel_params.children())\n",
    "    for ch in range(nCh):\n",
    "        #view1.by_channel_params[f'ch{ch}', 'gain'] = 0.00002\n",
    "        #view1.by_channel_params[f'ch{ch}', 'offset'] = 0.1\n",
    "        view1.by_channel_params[f'ch{ch}', 'color'] = matplotlib.colors.to_hex(cmap(ch/nCh), keep_alpha=False)\n",
    "        pass\n",
    "\n",
    "    win.add_view(view1)\n",
    "\n",
    "\n",
    "if 'NPX' in combined:\n",
    "    sig_source = SpikeInterfaceRecordingSource(recording=combined['NPX'], high_precision=True)\n",
    "    view3 = TraceViewer(source=sig_source, name='NPX')\n",
    "    win.add_view(view3)\n",
    "\n",
    "    #Parameters can be set in script\n",
    "    view3.params['display_labels'] = True\n",
    "    view3.params['scale_mode'] = 'same_for_all'\n",
    "    view3.auto_scale()\n",
    "\n",
    "    cmap = matplotlib.colormaps[\"hsv\"]#Wistia\"]\n",
    "    nCh = len(view3.by_channel_params.children())\n",
    "    for ch in range(nCh):\n",
    "        #view3.by_channel_params[f'ch{ch}', 'gain'] = 0.00002\n",
    "        #view3.by_channel_params[f'ch{ch}', 'offset'] = 0.1\n",
    "        view3.by_channel_params[f'ch{ch}', 'color'] = matplotlib.colors.to_hex(cmap(ch/nCh), keep_alpha=False)\n",
    "        pass\n",
    "\n",
    "#Run\n",
    "win.show()"
   ]
  }
 ],
 "metadata": {
  "kernelspec": {
   "display_name": ".venv",
   "language": "python",
   "name": "python3"
  },
  "language_info": {
   "codemirror_mode": {
    "name": "ipython",
    "version": 3
   },
   "file_extension": ".py",
   "mimetype": "text/x-python",
   "name": "python",
   "nbconvert_exporter": "python",
   "pygments_lexer": "ipython3",
   "version": "3.11.9"
  },
  "orig_nbformat": 4
 },
 "nbformat": 4,
 "nbformat_minor": 2
}
