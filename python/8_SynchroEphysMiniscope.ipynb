{
 "cells": [
  {
   "cell_type": "markdown",
   "metadata": {},
   "source": [
    "# Extract values to be able to synchronise Miniscope, webcam and ephys\n",
    "\n",
    "Webcam not synchronised at the moment because there is no conflict between OE_miniscope and miniscope timestamps. "
   ]
  },
  {
   "cell_type": "markdown",
   "metadata": {},
   "source": [
    "## Initialize"
   ]
  },
  {
   "cell_type": "markdown",
   "metadata": {
    "tags": []
   },
   "source": [
    "### Load the required packages (and many more that are not useful)"
   ]
  },
  {
   "cell_type": "code",
   "execution_count": null,
   "metadata": {},
   "outputs": [],
   "source": [
    "#%reset\n",
    "import sys, os\n",
    "import numpy as np\n",
    "import csv\n",
    "from pathlib import Path\n",
    "import xarray as xr\n",
    "import pandas as pd\n",
    "import matplotlib.pyplot as plt\n",
    "\n",
    "#import ipywidgets as widgets\n",
    "#import mbDevTools\n",
    "from ipyfilechooser import FileChooser\n",
    "\n",
    "print(\"the packages are correctly loaded\")\n",
    "\n",
    "# add the Contrib dir that contains all tools developped by MB : mbTools.py\n",
    "#sys.path.append(os.path.join(os.path.dirname(sys.path[0]),'python'))\n",
    "#print(os.path.join(os.path.dirname(sys.path[0]),'python'))\n",
    "import HayLabAnalysis as hla"
   ]
  },
  {
   "cell_type": "markdown",
   "metadata": {
    "tags": []
   },
   "source": [
    "### Define variables"
   ]
  },
  {
   "cell_type": "code",
   "execution_count": null,
   "metadata": {
    "tags": []
   },
   "outputs": [],
   "source": [
    "AcqFre = 20 #it seems to be 20 rahter than 30 based on data 30# frames / sec\n",
    "delaystampMini = (1000/AcqFre)*1.5\n",
    "delaystampOE = (25000/AcqFre)*1.5*2\n",
    "\n",
    "#date = '2022_03_14'\n",
    "#device = 'MiniscopeCamera'\n",
    "#time = '13_37_24'"
   ]
  },
  {
   "cell_type": "markdown",
   "metadata": {
    "tags": []
   },
   "source": [
    "## Import the files"
   ]
  },
  {
   "cell_type": "markdown",
   "metadata": {
    "tags": []
   },
   "source": [
    "### Define paths"
   ]
  },
  {
   "cell_type": "code",
   "execution_count": null,
   "metadata": {
    "tags": []
   },
   "outputs": [],
   "source": [
    "try:\n",
    "    %store -r folderMouse folder_Ephys folder_sync_messages\n",
    "except:\n",
    "    print(\"data not in strore\")\n",
    "    folderMouse = \"\"\n",
    "    folder_Ephys = \"\"\n",
    "    folder_sync_messages = \"\"\n",
    "\n",
    "fc1 = FileChooser(folderMouse,select_default=True, show_only_dirs = True, title = \"<b>Folder with timestamps</b>\")\n",
    "display(fc1)\n",
    "\n",
    "fc2 = FileChooser(folder_Ephys,select_default=True, show_only_dirs = True, title = \"<b>Folder with OpenEphys</b>\")\n",
    "display(fc2)\n",
    "\n",
    "fc3 = FileChooser(folder_sync_messages,select_default=True, show_only_dirs = True, title = \"<b>Folder with syncMessages</b>\")\n",
    "display(fc3)\n",
    "\n",
    "\n",
    "# Sample callback function\n",
    "def update_my_folder(chooser):\n",
    "    global folderMouse, folder_Ephys, folder_sync_messages\n",
    "    match chooser.title:\n",
    "        case \"<b>Folder with timestamps</b>\":\n",
    "            folderMouse = Path(chooser.selected)\n",
    "            %store folderMouse\n",
    "        case \"<b>Folder with OpenEphys</b>\":\n",
    "            folder_Ephys = Path(chooser.selected)\n",
    "            %store folder_Ephys\n",
    "        case \"<b>Folder with syncMessages</b>\":\n",
    "            folder_sync_messages = Path(chooser.selected)\n",
    "            %store folder_sync_messages\n",
    "        case _:\n",
    "            print(\"something is wierd\")\n",
    "    return \n",
    "\n",
    "# Register callback function\n",
    "fc1.register_callback(update_my_folder)\n",
    "fc2.register_callback(update_my_folder)\n",
    "fc3.register_callback(update_my_folder)"
   ]
  },
  {
   "cell_type": "code",
   "execution_count": null,
   "metadata": {
    "tags": []
   },
   "outputs": [],
   "source": [
    "print(\"The folder used for miniscope timestamps is : {}\".format(folderMouse))\n",
    "print(\"The folder used for OpenEphys data is : {}\".format(folder_Ephys))\n",
    "print(\"The folder used for sync_messages is : {}\".format(folder_sync_messages))"
   ]
  },
  {
   "cell_type": "markdown",
   "metadata": {
    "tags": []
   },
   "source": [
    "### Get timestamps"
   ]
  },
  {
   "cell_type": "code",
   "execution_count": null,
   "metadata": {
    "tags": []
   },
   "outputs": [],
   "source": [
    "for file_path in folderMouse.glob('**/*timeStamps.csv'):\n",
    "    subfolder = file_path.parents[0].stem\n",
    "    if 'V4_Miniscope' in subfolder:\n",
    "        stamps_miniscope = pd.read_csv(file_path)\n",
    "    elif 'WebCam' in subfolder:\n",
    "        stamps_webcam = pd.read_csv(file_path)"
   ]
  },
  {
   "cell_type": "markdown",
   "metadata": {
    "tags": []
   },
   "source": [
    "### Get OpenEphys files"
   ]
  },
  {
   "cell_type": "code",
   "execution_count": null,
   "metadata": {},
   "outputs": [],
   "source": [
    "# Warning, here I a have moved the OpenEphys file to the video folder. To determine what is the most efficient strategy\n",
    "for file_path in folder_Ephys.glob('**/timestamps.npy'):#*.npy'):\n",
    "    subfolder = file_path.parents[0].stem\n",
    "    if 'TTL' in subfolder:\n",
    "        file = file_path.stem\n",
    "        stamps_OEmini = np.load(file_path)\n",
    "        datalen = len(stamps_OEmini)\n",
    "        coords = {\n",
    "            'recordings' : np.array(['full_words', 'timestamps', 'channel_states', 'channels']),\n",
    "            'duration_rec' : np.arange(datalen)\n",
    "        }\n",
    "        Allstamps = xr.DataArray(coords=coords, dims=['recordings', 'duration_rec']) \n",
    "\n",
    "\n",
    "for file_path in folder_Ephys.glob('**/*.npy'):\n",
    "    subfolder = file_path.parents[0].stem\n",
    "    if 'TTL' in subfolder:\n",
    "        file = file_path.stem\n",
    "        stamps_OEmini = np.load(file_path)\n",
    "        Allstamps.loc[file,:] = stamps_OEmini\n",
    "\n",
    "print(Allstamps)\n"
   ]
  },
  {
   "cell_type": "markdown",
   "metadata": {
    "tags": []
   },
   "source": [
    "## Clean data"
   ]
  },
  {
   "cell_type": "markdown",
   "metadata": {
    "tags": []
   },
   "source": [
    "### Plot the different timestamps files\n",
    "Not a necessary step unless there is doubt about the data quality"
   ]
  },
  {
   "cell_type": "code",
   "execution_count": null,
   "metadata": {},
   "outputs": [],
   "source": [
    "time = range(datalen)\n",
    "print(time)\n",
    "fullwords = Allstamps.loc['full_words',:].values\n",
    "timestamps = Allstamps.loc['timestamps',:].values\n",
    "channelstates = Allstamps.loc['channel_states',:]\n",
    "channels = Allstamps.loc['channels',:]\n",
    "\n",
    "debut = 0\n",
    "fin = 100\n",
    "timeTrunc = time[debut:fin]\n",
    "fullwordsTrunc = fullwords[debut:fin]\n",
    "timestampsTrunc = timestamps[debut:fin]\n",
    "channelstatesTrunc = channelstates[debut:fin]\n",
    "channelsTrunc = channels[debut:fin]\n",
    "\n",
    "fig, ((ax1, ax2), (ax3, ax4)) = plt.subplots(2,2, figsize=(7,5), layout='constrained') \n",
    "ax1.plot(timeTrunc, fullwordsTrunc, 'r')\n",
    "ax2.plot(timeTrunc, timestampsTrunc, 'r')\n",
    "ax3.plot(timeTrunc, channelstatesTrunc, 'r')\n",
    "ax4.plot(timeTrunc, channelsTrunc, 'r')\n",
    "\n",
    "ax1.set_title('fullwords')\n",
    "ax2.set_title('timestamps')\n",
    "ax3.set_title('channelstates')\n",
    "ax4.set_title('channels')\n"
   ]
  },
  {
   "cell_type": "markdown",
   "metadata": {},
   "source": [
    "### Crop experiment?"
   ]
  },
  {
   "cell_type": "markdown",
   "metadata": {
    "tags": []
   },
   "source": [
    "not sure yet"
   ]
  },
  {
   "cell_type": "markdown",
   "metadata": {},
   "source": [
    "### Detect frame drops\n",
    "\n",
    "Compute the delta between each time stamp in the miniscope timestamp file, this allows for determining if and when a frame was dropped."
   ]
  },
  {
   "cell_type": "code",
   "execution_count": null,
   "metadata": {},
   "outputs": [],
   "source": [
    "stamps_miniscope_time = stamps_miniscope['Time Stamp (ms)']\n",
    "delay_stamps = []\n",
    "dropped_frames = []\n",
    "number_frames = stamps_miniscope['Time Stamp (ms)'].count()\n",
    "for i in range(number_frames -1):\n",
    "    delay_stamps.append(stamps_miniscope_time[i+1] - stamps_miniscope_time[i])\n",
    "    if delay_stamps[i] > delaystampMini:\n",
    "        dropped_frames.append(i)\n",
    "\n",
    "#plt.plot(delay_stamps)\n",
    "print(\"the calculated frame rate is : {}\".format(1/(sum(delay_stamps) / len(delay_stamps))) )\n",
    "\n",
    "freq_acq = round(1000/(sum(delay_stamps)/len(delay_stamps)))\n",
    "print(\"{} frame(s) were dropped : {}\".format(len(dropped_frames),dropped_frames))\n"
   ]
  },
  {
   "cell_type": "markdown",
   "metadata": {},
   "source": [
    "### Laser and miniscope timestamps extraction\n",
    "From the xarray that summarises all the timestamps (laser and miniscope) received as TTL by OpenEphys, we extract the timestamps that correspond to either laser or miniscope."
   ]
  },
  {
   "cell_type": "code",
   "execution_count": null,
   "metadata": {},
   "outputs": [],
   "source": [
    "OE_stamps_miniscope = []\n",
    "OE_stamps_laser = []\n",
    "\n",
    "for i in range(datalen):\n",
    "    if channels[i] == 2:\n",
    "        OE_stamps_miniscope.append(timestamps[i])\n",
    "    elif channels[i] == 1:\n",
    "        OE_stamps_laser.append(timestamps[i])\n",
    "\n",
    "len(OE_stamps_miniscope)"
   ]
  },
  {
   "cell_type": "markdown",
   "metadata": {},
   "source": [
    "Plot to make sure the right stamps have been rightly distributed to the appropriate list."
   ]
  },
  {
   "cell_type": "code",
   "execution_count": null,
   "metadata": {},
   "outputs": [],
   "source": [
    "time1 = range(len(OE_stamps_miniscope))\n",
    "time2 = range(len(OE_stamps_laser))\n",
    "\n",
    "fig, (ax1, ax2) = plt.subplots(2,1, figsize=(7,5), layout='constrained') \n",
    "ax1.plot(time1, OE_stamps_miniscope, 'r')\n",
    "ax2.plot(time2, OE_stamps_laser, 'r')"
   ]
  },
  {
   "cell_type": "markdown",
   "metadata": {},
   "source": [
    "Determine if I can see dropped frames in OE"
   ]
  },
  {
   "cell_type": "code",
   "execution_count": null,
   "metadata": {},
   "outputs": [],
   "source": [
    "time1 = range(len(OE_stamps_miniscope)-2)\n",
    "delay_stamps = []\n",
    "for i in time1:\n",
    "    delay_stamps.append(OE_stamps_miniscope[i+2] - OE_stamps_miniscope[i])\n",
    "    if delay_stamps[i] > delaystampOE:\n",
    "        print(delay_stamps[i], i)\n",
    "\n"
   ]
  },
  {
   "cell_type": "markdown",
   "metadata": {},
   "source": [
    "### Normalise time stamps from open ephys signal\n",
    "\n",
    "two steps\n",
    "- remove initial timing by extracting software 0ing from .txt file\n",
    "- to get time in ms and not in acquisition point (acq rate = 25 kHz)\n",
    "- for laser, get one value per laser flash"
   ]
  },
  {
   "cell_type": "code",
   "execution_count": null,
   "metadata": {},
   "outputs": [],
   "source": [
    "A = []\n",
    "print(\"looking for sync_messages.txt in folder : {}\".format(folder_sync_messages))\n",
    "for file_path in folder_sync_messages.glob('**/*sync_messages.txt'):\n",
    "    with open(file_path, \"r\") as f:\n",
    "        lines = f.readlines()\n",
    "    # Loop through all lines, ignoring header.\n",
    "    # take last element to list (i.e. the process name)\n",
    "        for l in lines[1:]:\n",
    "            A.append(l.split()[-1])\n",
    "print(\"it reads {}\".format(A))\n",
    "\n",
    "# remove acquisition frequency that is normally always 25 kHz\n",
    "initial_OE_start = int(' '.join([x.split('@')[0] for x in A]))#int(''.join([x.strip('@25000Hz') for x in A]))\n",
    "acqFreqOE = int(' '.join([x[:-2].split('@')[1] for x in A]))\n",
    "#initial_OE_start = 411044352#stamps_OEOE[0]\n",
    "# transform in pd series for easier manipulation\n",
    "B = pd.Series(OE_stamps_miniscope)\n",
    "C = pd.Series(OE_stamps_laser)\n",
    "\n",
    "# normalise to ms\n",
    "OE_stamps_miniscope_n = (B - initial_OE_start)/acqFreqOE#25000\n",
    "OE_stamps_laser_inter = (C - initial_OE_start)/acqFreqOE#25000\n",
    "\n",
    "# take only the middle of the laser pulse\n",
    "OE_stamps_laser_n = [] \n",
    "for i in range(len(OE_stamps_laser_n) - 1):\n",
    "    if (OE_stamps_laser_n[i+1] - OE_stamps_laser_n[i]) < 30:\n",
    "        interm = OE_stamps_laser_n[i] + 10\n",
    "        OE_stamps_laser_n.append(interm)\n"
   ]
  },
  {
   "cell_type": "markdown",
   "metadata": {},
   "source": [
    "Last, extract important values for the next steps\n",
    "- start acquisition time for Ca2+ relative to OE internal time and to time zeroed.\n",
    "- acquisition frequency for Ca2+ imaging\n",
    "- dropped frame timing"
   ]
  },
  {
   "cell_type": "code",
   "execution_count": null,
   "metadata": {},
   "outputs": [],
   "source": [
    "# _n is from 0\n",
    "acquisition_mini_start_n = OE_stamps_miniscope_n[0]\n",
    "# _a is from acquisition time software\n",
    "acquisition_mini_start_a = B[0]\n",
    "# freq_acq in Hz\n",
    "freq_acq\n",
    "# list of dropped frames from miniscope\n",
    "dropped_frames\n",
    "\n",
    "outSumm = pd.Series([acquisition_mini_start_n, acquisition_mini_start_a, freq_acq, dropped_frames],\n",
    "              index=['Miniscope start from 0', 'Miniscope start from Acq time soft', 'mini acq freq', 'dropped frames'])\n",
    "\n",
    "\n",
    "filenameOut = folderMouse / f'SynchroFile.xlsx'\n",
    "writer = pd.ExcelWriter(filenameOut)\n",
    "outSumm.to_excel(writer)\n",
    "writer.close()\n",
    "\n",
    "        "
   ]
  },
  {
   "cell_type": "code",
   "execution_count": null,
   "metadata": {
    "tags": []
   },
   "outputs": [],
   "source": [
    "outSumm"
   ]
  }
 ],
 "metadata": {
  "kernelspec": {
   "display_name": "venv312",
   "language": "python",
   "name": "venv312"
  },
  "language_info": {
   "codemirror_mode": {
    "name": "ipython",
    "version": 3
   },
   "file_extension": ".py",
   "mimetype": "text/x-python",
   "name": "python",
   "nbconvert_exporter": "python",
   "pygments_lexer": "ipython3",
   "version": "3.12.1"
  },
  "vscode": {
   "interpreter": {
    "hash": "984d3fbee8ffa490637705ae3d7233e001ab0304f3daaca07b5aa8569b88ca53"
   }
  }
 },
 "nbformat": 4,
 "nbformat_minor": 4
}
