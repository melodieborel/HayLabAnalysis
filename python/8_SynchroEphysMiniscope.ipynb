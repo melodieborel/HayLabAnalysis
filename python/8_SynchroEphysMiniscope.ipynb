{
 "cells": [
  {
   "cell_type": "markdown",
   "metadata": {},
   "source": [
    "# Extract values to be able to synchronise Miniscope, webcam and ephys.\n",
    "\n",
    "Webcam not synchronised at the moment because there is no conflict between OE_miniscope and miniscope timestamps. "
   ]
  },
  {
   "cell_type": "markdown",
   "metadata": {},
   "source": [
    "Load the required packages (and many more that are not useful)"
   ]
  },
  {
   "cell_type": "code",
   "execution_count": 19,
   "metadata": {},
   "outputs": [],
   "source": [
    "#%reset\n",
    "\n",
    "import numpy as np\n",
    "import csv\n",
    "from pathlib import Path\n",
    "import xarray as xr\n",
    "import pandas as pd\n",
    "import matplotlib.pyplot as plt\n",
    "\n"
   ]
  },
  {
   "cell_type": "markdown",
   "metadata": {},
   "source": [
    "Import the files"
   ]
  },
  {
   "cell_type": "code",
   "execution_count": 20,
   "metadata": {},
   "outputs": [],
   "source": [
    "folderGen = Path('.').absolute()\n",
    "Fold1 = 'Gaelle'\n",
    "recording = 'Baseline_recording'\n",
    "mouse_name = 'GreenDotsOK'\n",
    "Rec = 'session1'\n",
    "AcqFre = 30 # frames / sec\n",
    "delaystampMini = (1000/AcqFre)*1.5\n",
    "delaystampOE = (25000/AcqFre)*1.5*2\n",
    "\n",
    "#date = '2022_03_14'\n",
    "#device = 'MiniscopeCamera'\n",
    "#time = '13_37_24'\n",
    "folderMouse = Path(f'{folderGen}/{Fold1}/{recording}/{mouse_name}/{Rec}/')\n",
    "\n",
    "\n",
    "for file_path in folderMouse.glob('**/*timeStamps.csv'):\n",
    "    subfolder = file_path.parents[0].stem\n",
    "    if subfolder == 'V4_Miniscope':\n",
    "        stamps_miniscope = pd.read_csv(file_path)\n",
    "    elif subfolder == 'WebCam':\n",
    "        stamps_webcam = pd.read_csv(file_path)\n",
    "# Warning, here I a have moved the OpenEphys file to the video folder. To determine what is the most efficient strategy\n",
    "for file_path in folderMouse.glob('**/*.npy'):\n",
    "    subfolder = file_path.parents[0].stem\n",
    "    if subfolder == 'TTL':\n",
    "        file = file_path.stem\n",
    "        stamps_OEmini = np.load(file_path)\n",
    "        datalen = len(stamps_OEmini)\n",
    "        coords = {\n",
    "            'recordings' : np.array(['full_words', 'timestamps', 'channel_states', 'channels']),\n",
    "            'duration_rec' : np.arange(datalen)\n",
    "        }\n",
    "        Allstamps = xr.DataArray(coords=coords, dims=['recordings', 'duration_rec'])\n",
    "\n",
    "for file_path in folderMouse.glob('**/*.npy'):\n",
    "    subfolder = file_path.parents[0].stem\n",
    "    if subfolder == 'TTL':\n",
    "        file = file_path.stem\n",
    "        stamps_OEmini = np.load(file_path)\n",
    "        Allstamps.loc[file,:] = stamps_OEmini\n",
    "\n",
    "folder_Ephys = folderMouse / f'OpenEphys/'\n",
    "#filenameE = folder_Ephys / f'timestamps.npy'\n",
    "#stamps_OEOE = np.load(filenameE)\n",
    "\n",
    "\n",
    "#Allstamps.shape"
   ]
  },
  {
   "cell_type": "markdown",
   "metadata": {},
   "source": [
    "Plot the different timestamps files. \n",
    "Not a necessary step unless there is doubt about the data quality"
   ]
  },
  {
   "cell_type": "code",
   "execution_count": 21,
   "metadata": {},
   "outputs": [
    {
     "name": "stdout",
     "output_type": "stream",
     "text": [
      "range(0, 55163)\n"
     ]
    },
    {
     "data": {
      "text/plain": [
       "[<matplotlib.lines.Line2D at 0x13e6aeac0>]"
      ]
     },
     "execution_count": 21,
     "metadata": {},
     "output_type": "execute_result"
    },
    {
     "data": {
      "image/png": "[encoded data removed]",
      "text/plain": [
       "<Figure size 504x360 with 4 Axes>"
      ]
     },
     "metadata": {
      "needs_background": "light"
     },
     "output_type": "display_data"
    }
   ],
   "source": [
    "time = range(datalen)\n",
    "print(time)\n",
    "fullwords = Allstamps.loc['full_words',:].values\n",
    "timestamps = Allstamps.loc['timestamps',:].values\n",
    "channelstates = Allstamps.loc['channel_states',:]\n",
    "channels = Allstamps.loc['channels',:]\n",
    "\n",
    "debut = 0\n",
    "fin = 100\n",
    "timeTrunc = time[debut:fin]\n",
    "fullwordsTrunc = fullwords[debut:fin]\n",
    "timestampsTrunc = timestamps[debut:fin]\n",
    "channelstatesTrunc = channelstates[debut:fin]\n",
    "channelsTrunc = channels[debut:fin]\n",
    "\n",
    "fig, ((ax1, ax2), (ax3, ax4)) = plt.subplots(2,2, figsize=(7,5), layout='constrained') \n",
    "ax1.plot(timeTrunc, fullwordsTrunc, 'r')\n",
    "ax2.plot(timeTrunc, timestampsTrunc, 'r')\n",
    "ax3.plot(timeTrunc, channelstatesTrunc, 'r')\n",
    "ax4.plot(timeTrunc, channelsTrunc, 'r')\n",
    "\n"
   ]
  },
  {
   "cell_type": "markdown",
   "metadata": {},
   "source": [
    "Compute the delta between each time stamp in the miniscope timestamp file, this allows for determining if and when a frame was dropped."
   ]
  },
  {
   "cell_type": "code",
   "execution_count": 22,
   "metadata": {},
   "outputs": [
    {
     "data": {
      "text/plain": [
       "[5662,\n",
       " 19344,\n",
       " 21984,\n",
       " 23815,\n",
       " 26005,\n",
       " 26006,\n",
       " 26442,\n",
       " 26443,\n",
       " 26444,\n",
       " 28208,\n",
       " 30397,\n",
       " 32590,\n",
       " 32593,\n",
       " 34798,\n",
       " 38099,\n",
       " 38100,\n",
       " 39209,\n",
       " 39211,\n",
       " 41418,\n",
       " 43639,\n",
       " 43641,\n",
       " 48064,\n",
       " 48065,\n",
       " 48066,\n",
       " 50146,\n",
       " 50251,\n",
       " 51870,\n",
       " 52469,\n",
       " 52472]"
      ]
     },
     "execution_count": 22,
     "metadata": {},
     "output_type": "execute_result"
    }
   ],
   "source": [
    "stamps_miniscope_time = stamps_miniscope['Time Stamp (ms)']\n",
    "delay_stamps = []\n",
    "dropped_frames = []\n",
    "number_frames = stamps_miniscope['Time Stamp (ms)'].count()\n",
    "for i in range(number_frames -1):\n",
    "    delay_stamps.append(stamps_miniscope_time[i+1] - stamps_miniscope_time[i])\n",
    "    if delay_stamps[i] > delaystampMini:\n",
    "        dropped_frames.append(i)\n",
    "\n",
    "freq_acq = round(1000/(sum(delay_stamps)/len(delay_stamps)))\n",
    "dropped_frames\n"
   ]
  },
  {
   "cell_type": "markdown",
   "metadata": {},
   "source": [
    "From the xarray that summarises all the timestamps (laser and miniscope) received as TTL by OpenEphys, we extract the timestamps that correspond to either laser or miniscope."
   ]
  },
  {
   "cell_type": "code",
   "execution_count": 23,
   "metadata": {},
   "outputs": [
    {
     "data": {
      "text/plain": [
       "53683"
      ]
     },
     "execution_count": 23,
     "metadata": {},
     "output_type": "execute_result"
    }
   ],
   "source": [
    "OE_stamps_miniscope = []\n",
    "OE_stamps_laser = []\n",
    "\n",
    "for i in range(datalen):\n",
    "    if channels[i] == 2:\n",
    "        OE_stamps_miniscope.append(timestamps[i])\n",
    "    elif channels[i] == 1:\n",
    "        OE_stamps_laser.append(timestamps[i])\n",
    "\n",
    "len(OE_stamps_miniscope)"
   ]
  },
  {
   "cell_type": "markdown",
   "metadata": {},
   "source": [
    "Plot to make sure the right stamps have been rightly distributed to the appropriate list."
   ]
  },
  {
   "cell_type": "code",
   "execution_count": 24,
   "metadata": {},
   "outputs": [
    {
     "data": {
      "text/plain": [
       "[<matplotlib.lines.Line2D at 0x13e7cf790>]"
      ]
     },
     "execution_count": 24,
     "metadata": {},
     "output_type": "execute_result"
    },
    {
     "data": {
      "image/png": "[encoded data removed]",
      "text/plain": [
       "<Figure size 504x360 with 2 Axes>"
      ]
     },
     "metadata": {
      "needs_background": "light"
     },
     "output_type": "display_data"
    }
   ],
   "source": [
    "time1 = range(len(OE_stamps_miniscope))\n",
    "time2 = range(len(OE_stamps_laser))\n",
    "\n",
    "fig, (ax1, ax2) = plt.subplots(2,1, figsize=(7,5), layout='constrained') \n",
    "ax1.plot(time1, OE_stamps_miniscope, 'r')\n",
    "ax2.plot(time2, OE_stamps_laser, 'r')"
   ]
  },
  {
   "cell_type": "markdown",
   "metadata": {},
   "source": [
    "Determine if I can see dropped frames in OE"
   ]
  },
  {
   "cell_type": "code",
   "execution_count": 25,
   "metadata": {},
   "outputs": [
    {
     "name": "stdout",
     "output_type": "stream",
     "text": [
      "2515.0 21981\n",
      "2518.0 21982\n"
     ]
    }
   ],
   "source": [
    "time1 = range(len(OE_stamps_miniscope)-2)\n",
    "delay_stamps = []\n",
    "for i in time1:\n",
    "    delay_stamps.append(OE_stamps_miniscope[i+2] - OE_stamps_miniscope[i])\n",
    "    if delay_stamps[i] > delaystampOE:\n",
    "        print(delay_stamps[i], i)\n",
    "\n"
   ]
  },
  {
   "cell_type": "markdown",
   "metadata": {},
   "source": [
    "Normalise time stamps from open ephys signal.\n",
    "two steps\n",
    "- remove initial timing by extracting software 0ing from .txt file\n",
    "- to get time in ms and not in acquisition point (acq rate = 25 kHz)\n",
    "- for laser, get one value per laser flash"
   ]
  },
  {
   "cell_type": "code",
   "execution_count": 26,
   "metadata": {},
   "outputs": [],
   "source": [
    "A = []\n",
    "for file_path in folderMouse.glob('**/*sync_messages.txt'):\n",
    "    with open(file_path, \"r\") as f:\n",
    "        lines = f.readlines()\n",
    "    # Loop through all lines, ignoring header.\n",
    "    # take last element to list (i.e. the process name)\n",
    "        for l in lines[1:]:\n",
    "            A.append(l.split()[-1])\n",
    "\n",
    "# remove acquisition frequency that is normally always 25 kHz\n",
    "#initial_OE_start = int(''.join([x.strip('@25000Hz') for x in A]))\n",
    "initial_OE_start = 411044352#stamps_OEOE[0]\n",
    "# transform in pd series for easier manipulation\n",
    "B = pd.Series(OE_stamps_miniscope)\n",
    "C = pd.Series(OE_stamps_laser)\n",
    "\n",
    "# normalise to ms\n",
    "OE_stamps_miniscope_n = (B - initial_OE_start)/25000\n",
    "OE_stamps_laser_inter = (C - initial_OE_start)/25000\n",
    "\n",
    "# take only the middle of the laser pulse\n",
    "OE_stamps_laser_n = [] \n",
    "for i in range(len(OE_stamps_laser_n) - 1):\n",
    "    if (OE_stamps_laser_n[i+1] - OE_stamps_laser_n[i]) < 30:\n",
    "        interm = OE_stamps_laser_n[i] + 10\n",
    "        OE_stamps_laser_n.append(interm)\n",
    "\n"
   ]
  },
  {
   "cell_type": "markdown",
   "metadata": {},
   "source": [
    "Last, extract important values for the next steps\n",
    "- start acquisition time for Ca2+ relative to OE internal time and to time zeroed.\n",
    "- acquisition frequency for Ca2+ imaging\n",
    "- dropped frame timing"
   ]
  },
  {
   "cell_type": "code",
   "execution_count": 27,
   "metadata": {},
   "outputs": [],
   "source": [
    "# _n is from 0\n",
    "acquisition_mini_start_n = OE_stamps_miniscope_n[0]\n",
    "# _a is from acquisition time software\n",
    "acquisition_mini_start_a = B[0]\n",
    "# freq_acq in Hz\n",
    "freq_acq\n",
    "# list of dropped frames from miniscope\n",
    "dropped_frames\n",
    "\n",
    "outSumm = pd.Series([acquisition_mini_start_n, acquisition_mini_start_a, freq_acq, dropped_frames],\n",
    "              index=['Miniscope start from 0', 'Miniscope start from Acq time soft', 'mini acq freq', 'dropped frames'])\n",
    "\n",
    "\n",
    "filenameOut = folderMouse / f'SynchroFile.xlsx'\n",
    "writer = pd.ExcelWriter(filenameOut)\n",
    "outSumm.to_excel(writer)\n",
    "writer.save()\n",
    "\n",
    "        "
   ]
  },
  {
   "cell_type": "code",
   "execution_count": 28,
   "metadata": {},
   "outputs": [
    {
     "data": {
      "text/plain": [
       "Miniscope start from 0                                                        148.95256\n",
       "Miniscope start from Acq time soft                                          414768166.0\n",
       "mini acq freq                                                                        30\n",
       "dropped frames                        [5662, 19344, 21984, 23815, 26005, 26006, 2644...\n",
       "dtype: object"
      ]
     },
     "execution_count": 28,
     "metadata": {},
     "output_type": "execute_result"
    }
   ],
   "source": [
    "outSumm"
   ]
  }
 ],
 "metadata": {
  "kernelspec": {
   "display_name": "Python 3.9.12 ('formation')",
   "language": "python",
   "name": "python3"
  },
  "language_info": {
   "codemirror_mode": {
    "name": "ipython",
    "version": 3
   },
   "file_extension": ".py",
   "mimetype": "text/x-python",
   "name": "python",
   "nbconvert_exporter": "python",
   "pygments_lexer": "ipython3",
   "version": "3.9.12 | packaged by conda-forge | (main, Mar 24 2022, 23:27:05) \n[Clang 12.0.1 ]"
  },
  "orig_nbformat": 4,
  "vscode": {
   "interpreter": {
    "hash": "984d3fbee8ffa490637705ae3d7233e001ab0304f3daaca07b5aa8569b88ca53"
   }
  }
 },
 "nbformat": 4,
 "nbformat_minor": 2
}
