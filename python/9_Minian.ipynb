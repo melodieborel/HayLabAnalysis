{
 "cells": [
  {
   "cell_type": "markdown",
   "metadata": {},
   "source": [
    "# Minian reduced"
   ]
  },
  {
   "cell_type": "markdown",
   "metadata": {},
   "source": [
    "## Load packages"
   ]
  },
  {
   "cell_type": "code",
   "execution_count": 8,
   "metadata": {},
   "outputs": [
    {
     "ename": "SyntaxError",
     "evalue": "invalid syntax (1635036388.py, line 1)",
     "output_type": "error",
     "traceback": [
      "\u001b[1;36m  Cell \u001b[1;32mIn[8], line 1\u001b[1;36m\u001b[0m\n\u001b[1;33m    cd \"C:/Users/Manip2/SCRIPTS/Code python audrey/code python aurelie/HayLabAnalysis/minian\"\u001b[0m\n\u001b[1;37m       ^\u001b[0m\n\u001b[1;31mSyntaxError\u001b[0m\u001b[1;31m:\u001b[0m invalid syntax\n"
     ]
    }
   ],
   "source": [
    "cd \"C:/Users/Manip2/SCRIPTS/Code python audrey/code python aurelie/HayLabAnalysis/minian\"\n",
    "interactive = True\n",
    "suffix = ''"
   ]
  },
  {
   "cell_type": "code",
   "execution_count": 9,
   "metadata": {
    "tags": []
   },
   "outputs": [
    {
     "name": "stdout",
     "output_type": "stream",
     "text": [
      "The autoreload extension is already loaded. To reload it, use:\n",
      "  %reload_ext autoreload\n"
     ]
    }
   ],
   "source": [
    "%load_ext autoreload\n",
    "%autoreload 2"
   ]
  },
  {
   "cell_type": "code",
   "execution_count": 2,
   "metadata": {},
   "outputs": [],
   "source": [
    "#%%capture  ## \"%%capture var\" redirects stdout and stderr to the variable var that can be used latter on. If no var is provided, it will just suppress the output\n",
    "import itertools as itt\n",
    "import os\n",
    "import sys\n",
    "\n",
    "import holoviews as hv\n",
    "import numpy as np\n",
    "import xarray as xr\n",
    "from dask.distributed import Client, LocalCluster\n",
    "from holoviews.operation.datashader import datashade, regrid\n",
    "from holoviews.util import Dynamic\n",
    "from IPython.display import display\n",
    "from ipyfilechooser import FileChooser"
   ]
  },
  {
   "cell_type": "code",
   "execution_count": null,
   "metadata": {
    "tags": []
   },
   "outputs": [],
   "source": [
    "#%%capture\n",
    "minian_path = os.path.join(os.path.abspath('..'),'minian')\n",
    "print(\"The folder used for minian procedures is : {}\".format(minian_path))\n",
    "\n",
    "sys.path.append(minian_path)\n",
    "from minian.cnmf import (\n",
    "    compute_AtC,\n",
    "    compute_trace,\n",
    "    get_noise_fft,\n",
    "    smooth_sig,\n",
    "    unit_merge,\n",
    "    update_spatial,\n",
    "    update_temporal,\n",
    "    update_background,\n",
    ")\n",
    "from minian.initialization import (\n",
    "    gmm_refine,\n",
    "    initA,\n",
    "    initC,\n",
    "    intensity_refine,\n",
    "    ks_refine,\n",
    "    pnr_refine,\n",
    "    seeds_init,\n",
    "    seeds_merge,\n",
    ")\n",
    "from minian.motion_correction import apply_transform, estimate_motion\n",
    "from minian.preprocessing import denoise, remove_background\n",
    "from minian.utilities import (\n",
    "    TaskAnnotation,\n",
    "    get_optimal_chk,\n",
    "    load_videos,\n",
    "    open_minian,\n",
    "    save_minian,\n",
    ")\n",
    "from minian.visualization import (\n",
    "    CNMFViewer,\n",
    "    VArrayViewer,\n",
    "    generate_videos,\n",
    "    visualize_gmm_fit,\n",
    "    visualize_motion,\n",
    "    visualize_preprocess,\n",
    "    visualize_seeds,\n",
    "    visualize_spatial_update,\n",
    "    visualize_temporal_update,\n",
    "    write_video,\n",
    ")"
   ]
  },
  {
   "cell_type": "markdown",
   "metadata": {
    "tags": []
   },
   "source": [
    "## Configuration"
   ]
  },
  {
   "cell_type": "markdown",
   "metadata": {
    "tags": []
   },
   "source": [
    "### Select folder"
   ]
  },
  {
   "cell_type": "code",
   "execution_count": null,
   "metadata": {
    "tags": []
   },
   "outputs": [],
   "source": [
    "try:\n",
    "    %store -r dpath\n",
    "    #dpath = \"//10.69.168.1/crnldata/waking/audrey_hay/L1imaging/RAW\"\n",
    "except:\n",
    "    print(\"data not in strore\")\n",
    "    dpath = os.path.expanduser(\"~\")\n",
    "\n",
    "# Set up Initial Basic Parameters#\n",
    "minian_path = \".\"\n",
    "\n",
    "fc1 = FileChooser(dpath,select_default=True, show_only_dirs = True, title = \"<b>Folder with videos</b>\")\n",
    "display(fc1)\n",
    "\n",
    "# Sample callback function\n",
    "def update_my_folder(chooser):\n",
    "    global dpath\n",
    "    dpath = chooser.selected\n",
    "    %store dpath\n",
    "    return \n",
    "\n",
    "# Register callback function\n",
    "fc1.register_callback(update_my_folder)"
   ]
  },
  {
   "cell_type": "code",
   "execution_count": null,
   "metadata": {},
   "outputs": [],
   "source": [
    "minian_ds_path = os.path.join(dpath, f'minian{suffix}')\n",
    "intpath = os.path.join(dpath, f'minian_intermediate{suffix}')\n",
    "minian_ds_path"
   ]
  },
  {
   "cell_type": "markdown",
   "metadata": {
    "tags": []
   },
   "source": [
    "### Initial parameters"
   ]
  },
  {
   "cell_type": "code",
   "execution_count": null,
   "metadata": {},
   "outputs": [],
   "source": [
    "subset = dict(frame=slice(0, None))\n",
    "subset_mc = None\n",
    "output_size = 100\n",
    "n_workers = int(os.getenv(\"MINIAN_NWORKERS\", 4))\n",
    "param_save_minian = {\n",
    "    \"dpath\": minian_ds_path,\n",
    "    \"meta_dict\": dict(session=-1, animal=-2),\n",
    "    \"overwrite\": True,\n",
    "}\n",
    "\n",
    "# Pre-processing Parameters#\n",
    "param_load_videos = {\n",
    "    \"pattern\": \"[0-9]+\\.avi$\",\n",
    "    \"dtype\": np.uint8,\n",
    "    \"downsample\": dict(frame=1, height=1, width=1),\n",
    "    \"downsample_strategy\": \"subset\",\n",
    "}\n",
    "param_denoise ={\"method\": \"median\", \"ksize\": 7} #{\"method\": \"median\", \"ksize\": 5} #Default minian = {\"method\": \"median\", \"ksize\": 7}\n",
    "param_background_removal = {\"method\": \"tophat\", \"wnd\": 15}\n",
    "\n",
    "# Motion Correction Parameters#\n",
    "subset_mc = None\n",
    "param_estimate_motion = {\"dim\": \"frame\"}\n",
    "\n",
    "# Initialization Parameters#\n",
    "param_seeds_init = {\n",
    "    \"wnd_size\": 1000, # 100, #Default minian = 1000\n",
    "    \"method\": \"rolling\",\n",
    "    \"stp_size\": 500, #50, #Default minian =500\n",
    "    \"max_wnd\": 15, #20,#generally 10 updated here to 20 to account for L1 wide dendritic trees #Default minian =15\n",
    "    \"diff_thres\": 3,\n",
    "}\n",
    "param_pnr_refine = {\"noise_freq\": 0.06, \"thres\": 1}\n",
    "param_ks_refine = {\"sig\": 0.05}\n",
    "param_seeds_merge = {\"thres_dist\": 10, \"thres_corr\": 0.8, \"noise_freq\": 0.06}\n",
    "param_initialize = {\"thres_corr\": 0.8, \"wnd\": 10, \"noise_freq\": 0.06} \n",
    "param_init_merge = {\"thres_corr\": 0.8}\n",
    "\n",
    "# CNMF Parameters# 0.025 for threecolordots\n",
    "param_get_noise = {\"noise_range\": (0.06, 0.5)}\n",
    "param_first_spatial = {\n",
    "    \"dl_wnd\": 10, #15, #Default minian = 10\n",
    "    \"sparse_penal\": 0.01, #0.012, #Default minian =0.01\n",
    "    \"size_thres\": (25, None),\n",
    "}\n",
    "param_first_temporal = {\n",
    "    \"noise_freq\": 0.06,\n",
    "    \"sparse_penal\": 1,\n",
    "    \"p\": 1,\n",
    "    \"add_lag\": 20,\n",
    "    \"jac_thres\": 0.2,\n",
    "}\n",
    "param_first_merge = {\"thres_corr\": 0.8}\n",
    "param_second_spatial = {\n",
    "    \"dl_wnd\": 10,\n",
    "    \"sparse_penal\": 0.01, #0.005, #Default minian =0.01\n",
    "    \"size_thres\": (25, None),\n",
    "}\n",
    "param_second_temporal = {\n",
    "    \"noise_freq\": 0.06,\n",
    "    \"sparse_penal\": 1,\n",
    "    \"p\": 1,\n",
    "    \"add_lag\": 20,\n",
    "    \"jac_thres\": 0.4,\n",
    "}\n",
    "\n",
    "os.environ[\"OMP_NUM_THREADS\"] = \"1\"\n",
    "os.environ[\"MKL_NUM_THREADS\"] = \"1\"\n",
    "os.environ[\"OPENBLAS_NUM_THREADS\"] = \"1\"\n",
    "os.environ[\"MINIAN_INTERMEDIATE\"] = intpath"
   ]
  },
  {
   "cell_type": "markdown",
   "metadata": {},
   "source": [
    "## start cluster"
   ]
  },
  {
   "cell_type": "code",
   "execution_count": null,
   "metadata": {},
   "outputs": [],
   "source": [
    "hv.notebook_extension(\"style=dict(cmap=Viridis256),\")\n",
    "hv.notebook_extension(\"bokeh\", width=70)\n",
    "\n",
    "cluster = LocalCluster(\n",
    "    n_workers=n_workers,\n",
    "    memory_limit=\"8GB\", #4\n",
    "    resources={\"MEM\": 1},\n",
    "    threads_per_worker=2,\n",
    "    dashboard_address=\":8780\" #port 8787 already used by jupyter\n",
    ")"
   ]
  },
  {
   "cell_type": "code",
   "execution_count": null,
   "metadata": {},
   "outputs": [],
   "source": [
    "annt_plugin = TaskAnnotation()\n",
    "cluster.scheduler.add_plugin(annt_plugin)\n",
    "client = Client(cluster)\n",
    "print(cluster)\n",
    "print(client)"
   ]
  },
  {
   "cell_type": "markdown",
   "metadata": {},
   "source": [
    "## Pre-processing"
   ]
  },
  {
   "cell_type": "code",
   "execution_count": null,
   "metadata": {},
   "outputs": [],
   "source": [
    "%%time\n",
    "\n",
    "varr = load_videos(dpath, **param_load_videos)\n",
    "chk, _ = get_optimal_chk(varr, dtype=np.float64)\n",
    "\n",
    "varr = save_minian(\n",
    "    varr.chunk({\"frame\": chk[\"frame\"], \"height\": -1, \"width\": -1}).rename(\"varr\"),\n",
    "    intpath,\n",
    "    overwrite=True,\n",
    ")"
   ]
  },
  {
   "cell_type": "code",
   "execution_count": null,
   "metadata": {},
   "outputs": [],
   "source": [
    "#possibility to crop data\n",
    "varr_ref = varr.sel(height=slice(0, 600), width=slice(0, 600))"
   ]
  },
  {
   "cell_type": "code",
   "execution_count": null,
   "metadata": {
    "tags": []
   },
   "outputs": [],
   "source": [
    "if interactive:\n",
    "    hv.output(size=output_size)\n",
    "    vaviewer = VArrayViewer(varr, framerate=5, summary=[\"mean\", \"max\"])\n",
    "    display(vaviewer.show())"
   ]
  },
  {
   "cell_type": "markdown",
   "metadata": {
    "tags": [],
    "toc-hr-collapsed": true
   },
   "source": [
    "## Clean up"
   ]
  },
  {
   "cell_type": "markdown",
   "metadata": {},
   "source": [
    "### Glow removal"
   ]
  },
  {
   "cell_type": "code",
   "execution_count": null,
   "metadata": {},
   "outputs": [],
   "source": [
    "%%time\n",
    "varr_min = varr_ref.min(\"frame\").compute()\n",
    "varr_ref = varr_ref - varr_min"
   ]
  },
  {
   "cell_type": "code",
   "execution_count": null,
   "metadata": {
    "tags": []
   },
   "outputs": [],
   "source": [
    "if interactive:\n",
    "    hv.output(size=int(output_size * 0.7))\n",
    "    vaviewer = VArrayViewer(\n",
    "        [varr.rename(\"original\"), varr_ref.rename(\"glow_removed\")],\n",
    "        framerate=5,\n",
    "        summary=None,\n",
    "        layout=True,\n",
    "    )\n",
    "    display(vaviewer.show())"
   ]
  },
  {
   "cell_type": "markdown",
   "metadata": {},
   "source": [
    "### Denoise\n",
    "Make sure to update the [denoise parameters](#Initial-parameters) based on what you see before proceeding"
   ]
  },
  {
   "cell_type": "code",
   "execution_count": null,
   "metadata": {
    "tags": []
   },
   "outputs": [],
   "source": [
    "if interactive:\n",
    "    hv.output(size=int(output_size * 0.6))\n",
    "    display(\n",
    "        visualize_preprocess(\n",
    "            varr_ref.isel(frame=0).compute(),\n",
    "            denoise,\n",
    "            method=[\"median\"],\n",
    "            ksize=[5, 7, 9],\n",
    "        )\n",
    "    )"
   ]
  },
  {
   "cell_type": "code",
   "execution_count": null,
   "metadata": {},
   "outputs": [],
   "source": [
    "%%time\n",
    "param_denoise\n",
    "\n",
    "varr_ref = denoise(varr_ref, **param_denoise)\n"
   ]
  },
  {
   "cell_type": "markdown",
   "metadata": {},
   "source": [
    "### Background removal\n",
    "Make sure to update the [background removal parameters](#Initial-parameters) based on what you see before proceeding"
   ]
  },
  {
   "cell_type": "code",
   "execution_count": null,
   "metadata": {},
   "outputs": [],
   "source": [
    "if interactive:\n",
    "    hv.output(size=int(output_size * 0.6))\n",
    "    display(\n",
    "        visualize_preprocess(\n",
    "            varr_ref.isel(frame=0).compute(),\n",
    "            remove_background,\n",
    "            method=[\"tophat\"],\n",
    "            wnd=[10, 15, 20],\n",
    "        )\n",
    "    )"
   ]
  },
  {
   "cell_type": "code",
   "execution_count": null,
   "metadata": {},
   "outputs": [],
   "source": [
    "param_background_removal"
   ]
  },
  {
   "cell_type": "code",
   "execution_count": null,
   "metadata": {},
   "outputs": [],
   "source": [
    "%%time\n",
    "varr_ref = remove_background(varr_ref, **param_background_removal)"
   ]
  },
  {
   "cell_type": "markdown",
   "metadata": {},
   "source": [
    "### Save results"
   ]
  },
  {
   "cell_type": "code",
   "execution_count": null,
   "metadata": {},
   "outputs": [],
   "source": [
    "%%time\n",
    "varr_ref = save_minian(varr_ref.rename(\"varr_ref\"), dpath=intpath, overwrite=True)"
   ]
  },
  {
   "cell_type": "markdown",
   "metadata": {
    "tags": [],
    "toc-hr-collapsed": true
   },
   "source": [
    "## Motion correction"
   ]
  },
  {
   "cell_type": "markdown",
   "metadata": {},
   "source": [
    "### Estimation motion"
   ]
  },
  {
   "cell_type": "code",
   "execution_count": null,
   "metadata": {
    "tags": []
   },
   "outputs": [],
   "source": [
    "%%time\n",
    "motion = estimate_motion(varr_ref.sel(subset_mc), **param_estimate_motion)"
   ]
  },
  {
   "cell_type": "markdown",
   "metadata": {},
   "source": [
    "### Save motion"
   ]
  },
  {
   "cell_type": "code",
   "execution_count": null,
   "metadata": {},
   "outputs": [],
   "source": [
    "%%time\n",
    "motion = save_minian(\n",
    "    motion.rename(\"motion\").chunk({\"frame\": chk[\"frame\"]}), **param_save_minian\n",
    ")"
   ]
  },
  {
   "cell_type": "markdown",
   "metadata": {},
   "source": [
    "### Visualization of motion"
   ]
  },
  {
   "cell_type": "code",
   "execution_count": null,
   "metadata": {
    "tags": []
   },
   "outputs": [],
   "source": [
    "if interactive:\n",
    "    hv.output(size=output_size)\n",
    "    visualize_motion(motion)"
   ]
  },
  {
   "cell_type": "markdown",
   "metadata": {},
   "source": [
    "### Apply transform"
   ]
  },
  {
   "cell_type": "code",
   "execution_count": null,
   "metadata": {},
   "outputs": [],
   "source": [
    "Y = apply_transform(varr_ref, motion, fill=0)"
   ]
  },
  {
   "cell_type": "markdown",
   "metadata": {},
   "source": [
    "### Save result"
   ]
  },
  {
   "cell_type": "code",
   "execution_count": null,
   "metadata": {},
   "outputs": [],
   "source": [
    "%%time\n",
    "Y_fm_chk = save_minian(Y.astype(float).rename(\"Y_fm_chk\"), intpath, overwrite=True)\n",
    "Y_hw_chk = save_minian(\n",
    "    Y_fm_chk.rename(\"Y_hw_chk\"),  \n",
    "    intpath,\n",
    "    overwrite=True,\n",
    "    chunks={\"frame\": -1, \"height\": chk[\"height\"], \"width\": chk[\"width\"]},\n",
    ")"
   ]
  },
  {
   "cell_type": "markdown",
   "metadata": {},
   "source": [
    "### Visualization of motion-correction"
   ]
  },
  {
   "cell_type": "code",
   "execution_count": null,
   "metadata": {
    "tags": []
   },
   "outputs": [],
   "source": [
    "if interactive:\n",
    "    hv.output(size=int(output_size * 0.7))\n",
    "    vaviewer = VArrayViewer(\n",
    "        [varr_ref.rename(\"before_mc\"), Y_fm_chk.rename(\"after_mc\")],\n",
    "        framerate=5,\n",
    "        summary=None,\n",
    "        layout=True,\n",
    "    )\n",
    "    display(vaviewer.show())"
   ]
  },
  {
   "cell_type": "markdown",
   "metadata": {},
   "source": [
    "### Generate video for motion-correction"
   ]
  },
  {
   "cell_type": "code",
   "execution_count": null,
   "metadata": {},
   "outputs": [],
   "source": [
    "%%time\n",
    "vid_arr = xr.concat([varr_ref, Y_fm_chk], \"width\").chunk({\"width\": -1})\n",
    "if interactive:\n",
    "    write_video(Y_fm_chk, \"minian_mc.mp4\", dpath)"
   ]
  },
  {
   "cell_type": "markdown",
   "metadata": {
    "tags": []
   },
   "source": [
    "## Initialisation "
   ]
  },
  {
   "cell_type": "markdown",
   "metadata": {
    "tags": []
   },
   "source": [
    "### Compute maximal projection"
   ]
  },
  {
   "cell_type": "code",
   "execution_count": null,
   "metadata": {},
   "outputs": [],
   "source": [
    "max_proj = save_minian(\n",
    "    Y_fm_chk.max(\"frame\").rename(\"max_proj\"), **param_save_minian\n",
    ").compute()"
   ]
  },
  {
   "cell_type": "markdown",
   "metadata": {
    "tags": []
   },
   "source": [
    "### Generating seeds"
   ]
  },
  {
   "cell_type": "code",
   "execution_count": null,
   "metadata": {},
   "outputs": [],
   "source": [
    "param_seeds_init"
   ]
  },
  {
   "cell_type": "code",
   "execution_count": null,
   "metadata": {},
   "outputs": [],
   "source": [
    "%%time\n",
    "seeds = seeds_init(Y_fm_chk, **param_seeds_init)"
   ]
  },
  {
   "cell_type": "code",
   "execution_count": null,
   "metadata": {},
   "outputs": [],
   "source": [
    "if interactive:\n",
    "    seeds"
   ]
  },
  {
   "cell_type": "code",
   "execution_count": null,
   "metadata": {},
   "outputs": [],
   "source": [
    "if interactive:\n",
    "    hv.output(size=output_size)\n",
    "    visualize_seeds(max_proj, seeds)"
   ]
  },
  {
   "cell_type": "code",
   "execution_count": null,
   "metadata": {},
   "outputs": [],
   "source": [
    "%%time\n",
    "if interactive:\n",
    "    noise_freq_list = [0.005, 0.01, 0.02, 0.06, 0.1, 0.2, 0.3, 0.45, 0.6, 0.8]\n",
    "    example_seeds = seeds.sample(6, axis=\"rows\")\n",
    "    example_trace = Y_hw_chk.sel(\n",
    "        height=example_seeds[\"height\"].to_xarray(),\n",
    "        width=example_seeds[\"width\"].to_xarray(),\n",
    "    ).rename(**{\"index\": \"seed\"})\n",
    "    smooth_dict = dict()\n",
    "    for freq in noise_freq_list:\n",
    "        trace_smth_low = smooth_sig(example_trace, freq)\n",
    "        trace_smth_high = smooth_sig(example_trace, freq, btype=\"high\")\n",
    "        trace_smth_low = trace_smth_low.compute()\n",
    "        trace_smth_high = trace_smth_high.compute()\n",
    "        hv_trace = hv.HoloMap(\n",
    "            {\n",
    "                \"signal\": (\n",
    "                    hv.Dataset(trace_smth_low)\n",
    "                    .to(hv.Curve, kdims=[\"frame\"])\n",
    "                    .opts(frame_width=300, aspect=2, ylabel=\"Signal (A.U.)\")\n",
    "                ),\n",
    "                \"noise\": (\n",
    "                    hv.Dataset(trace_smth_high)\n",
    "                    .to(hv.Curve, kdims=[\"frame\"])\n",
    "                    .opts(frame_width=300, aspect=2, ylabel=\"Signal (A.U.)\")\n",
    "                ),\n",
    "            },\n",
    "            kdims=\"trace\",\n",
    "        ).collate()\n",
    "        smooth_dict[freq] = hv_trace"
   ]
  },
  {
   "cell_type": "code",
   "execution_count": null,
   "metadata": {},
   "outputs": [],
   "source": [
    "if interactive:\n",
    "    hv.output(size=int(output_size * 0.9))\n",
    "    hv_res = (\n",
    "        hv.HoloMap(smooth_dict, kdims=[\"noise_freq\"])\n",
    "        .collate()\n",
    "        .opts(aspect=2)\n",
    "        .overlay(\"trace\")\n",
    "        .layout(\"seed\")\n",
    "        .cols(3)\n",
    "    )\n",
    "    display(hv_res)"
   ]
  },
  {
   "cell_type": "code",
   "execution_count": null,
   "metadata": {},
   "outputs": [],
   "source": [
    "#param_pnr_refine = {\"noise_freq\": 0.02, \"thres\": 1}\n",
    "param_pnr_refine\n"
   ]
  },
  {
   "cell_type": "markdown",
   "metadata": {
    "tags": []
   },
   "source": [
    "### Noise refined \n",
    "here there is possibility to visualise to refine param_pnr_refine but noise_freq = 0.06 is generally fine"
   ]
  },
  {
   "cell_type": "code",
   "execution_count": null,
   "metadata": {},
   "outputs": [],
   "source": [
    "%%time\n",
    "seeds, pnr, gmm = pnr_refine(Y_hw_chk, seeds, **param_pnr_refine)"
   ]
  },
  {
   "cell_type": "code",
   "execution_count": null,
   "metadata": {},
   "outputs": [],
   "source": [
    "if interactive:\n",
    "    seeds"
   ]
  },
  {
   "cell_type": "code",
   "execution_count": null,
   "metadata": {},
   "outputs": [],
   "source": [
    "if interactive:\n",
    "    if gmm:\n",
    "        display(visualize_gmm_fit(pnr, gmm, 100))\n",
    "    else:\n",
    "        print(\"nothing to show\")\n",
    "\n"
   ]
  },
  {
   "cell_type": "code",
   "execution_count": null,
   "metadata": {},
   "outputs": [],
   "source": [
    "if interactive:\n",
    "    hv.output(size=output_size)\n",
    "    visualize_seeds(max_proj, seeds, \"mask_pnr\")"
   ]
  },
  {
   "cell_type": "markdown",
   "metadata": {
    "tags": []
   },
   "source": [
    "### Refine using KS test to look at bimodal distribution"
   ]
  },
  {
   "cell_type": "code",
   "execution_count": null,
   "metadata": {},
   "outputs": [],
   "source": [
    "param_ks_refine"
   ]
  },
  {
   "cell_type": "code",
   "execution_count": null,
   "metadata": {},
   "outputs": [],
   "source": [
    "%%time\n",
    "seeds = ks_refine(Y_hw_chk, seeds, **param_ks_refine)"
   ]
  },
  {
   "cell_type": "code",
   "execution_count": null,
   "metadata": {},
   "outputs": [],
   "source": [
    "if interactive:\n",
    "    hv.output(size=output_size)\n",
    "    visualize_seeds(max_proj, seeds, \"mask_ks\")"
   ]
  },
  {
   "cell_type": "markdown",
   "metadata": {
    "tags": []
   },
   "source": [
    "### Merge seeds"
   ]
  },
  {
   "cell_type": "code",
   "execution_count": null,
   "metadata": {},
   "outputs": [],
   "source": [
    "param_seeds_merge"
   ]
  },
  {
   "cell_type": "code",
   "execution_count": null,
   "metadata": {},
   "outputs": [],
   "source": [
    "%%time\n",
    "seeds_final = seeds[seeds[\"mask_ks\"] & seeds[\"mask_pnr\"]].reset_index(drop=True)\n",
    "seeds_final = seeds_merge(Y_hw_chk, max_proj, seeds_final, **param_seeds_merge)\n",
    "print(\"{} units found\".format(seeds_final[\"mask_mrg\"].count()))"
   ]
  },
  {
   "cell_type": "code",
   "execution_count": null,
   "metadata": {},
   "outputs": [],
   "source": [
    "hv.output(size=output_size)\n",
    "visualize_seeds(max_proj, seeds_final, \"mask_mrg\")"
   ]
  },
  {
   "cell_type": "markdown",
   "metadata": {
    "tags": []
   },
   "source": [
    "### Initialise spatial matrix"
   ]
  },
  {
   "cell_type": "code",
   "execution_count": null,
   "metadata": {},
   "outputs": [],
   "source": [
    "param_initialize"
   ]
  },
  {
   "cell_type": "code",
   "execution_count": null,
   "metadata": {},
   "outputs": [],
   "source": [
    "%%time\n",
    "A_init = initA(Y_hw_chk, seeds_final[seeds_final[\"mask_mrg\"]], **param_initialize)\n",
    "A_init = save_minian(A_init.rename(\"A_init\"), intpath, overwrite=True)"
   ]
  },
  {
   "cell_type": "markdown",
   "metadata": {
    "tags": []
   },
   "source": [
    "### Initialise temporal matrix"
   ]
  },
  {
   "cell_type": "code",
   "execution_count": null,
   "metadata": {},
   "outputs": [],
   "source": [
    "%%time\n",
    "C_init = initC(Y_fm_chk, A_init)\n",
    "C_init = save_minian(\n",
    "    C_init.rename(\"C_init\"), intpath, overwrite=True, chunks={\"unit_id\": 1, \"frame\": -1}\n",
    ")"
   ]
  },
  {
   "cell_type": "markdown",
   "metadata": {
    "tags": []
   },
   "source": [
    "### Merge unit"
   ]
  },
  {
   "cell_type": "code",
   "execution_count": null,
   "metadata": {},
   "outputs": [],
   "source": [
    "param_init_merge"
   ]
  },
  {
   "cell_type": "code",
   "execution_count": null,
   "metadata": {},
   "outputs": [],
   "source": [
    "%%time\n",
    "A_merged, C_merged = unit_merge(A_init, C_init, **param_init_merge)\n",
    "A_merged = save_minian(A_merged.rename(\"A\"), intpath, overwrite=True)\n",
    "C_merged = save_minian(C_merged.rename(\"C\"), intpath, overwrite=True)\n",
    "C_chk_merged = save_minian(\n",
    "    C_merged.rename(\"C_chk\"),\n",
    "    intpath,\n",
    "    overwrite=True,\n",
    "    chunks={\"unit_id\": -1, \"frame\": chk[\"frame\"]},\n",
    ")"
   ]
  },
  {
   "cell_type": "markdown",
   "metadata": {
    "tags": []
   },
   "source": [
    "### Initialise background terms"
   ]
  },
  {
   "cell_type": "code",
   "execution_count": null,
   "metadata": {},
   "outputs": [],
   "source": [
    "%%time\n",
    "b_init, f_init = update_background(Y_fm_chk, A_merged, C_chk_merged)\n",
    "f_init = save_minian(f_init.rename(\"f\"), intpath, overwrite=True)\n",
    "b_init = save_minian(b_init.rename(\"b\"), intpath, overwrite=True)"
   ]
  },
  {
   "cell_type": "markdown",
   "metadata": {},
   "source": [
    "## CNMF"
   ]
  },
  {
   "cell_type": "markdown",
   "metadata": {},
   "source": [
    "### Estimate spatial noise"
   ]
  },
  {
   "cell_type": "code",
   "execution_count": null,
   "metadata": {},
   "outputs": [],
   "source": [
    "param_get_noise"
   ]
  },
  {
   "cell_type": "code",
   "execution_count": null,
   "metadata": {},
   "outputs": [],
   "source": [
    "%%time\n",
    "sn_spatial = get_noise_fft(Y_hw_chk, **param_get_noise)\n",
    "sn_spatial = save_minian(sn_spatial.rename(\"sn_spatial\"), intpath, overwrite=True)"
   ]
  },
  {
   "cell_type": "markdown",
   "metadata": {},
   "source": [
    "### First spatial update"
   ]
  },
  {
   "cell_type": "markdown",
   "metadata": {},
   "source": [
    "#### Randomly select a subset of units for exploration"
   ]
  },
  {
   "cell_type": "code",
   "execution_count": null,
   "metadata": {
    "tags": []
   },
   "outputs": [],
   "source": [
    "if interactive:\n",
    "    unitsSub = np.random.choice(A_merged.coords[\"unit_id\"], 10, replace=False)\n",
    "    unitsSub.sort()\n",
    "    A_sub = A_merged.sel(unit_id=unitsSub).persist()\n",
    "    C_sub = C_merged.sel(unit_id=unitsSub).persist()"
   ]
  },
  {
   "cell_type": "markdown",
   "metadata": {},
   "source": [
    "#### Parameter exploration\n",
    "Here is the only interactive mandatory step to adjust sparse penalty [generally set between 0.01 and 0.02]\n",
    "> **WARNING** \n",
    "> **Be very careful here!**: The parameter displayed isn't necessarily the one used"
   ]
  },
  {
   "cell_type": "code",
   "execution_count": null,
   "metadata": {},
   "outputs": [],
   "source": [
    "%%time\n",
    "if interactive:\n",
    "    sprs_ls = [ 0.01, 0.05, 0.1, 0.5]\n",
    "    A_dict = dict()\n",
    "    C_dict = dict()\n",
    "    for cur_sprs in sprs_ls:\n",
    "        cur_A, cur_mask, cur_norm = update_spatial(\n",
    "            Y_hw_chk,\n",
    "            A_sub,\n",
    "            C_sub,\n",
    "            sn_spatial,\n",
    "            in_memory=True,\n",
    "            dl_wnd=param_first_spatial[\"dl_wnd\"],\n",
    "            sparse_penal=cur_sprs,\n",
    "        )\n",
    "        if cur_A.sizes[\"unit_id\"]:\n",
    "            A_dict[cur_sprs] = cur_A.compute()\n",
    "            C_dict[cur_sprs] = C_sub.sel(unit_id=cur_mask).compute()\n",
    "    hv_res = visualize_spatial_update(A_dict, C_dict, kdims=[\"sparse penalty\"])\n",
    "    display(hv_res)"
   ]
  },
  {
   "cell_type": "markdown",
   "metadata": {},
   "source": [
    "#### Spatial updates"
   ]
  },
  {
   "cell_type": "code",
   "execution_count": null,
   "metadata": {},
   "outputs": [],
   "source": [
    "param_first_spatial\n"
   ]
  },
  {
   "cell_type": "code",
   "execution_count": null,
   "metadata": {},
   "outputs": [],
   "source": [
    "%%time\n",
    "A_firstS, mask_firstS, norm_fac_firstS = update_spatial(\n",
    "    Y_hw_chk, A_merged, C_merged, sn_spatial, **param_first_spatial\n",
    ")\n",
    "C_firstS = save_minian(\n",
    "    (C_merged.sel(unit_id=mask_firstS) * norm_fac_firstS).rename(\"C_new\"), intpath, overwrite=True\n",
    ")\n",
    "C_chk_firstS = save_minian(\n",
    "    (C_chk_merged.sel(unit_id=mask_firstS) * norm_fac_firstS).rename(\"C_chk_new\"), intpath, overwrite=True\n",
    ")"
   ]
  },
  {
   "cell_type": "markdown",
   "metadata": {},
   "source": [
    "#### Background updates"
   ]
  },
  {
   "cell_type": "code",
   "execution_count": null,
   "metadata": {},
   "outputs": [],
   "source": [
    "%%time\n",
    "b_firstS, f_firstS = update_background(Y_fm_chk, A_firstS, C_chk_firstS)"
   ]
  },
  {
   "cell_type": "markdown",
   "metadata": {},
   "source": [
    "#### visualization of spatial footprints"
   ]
  },
  {
   "cell_type": "code",
   "execution_count": null,
   "metadata": {
    "tags": []
   },
   "outputs": [],
   "source": [
    "if interactive:\n",
    "    hv.output(size=int(output_size * 0.6))\n",
    "    opts = dict(height=A_merged.sizes[\"height\"], width=A_merged.sizes[\"width\"], colorbar=True, cmap=\"Viridis\"\n",
    "        )\n",
    "    (\n",
    "        regrid(\n",
    "            hv.Image(\n",
    "                A_merged.max(\"unit_id\").compute().astype(np.float32).rename(\"A\"),\n",
    "                kdims=[\"width\", \"height\"],\n",
    "            ).opts(**opts)\n",
    "        ).relabel(\"Spatial Footprints Initial\")\n",
    "        + regrid(\n",
    "            hv.Image(\n",
    "                (A_merged.fillna(0) > 0).sum(\"unit_id\").compute().astype(np.uint8).rename(\"A\"),\n",
    "                kdims=[\"width\", \"height\"],\n",
    "            ).opts(**opts)\n",
    "        ).relabel(\"Binary Spatial Footprints Initial\")\n",
    "        + regrid(\n",
    "            hv.Image(\n",
    "                A_firstS.max(\"unit_id\").compute().astype(np.float32).rename(\"A\"),\n",
    "                kdims=[\"width\", \"height\"],\n",
    "            ).opts(**opts)\n",
    "        ).relabel(\"Spatial Footprints First Update\")\n",
    "        + regrid(\n",
    "            hv.Image(\n",
    "                (A_firstS > 0).sum(\"unit_id\").compute().astype(np.uint8).rename(\"A\"),\n",
    "                kdims=[\"width\", \"height\"],\n",
    "            ).opts(**opts)\n",
    "        ).relabel(\"Binary Spatial Footprints First Update\")\n",
    "    ).cols(2)"
   ]
  },
  {
   "cell_type": "markdown",
   "metadata": {},
   "source": [
    "#### visualization of background"
   ]
  },
  {
   "cell_type": "code",
   "execution_count": null,
   "metadata": {
    "tags": []
   },
   "outputs": [],
   "source": [
    "if interactive:\n",
    "    hv.output(size=int(output_size * 0.55))\n",
    "    opts_im = dict(height=b_init.sizes[\"height\"], width=b_init.sizes[\"width\"], colorbar=True,cmap=\"Viridis\"\n",
    "    )\n",
    "    opts_cr = dict(height=b_init.sizes[\"height\"], width=b_init.sizes[\"height\"] * 2)\n",
    "    (\n",
    "        regrid(\n",
    "            hv.Image(b_init.compute().astype(np.float32), kdims=[\"width\", \"height\"]).opts(\n",
    "                **opts_im\n",
    "            )\n",
    "        ).relabel(\"Background Spatial Initial\")\n",
    "        + hv.Curve(f_init.compute().rename(\"f\").astype(np.float16), kdims=[\"frame\"])\n",
    "        .opts(**opts_cr)\n",
    "        .relabel(\"Background Temporal Initial\")\n",
    "        + regrid(\n",
    "            hv.Image(b_firstS.compute().astype(np.float32), kdims=[\"width\", \"height\"]).opts(\n",
    "                **opts_im\n",
    "            )\n",
    "        ).relabel(\"Background Spatial First Update\")\n",
    "        + hv.Curve(f_firstS.compute().rename(\"f\").astype(np.float16), kdims=[\"frame\"])\n",
    "        .opts(**opts_cr)\n",
    "        .relabel(\"Background Temporal First Update\")\n",
    "    ).cols(2)"
   ]
  },
  {
   "cell_type": "markdown",
   "metadata": {},
   "source": [
    "#### Save results first spatial update"
   ]
  },
  {
   "cell_type": "code",
   "execution_count": null,
   "metadata": {},
   "outputs": [],
   "source": [
    "%%time\n",
    "A_firstS = save_minian(\n",
    "    A_firstS.rename(\"A\"),\n",
    "    intpath,\n",
    "    overwrite=True,\n",
    "    chunks={\"unit_id\": 1, \"height\": -1, \"width\": -1},\n",
    ")\n",
    "b_firstS = save_minian(b_firstS.rename(\"b\"), intpath, overwrite=True)\n",
    "f_firstS = save_minian(\n",
    "    f_firstS.chunk({\"frame\": chk[\"frame\"]}).rename(\"f\"), intpath, overwrite=True\n",
    ")\n",
    "C_firstS = save_minian(C_firstS.rename(\"C\"), intpath, overwrite=True)\n",
    "C_chk_firstS = save_minian(C_chk_firstS.rename(\"C_chk\"), intpath, overwrite=True)"
   ]
  },
  {
   "cell_type": "markdown",
   "metadata": {
    "tags": []
   },
   "source": [
    "### First temporal update"
   ]
  },
  {
   "cell_type": "markdown",
   "metadata": {},
   "source": [
    "#### Randomly select a subset of units for exploration"
   ]
  },
  {
   "cell_type": "code",
   "execution_count": null,
   "metadata": {
    "tags": []
   },
   "outputs": [],
   "source": [
    "if interactive:\n",
    "    unitsSub = np.random.choice(A_firstS.coords[\"unit_id\"], 10, replace=False)\n",
    "    unitsSub.sort()\n",
    "    A_sub = A_firstS.sel(unit_id=unitsSub).persist()\n",
    "    C_sub = C_firstS.sel(unit_id=unitsSub).persist()"
   ]
  },
  {
   "cell_type": "markdown",
   "metadata": {},
   "source": [
    "#### Parameter exploration\n",
    "Here is the only interactive mandatory step to adjust sparse penalty [generally set between 0.01 and 0.02]\n",
    "> **WARNING** \n",
    "> **Be very careful here!**: The parameter displayed isn't necessarily the one used"
   ]
  },
  {
   "cell_type": "code",
   "execution_count": null,
   "metadata": {
    "tags": []
   },
   "outputs": [],
   "source": [
    "%%time\n",
    "%env SPARSE_AUTO_DENSIFY=1\n",
    "\n",
    "sprs_ls = [ 0.01, 0.05, 0.1, 0.5]\n",
    "A_dict, C_dict = [dict() for _ in range(2)]\n",
    "\n",
    "if interactive:\n",
    "    p_ls = [1]\n",
    "    add_ls = [20]\n",
    "    noise_ls = [0.06]\n",
    "    YA_dict, S_dict, g_dict, sig_dict = [dict() for _ in range(4)]\n",
    "    YrA = (\n",
    "        compute_trace(Y_fm_chk, A_sub, b_firstS, C_sub, f_firstS)\n",
    "        .persist()\n",
    "        .chunk({\"unit_id\": 1, \"frame\": -1})\n",
    "    )\n",
    "    for cur_p, cur_sprs, cur_add, cur_noise in itt.product(\n",
    "        p_ls, sprs_ls, add_ls, noise_ls\n",
    "    ):\n",
    "        ks = (cur_p, cur_sprs, cur_add, cur_noise)\n",
    "        print(\n",
    "            \"p:{}, sparse penalty:{}, additional lag:{}, noise frequency:{}\".format(\n",
    "                cur_p, cur_sprs, cur_add, cur_noise\n",
    "            )\n",
    "        )\n",
    "        cur_C, cur_S, cur_b0, cur_c0, cur_g, cur_mask = update_temporal(\n",
    "            A_sub,\n",
    "            C_sub,\n",
    "            YrA=YrA,\n",
    "            sparse_penal=cur_sprs,\n",
    "            p=cur_p,\n",
    "            use_smooth=True,\n",
    "            add_lag=cur_add,\n",
    "            noise_freq=cur_noise,\n",
    "        )\n",
    "        YA_dict[ks], C_dict[ks], S_dict[ks], g_dict[ks], sig_dict[ks], A_dict[ks] = (\n",
    "            YrA.compute(),\n",
    "            cur_C.compute(),\n",
    "            cur_S.compute(),\n",
    "            cur_g.compute(),\n",
    "            (cur_C + cur_b0 + cur_c0).compute(),\n",
    "            A_sub.compute(),\n",
    "        )\n",
    "    hv_res = visualize_temporal_update(\n",
    "        YA_dict,\n",
    "        C_dict,\n",
    "        S_dict,\n",
    "        g_dict,\n",
    "        sig_dict,\n",
    "        A_dict,\n",
    "        kdims=[\"p\", \"sparse penalty\", \"additional lag\", \"noise frequency\"],\n",
    "    )\n",
    "else:\n",
    "    \n",
    "    for cur_sprs in sprs_ls:\n",
    "        cur_A, cur_mask, cur_norm = update_spatial(\n",
    "            Y_hw_chk,\n",
    "            A_sub,\n",
    "            C_sub,\n",
    "            sn_spatial,\n",
    "            in_memory=True,\n",
    "            dl_wnd=param_first_spatial[\"dl_wnd\"],\n",
    "            sparse_penal=cur_sprs,\n",
    "        )\n",
    "        if cur_A.sizes[\"unit_id\"]:\n",
    "            A_dict[cur_sprs] = cur_A.compute()\n",
    "            C_dict[cur_sprs] = C_sub.sel(unit_id=cur_mask).compute()\n",
    "    hv_res = visualize_spatial_update(A_dict, C_dict, kdims=[\"sparse penalty\"])\n",
    "\n",
    "display(hv_res)"
   ]
  },
  {
   "cell_type": "code",
   "execution_count": null,
   "metadata": {},
   "outputs": [],
   "source": [
    "if interactive:\n",
    "    hv.output(size=int(output_size * 0.55))\n",
    "    opts_im = dict(height=b_init.sizes[\"height\"], width=b_init.sizes[\"width\"], colorbar=True,cmap=\"Viridis\"\n",
    "    )\n",
    "    opts_cr = dict(height=b_init.sizes[\"height\"], width=b_init.sizes[\"height\"] * 2)\n",
    "    (\n",
    "        regrid(\n",
    "            hv.Image(b_init.compute().astype(np.float32), kdims=[\"width\", \"height\"]).opts(\n",
    "                **opts_im\n",
    "            )\n",
    "        ).relabel(\"Background Spatial Initial\")\n",
    "        + hv.Curve(f_init.compute().rename(\"f\").astype(np.float16), kdims=[\"frame\"])\n",
    "        .opts(**opts_cr)\n",
    "        .relabel(\"Background Temporal Initial\")\n",
    "        + regrid(\n",
    "            hv.Image(b_firstS.compute().astype(np.float32), kdims=[\"width\", \"height\"]).opts(\n",
    "                **opts_im\n",
    "            )\n",
    "        ).relabel(\"Background Spatial First Update\")\n",
    "        + hv.Curve(f_firstS.compute().rename(\"f\").astype(np.float16), kdims=[\"frame\"])\n",
    "        .opts(**opts_cr)\n",
    "        .relabel(\"Background Temporal First Update\")\n",
    "    ).cols(2)"
   ]
  },
  {
   "cell_type": "markdown",
   "metadata": {
    "tags": []
   },
   "source": [
    "#### Temporal update"
   ]
  },
  {
   "cell_type": "code",
   "execution_count": null,
   "metadata": {
    "tags": []
   },
   "outputs": [],
   "source": [
    "%%time\n",
    "YrA_firstT = save_minian(\n",
    "    compute_trace(Y_fm_chk, A_firstS, b_firstS, C_chk_firstS, f_firstS).rename(\"YrA\"),\n",
    "    intpath,\n",
    "    overwrite=True,\n",
    "    chunks={\"unit_id\": 1, \"frame\": -1},\n",
    ")"
   ]
  },
  {
   "cell_type": "code",
   "execution_count": null,
   "metadata": {},
   "outputs": [],
   "source": [
    "param_first_temporal"
   ]
  },
  {
   "cell_type": "code",
   "execution_count": null,
   "metadata": {
    "tags": []
   },
   "outputs": [],
   "source": [
    "%%time\n",
    "C_firstT, S_firstT, b0_firstT, c0_firstT, g_firstT, mask_firstT = update_temporal(\n",
    "    A_firstS, C_firstS, YrA=YrA_firstT, **param_first_temporal\n",
    ")"
   ]
  },
  {
   "cell_type": "markdown",
   "metadata": {},
   "source": [
    "#### Visualization of temporal components"
   ]
  },
  {
   "cell_type": "code",
   "execution_count": null,
   "metadata": {
    "tags": []
   },
   "outputs": [],
   "source": [
    "if interactive:\n",
    "    hv.output(size=int(output_size * 0.6))\n",
    "    opts_im = dict(frame_width=500, aspect=2, colorbar=True, cmap=\"Viridis\")\n",
    "    (\n",
    "        regrid(\n",
    "            hv.Image(\n",
    "                C_firstS.compute().astype(np.float32).rename(\"ci\"), kdims=[\"frame\", \"unit_id\"]\n",
    "            ).opts(**opts_im)\n",
    "        ).relabel(\"Temporal Trace Initial\")\n",
    "        + hv.Div(\"\")\n",
    "        + regrid(\n",
    "            hv.Image(\n",
    "                C_firstT.compute().astype(np.float32).rename(\"c1\"), kdims=[\"frame\", \"unit_id\"]\n",
    "            ).opts(**opts_im)\n",
    "        ).relabel(\"Temporal Trace First Update\")\n",
    "        + regrid(\n",
    "            hv.Image(\n",
    "                S_firstT.compute().astype(np.float32).rename(\"s1\"), kdims=[\"frame\", \"unit_id\"]\n",
    "            ).opts(**opts_im)\n",
    "        ).relabel(\"Spikes First Update\")\n",
    "    ).cols(2)"
   ]
  },
  {
   "cell_type": "markdown",
   "metadata": {},
   "source": [
    "#### Visualization of dropped units"
   ]
  },
  {
   "cell_type": "code",
   "execution_count": null,
   "metadata": {
    "tags": []
   },
   "outputs": [],
   "source": [
    "if interactive:\n",
    "    hv.output(size=int(output_size * 0.6))\n",
    "    h, w = A_firstS.sizes[\"height\"], A_firstS.sizes[\"width\"]\n",
    "    im_opts = dict(aspect=w / h, frame_width=500, cmap=\"Viridis\")\n",
    "    cr_opts = dict(aspect=3, frame_width=1000)\n",
    "    bad_units = mask_firstT.where(mask_firstT == False, drop=True).coords[\"unit_id\"].values\n",
    "    print(str(len(bad_units)), \"dropped units\")\n",
    "    if len(bad_units) > 0:\n",
    "        hv_res = (\n",
    "            hv.NdLayout(\n",
    "                {\n",
    "                    \"Spatial Footprint\": Dynamic(\n",
    "                        hv.Dataset(A_firstS.sel(unit_id=bad_units).compute().rename(\"A\"))\n",
    "                        .to(hv.Image, kdims=[\"width\", \"height\"])\n",
    "                        .opts(**im_opts)\n",
    "                    ),\n",
    "                    \"Spatial Footprints of dropped Units\": Dynamic(\n",
    "                        hv.Image(\n",
    "                            A_firstS.sel(unit_id=bad_units).sum(\"unit_id\").compute().rename(\"A\"),\n",
    "                            kdims=[\"width\", \"height\"],\n",
    "                        ).opts(**im_opts)\n",
    "                    ),\n",
    "                }\n",
    "            )\n",
    "            + datashade(\n",
    "                hv.Dataset(YrA_firstT.sel(unit_id=bad_units).rename(\"raw\")).to(\n",
    "                    hv.Curve, kdims=[\"frame\"]\n",
    "                )\n",
    "            )\n",
    "            .opts(**cr_opts)\n",
    "            .relabel(\"Temporal Trace\")\n",
    "        ).cols(1)\n",
    "        display(hv_res)\n",
    "    else:\n",
    "        print(\"No rejected units to display\")"
   ]
  },
  {
   "cell_type": "markdown",
   "metadata": {},
   "source": [
    "#### Visualization of accepted units"
   ]
  },
  {
   "cell_type": "code",
   "execution_count": null,
   "metadata": {
    "tags": []
   },
   "outputs": [],
   "source": [
    "if interactive:\n",
    "    hv.output(size=int(output_size * 0.6))\n",
    "    print(str(len(A_firstS)), \"accepted units\")\n",
    "    sig = C_firstT + b0_firstT + c0_firstT\n",
    "    hv_res = visualize_temporal_update(\n",
    "            YrA_firstT.sel(unit_id=mask_firstT),\n",
    "            C_firstT,\n",
    "            S_firstT,\n",
    "            g_firstT,\n",
    "            sig,\n",
    "            A_firstS.sel(unit_id=mask_firstT),\n",
    "        )\n",
    "    display(hv_res)\n",
    "    \n"
   ]
  },
  {
   "cell_type": "markdown",
   "metadata": {},
   "source": [
    "#### Save results"
   ]
  },
  {
   "cell_type": "code",
   "execution_count": null,
   "metadata": {},
   "outputs": [],
   "source": [
    "%%time\n",
    "C_firstT = save_minian(\n",
    "    C_firstT.rename(\"C\").chunk({\"unit_id\": 1, \"frame\": -1}), intpath, overwrite=True\n",
    ")\n",
    "C_chk_firstT = save_minian(\n",
    "    C_firstT.rename(\"C_chk\"),\n",
    "    intpath,\n",
    "    overwrite=True,\n",
    "    chunks={\"unit_id\": -1, \"frame\": chk[\"frame\"]},\n",
    ")\n",
    "S_firstT = save_minian(\n",
    "    S_firstT.rename(\"S\").chunk({\"unit_id\": 1, \"frame\": -1}), intpath, overwrite=True\n",
    ")\n",
    "b0_firstT = save_minian(\n",
    "    b0_firstT.rename(\"b0\").chunk({\"unit_id\": 1, \"frame\": -1}), intpath, overwrite=True\n",
    ")\n",
    "c0_firstT = save_minian(\n",
    "    c0_firstT.rename(\"c0\").chunk({\"unit_id\": 1, \"frame\": -1}), intpath, overwrite=True\n",
    ")\n",
    "A_firstT = A_firstS.sel(unit_id=C_firstT.coords[\"unit_id\"].values)"
   ]
  },
  {
   "cell_type": "markdown",
   "metadata": {
    "tags": [],
    "toc-hr-collapsed": true
   },
   "source": [
    "### Merge units"
   ]
  },
  {
   "cell_type": "code",
   "execution_count": null,
   "metadata": {},
   "outputs": [],
   "source": [
    "param_first_merge"
   ]
  },
  {
   "cell_type": "code",
   "execution_count": null,
   "metadata": {},
   "outputs": [],
   "source": [
    "%%time\n",
    "A_mrg, C_mrg, [sig_mrg] = unit_merge(A_firstT, C_firstT, [C_firstT + b0_firstT + c0_firstT], **param_first_merge)"
   ]
  },
  {
   "cell_type": "markdown",
   "metadata": {},
   "source": [
    "#### Save merged units"
   ]
  },
  {
   "cell_type": "code",
   "execution_count": null,
   "metadata": {},
   "outputs": [],
   "source": [
    "%%time\n",
    "A_mrg = save_minian(A_mrg.rename(\"A_mrg\"), intpath, overwrite=True)\n",
    "C_mrg = save_minian(C_mrg.rename(\"C_mrg\"), intpath, overwrite=True)\n",
    "C_chk_mrg = save_minian(\n",
    "    C_mrg.rename(\"C_mrg_chk\"),\n",
    "    intpath,\n",
    "    overwrite=True,\n",
    "    chunks={\"unit_id\": -1, \"frame\": chk[\"frame\"]},\n",
    ")\n",
    "sig_mrg = save_minian(sig_mrg.rename(\"sig_mrg\"), intpath, overwrite=True)"
   ]
  },
  {
   "cell_type": "markdown",
   "metadata": {},
   "source": [
    "### Second spatial and temporal updates"
   ]
  },
  {
   "cell_type": "markdown",
   "metadata": {
    "tags": []
   },
   "source": [
    "#### Spatial update\n",
    "Generally not much happens at that stage."
   ]
  },
  {
   "cell_type": "code",
   "execution_count": null,
   "metadata": {},
   "outputs": [],
   "source": [
    "param_second_spatial#={'dl_wnd': 10, 'sparse_penal': 0.01, 'size_thres': (10, None)}"
   ]
  },
  {
   "cell_type": "code",
   "execution_count": null,
   "metadata": {},
   "outputs": [],
   "source": [
    "%%time\n",
    "A_secS, mask_secS, norm_fac_secS = update_spatial(\n",
    "    Y_hw_chk, A_mrg, C_mrg, sn_spatial, **param_second_spatial\n",
    ")\n",
    "C_secS = save_minian(\n",
    "    (C_mrg.sel(unit_id=mask_secS) * norm_fac_secS).rename(\"C_new\"), intpath, overwrite=True\n",
    ")\n",
    "C_chk_secS = save_minian(\n",
    "    (C_chk_mrg.sel(unit_id=mask_secS) * norm_fac_secS).rename(\"C_chk_new\"), intpath, overwrite=True\n",
    ")"
   ]
  },
  {
   "cell_type": "markdown",
   "metadata": {
    "tags": []
   },
   "source": [
    "#### Update background"
   ]
  },
  {
   "cell_type": "code",
   "execution_count": null,
   "metadata": {},
   "outputs": [],
   "source": [
    "%%time\n",
    "b_secS, f_secS = update_background(Y_fm_chk, A_secS, C_chk_secS)"
   ]
  },
  {
   "cell_type": "markdown",
   "metadata": {
    "tags": []
   },
   "source": [
    "#### Save spatial update"
   ]
  },
  {
   "cell_type": "code",
   "execution_count": null,
   "metadata": {},
   "outputs": [],
   "source": [
    "%%time\n",
    "A_secS = save_minian(\n",
    "    A_secS.rename(\"A\"),\n",
    "    intpath,\n",
    "    overwrite=True,\n",
    "    chunks={\"unit_id\": 1, \"height\": -1, \"width\": -1},\n",
    ")\n",
    "b_secS = save_minian(b_secS.rename(\"b\"), intpath, overwrite=True)\n",
    "f_secS = save_minian(\n",
    "    f_secS.chunk({\"frame\": chk[\"frame\"]}).rename(\"f\"), intpath, overwrite=True\n",
    ")\n",
    "C_secS = save_minian(C_secS.rename(\"C\"), intpath, overwrite=True)\n",
    "C_chk_secS = save_minian(C_chk_secS.rename(\"C_chk\"), intpath, overwrite=True)"
   ]
  },
  {
   "cell_type": "markdown",
   "metadata": {},
   "source": [
    "#### Second temporal update"
   ]
  },
  {
   "cell_type": "code",
   "execution_count": null,
   "metadata": {},
   "outputs": [],
   "source": [
    "%%time\n",
    "YrA_secT = save_minian(\n",
    "    compute_trace(Y_fm_chk, A_secS, b_secS, C_chk_secS, f_secS).rename(\"YrA\"),\n",
    "    intpath,\n",
    "    overwrite=True,\n",
    "    chunks={\"unit_id\": 1, \"frame\": -1},\n",
    ")"
   ]
  },
  {
   "cell_type": "code",
   "execution_count": null,
   "metadata": {},
   "outputs": [],
   "source": [
    "%%time\n",
    "C_secT, S_secT, b0_secT, c0_secT, g_secT, mask_secT = update_temporal(\n",
    "    A_secS, C_secS, YrA=YrA_secT, **param_second_temporal\n",
    ")"
   ]
  },
  {
   "cell_type": "markdown",
   "metadata": {},
   "source": [
    "### Save all"
   ]
  },
  {
   "cell_type": "code",
   "execution_count": null,
   "metadata": {},
   "outputs": [],
   "source": [
    "%%time\n",
    "C_secT = save_minian(\n",
    "    C_secT.rename(\"C\").chunk({\"unit_id\": 1, \"frame\": -1}), intpath, overwrite=True\n",
    ")\n",
    "C_chk_secT = save_minian(\n",
    "    C_secT.rename(\"C_chk\"),\n",
    "    intpath,\n",
    "    overwrite=True,\n",
    "    chunks={\"unit_id\": -1, \"frame\": chk[\"frame\"]},\n",
    ")\n",
    "S_secT = save_minian(\n",
    "    S_secT.rename(\"S\").chunk({\"unit_id\": 1, \"frame\": -1}), intpath, overwrite=True\n",
    ")\n",
    "b0_secT = save_minian(\n",
    "    b0_secT.rename(\"b0\").chunk({\"unit_id\": 1, \"frame\": -1}), intpath, overwrite=True\n",
    ")\n",
    "c0_secT = save_minian(\n",
    "    c0_secT.rename(\"c0\").chunk({\"unit_id\": 1, \"frame\": -1}), intpath, overwrite=True\n",
    ")\n",
    "A_secT = A_secS.sel(unit_id=C_secT.coords[\"unit_id\"].values)"
   ]
  },
  {
   "cell_type": "markdown",
   "metadata": {},
   "source": [
    "## Generate videos and close \n",
    "\n",
    "!!!!! Only if cnmfviewer has been used"
   ]
  },
  {
   "cell_type": "code",
   "execution_count": null,
   "metadata": {
    "tags": []
   },
   "outputs": [],
   "source": [
    "%%time\n",
    "if interactive:\n",
    "    # Generate video\n",
    "    generate_videos(varr_ref.sel(subset), Y_fm_chk, A=A_secT, C=C_chk_secT, vpath=dpath)\n",
    "\n",
    "    \"\"\"\n",
    "    # Generate labels\n",
    "    A = A_secT.assign_coords(unit_labels=(\"unit_id\", cnmfviewer.unit_labels))\n",
    "    C = C_secT.assign_coords(unit_labels=(\"unit_id\", cnmfviewer.unit_labels))\n",
    "    S = S_secT.assign_coords(unit_labels=(\"unit_id\", cnmfviewer.unit_labels))\n",
    "    c0 = c0_secT.assign_coords(unit_labels=(\"unit_id\", cnmfviewer.unit_labels))\n",
    "    b0 = b0_secT.assign_coords(unit_labels=(\"unit_id\", cnmfviewer.unit_labels))\"\"\""
   ]
  },
  {
   "cell_type": "code",
   "execution_count": null,
   "metadata": {
    "tags": []
   },
   "outputs": [],
   "source": [
    "%%time\n",
    "# Save final\n",
    "A = save_minian(A_secT.rename(\"A\"), **param_save_minian)\n",
    "C = save_minian(C_secT.rename(\"C\"), **param_save_minian)\n",
    "S = save_minian(S_secT.rename(\"S\"), **param_save_minian)\n",
    "c0 = save_minian(c0_secT.rename(\"c0\"), **param_save_minian)\n",
    "b0 = save_minian(b0_secT.rename(\"b0\"), **param_save_minian)\n",
    "b = save_minian(b_init.rename(\"b\"), **param_save_minian)\n",
    "f = save_minian(f_init.rename(\"f\"), **param_save_minian)\n",
    "\n",
    "# Close cluster\n",
    "client.close()\n",
    "cluster.close()"
   ]
  },
  {
   "cell_type": "code",
   "execution_count": null,
   "metadata": {},
   "outputs": [],
   "source": [
    "if interactive:\n",
    "    minian_ds = open_minian(minian_ds_path)\n",
    "    C = minian_ds['C']\n",
    "    import matplotlib.pyplot as plt\n",
    "\n",
    "    print (C)\n",
    "    plt.plot(C[2,:])\n",
    "    plt.plot(C[0,:])\n",
    "    plt.plot(C[1,:])\n",
    "    plt.plot(C[3,:])"
   ]
  }
 ],
 "metadata": {
  "kernelspec": {
   "display_name": "minian311new2",
   "language": "python",
   "name": "python3"
  },
  "language_info": {
   "codemirror_mode": {
    "name": "ipython",
    "version": 3
   },
   "file_extension": ".py",
   "mimetype": "text/x-python",
   "name": "python",
   "nbconvert_exporter": "python",
   "pygments_lexer": "ipython3",
   "version": "3.11.7"
  }
 },
 "nbformat": 4,
 "nbformat_minor": 4
}
