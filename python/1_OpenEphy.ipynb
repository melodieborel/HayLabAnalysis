{
 "cells": [
  {
   "cell_type": "markdown",
   "metadata": {},
   "source": [
    "# Opening and cleaning out ephys data\n",
    "\n",
    "Note: Use L1imag/formation environment."
   ]
  },
  {
   "cell_type": "markdown",
   "metadata": {},
   "source": [
    "## Setup everything"
   ]
  },
  {
   "cell_type": "markdown",
   "metadata": {},
   "source": [
    "### Import packages"
   ]
  },
  {
   "cell_type": "code",
   "execution_count": 1,
   "metadata": {},
   "outputs": [],
   "source": [
    "%load_ext autoreload\n",
    "%autoreload 2\n",
    "%reload_ext autoreload\n",
    "import numpy as np\n",
    "import os\n",
    "import xarray as xr\n",
    "import matplotlib.pyplot as plt\n",
    "import scipy\n",
    "from scipy import signal\n",
    "%matplotlib widget\n",
    "\n",
    "from ephyviewer import mkQApp, MainViewer, TraceViewer\n",
    "\n",
    "import mbTools"
   ]
  },
  {
   "cell_type": "markdown",
   "metadata": {},
   "source": [
    "### Choose experiment"
   ]
  },
  {
   "cell_type": "code",
   "execution_count": 2,
   "metadata": {},
   "outputs": [
    {
     "name": "stdout",
     "output_type": "stream",
     "text": [
      "Local config file loaded from localConfig.ini\n",
      "current folder \\\\10.69.168.1\\crnldata\\waking\\audrey_hay\\NPX\\interimAnalysis\\NPX1\\Claustrum\\Expe_2024-07-31_17-29-39 contains a config file\n",
      "\\\\10.69.168.1\\crnldata\\waking\\audrey_hay\\NPX\\interimAnalysis\\NPX1\\Claustrum\\Expe_2024-07-31_17-29-39\\expeConfig1.ini\n"
     ]
    },
    {
     "data": {
      "application/vnd.jupyter.widget-view+json": {
       "model_id": "a8b32e26c51a4e38a4f4786cad321ef9",
       "version_major": 2,
       "version_minor": 0
      },
      "text/plain": [
       "FileChooser(path='\\\\10.69.168.1\\crnldata\\waking\\audrey_hay\\NPX\\interimAnalysis\\NPX1\\Claustrum\\Expe_2024-07-31_…"
      ]
     },
     "metadata": {},
     "output_type": "display_data"
    },
    {
     "name": "stdout",
     "output_type": "stream",
     "text": [
      "current folder \\\\10.69.168.1\\crnldata\\waking\\audrey_hay\\NPX\\NPX1\\PO\\Expe_2024-07-23_16-16-23\\ does not contain a config file, it must be the raw data folder\n"
     ]
    }
   ],
   "source": [
    "theExpe = mbTools.experiment()"
   ]
  },
  {
   "cell_type": "markdown",
   "metadata": {},
   "source": [
    "## Load data"
   ]
  },
  {
   "cell_type": "code",
   "execution_count": 3,
   "metadata": {},
   "outputs": [
    {
     "name": "stdout",
     "output_type": "stream",
     "text": [
      "Mapping found and loaded\n",
      "{'EMG': [{'canal': '6', 'status': 1}], 'PFC': [{'canal': '21', 'status': 2}, {'canal': '20', 'status': 1}], 'OFC': [{'canal': '19', 'status': 2}, {'canal': '18', 'status': 1}], 'M2': [{'canal': '27', 'status': 2}, {'canal': '26', 'status': 1}], 'M1 -> DOWN States': [{'canal': '16', 'status': 2}, {'canal': '17', 'status': 1}], 'S1fl': [{'canal': '29', 'status': 2}, {'canal': '28', 'status': 1}], 'RSP': [{'canal': '30', 'status': 2}, {'canal': '31', 'status': 1}], 'CA1-1': [{'canal': '1', 'status': 2}, {'canal': '0', 'status': 1}], 'V1': [{'canal': '11', 'status': 2}, {'canal': '10', 'status': 1}], 'CA1-2': [{'canal': '2', 'status': 2}, {'canal': '3', 'status': 1}], 'S1bf': [{'canal': '14', 'status': 2}, {'canal': '15', 'status': 1}], 'mEC': [{'canal': '13', 'status': 2}, {'canal': '12', 'status': 1}]}\n",
      "********found some .bin files********\n",
      "data recorded with Bonsai\n",
      "importing \\\\10.69.168.1\\crnldata\\waking\\audrey_hay\\NPX\\NPX1\\PO\\Expe_2024-07-23_16-16-23\\OE_32ch_data_2024-07-23T16_16_23.bin\n",
      "applying offset\n",
      "converting to int16\n",
      "IntanLFP file loaded, with 32 channels and 75283456 datapoint\n",
      "expeconfig exists so loading it\n",
      "the mapping: {'EMG': [{'canal': '6', 'status': 1}], 'PFC': [{'canal': '21', 'status': 2}, {'canal': '20', 'status': 1}], 'OFC': [{'canal': '19', 'status': 2}, {'canal': '18', 'status': 1}], 'M2': [{'canal': '27', 'status': 2}, {'canal': '26', 'status': 1}], 'M1 -> DOWN States': [{'canal': '16', 'status': 2}, {'canal': '17', 'status': 1}], 'S1fl': [{'canal': '29', 'status': 2}, {'canal': '28', 'status': 1}], 'RSP': [{'canal': '30', 'status': 2}, {'canal': '31', 'status': 1}], 'CA1-1': [{'canal': '1', 'status': 2}, {'canal': '0', 'status': 1}], 'V1': [{'canal': '11', 'status': 2}, {'canal': '10', 'status': 1}], 'CA1-2': [{'canal': '2', 'status': 2}, {'canal': '3', 'status': 1}], 'S1bf': [{'canal': '14', 'status': 2}, {'canal': '15', 'status': 1}], 'mEC': [{'canal': '13', 'status': 2}, {'canal': '12', 'status': 1}]}\n",
      "the offset:  51.51029122\n",
      "the sampling rate:  20046.76315209\n",
      "********found some NPX files********\n",
      "the calculated sampling rate is 30070.26746456667 Hz\n",
      "launch start would be 2024-07-23 16:16:23.896598+02:00\n",
      "the interval to first clock is 0.056863\n",
      "the first timestamp for 14215690 samples, corresponding to 0.056863 s, would be 2024-07-23 16:16:23.953461+02:00\n",
      "there are 114473772 timestamps\n",
      "the calculated sampling rate is 30070.26746456667 Hz\n",
      "launch start would be 2024-07-23 16:16:23.896598+02:00\n",
      "the interval to first clock is 0.056863\n",
      "the first timestamp for 14215690 samples, corresponding to 0.056863 s, would be 2024-07-23 16:16:23.953461+02:00\n",
      "there are 114473772 timestamps\n"
     ]
    }
   ],
   "source": [
    "theExpe.analyseExpe_findData(fullSampling=True)\n",
    "#theExpe.setNumLFPchannels(32)"
   ]
  },
  {
   "cell_type": "code",
   "execution_count": 4,
   "metadata": {},
   "outputs": [
    {
     "name": "stdout",
     "output_type": "stream",
     "text": [
      "no LFP data to save\n"
     ]
    }
   ],
   "source": [
    "#TODO: make sure this part is still used\n",
    "if  'OE_LFP' in theExpe.data and False:\n",
    "    #TODO: make sampling rate round?\n",
    "    sampling_rate = theExpe.data['OE_LFP'].sampling_rate #20000\n",
    "    combined = theExpe.data['OE_LFP'].combineStructures(\"All\")#['M1'])\n",
    "\n",
    "    coords = {\n",
    "        'brain_areas' : np.array(theExpe.data['OE_LFP'].channelLabels[:]),\n",
    "        'duration_rec' : np.arange(0, combined.shape[0]/sampling_rate, 1/sampling_rate)\n",
    "    }\n",
    "\n",
    "    # Put in xarray\n",
    "    xrCombined = xr.DataArray(coords=coords, dims=['duration_rec', 'brain_areas'])\n",
    "    xrCombined.loc[:,:]  = combined\n",
    "\n",
    "    # Save datas\n",
    "    combinedFN = os.path.join(theExpe.interimAnalysisPath,'RawDataChannelExtracted.npy')\n",
    "    np.save(combinedFN, combined)\n",
    "\n",
    "    print(\"LFP data saved as a xarray\")\n",
    "else:\n",
    "    print(\"no LFP data to save\")"
   ]
  },
  {
   "cell_type": "markdown",
   "metadata": {},
   "source": [
    "#  Downsample all LFP signals to 1 kz."
   ]
  },
  {
   "cell_type": "code",
   "execution_count": null,
   "metadata": {},
   "outputs": [
    {
     "name": "stdout",
     "output_type": "stream",
     "text": [
      "\\\\10.69.168.1\\crnldata\\waking\\audrey_hay\\NPX\\interimAnalysis\\NPX1\\PO\\Expe_2024-07-23_16-16-23\\RawDataChannelExtractedDS.npy\n",
      "downsampling signal from 20000.0 Hz to 1000 Hz\n",
      "signal size will be reduced from 75283456 to 3764172 points\n",
      "the resampled signal has new dimensions: (3764172, 32)\n",
      "<class 'numpy.ndarray'>\n"
     ]
    },
    {
     "ename": "OSError",
     "evalue": "120453504 requested and 0 written",
     "output_type": "error",
     "traceback": [
      "\u001b[1;31m---------------------------------------------------------------------------\u001b[0m",
      "\u001b[1;31mOSError\u001b[0m                                   Traceback (most recent call last)",
      "Cell \u001b[1;32mIn[19], line 20\u001b[0m\n\u001b[0;32m     18\u001b[0m \u001b[38;5;28mprint\u001b[39m(\u001b[38;5;124mf\u001b[39m\u001b[38;5;124m\"\u001b[39m\u001b[38;5;124mthe resampled signal has new dimensions: \u001b[39m\u001b[38;5;132;01m{\u001b[39;00mcombinedDS\u001b[38;5;241m.\u001b[39mshape\u001b[38;5;132;01m}\u001b[39;00m\u001b[38;5;124m\"\u001b[39m)\n\u001b[0;32m     19\u001b[0m \u001b[38;5;28mprint\u001b[39m(\u001b[38;5;28mtype\u001b[39m(combinedDS))\n\u001b[1;32m---> 20\u001b[0m \u001b[43mnp\u001b[49m\u001b[38;5;241;43m.\u001b[39;49m\u001b[43msave\u001b[49m\u001b[43m(\u001b[49m\u001b[43mcombinedDSFN\u001b[49m\u001b[43m,\u001b[49m\u001b[43m \u001b[49m\u001b[43mcombinedDS\u001b[49m\u001b[43m)\u001b[49m\n\u001b[0;32m     21\u001b[0m \u001b[38;5;28mprint\u001b[39m(\u001b[38;5;124mf\u001b[39m\u001b[38;5;124m\"\u001b[39m\u001b[38;5;124mthe downsampled file is saved at : \u001b[39m\u001b[38;5;132;01m{\u001b[39;00mcombinedDSFN\u001b[38;5;132;01m}\u001b[39;00m\u001b[38;5;124m\"\u001b[39m)\n",
      "File \u001b[1;32mc:\\Users\\Manip1\\Documents\\MB\\HayLabAnalysis\\.venv\\Lib\\site-packages\\numpy\\lib\\npyio.py:546\u001b[0m, in \u001b[0;36msave\u001b[1;34m(file, arr, allow_pickle, fix_imports)\u001b[0m\n\u001b[0;32m    544\u001b[0m \u001b[38;5;28;01mwith\u001b[39;00m file_ctx \u001b[38;5;28;01mas\u001b[39;00m fid:\n\u001b[0;32m    545\u001b[0m     arr \u001b[38;5;241m=\u001b[39m np\u001b[38;5;241m.\u001b[39masanyarray(arr)\n\u001b[1;32m--> 546\u001b[0m     \u001b[38;5;28;43mformat\u001b[39;49m\u001b[38;5;241;43m.\u001b[39;49m\u001b[43mwrite_array\u001b[49m\u001b[43m(\u001b[49m\u001b[43mfid\u001b[49m\u001b[43m,\u001b[49m\u001b[43m \u001b[49m\u001b[43marr\u001b[49m\u001b[43m,\u001b[49m\u001b[43m \u001b[49m\u001b[43mallow_pickle\u001b[49m\u001b[38;5;241;43m=\u001b[39;49m\u001b[43mallow_pickle\u001b[49m\u001b[43m,\u001b[49m\n\u001b[0;32m    547\u001b[0m \u001b[43m                       \u001b[49m\u001b[43mpickle_kwargs\u001b[49m\u001b[38;5;241;43m=\u001b[39;49m\u001b[38;5;28;43mdict\u001b[39;49m\u001b[43m(\u001b[49m\u001b[43mfix_imports\u001b[49m\u001b[38;5;241;43m=\u001b[39;49m\u001b[43mfix_imports\u001b[49m\u001b[43m)\u001b[49m\u001b[43m)\u001b[49m\n",
      "File \u001b[1;32mc:\\Users\\Manip1\\Documents\\MB\\HayLabAnalysis\\.venv\\Lib\\site-packages\\numpy\\lib\\format.py:730\u001b[0m, in \u001b[0;36mwrite_array\u001b[1;34m(fp, array, version, allow_pickle, pickle_kwargs)\u001b[0m\n\u001b[0;32m    728\u001b[0m \u001b[38;5;28;01melse\u001b[39;00m:\n\u001b[0;32m    729\u001b[0m     \u001b[38;5;28;01mif\u001b[39;00m isfileobj(fp):\n\u001b[1;32m--> 730\u001b[0m         \u001b[43marray\u001b[49m\u001b[38;5;241;43m.\u001b[39;49m\u001b[43mtofile\u001b[49m\u001b[43m(\u001b[49m\u001b[43mfp\u001b[49m\u001b[43m)\u001b[49m\n\u001b[0;32m    731\u001b[0m     \u001b[38;5;28;01melse\u001b[39;00m:\n\u001b[0;32m    732\u001b[0m         \u001b[38;5;28;01mfor\u001b[39;00m chunk \u001b[38;5;129;01min\u001b[39;00m numpy\u001b[38;5;241m.\u001b[39mnditer(\n\u001b[0;32m    733\u001b[0m                 array, flags\u001b[38;5;241m=\u001b[39m[\u001b[38;5;124m'\u001b[39m\u001b[38;5;124mexternal_loop\u001b[39m\u001b[38;5;124m'\u001b[39m, \u001b[38;5;124m'\u001b[39m\u001b[38;5;124mbuffered\u001b[39m\u001b[38;5;124m'\u001b[39m, \u001b[38;5;124m'\u001b[39m\u001b[38;5;124mzerosize_ok\u001b[39m\u001b[38;5;124m'\u001b[39m],\n\u001b[0;32m    734\u001b[0m                 buffersize\u001b[38;5;241m=\u001b[39mbuffersize, order\u001b[38;5;241m=\u001b[39m\u001b[38;5;124m'\u001b[39m\u001b[38;5;124mC\u001b[39m\u001b[38;5;124m'\u001b[39m):\n",
      "\u001b[1;31mOSError\u001b[0m: 120453504 requested and 0 written"
     ]
    }
   ],
   "source": [
    "#TODO: fails to save with big array, check why\n",
    "new_sampling_rate = 1000 # Hz\n",
    "\n",
    "DSname = 'RawDataChannelExtractedDS.npy'\n",
    "combinedDSFN = os.path.join(theExpe.interimAnalysisPath,DSname)\n",
    "print(combinedDSFN)\n",
    "\n",
    "if os.path.isfile(combinedDSFN):\n",
    "    print(f\"a file {combinedDSFN} already exists so do nothing. Manually delete the old file before proceding again if you want to overwrite\")\n",
    "else:\n",
    "    All = theExpe.data['OE_LFP'].signal\n",
    "    old_sampling_rate = np.round(theExpe.data['OE_LFP'].sampling_rate/1000)*1000 # round to the thousand precision\n",
    "    print(f\"downsampling signal from {old_sampling_rate} Hz to {new_sampling_rate} Hz\")\n",
    "    newLen = int(All.shape[0] * new_sampling_rate / old_sampling_rate)\n",
    "    print(f\"signal size will be reduced from {All.shape[0]} to {newLen} points\")\n",
    "\n",
    "    combinedDS = signal.resample(All, newLen, axis = 0)\n",
    "    #combinedDS = signal.decimate(combined, 25, axis = 0)\n",
    "    print(f\"the resampled signal has new dimensions: {combinedDS.shape}\")\n",
    "\n",
    "    #np.save(combinedDSFN, combinedDS)\n",
    "    #print(f\"the downsampled file is saved at : {combinedDSFN}\")"
   ]
  },
  {
   "cell_type": "markdown",
   "metadata": {},
   "source": [
    "## End of notebook. \n",
    "Data is cleaned up and saved. Data processing for different cortical areas on specific notebooks. Next step is WakeRemoving notebook.\n",
    "\n",
    "Below is for quick filtering, plotting and visualisation to assess data quality. Filtering for data processing is done again in specific notebooks.\n",
    "\n",
    "Data quality is assessed on a Sample, whose value has to be attributed on the initial cell."
   ]
  },
  {
   "cell_type": "markdown",
   "metadata": {},
   "source": [
    "## Filtering \n",
    "\n",
    "SWR: 120 - 200 Hz"
   ]
  },
  {
   "cell_type": "code",
   "execution_count": null,
   "metadata": {},
   "outputs": [],
   "source": [
    "Sample = combinedDS\n",
    "\n",
    "f_CA1 = Sample[:, 3].copy()\n",
    "\n",
    "# Paramètres de notre filtre :\n",
    "f_lowcut = 120.\n",
    "f_hicut = 200.\n",
    "fs = new_sampling_rate\n",
    "nyq = 0.5 * fs\n",
    "N = 6                 # Ordre du filtre\n",
    "Wn = [f_lowcut/nyq,f_hicut/nyq]  # Nyquist frequency fraction\n",
    "print(Wn)\n",
    "\n",
    "# Création du filtre :\n",
    "b, a = scipy.signal.butter(N, Wn, 'band')\n",
    "filt_SWR_CA1 = scipy.signal.filtfilt(b, a, f_CA1)\n",
    "\n",
    "times = np.arange(0, f_CA1.size/new_sampling_rate, 1./new_sampling_rate)\n",
    "\n"
   ]
  },
  {
   "cell_type": "markdown",
   "metadata": {},
   "source": [
    "Spindles: 8 - 16 Hz"
   ]
  },
  {
   "cell_type": "code",
   "execution_count": null,
   "metadata": {},
   "outputs": [],
   "source": [
    "f_PFC = Sample[:, 1].copy()\n",
    "f_S1 = Sample[:, 2].copy()\n",
    "\n",
    "# Paramètres de notre filtre :\n",
    "f_lowcut = 10.\n",
    "f_hicut = 16.\n",
    "Wn = [f_lowcut/nyq,f_hicut/nyq]  # Nyquist frequency fraction\n",
    "N = 4\n",
    "# Création du filtre :\n",
    "b, a = scipy.signal.butter(N, Wn, 'band')\n",
    "filt_Spind_PFC = scipy.signal.filtfilt(b, a, f_PFC)\n",
    "filt_Spind_S1 = scipy.signal.filtfilt(b, a, f_S1)\n",
    "\n",
    "# # Calcul de la reponse en fréquence du filtre\n",
    "# w, h = signal.freqz(b, a)\n",
    "\n",
    "# # Tracé de la réponse en fréquence du filtre\n",
    "# fig, ax = plt.subplots(figsize=(8,5)) \n",
    "\n",
    "# ax.plot(0.5*fs*w/np.pi, np.abs(h), 'b')\n",
    "\n",
    "# ax.set_xlabel('frequency [Hz]')\n",
    "# ax.set_ylabel('Amplitude [dB]')\n",
    "# ax.grid(which='both', axis='both')"
   ]
  },
  {
   "cell_type": "markdown",
   "metadata": {},
   "source": [
    "FFT display"
   ]
  },
  {
   "cell_type": "code",
   "execution_count": null,
   "metadata": {},
   "outputs": [],
   "source": [
    "# Calcul du spectre\n",
    "f, Pxx_den = signal.welch(f_CA1, fs, nperseg=1024)\n",
    "\n",
    "# Tracé\n",
    "fig, ax = plt.subplots(figsize=(10,5)) \n",
    "ax.semilogy(f, Pxx_den)   #  plot with log scaling on the y axis\n",
    "ax.set_xlabel('frequency [Hz]')\n",
    "ax.set_ylabel('PSD [V**2/Hz]')"
   ]
  },
  {
   "cell_type": "code",
   "execution_count": null,
   "metadata": {},
   "outputs": [],
   "source": [
    "plt.close('all')"
   ]
  },
  {
   "cell_type": "markdown",
   "metadata": {},
   "source": [
    "# Display. \n",
    "\n",
    "Can massively be improved: with Matplotlib"
   ]
  },
  {
   "cell_type": "code",
   "execution_count": null,
   "metadata": {},
   "outputs": [],
   "source": [
    "times_sliced = times[000:200000]\n",
    "filt_to_display = filt_SWR_CA1[000:200000]-1000\n",
    "f_CA1_sliced = f_CA1[0000:200000]/2\n",
    "combined = np.stack((f_CA1_sliced, filt_to_display), axis = 1)\n",
    "# Tracé du signal filtré\n",
    "\n",
    "fig, ax = plt.subplots(1,1, figsize=(15,5), layout='constrained') \n",
    "ax.plot(times_sliced, combined, 'r')\n",
    "ax.set_xlabel('Temps [sec]')\n",
    "ax.set_ylabel('Amplitude')\n"
   ]
  },
  {
   "cell_type": "markdown",
   "metadata": {},
   "source": [
    "With ephyviewer. "
   ]
  },
  {
   "cell_type": "code",
   "execution_count": null,
   "metadata": {},
   "outputs": [],
   "source": [
    "# prepare numpy array for ephyviewer\n",
    "\n",
    "filt_SWR_CA1_sliced= filt_SWR_CA1[000:200000, np.newaxis]\n",
    "filt_Spind_PFC_sliced= filt_Spind_PFC[000:200000, np.newaxis]\n",
    "filt_Spind_S1_sliced= filt_Spind_S1[000:200000, np.newaxis]\n",
    "filt_sliced = Sample[0000:200000,:]\n",
    "combined2 = filt_sliced[:,0:2].copy()\n",
    "intf_sliced = filt_sliced[:,2]\n",
    "intf_sliced = intf_sliced[:, np.newaxis]\n",
    "combined2 = np.append(combined2, filt_Spind_PFC_sliced, axis=1)\n",
    "combined2 = np.append(combined2, intf_sliced, axis=1)\n",
    "combined2 = np.append(combined2, filt_Spind_S1_sliced, axis=1)\n",
    "intf_sliced = filt_sliced[:,3]\n",
    "intf_sliced = intf_sliced[:, np.newaxis]\n",
    "combined2 = np.append(combined2, intf_sliced, axis=1)\n",
    "combined2 = np.append(combined2, filt_SWR_CA1_sliced, axis = 1)\n"
   ]
  },
  {
   "cell_type": "code",
   "execution_count": null,
   "metadata": {},
   "outputs": [],
   "source": [
    "%gui qt \n",
    "app = mkQApp()\n",
    "\n",
    "sample_rate = 1000.\n",
    "t_start = 0.\n",
    "\n",
    "#Create the main window that can contain several viewers\n",
    "win = MainViewer()\n",
    "view1 = TraceViewer.from_numpy(combined2, sample_rate, t_start, 'Signals')\n",
    "win.add_view(view1)\n",
    "\n",
    "#Parameters can be set in script\n",
    "view1.params['display_labels'] = True\n",
    "view1.params['scale_mode'] = 'same_for_all'\n",
    "view1.auto_scale()\n",
    "\n",
    "#Run\n",
    "win.show()"
   ]
  }
 ],
 "metadata": {
  "kernelspec": {
   "display_name": ".venv",
   "language": "python",
   "name": "python3"
  },
  "language_info": {
   "codemirror_mode": {
    "name": "ipython",
    "version": 3
   },
   "file_extension": ".py",
   "mimetype": "text/x-python",
   "name": "python",
   "nbconvert_exporter": "python",
   "pygments_lexer": "ipython3",
   "version": "3.11.9"
  },
  "orig_nbformat": 4
 },
 "nbformat": 4,
 "nbformat_minor": 2
}
