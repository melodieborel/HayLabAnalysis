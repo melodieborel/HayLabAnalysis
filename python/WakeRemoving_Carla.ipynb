{
 "cells": [
  {
   "cell_type": "markdown",
   "metadata": {},
   "source": [
    "# Extracting wake and filtering it out of data"
   ]
  },
  {
   "cell_type": "code",
   "execution_count": 1,
   "metadata": {},
   "outputs": [],
   "source": [
    "import scipy\n",
    "from scipy import signal\n",
    "from scipy import interpolate\n",
    "from scipy import fftpack\n",
    "import numpy as np\n",
    "import matplotlib.pyplot as plt\n",
    "from matplotlib.widgets import Slider, Button, Cursor\n",
    "import pandas as pd\n",
    "import quantities as pq\n",
    "import neo\n",
    "from pathlib import Path\n",
    "import xarray as xr\n",
    "from IPython.display import display\n",
    "from ipyfilechooser import FileChooser\n",
    "import os\n",
    "from ephyviewer import mkQApp, MainViewer, TraceViewer"
   ]
  },
  {
   "cell_type": "code",
   "execution_count": 2,
   "metadata": {},
   "outputs": [
    {
     "data": {
      "application/vnd.jupyter.widget-view+json": {
       "model_id": "bd1203f77f0c451d8871922a5f02cf18",
       "version_major": 2,
       "version_minor": 0
      },
      "text/plain": [
       "FileChooser(path='\\\\10.69.168.1\\crnldata\\forgetting\\Carla', filename='', title='<b>Open Ephys folder</b>', sho…"
      ]
     },
     "metadata": {},
     "output_type": "display_data"
    },
    {
     "name": "stdout",
     "output_type": "stream",
     "text": [
      "Stored 'dpath' (str)\n"
     ]
    }
   ],
   "source": [
    "dpath = \"//10.69.168.1/crnldata/forgetting/Carla/\"\n",
    "\n",
    "fc1 = FileChooser(dpath,select_default=True, show_only_dirs = False, title = \"<b>Open Ephys folder</b>\")\n",
    "display(fc1)\n",
    "\n",
    "# Sample callback function\n",
    "def update_my_folder(chooser):\n",
    "    global dpath\n",
    "    dpath = chooser.selected\n",
    "    %store dpath\n",
    "    return \n",
    "\n",
    "# Register callback function\n",
    "fc1.register_callback(update_my_folder)"
   ]
  },
  {
   "cell_type": "code",
   "execution_count": 5,
   "metadata": {},
   "outputs": [
    {
     "ename": "PermissionError",
     "evalue": "[Errno 13] Permission denied: '\\\\\\\\10.69.168.1\\\\crnldata\\\\forgetting\\\\Carla\\\\OpenEphysData\\\\Vert0-31_Jaune32-64_2024-12-13_14-13-58_TestLFPs\\\\Record Node 103\\\\experiment1\\\\recording1\\\\continuous\\\\OE_FPGA_Acquisition_Board-101.Rhythm Data'",
     "output_type": "error",
     "traceback": [
      "\u001b[1;31m---------------------------------------------------------------------------\u001b[0m",
      "\u001b[1;31mPermissionError\u001b[0m                           Traceback (most recent call last)",
      "Cell \u001b[1;32mIn[5], line 3\u001b[0m\n\u001b[0;32m      1\u001b[0m folder_base \u001b[38;5;241m=\u001b[39m Path(dpath) \n\u001b[1;32m----> 3\u001b[0m DataRec2 \u001b[38;5;241m=\u001b[39m \u001b[43mnp\u001b[49m\u001b[38;5;241;43m.\u001b[39;49m\u001b[43mfromfile\u001b[49m\u001b[43m(\u001b[49m\u001b[43mfolder_base\u001b[49m\u001b[43m,\u001b[49m\u001b[43m \u001b[49m\u001b[43mdtype\u001b[49m\u001b[38;5;241;43m=\u001b[39;49m\u001b[38;5;124;43m\"\u001b[39;49m\u001b[38;5;124;43muint16\u001b[39;49m\u001b[38;5;124;43m\"\u001b[39;49m\u001b[43m)\u001b[49m\n\u001b[0;32m      4\u001b[0m All2 \u001b[38;5;241m=\u001b[39m DataRec2\u001b[38;5;241m.\u001b[39mreshape(\u001b[38;5;241m-\u001b[39m\u001b[38;5;241m1\u001b[39m,\u001b[38;5;241m64\u001b[39m)\n\u001b[0;32m      5\u001b[0m All2\u001b[38;5;241m.\u001b[39mshape\n",
      "\u001b[1;31mPermissionError\u001b[0m: [Errno 13] Permission denied: '\\\\\\\\10.69.168.1\\\\crnldata\\\\forgetting\\\\Carla\\\\OpenEphysData\\\\Vert0-31_Jaune32-64_2024-12-13_14-13-58_TestLFPs\\\\Record Node 103\\\\experiment1\\\\recording1\\\\continuous\\\\OE_FPGA_Acquisition_Board-101.Rhythm Data'"
     ]
    }
   ],
   "source": [
    "folder_base = Path(dpath) \n",
    "\n",
    "DataRec2 = np.fromfile(folder_base, dtype=\"uint16\")\n",
    "All2 = DataRec2.reshape(-1,64)\n",
    "All2.shape\n",
    "\n"
   ]
  },
  {
   "cell_type": "code",
   "execution_count": 6,
   "metadata": {},
   "outputs": [],
   "source": [
    "Channels = '//10.69.168.1/crnldata/forgetting/Carla/OpenEphysData/LFPChannels_perMice.xlsx' \n",
    "allchannels = pd.read_excel(Channels)"
   ]
  },
  {
   "cell_type": "code",
   "execution_count": 7,
   "metadata": {},
   "outputs": [
    {
     "name": "stdout",
     "output_type": "stream",
     "text": [
      "Vert\n"
     ]
    }
   ],
   "source": [
    "mice='Vert'\n",
    "print(mice)"
   ]
  },
  {
   "cell_type": "code",
   "execution_count": 8,
   "metadata": {},
   "outputs": [
    {
     "ename": "NameError",
     "evalue": "name 'All2' is not defined",
     "output_type": "error",
     "traceback": [
      "\u001b[1;31m---------------------------------------------------------------------------\u001b[0m",
      "\u001b[1;31mNameError\u001b[0m                                 Traceback (most recent call last)",
      "Cell \u001b[1;32mIn[8], line 3\u001b[0m\n\u001b[0;32m      1\u001b[0m EMGch1\u001b[38;5;241m=\u001b[39m\u001b[38;5;28mint\u001b[39m(allchannels[mice][\u001b[38;5;241m3\u001b[39m])\n\u001b[1;32m----> 3\u001b[0m EMG  \u001b[38;5;241m=\u001b[39m  \u001b[43mAll2\u001b[49m[:, EMGch1]\n",
      "\u001b[1;31mNameError\u001b[0m: name 'All2' is not defined"
     ]
    }
   ],
   "source": [
    "EMGch1=int(allchannels[mice][3])\n",
    "\n",
    "EMG  =  All2[:, EMGch1]"
   ]
  },
  {
   "cell_type": "code",
   "execution_count": 22,
   "metadata": {},
   "outputs": [],
   "source": [
    "  # Filter parameter :\n",
    "f_lowcut = 200.\n",
    "f_hicut = 400.\n",
    "N = 3\n",
    "fs = 1000\n",
    "nyq = 0.5 * fs\n",
    "Wn = [f_lowcut/nyq,f_hicut/nyq]  # Nyquist frequency fraction\n"
   ]
  },
  {
   "cell_type": "code",
   "execution_count": 23,
   "metadata": {},
   "outputs": [
    {
     "name": "stdout",
     "output_type": "stream",
     "text": [
      "(5559227,)\n"
     ]
    }
   ],
   "source": [
    "# Filter creation :\n",
    "b, a = signal.butter(N, Wn, 'band')\n",
    "print(EMG.shape)\n",
    "filt_EMG = signal.filtfilt(b, a, EMG,)\n"
   ]
  },
  {
   "cell_type": "code",
   "execution_count": 24,
   "metadata": {},
   "outputs": [
    {
     "name": "stderr",
     "output_type": "stream",
     "text": [
      "C:\\Users\\AudreyHay\\AppData\\Local\\Temp\\ipykernel_40936\\1810749961.py:5: DeprecationWarning: scipy.signal.cwt is deprecated in SciPy 1.12 and will be removed\n",
      "in SciPy 1.15. We recommend using PyWavelets instead.\n",
      "\n",
      "  EMGcwt = signal.cwt(EMG, signal.morlet2, widths, w=w)\n"
     ]
    }
   ],
   "source": [
    "# Parameter and computation of CWT\n",
    "w = 4.\n",
    "freq = np.linspace(200, 400, 50)\n",
    "widths = w*fs / (2*freq*np.pi)\n",
    "EMGcwt = signal.cwt(EMG, signal.morlet2, widths, w=w)"
   ]
  },
  {
   "cell_type": "code",
   "execution_count": 25,
   "metadata": {},
   "outputs": [],
   "source": [
    "# Projection calculation\n",
    "absEMGcwt = np.absolute(EMGcwt)\n",
    "proj_EMGcwt = np.sum(absEMGcwt, axis = 0)/50\n",
    "mproj_EMGcwt = np.mean(proj_EMGcwt)\n",
    "sdproj_EMGcwt = np.std(proj_EMGcwt)\n",
    "\n",
    "               \n",
    "LowFactorSd= 3\n",
    "HighFactorSd= 6\n"
   ]
  },
  {
   "cell_type": "code",
   "execution_count": 26,
   "metadata": {},
   "outputs": [],
   "source": [
    "# Assigning values wake (1, 2) and sleep (0)\n",
    "numpnts = EMG.size\n",
    "EMGstatusRaw = np.zeros(numpnts)\n",
    "for ind in range(numpnts):\n",
    "        if proj_EMGcwt[ind]<(mproj_EMGcwt + LowFactorSd*sdproj_EMGcwt): \n",
    "                    EMGstatusRaw[ind] = 0\n",
    "        elif proj_EMGcwt[ind]>(mproj_EMGcwt + HighFactorSd*sdproj_EMGcwt):\n",
    "                    EMGstatusRaw[ind] = 2\n",
    "        else:\n",
    "                    EMGstatusRaw[ind] = 1"
   ]
  },
  {
   "cell_type": "code",
   "execution_count": 30,
   "metadata": {},
   "outputs": [
    {
     "name": "stdout",
     "output_type": "stream",
     "text": [
      "Nombre d'épisodes d'état 0 (sommeil): 5559227\n",
      "Nombre d'épisodes d'état 1 (intermédiaire): 0\n",
      "Nombre d'épisodes d'état 2 (éveil): 0\n"
     ]
    }
   ],
   "source": [
    "# Compter le nombre d'occurrences de chaque état\n",
    "state_counts = np.bincount(EMGstatusRaw.astype(int))\n",
    "\n",
    "# Afficher les résultats en tenant compte des états absents\n",
    "print(f\"Nombre d'épisodes d'état 0 (sommeil): {state_counts[0] if len(state_counts) > 0 else 0}\")\n",
    "print(f\"Nombre d'épisodes d'état 1 (intermédiaire): {state_counts[1] if len(state_counts) > 1 else 0}\")\n",
    "print(f\"Nombre d'épisodes d'état 2 (éveil): {state_counts[2] if len(state_counts) > 2 else 0}\")\n"
   ]
  },
  {
   "cell_type": "code",
   "execution_count": 27,
   "metadata": {},
   "outputs": [],
   "source": [
    "# Expanding borders for wake (1, 2) and sleep (0) to ±1 s around detected muscular activity\n",
    "EMGstatusRaw2 = np.zeros(numpnts)\n",
    "for ind in range(numpnts):\n",
    "                if EMGstatusRaw[ind]>1:\n",
    "                    EMGstatusRaw2[ind-1000:ind+1000] = 2\n",
    "                elif EMGstatusRaw[ind]==1:\n",
    "                    for ind2 in range(ind-1000, ind+1000):\n",
    "                        if ind2==numpnts:\n",
    "                            break\n",
    "                        elif EMGstatusRaw2[ind2]<2:\n",
    "                            EMGstatusRaw2[ind2] = 1\n",
    "\n",
    "\n",
    "EMGStatusBoolLib = (EMGstatusRaw2>1)\n",
    "EMGStatusBoolCons = (EMGstatusRaw2>0)\n",
    "\n",
    "          "
   ]
  },
  {
   "cell_type": "code",
   "execution_count": 28,
   "metadata": {},
   "outputs": [
    {
     "name": "stdout",
     "output_type": "stream",
     "text": [
      "EMGframeBoolean.pkl being saved\n"
     ]
    }
   ],
   "source": [
    " # Save files\n",
    "LFP = All2[:,:]\n",
    "LFPwake0 = LFP.copy()\n",
    "LFPwake0[EMGStatusBoolLib] = 0\n",
    "filename = folder_base.parent/ f'LFPwake0'\n",
    "np.save(filename, LFPwake0)\n",
    "\n",
    "LFPwakeremoved = LFP.copy()\n",
    "LFPwakeremoved = LFPwakeremoved[~EMGStatusBoolLib, :]\n",
    "filename = folder_base.parent/ f'LFPwakeremoved'\n",
    "np.save(filename, LFPwakeremoved)\n",
    "data = {\n",
    "    'EMGstatus': EMGstatusRaw2,\n",
    "    'BooleanLiberal' : EMGStatusBoolLib,\n",
    "    'BooleanConservative' : EMGStatusBoolCons\n",
    "        }\n",
    "WakeFrame = pd.DataFrame(data, columns=['EMGstatus', 'BooleanLiberal', 'BooleanConservative'])\n",
    "print(f'EMGframeBoolean.pkl being saved' )\n",
    "filename = folder_base.parent/ f'EMGframeBoolean.pkl'\n",
    "WakeFrame.to_pickle(filename)"
   ]
  }
 ],
 "metadata": {
  "kernelspec": {
   "display_name": "SleepRec2",
   "language": "python",
   "name": "python3"
  },
  "language_info": {
   "codemirror_mode": {
    "name": "ipython",
    "version": 3
   },
   "file_extension": ".py",
   "mimetype": "text/x-python",
   "name": "python",
   "nbconvert_exporter": "python",
   "pygments_lexer": "ipython3",
   "version": "3.11.10"
  }
 },
 "nbformat": 4,
 "nbformat_minor": 2
}
