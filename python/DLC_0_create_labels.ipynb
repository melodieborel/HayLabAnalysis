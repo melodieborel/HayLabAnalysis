{
 "cells": [
  {
   "cell_type": "code",
   "execution_count": 1,
   "metadata": {},
   "outputs": [
    {
     "name": "stdout",
     "output_type": "stream",
     "text": [
      "Loading DLC 3.0.0rc6...\n",
      "Created \"C:\\Users\\AudreyHay\\Documents\\Carla\\DeepLabCut\\Cheeseboard-Analyze-2025-03-19\\videos\"\n",
      "Created \"C:\\Users\\AudreyHay\\Documents\\Carla\\DeepLabCut\\Cheeseboard-Analyze-2025-03-19\\labeled-data\"\n",
      "Created \"C:\\Users\\AudreyHay\\Documents\\Carla\\DeepLabCut\\Cheeseboard-Analyze-2025-03-19\\training-datasets\"\n",
      "Created \"C:\\Users\\AudreyHay\\Documents\\Carla\\DeepLabCut\\Cheeseboard-Analyze-2025-03-19\\dlc-models\"\n",
      "Attempting to create a symbolic link of the video ...\n",
      "Symlink creation impossible (exFat architecture?): copying the video instead.\n",
      "\\\\10.69.168.1\\crnldata\\forgetting\\Carla\\Cheeseboard\\AHAD01.37\\2mois\\Test\\AHAD01.37-Test.mp4 copied to C:\\Users\\AudreyHay\\Documents\\Carla\\DeepLabCut\\Cheeseboard-Analyze-2025-03-19\\videos\\AHAD01.37-Test.mp4\n",
      "C:\\Users\\AudreyHay\\Documents\\Carla\\DeepLabCut\\Cheeseboard-Analyze-2025-03-19\\videos\\AHAD01.37-Test.mp4\n",
      "Generated \"C:\\Users\\AudreyHay\\Documents\\Carla\\DeepLabCut\\Cheeseboard-Analyze-2025-03-19\\config.yaml\"\n",
      "\n",
      "A new project with name Cheeseboard-Analyze-2025-03-19 is created at C:\\Users\\AudreyHay\\Documents\\Carla\\DeepLabCut and a configurable file (config.yaml) is stored there. Change the parameters in this file to adapt to your project's needs.\n",
      " Once you have changed the configuration file, use the function 'extract_frames' to select frames for labeling.\n",
      ". [OPTIONAL] Use the function 'add_new_videos' to add new videos to your project (at any stage).\n"
     ]
    },
    {
     "data": {
      "text/plain": [
       "'C:\\\\Users\\\\AudreyHay\\\\Documents\\\\Carla\\\\DeepLabCut\\\\Cheeseboard-Analyze-2025-03-19\\\\config.yaml'"
      ]
     },
     "execution_count": 1,
     "metadata": {},
     "output_type": "execute_result"
    }
   ],
   "source": [
    "##### LOCAL or INTERACTIVE NODES #####\n",
    "import deeplabcut\n",
    "\n",
    "deeplabcut.create_new_project(\n",
    "    \"Cheeseboard\",\n",
    "    \"Analyze\",\n",
    "    [\"//10.69.168.1/crnldata/forgetting/Carla/Cheeseboard/AHAD01.37/2mois/Test/AHAD01.37-Test.mp4\",],\n",
    "    working_directory=\"C:/Users/AudreyHay/Documents/Carla/DeepLabCut/\",\n",
    "    copy_videos=False,\n",
    "    multianimal=False\n",
    ")"
   ]
  },
  {
   "cell_type": "code",
   "execution_count": 3,
   "metadata": {},
   "outputs": [
    {
     "name": "stdout",
     "output_type": "stream",
     "text": [
      "Copying the videos\n",
      "Copying the videos\n",
      "Copying the videos\n",
      "Copying the videos\n",
      "Copying the videos\n",
      "Copying the videos\n",
      "Copying the videos\n",
      "Copying the videos\n",
      "Copying the videos\n",
      "Copying the videos\n",
      "Copying the videos\n",
      "Copying the videos\n",
      "Copying the videos\n",
      "New videos were added to the project! Use the function 'extract_frames' to select frames for labeling.\n"
     ]
    }
   ],
   "source": [
    "import deeplabcut\n",
    "deeplabcut.add_new_videos(\n",
    "    \"C:/Users/AudreyHay/Documents/Carla/DeepLabCut/Cheeseboard-CBM-2025-02-06/config.yaml\",\n",
    "  [\n",
    "        \"Z:/forgetting/Carla/Cheeseboard/AHAD01.37/6mois/Post/01_07_2025/AHAD01.37-AfterTest5-1.mp4\",\n",
    "        \"Z:/forgetting/Carla/Cheeseboard/AHAD01.37/6mois/Post/01_07_2025/AHAD01.37-AfterTest5-2.mp4\",\n",
    "        \"Z:/forgetting/Carla/Cheeseboard/AHAD01.37/6mois/Post/01_07_2025/AHAD01.37-AfterTest5-3.mp4\",\n",
    "        \"Z:/forgetting/Carla/Cheeseboard/AHAD01.38/6mois/Post/01_07_2025/AHAD01.38-AfterTest5-1.mp4\",\n",
    "        \"Z:/forgetting/Carla/Cheeseboard/AHAD01.38/6mois/Post/01_07_2025/AHAD01.38-AfterTest5-2.mp4\",\n",
    "        \"Z:/forgetting/Carla/Cheeseboard/AHAD01.38/6mois/Post/01_07_2025/AHAD01.38-AfterTest5-3.mp4\",\n",
    "        \"Z:/forgetting/Carla/Cheeseboard/AHAD01.39/6mois/Post/01_07_2025/AHAD01.39-AfterTest5-1.mp4\",\n",
    "        \"Z:/forgetting/Carla/Cheeseboard/AHAD01.39/6mois/Post/01_07_2025/AHAD01.39-AfterTest5-2.mp4\",\n",
    "        \"Z:/forgetting/Carla/Cheeseboard/AHAD01.39/6mois/Post/01_07_2025/AHAD01.39-AfterTest5-3.mp4\",\n",
    "        \"Z:/forgetting/Carla/Cheeseboard/AHAD01.40/6mois/Post/01_07_2025/AHAD01.40-AfterTest5-1.mp4\",\n",
    "        \"Z:/forgetting/Carla/Cheeseboard/AHAD01.40/6mois/Post/01_07_2025/AHAD01.40-AfterTest5-2.mp4\",\n",
    "        \"Z:/forgetting/Carla/Cheeseboard/AHAD01.40/6mois/Post/01_07_2025/AHAD01.40-AfterTest5-3.mp4\",\n",
    "        \"Z:/forgetting/Carla/Cheeseboard/AHAD01.41/6mois/Post/01_07_2025/AHAD01.41-AfterTest5-1.mp4\",\n",
    "        \"Z:/forgetting/Carla/Cheeseboard/AHAD01.41/6mois/Post/01_07_2025/AHAD01.41-AfterTest5-2.mp4\",\n",
    "        \"Z:/forgetting/Carla/Cheeseboard/AHAD01.41/6mois/Post/01_07_2025/AHAD01.41-AfterTest5-3.mp4\",\n",
    "        \"Z:/forgetting/Carla/Cheeseboard/AHAD01.42/6mois/Post/01_07_2025/AHAD01.42-AfterTest5-1.mp4\",\n",
    "        \"Z:/forgetting/Carla/Cheeseboard/AHAD01.42/6mois/Post/01_07_2025/AHAD01.42-AfterTest5-2.mp4\",\n",
    "        \"Z:/forgetting/Carla/Cheeseboard/AHAD01.42/6mois/Post/01_07_2025/AHAD01.42-AfterTest5-3.mp4\",\n",
    "        \"Z:/forgetting/Carla/Cheeseboard/AHAD01.43/6mois/Post/01_07_2025/AHAD01.43-AfterTest5-1.mp4\",\n",
    "        \"Z:/forgetting/Carla/Cheeseboard/AHAD01.43/6mois/Post/01_07_2025/AHAD01.43-AfterTest5-2.mp4\",\n",
    "        \"Z:/forgetting/Carla/Cheeseboard/AHAD01.43/6mois/Post/01_07_2025/AHAD01.43-AfterTest5-3.mp4\",\n",
    "        \"Z:/forgetting/Carla/Cheeseboard/AHAD01.37/6mois/Test/01_07_2025/AHAD01.37-Test5.mp4\",\n",
    "        \"Z:/forgetting/Carla/Cheeseboard/AHAD01.38/6mois/Test/01_07_2025/AHAD01.38-Test5.mp4\",\n",
    "        \"Z:/forgetting/Carla/Cheeseboard/AHAD01.39/6mois/Test/01_07_2025/AHAD01.39-Test5.mp4\",\n",
    "        \"Z:/forgetting/Carla/Cheeseboard/AHAD01.40/6mois/Test/01_07_2025/AHAD01.40-Test5.mp4\",\n",
    "        \"Z:/forgetting/Carla/Cheeseboard/AHAD01.41/6mois/Test/01_07_2025/AHAD01.41-Test5.mp4\",\n",
    "        \"Z:/forgetting/Carla/Cheeseboard/AHAD01.42/6mois/Test/01_07_2025/AHAD01.42-Test5.mp4\",\n",
    "        \"Z:/forgetting/Carla/Cheeseboard/AHAD01.43/6mois/Test/01_07_2025/AHAD01.43-Test5.mp4\",\n",
    "\n",
    "        \n",
    "    ],\n",
    "    copy_videos=True\n",
    ")\n"
   ]
  },
  {
   "cell_type": "code",
   "execution_count": 16,
   "metadata": {},
   "outputs": [
    {
     "name": "stdout",
     "output_type": "stream",
     "text": [
      "Config file read successfully.\n",
      "Extracting frames based on uniform ...\n",
      "Uniformly extracting of frames from 0.0  seconds to 190.37  seconds.\n",
      "Extracting frames based on uniform ...\n",
      "Uniformly extracting of frames from 0.0  seconds to 20.71  seconds.\n",
      "Extracting frames based on uniform ...\n",
      "Uniformly extracting of frames from 0.0  seconds to 82.79  seconds.\n",
      "Extracting frames based on uniform ...\n",
      "Uniformly extracting of frames from 0.0  seconds to 64.96  seconds.\n",
      "Extracting frames based on uniform ...\n",
      "Uniformly extracting of frames from 0.0  seconds to 190.37  seconds.\n",
      "Extracting frames based on uniform ...\n",
      "Uniformly extracting of frames from 0.0  seconds to 12.77  seconds.\n",
      "Extracting frames based on uniform ...\n",
      "Uniformly extracting of frames from 0.0  seconds to 50.45  seconds.\n",
      "Extracting frames based on uniform ...\n",
      "Uniformly extracting of frames from 0.0  seconds to 68.91  seconds.\n",
      "Extracting frames based on uniform ...\n",
      "Uniformly extracting of frames from 0.0  seconds to 190.25  seconds.\n",
      "Extracting frames based on uniform ...\n",
      "Uniformly extracting of frames from 0.0  seconds to 192.29  seconds.\n",
      "Extracting frames based on uniform ...\n",
      "Uniformly extracting of frames from 0.0  seconds to 193.25  seconds.\n",
      "Extracting frames based on uniform ...\n",
      "Uniformly extracting of frames from 0.0  seconds to 191.57  seconds.\n",
      "Extracting frames based on uniform ...\n",
      "Uniformly extracting of frames from 0.0  seconds to 193.98  seconds.\n",
      "Extracting frames based on uniform ...\n",
      "Uniformly extracting of frames from 0.0  seconds to 191.57  seconds.\n",
      "Extracting frames based on uniform ...\n",
      "Uniformly extracting of frames from 0.0  seconds to 127.95  seconds.\n",
      "Extracting frames based on uniform ...\n",
      "Uniformly extracting of frames from 0.0  seconds to 34.13  seconds.\n",
      "Extracting frames based on uniform ...\n",
      "Uniformly extracting of frames from 0.0  seconds to 93.68  seconds.\n",
      "Extracting frames based on uniform ...\n",
      "Uniformly extracting of frames from 0.0  seconds to 34.5  seconds.\n",
      "Extracting frames based on uniform ...\n",
      "Uniformly extracting of frames from 0.0  seconds to 60.59  seconds.\n",
      "Extracting frames based on uniform ...\n",
      "Uniformly extracting of frames from 0.0  seconds to 22.75  seconds.\n",
      "Extracting frames based on uniform ...\n",
      "Uniformly extracting of frames from 0.0  seconds to 78.7  seconds.\n",
      "Extracting frames based on uniform ...\n",
      "Uniformly extracting of frames from 0.0  seconds to 28.54  seconds.\n",
      "Extracting frames based on uniform ...\n",
      "Uniformly extracting of frames from 0.0  seconds to 25.39  seconds.\n",
      "Extracting frames based on uniform ...\n",
      "Uniformly extracting of frames from 0.0  seconds to 98.68  seconds.\n",
      "Extracting frames based on uniform ...\n",
      "Uniformly extracting of frames from 0.0  seconds to 111.49  seconds.\n",
      "Extracting frames based on uniform ...\n",
      "Uniformly extracting of frames from 0.0  seconds to 74.37  seconds.\n",
      "Extracting frames based on uniform ...\n",
      "Uniformly extracting of frames from 0.0  seconds to 28.12  seconds.\n",
      "Extracting frames based on uniform ...\n",
      "Uniformly extracting of frames from 0.0  seconds to 27.56  seconds.\n",
      "Extracting frames based on uniform ...\n",
      "Uniformly extracting of frames from 0.0  seconds to 28.06  seconds.\n",
      "Frames were successfully extracted, for the videos listed in the config.yaml file.\n",
      "\n",
      "You can now label the frames using the function 'label_frames' (Note, you should label frames extracted from diverse videos (and many videos; we do not recommend training on single videos!)).\n"
     ]
    }
   ],
   "source": [
    "deeplabcut.extract_frames(\n",
    "    \"C:/Users/AudreyHay/Documents/Carla/DeepLabCut/Cheeseboard-CBM-2025-02-06/config.yaml\",\n",
    "    mode=\"automatic\", \n",
    "    algo=\"uniform\",\n",
    "    crop=False,\n",
    "    userfeedback=False\n",
    ")\n"
   ]
  },
  {
   "cell_type": "code",
   "execution_count": 1,
   "metadata": {},
   "outputs": [
    {
     "ename": "NameError",
     "evalue": "name 'deeplabcut' is not defined",
     "output_type": "error",
     "traceback": [
      "\u001b[1;31m---------------------------------------------------------------------------\u001b[0m",
      "\u001b[1;31mNameError\u001b[0m                                 Traceback (most recent call last)",
      "Cell \u001b[1;32mIn[1], line 1\u001b[0m\n\u001b[1;32m----> 1\u001b[0m \u001b[43mdeeplabcut\u001b[49m\u001b[38;5;241m.\u001b[39mlabel_frames(\u001b[38;5;124m\"\u001b[39m\u001b[38;5;124mC:/Users/AudreyHay/Documents/Carla/DeepLabCut/Cheeseboard-CBM-2025-02-06/config.yaml\u001b[39m\u001b[38;5;124m\"\u001b[39m)\n",
      "\u001b[1;31mNameError\u001b[0m: name 'deeplabcut' is not defined"
     ]
    }
   ],
   "source": [
    "deeplabcut.label_frames(\"C:/Users/AudreyHay/Documents/Carla/DeepLabCut/Cheeseboard-CBM-2025-02-06/config.yaml\")"
   ]
  },
  {
   "cell_type": "code",
   "execution_count": 14,
   "metadata": {},
   "outputs": [
    {
     "name": "stdout",
     "output_type": "stream",
     "text": [
      "Creating images with labels by CBM.\n"
     ]
    },
    {
     "name": "stderr",
     "output_type": "stream",
     "text": [
      "100%|██████████| 26/26 [00:05<00:00,  5.02it/s]\n",
      "100%|██████████| 26/26 [00:05<00:00,  5.02it/s]\n",
      "100%|██████████| 25/25 [00:04<00:00,  5.03it/s]\n",
      "100%|██████████| 26/26 [00:04<00:00,  5.42it/s]\n",
      "100%|██████████| 25/25 [00:04<00:00,  5.54it/s]\n",
      "100%|██████████| 24/24 [00:04<00:00,  5.55it/s]\n"
     ]
    },
    {
     "name": "stdout",
     "output_type": "stream",
     "text": [
      "Attention: C:\\Users\\AudreyHay\\Documents\\Carla\\DeepLabCut\\Cheeseboard-CBM-2025-02-06\\labeled-data\\habituation J3-2 does not appear to have labeled data!\n"
     ]
    },
    {
     "name": "stderr",
     "output_type": "stream",
     "text": [
      "100%|██████████| 27/27 [00:05<00:00,  4.74it/s]\n"
     ]
    },
    {
     "name": "stdout",
     "output_type": "stream",
     "text": [
      "Attention: C:\\Users\\AudreyHay\\Documents\\Carla\\DeepLabCut\\Cheeseboard-CBM-2025-02-06\\labeled-data\\Habituation J3-3 does not appear to have labeled data!\n"
     ]
    },
    {
     "name": "stderr",
     "output_type": "stream",
     "text": [
      "100%|██████████| 27/27 [00:05<00:00,  4.99it/s]\n",
      "100%|██████████| 22/22 [00:04<00:00,  5.00it/s]"
     ]
    },
    {
     "name": "stdout",
     "output_type": "stream",
     "text": [
      "Attention: C:\\Users\\AudreyHay\\Documents\\Carla\\DeepLabCut\\Cheeseboard-CBM-2025-02-06\\labeled-data\\Training J1-3 does not appear to have labeled data!\n",
      "Attention: C:\\Users\\AudreyHay\\Documents\\Carla\\DeepLabCut\\Cheeseboard-CBM-2025-02-06\\labeled-data\\Training J1-4 does not appear to have labeled data!\n",
      "Attention: C:\\Users\\AudreyHay\\Documents\\Carla\\DeepLabCut\\Cheeseboard-CBM-2025-02-06\\labeled-data\\Training J1-5 does not appear to have labeled data!\n",
      "Attention: C:\\Users\\AudreyHay\\Documents\\Carla\\DeepLabCut\\Cheeseboard-CBM-2025-02-06\\labeled-data\\Training J2-1a does not appear to have labeled data!\n",
      "Attention: C:\\Users\\AudreyHay\\Documents\\Carla\\DeepLabCut\\Cheeseboard-CBM-2025-02-06\\labeled-data\\Training J2-1b does not appear to have labeled data!\n",
      "Attention: C:\\Users\\AudreyHay\\Documents\\Carla\\DeepLabCut\\Cheeseboard-CBM-2025-02-06\\labeled-data\\Training J2-2 does not appear to have labeled data!\n",
      "Attention: C:\\Users\\AudreyHay\\Documents\\Carla\\DeepLabCut\\Cheeseboard-CBM-2025-02-06\\labeled-data\\Training J2-3 does not appear to have labeled data!\n",
      "Attention: C:\\Users\\AudreyHay\\Documents\\Carla\\DeepLabCut\\Cheeseboard-CBM-2025-02-06\\labeled-data\\Training J2-4 does not appear to have labeled data!\n",
      "Attention: C:\\Users\\AudreyHay\\Documents\\Carla\\DeepLabCut\\Cheeseboard-CBM-2025-02-06\\labeled-data\\Training J2-5 does not appear to have labeled data!\n",
      "Attention: C:\\Users\\AudreyHay\\Documents\\Carla\\DeepLabCut\\Cheeseboard-CBM-2025-02-06\\labeled-data\\Training J3-1 does not appear to have labeled data!\n",
      "Attention: C:\\Users\\AudreyHay\\Documents\\Carla\\DeepLabCut\\Cheeseboard-CBM-2025-02-06\\labeled-data\\Training J3-2 does not appear to have labeled data!\n",
      "Attention: C:\\Users\\AudreyHay\\Documents\\Carla\\DeepLabCut\\Cheeseboard-CBM-2025-02-06\\labeled-data\\Training J3-3 does not appear to have labeled data!\n",
      "Attention: C:\\Users\\AudreyHay\\Documents\\Carla\\DeepLabCut\\Cheeseboard-CBM-2025-02-06\\labeled-data\\Training J3-4 does not appear to have labeled data!\n",
      "Attention: C:\\Users\\AudreyHay\\Documents\\Carla\\DeepLabCut\\Cheeseboard-CBM-2025-02-06\\labeled-data\\Training J3-5 does not appear to have labeled data!\n",
      "Attention: C:\\Users\\AudreyHay\\Documents\\Carla\\DeepLabCut\\Cheeseboard-CBM-2025-02-06\\labeled-data\\Training J4-1 does not appear to have labeled data!\n",
      "Attention: C:\\Users\\AudreyHay\\Documents\\Carla\\DeepLabCut\\Cheeseboard-CBM-2025-02-06\\labeled-data\\Training J4-2 does not appear to have labeled data!\n",
      "Attention: C:\\Users\\AudreyHay\\Documents\\Carla\\DeepLabCut\\Cheeseboard-CBM-2025-02-06\\labeled-data\\Training J4-3 does not appear to have labeled data!\n",
      "Attention: C:\\Users\\AudreyHay\\Documents\\Carla\\DeepLabCut\\Cheeseboard-CBM-2025-02-06\\labeled-data\\Training J4-4 does not appear to have labeled data!\n",
      "Attention: C:\\Users\\AudreyHay\\Documents\\Carla\\DeepLabCut\\Cheeseboard-CBM-2025-02-06\\labeled-data\\Training J4-5 does not appear to have labeled data!\n",
      "Attention: C:\\Users\\AudreyHay\\Documents\\Carla\\DeepLabCut\\Cheeseboard-CBM-2025-02-06\\labeled-data\\Test does not appear to have labeled data!\n",
      "Attention: C:\\Users\\AudreyHay\\Documents\\Carla\\DeepLabCut\\Cheeseboard-CBM-2025-02-06\\labeled-data\\Test 3minutes does not appear to have labeled data!\n",
      "Attention: C:\\Users\\AudreyHay\\Documents\\Carla\\DeepLabCut\\Cheeseboard-CBM-2025-02-06\\labeled-data\\Test-3mins does not appear to have labeled data!\n",
      "Attention: C:\\Users\\AudreyHay\\Documents\\Carla\\DeepLabCut\\Cheeseboard-CBM-2025-02-06\\labeled-data\\AHAD02.05_3minutes does not appear to have labeled data!\n",
      "Attention: C:\\Users\\AudreyHay\\Documents\\Carla\\DeepLabCut\\Cheeseboard-CBM-2025-02-06\\labeled-data\\AHAD02.06 does not appear to have labeled data!\n",
      "Attention: C:\\Users\\AudreyHay\\Documents\\Carla\\DeepLabCut\\Cheeseboard-CBM-2025-02-06\\labeled-data\\AHAD02.01-Training J1-1 does not appear to have labeled data!\n",
      "Attention: C:\\Users\\AudreyHay\\Documents\\Carla\\DeepLabCut\\Cheeseboard-CBM-2025-02-06\\labeled-data\\AHAD02.02-Training J1-1 does not appear to have labeled data!\n",
      "Attention: C:\\Users\\AudreyHay\\Documents\\Carla\\DeepLabCut\\Cheeseboard-CBM-2025-02-06\\labeled-data\\AHAD02.02-Training J1-2 does not appear to have labeled data!\n",
      "Attention: C:\\Users\\AudreyHay\\Documents\\Carla\\DeepLabCut\\Cheeseboard-CBM-2025-02-06\\labeled-data\\AHAD02.02-Training J1-3 does not appear to have labeled data!\n",
      "Attention: C:\\Users\\AudreyHay\\Documents\\Carla\\DeepLabCut\\Cheeseboard-CBM-2025-02-06\\labeled-data\\AHAD02.01-Training J1-2 does not appear to have labeled data!\n",
      "Attention: C:\\Users\\AudreyHay\\Documents\\Carla\\DeepLabCut\\Cheeseboard-CBM-2025-02-06\\labeled-data\\AHAD02.01-Training J1-3 does not appear to have labeled data!\n",
      "Attention: C:\\Users\\AudreyHay\\Documents\\Carla\\DeepLabCut\\Cheeseboard-CBM-2025-02-06\\labeled-data\\AHAD02.03-Training J1-1 does not appear to have labeled data!\n",
      "Attention: C:\\Users\\AudreyHay\\Documents\\Carla\\DeepLabCut\\Cheeseboard-CBM-2025-02-06\\labeled-data\\AHAD02.03-Training J1-2 does not appear to have labeled data!\n",
      "Attention: C:\\Users\\AudreyHay\\Documents\\Carla\\DeepLabCut\\Cheeseboard-CBM-2025-02-06\\labeled-data\\AHAD02.03-Training J1-3 does not appear to have labeled data!\n",
      "Attention: C:\\Users\\AudreyHay\\Documents\\Carla\\DeepLabCut\\Cheeseboard-CBM-2025-02-06\\labeled-data\\AHAD02.03-Test 3minutes does not appear to have labeled data!\n",
      "Attention: C:\\Users\\AudreyHay\\Documents\\Carla\\DeepLabCut\\Cheeseboard-CBM-2025-02-06\\labeled-data\\AHAD02.04-Training J1-1 does not appear to have labeled data!\n",
      "Attention: C:\\Users\\AudreyHay\\Documents\\Carla\\DeepLabCut\\Cheeseboard-CBM-2025-02-06\\labeled-data\\AHAD02.04-Training J1-2 does not appear to have labeled data!\n",
      "Attention: C:\\Users\\AudreyHay\\Documents\\Carla\\DeepLabCut\\Cheeseboard-CBM-2025-02-06\\labeled-data\\AHAD02.04-Training J1-3 does not appear to have labeled data!\n",
      "Attention: C:\\Users\\AudreyHay\\Documents\\Carla\\DeepLabCut\\Cheeseboard-CBM-2025-02-06\\labeled-data\\AHAD02.04-Training J4-1 does not appear to have labeled data!\n",
      "Attention: C:\\Users\\AudreyHay\\Documents\\Carla\\DeepLabCut\\Cheeseboard-CBM-2025-02-06\\labeled-data\\AHAD02.04-Training J4-2 does not appear to have labeled data!\n",
      "Attention: C:\\Users\\AudreyHay\\Documents\\Carla\\DeepLabCut\\Cheeseboard-CBM-2025-02-06\\labeled-data\\AHAD02.04-Training J4-3 does not appear to have labeled data!\n",
      "Attention: C:\\Users\\AudreyHay\\Documents\\Carla\\DeepLabCut\\Cheeseboard-CBM-2025-02-06\\labeled-data\\AHAD02.03-Training J4-1 does not appear to have labeled data!\n",
      "Attention: C:\\Users\\AudreyHay\\Documents\\Carla\\DeepLabCut\\Cheeseboard-CBM-2025-02-06\\labeled-data\\AHAD02.03-Training J4-2 does not appear to have labeled data!\n",
      "Attention: C:\\Users\\AudreyHay\\Documents\\Carla\\DeepLabCut\\Cheeseboard-CBM-2025-02-06\\labeled-data\\AHAD02.03-Training J4-3 does not appear to have labeled data!\n",
      "Attention: C:\\Users\\AudreyHay\\Documents\\Carla\\DeepLabCut\\Cheeseboard-CBM-2025-02-06\\labeled-data\\AHAD02.05-Training J1-1 does not appear to have labeled data!\n",
      "Attention: C:\\Users\\AudreyHay\\Documents\\Carla\\DeepLabCut\\Cheeseboard-CBM-2025-02-06\\labeled-data\\AHAD02.05-Training J1-2 does not appear to have labeled data!\n",
      "Attention: C:\\Users\\AudreyHay\\Documents\\Carla\\DeepLabCut\\Cheeseboard-CBM-2025-02-06\\labeled-data\\AHAD02.05-Training J1-3 does not appear to have labeled data!\n",
      "Attention: C:\\Users\\AudreyHay\\Documents\\Carla\\DeepLabCut\\Cheeseboard-CBM-2025-02-06\\labeled-data\\AHAD02.05-Training J4-1 does not appear to have labeled data!\n",
      "Attention: C:\\Users\\AudreyHay\\Documents\\Carla\\DeepLabCut\\Cheeseboard-CBM-2025-02-06\\labeled-data\\AHAD02.05-Training J4-2 does not appear to have labeled data!\n",
      "Attention: C:\\Users\\AudreyHay\\Documents\\Carla\\DeepLabCut\\Cheeseboard-CBM-2025-02-06\\labeled-data\\AHAD02.05-Training J4-3 does not appear to have labeled data!\n",
      "Attention: C:\\Users\\AudreyHay\\Documents\\Carla\\DeepLabCut\\Cheeseboard-CBM-2025-02-06\\labeled-data\\AHAD02.05_3minutes does not appear to have labeled data!\n",
      "Attention: C:\\Users\\AudreyHay\\Documents\\Carla\\DeepLabCut\\Cheeseboard-CBM-2025-02-06\\labeled-data\\AHAD02.06-Training J1-1 does not appear to have labeled data!\n",
      "Attention: C:\\Users\\AudreyHay\\Documents\\Carla\\DeepLabCut\\Cheeseboard-CBM-2025-02-06\\labeled-data\\AHAD02.06-Training J1-2 does not appear to have labeled data!\n",
      "Attention: C:\\Users\\AudreyHay\\Documents\\Carla\\DeepLabCut\\Cheeseboard-CBM-2025-02-06\\labeled-data\\AHAD02.06-Training J1-3 does not appear to have labeled data!\n",
      "Attention: C:\\Users\\AudreyHay\\Documents\\Carla\\DeepLabCut\\Cheeseboard-CBM-2025-02-06\\labeled-data\\AHAD02.06-Training J4-1 does not appear to have labeled data!\n",
      "Attention: C:\\Users\\AudreyHay\\Documents\\Carla\\DeepLabCut\\Cheeseboard-CBM-2025-02-06\\labeled-data\\AHAD02.06-Training J4-2 does not appear to have labeled data!\n",
      "Attention: C:\\Users\\AudreyHay\\Documents\\Carla\\DeepLabCut\\Cheeseboard-CBM-2025-02-06\\labeled-data\\AHAD02.06-Training J4-3 does not appear to have labeled data!\n",
      "Attention: C:\\Users\\AudreyHay\\Documents\\Carla\\DeepLabCut\\Cheeseboard-CBM-2025-02-06\\labeled-data\\AHAD02.07-Training J1-1 does not appear to have labeled data!\n",
      "Attention: C:\\Users\\AudreyHay\\Documents\\Carla\\DeepLabCut\\Cheeseboard-CBM-2025-02-06\\labeled-data\\AHAD02.07-Training J1-2 does not appear to have labeled data!\n",
      "Attention: C:\\Users\\AudreyHay\\Documents\\Carla\\DeepLabCut\\Cheeseboard-CBM-2025-02-06\\labeled-data\\AHAD02.07-Training J1-3 does not appear to have labeled data!\n",
      "Attention: C:\\Users\\AudreyHay\\Documents\\Carla\\DeepLabCut\\Cheeseboard-CBM-2025-02-06\\labeled-data\\AHAD02.08-Training J1-1 does not appear to have labeled data!\n",
      "Attention: C:\\Users\\AudreyHay\\Documents\\Carla\\DeepLabCut\\Cheeseboard-CBM-2025-02-06\\labeled-data\\AHAD02.08-Training J1-2 does not appear to have labeled data!\n",
      "Attention: C:\\Users\\AudreyHay\\Documents\\Carla\\DeepLabCut\\Cheeseboard-CBM-2025-02-06\\labeled-data\\AHAD02.08-Training J1-3 does not appear to have labeled data!\n",
      "Attention: C:\\Users\\AudreyHay\\Documents\\Carla\\DeepLabCut\\Cheeseboard-CBM-2025-02-06\\labeled-data\\AHAD02.01-Test 3min does not appear to have labeled data!\n",
      "Attention: C:\\Users\\AudreyHay\\Documents\\Carla\\DeepLabCut\\Cheeseboard-CBM-2025-02-06\\labeled-data\\AHAD02.02-Test 3min does not appear to have labeled data!\n",
      "Attention: C:\\Users\\AudreyHay\\Documents\\Carla\\DeepLabCut\\Cheeseboard-CBM-2025-02-06\\labeled-data\\AHAD02.07-Test 3min does not appear to have labeled data!\n",
      "Attention: C:\\Users\\AudreyHay\\Documents\\Carla\\DeepLabCut\\Cheeseboard-CBM-2025-02-06\\labeled-data\\AHAD02.08-Test 3min does not appear to have labeled data!\n",
      "Attention: C:\\Users\\AudreyHay\\Documents\\Carla\\DeepLabCut\\Cheeseboard-CBM-2025-02-06\\labeled-data\\AHAD01.37-Test does not appear to have labeled data!\n",
      "Attention: C:\\Users\\AudreyHay\\Documents\\Carla\\DeepLabCut\\Cheeseboard-CBM-2025-02-06\\labeled-data\\AHAD01.38-Test does not appear to have labeled data!\n",
      "Attention: C:\\Users\\AudreyHay\\Documents\\Carla\\DeepLabCut\\Cheeseboard-CBM-2025-02-06\\labeled-data\\AHAD01.44-Test does not appear to have labeled data!\n",
      "Attention: C:\\Users\\AudreyHay\\Documents\\Carla\\DeepLabCut\\Cheeseboard-CBM-2025-02-06\\labeled-data\\AHAD01.43-Test does not appear to have labeled data!\n",
      "Attention: C:\\Users\\AudreyHay\\Documents\\Carla\\DeepLabCut\\Cheeseboard-CBM-2025-02-06\\labeled-data\\AHAD01.42-Test does not appear to have labeled data!\n",
      "Attention: C:\\Users\\AudreyHay\\Documents\\Carla\\DeepLabCut\\Cheeseboard-CBM-2025-02-06\\labeled-data\\AHAD01.41-Test does not appear to have labeled data!\n",
      "Attention: C:\\Users\\AudreyHay\\Documents\\Carla\\DeepLabCut\\Cheeseboard-CBM-2025-02-06\\labeled-data\\AHAD01.40-Test does not appear to have labeled data!\n",
      "Attention: C:\\Users\\AudreyHay\\Documents\\Carla\\DeepLabCut\\Cheeseboard-CBM-2025-02-06\\labeled-data\\AHAD01.39-Test does not appear to have labeled data!\n",
      "Attention: C:\\Users\\AudreyHay\\Documents\\Carla\\DeepLabCut\\Cheeseboard-CBM-2025-02-06\\labeled-data\\AHAD01.38-Test does not appear to have labeled data!\n",
      "Attention: C:\\Users\\AudreyHay\\Documents\\Carla\\DeepLabCut\\Cheeseboard-CBM-2025-02-06\\labeled-data\\AHAD01.03-Test2 does not appear to have labeled data!\n",
      "Attention: C:\\Users\\AudreyHay\\Documents\\Carla\\DeepLabCut\\Cheeseboard-CBM-2025-02-06\\labeled-data\\AHAD02.01-Test2 does not appear to have labeled data!\n",
      "Attention: C:\\Users\\AudreyHay\\Documents\\Carla\\DeepLabCut\\Cheeseboard-CBM-2025-02-06\\labeled-data\\AHAD02.02-Test2 does not appear to have labeled data!\n",
      "Attention: C:\\Users\\AudreyHay\\Documents\\Carla\\DeepLabCut\\Cheeseboard-CBM-2025-02-06\\labeled-data\\AHAD02.05-Test2 does not appear to have labeled data!\n",
      "Attention: C:\\Users\\AudreyHay\\Documents\\Carla\\DeepLabCut\\Cheeseboard-CBM-2025-02-06\\labeled-data\\AHAD02.06-Test2 does not appear to have labeled data!\n",
      "Attention: C:\\Users\\AudreyHay\\Documents\\Carla\\DeepLabCut\\Cheeseboard-CBM-2025-02-06\\labeled-data\\AHAD02.07-Test2 does not appear to have labeled data!\n",
      "Attention: C:\\Users\\AudreyHay\\Documents\\Carla\\DeepLabCut\\Cheeseboard-CBM-2025-02-06\\labeled-data\\AHAD02.08-Test2 does not appear to have labeled data!\n",
      "Attention: C:\\Users\\AudreyHay\\Documents\\Carla\\DeepLabCut\\Cheeseboard-CBM-2025-02-06\\labeled-data\\AHAD01.37-Training J1-1 does not appear to have labeled data!\n",
      "Attention: C:\\Users\\AudreyHay\\Documents\\Carla\\DeepLabCut\\Cheeseboard-CBM-2025-02-06\\labeled-data\\AHAD01.37-Training J1-2 does not appear to have labeled data!\n",
      "Attention: C:\\Users\\AudreyHay\\Documents\\Carla\\DeepLabCut\\Cheeseboard-CBM-2025-02-06\\labeled-data\\AHAD01.37-Training J1-3 does not appear to have labeled data!\n",
      "Attention: C:\\Users\\AudreyHay\\Documents\\Carla\\DeepLabCut\\Cheeseboard-CBM-2025-02-06\\labeled-data\\AHAD01.37-Training J1-4 does not appear to have labeled data!\n",
      "Attention: C:\\Users\\AudreyHay\\Documents\\Carla\\DeepLabCut\\Cheeseboard-CBM-2025-02-06\\labeled-data\\AHAD01.37-Training J1-5 does not appear to have labeled data!\n",
      "Attention: C:\\Users\\AudreyHay\\Documents\\Carla\\DeepLabCut\\Cheeseboard-CBM-2025-02-06\\labeled-data\\AHAD01.37-Training J1-6 does not appear to have labeled data!\n",
      "Attention: C:\\Users\\AudreyHay\\Documents\\Carla\\DeepLabCut\\Cheeseboard-CBM-2025-02-06\\labeled-data\\AHAD01.37-Training J1-7 does not appear to have labeled data!\n",
      "Attention: C:\\Users\\AudreyHay\\Documents\\Carla\\DeepLabCut\\Cheeseboard-CBM-2025-02-06\\labeled-data\\AHAD01.37-Training J1-8 does not appear to have labeled data!\n",
      "Attention: C:\\Users\\AudreyHay\\Documents\\Carla\\DeepLabCut\\Cheeseboard-CBM-2025-02-06\\labeled-data\\AHAD01.37-Training J2-1 does not appear to have labeled data!\n",
      "Attention: C:\\Users\\AudreyHay\\Documents\\Carla\\DeepLabCut\\Cheeseboard-CBM-2025-02-06\\labeled-data\\AHAD01.37-Training J2-2 does not appear to have labeled data!\n",
      "Attention: C:\\Users\\AudreyHay\\Documents\\Carla\\DeepLabCut\\Cheeseboard-CBM-2025-02-06\\labeled-data\\AHAD01.37-Training J2-3 does not appear to have labeled data!\n",
      "Attention: C:\\Users\\AudreyHay\\Documents\\Carla\\DeepLabCut\\Cheeseboard-CBM-2025-02-06\\labeled-data\\AHAD01.37-Training J2-4 does not appear to have labeled data!\n",
      "Attention: C:\\Users\\AudreyHay\\Documents\\Carla\\DeepLabCut\\Cheeseboard-CBM-2025-02-06\\labeled-data\\AHAD01.37-Training J2-5 does not appear to have labeled data!\n",
      "Attention: C:\\Users\\AudreyHay\\Documents\\Carla\\DeepLabCut\\Cheeseboard-CBM-2025-02-06\\labeled-data\\AHAD01.37-Training J2-6 does not appear to have labeled data!\n",
      "Attention: C:\\Users\\AudreyHay\\Documents\\Carla\\DeepLabCut\\Cheeseboard-CBM-2025-02-06\\labeled-data\\AHAD01.37-Training J2-7 does not appear to have labeled data!\n",
      "Attention: C:\\Users\\AudreyHay\\Documents\\Carla\\DeepLabCut\\Cheeseboard-CBM-2025-02-06\\labeled-data\\AHAD01.37-Training J2-8 does not appear to have labeled data!\n",
      "Attention: C:\\Users\\AudreyHay\\Documents\\Carla\\DeepLabCut\\Cheeseboard-CBM-2025-02-06\\labeled-data\\AHAD01.37-Training J3-1 does not appear to have labeled data!\n",
      "Attention: C:\\Users\\AudreyHay\\Documents\\Carla\\DeepLabCut\\Cheeseboard-CBM-2025-02-06\\labeled-data\\AHAD01.37-Training J3-2 does not appear to have labeled data!\n",
      "Attention: C:\\Users\\AudreyHay\\Documents\\Carla\\DeepLabCut\\Cheeseboard-CBM-2025-02-06\\labeled-data\\AHAD01.37-Training J3-3 does not appear to have labeled data!\n",
      "Attention: C:\\Users\\AudreyHay\\Documents\\Carla\\DeepLabCut\\Cheeseboard-CBM-2025-02-06\\labeled-data\\AHAD01.37-Training J3-4 does not appear to have labeled data!\n",
      "Attention: C:\\Users\\AudreyHay\\Documents\\Carla\\DeepLabCut\\Cheeseboard-CBM-2025-02-06\\labeled-data\\AHAD01.37-Training J3-5 does not appear to have labeled data!\n",
      "Attention: C:\\Users\\AudreyHay\\Documents\\Carla\\DeepLabCut\\Cheeseboard-CBM-2025-02-06\\labeled-data\\AHAD01.37-Training J3-6 does not appear to have labeled data!\n",
      "Attention: C:\\Users\\AudreyHay\\Documents\\Carla\\DeepLabCut\\Cheeseboard-CBM-2025-02-06\\labeled-data\\AHAD01.37-Training J3-7 does not appear to have labeled data!\n",
      "Attention: C:\\Users\\AudreyHay\\Documents\\Carla\\DeepLabCut\\Cheeseboard-CBM-2025-02-06\\labeled-data\\AHAD01.37-Training J4-1 does not appear to have labeled data!\n",
      "Attention: C:\\Users\\AudreyHay\\Documents\\Carla\\DeepLabCut\\Cheeseboard-CBM-2025-02-06\\labeled-data\\AHAD01.37-Training J4-2 does not appear to have labeled data!\n",
      "Attention: C:\\Users\\AudreyHay\\Documents\\Carla\\DeepLabCut\\Cheeseboard-CBM-2025-02-06\\labeled-data\\AHAD01.37-Training J4-3 does not appear to have labeled data!\n",
      "Attention: C:\\Users\\AudreyHay\\Documents\\Carla\\DeepLabCut\\Cheeseboard-CBM-2025-02-06\\labeled-data\\AHAD01.37-Training J4-4 does not appear to have labeled data!\n",
      "Attention: C:\\Users\\AudreyHay\\Documents\\Carla\\DeepLabCut\\Cheeseboard-CBM-2025-02-06\\labeled-data\\AHAD01.39-Test does not appear to have labeled data!\n",
      "Attention: C:\\Users\\AudreyHay\\Documents\\Carla\\DeepLabCut\\Cheeseboard-CBM-2025-02-06\\labeled-data\\AHAD01.38-Test does not appear to have labeled data!\n",
      "If all the labels are ok, then use the function 'create_training_dataset' to create the training dataset!\n"
     ]
    },
    {
     "name": "stderr",
     "output_type": "stream",
     "text": [
      "\n"
     ]
    }
   ],
   "source": [
    "deeplabcut.check_labels(\"C:/Users/AudreyHay/Documents/Carla/DeepLabCut/Cheeseboard-CBM-2025-02-06/config.yaml\", visualizeindividuals=False)"
   ]
  }
 ],
 "metadata": {
  "kernelspec": {
   "display_name": "DEEPLABCUT",
   "language": "python",
   "name": "python3"
  },
  "language_info": {
   "codemirror_mode": {
    "name": "ipython",
    "version": 3
   },
   "file_extension": ".py",
   "mimetype": "text/x-python",
   "name": "python",
   "nbconvert_exporter": "python",
   "pygments_lexer": "ipython3",
   "version": "3.10.16"
  }
 },
 "nbformat": 4,
 "nbformat_minor": 2
}
