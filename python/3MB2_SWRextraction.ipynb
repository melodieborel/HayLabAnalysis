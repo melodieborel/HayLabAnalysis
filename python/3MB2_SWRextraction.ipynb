{
 "cells": [
  {
   "cell_type": "markdown",
   "metadata": {},
   "source": [
    "# Extraction of SWR from CA1 recordings\n",
    "\n",
    "Restarting from LFPwake0 and LFPwakeremoved.\n",
    "\n",
    "LFPwakeremoved will be used to determined signal variance for threshold adjustement. \n",
    "\n",
    "LFPwake0 will be used for time determination. "
   ]
  },
  {
   "cell_type": "markdown",
   "metadata": {},
   "source": [
    "## Load LFP and packages"
   ]
  },
  {
   "cell_type": "code",
   "execution_count": 1,
   "metadata": {},
   "outputs": [
    {
     "name": "stderr",
     "output_type": "stream",
     "text": [
      "/var/folders/jq/nz6nvbd54ns2lkjvj31_7_4r0000gn/T/ipykernel_82615/3414675779.py:6: DeprecationWarning: \n",
      "Pyarrow will become a required dependency of pandas in the next major release of pandas (pandas 3.0),\n",
      "(to allow more performant data types, such as the Arrow string type, and better interoperability with other libraries)\n",
      "but was not found to be installed on your system.\n",
      "If this would cause problems for you,\n",
      "please provide us feedback at https://github.com/pandas-dev/pandas/issues/54466\n",
      "        \n",
      "  import pandas as pd\n"
     ]
    },
    {
     "data": {
      "text/plain": [
       "(1000000,)"
      ]
     },
     "execution_count": 1,
     "metadata": {},
     "output_type": "execute_result"
    }
   ],
   "source": [
    "from scipy import signal\n",
    "import numpy as np\n",
    "import matplotlib.pyplot as plt\n",
    "from matplotlib.widgets import Slider, Button, Cursor\n",
    "from scipy import fftpack\n",
    "import pandas as pd\n",
    "from pathlib import Path\n",
    "%matplotlib widget\n",
    "\n",
    "\n",
    "from ephyviewer import mkQApp, MainViewer, TraceViewer, EventList, InMemoryEventSource\n",
    "from ephyviewer import AnalogSignalSourceWithScatter\n",
    "import ephyviewer\n",
    "\n",
    "folder_base = Path('/Users/ahay/Documents/DATA/Opto_Calbindin/Orange/20240220')\n",
    "filename = folder_base / f'LFPwake0.npy'\n",
    "filename3 = folder_base / f'LFPwakeremoved.npy'\n",
    "filename2 = folder_base / f'RawDataChannelExtractedDS.npy'\n",
    "EMGbooleaninput = folder_base / f'EMGframeBoolean.pkl'\n",
    "\n",
    "EMGboolean = pd.read_pickle(EMGbooleaninput)\n",
    "LFPwakeremoved = np.load(filename3, mmap_mode= 'r')\n",
    "All = np.load(filename2, mmap_mode= 'r')\n",
    "All = All\n",
    "CA1 = All[0:1000000, 27]-All[0:1000000, 29]\n",
    "CA1wakeremoved = LFPwakeremoved[0:1000000, 27]-LFPwakeremoved[0:1000000,29]\n",
    "EMGboolean = EMGboolean[0:1000000]\n",
    "CA1.shape\n",
    "\n"
   ]
  },
  {
   "cell_type": "markdown",
   "metadata": {},
   "source": [
    "# Band pass filter\n",
    "        SWR: 120-200 Hz"
   ]
  },
  {
   "cell_type": "code",
   "execution_count": 2,
   "metadata": {},
   "outputs": [],
   "source": [
    "# Filtre parameter:\n",
    "f_lowcut = 120.\n",
    "f_hicut = 200.\n",
    "fs = 1000\n",
    "nyq = 0.5 * fs\n",
    "N = 6                 # Filtre order\n",
    "Wn = [f_lowcut/nyq,f_hicut/nyq]  # Nyquist frequency fraction\n",
    "\n",
    "# Filtering:\n",
    "b, a = signal.butter(N, Wn, 'band')\n",
    "filt_CA1 = signal.filtfilt(b, a, CA1)\n",
    "filt_CA1wakeremoved = signal.filtfilt(b, a, CA1wakeremoved)\n",
    "\n",
    "# Plot\n",
    "#times = np.arange(0, CA1.size/fs, 1./fs)\n",
    "#timesmin = np.arange(0, CA1.size/fs/60, 1./fs/60)\n",
    "#fig, ax = plt.subplots()\n",
    "#ax.plot(timesmin, filt_CA1)"
   ]
  },
  {
   "cell_type": "markdown",
   "metadata": {},
   "source": [
    "## Continuous Wavelet Transform and projection calculation\n",
    "\n",
    "First on signal with no wake time to determine sd of signal"
   ]
  },
  {
   "cell_type": "code",
   "execution_count": 3,
   "metadata": {},
   "outputs": [
    {
     "name": "stderr",
     "output_type": "stream",
     "text": [
      "/var/folders/jq/nz6nvbd54ns2lkjvj31_7_4r0000gn/T/ipykernel_82615/1443763386.py:5: DeprecationWarning: scipy.signal.cwt is deprecated in SciPy 1.12 and will be removed\n",
      "in SciPy 1.15. We recommend using PyWavelets instead.\n",
      "\n",
      "  CA1NWcwt = signal.cwt(filt_CA1wakeremoved, signal.morlet2, widths, w=w)\n"
     ]
    }
   ],
   "source": [
    "# Parameter and computation of CWT\n",
    "w = 10.\n",
    "freq = np.linspace(120, 200, 80)\n",
    "widths = w*fs / (2*freq*np.pi)\n",
    "CA1NWcwt = signal.cwt(filt_CA1wakeremoved, signal.morlet2, widths, w=w)\n",
    "\n",
    "# Projection calculation\n",
    "absCA1NWcwt = np.absolute(CA1NWcwt)\n",
    "proj_CA1NWcwt = np.sum(absCA1NWcwt, axis = 0)/80\n",
    "sdproj_CA1cwt = np.std(proj_CA1NWcwt)\n",
    "sd3proj_CA1cwt = sdproj_CA1cwt*3\n",
    "sd05proj_CA1cwt = sdproj_CA1cwt*0.5"
   ]
  },
  {
   "cell_type": "markdown",
   "metadata": {},
   "source": [
    "Second on the signal for which wake times have been zeroed"
   ]
  },
  {
   "cell_type": "code",
   "execution_count": 4,
   "metadata": {},
   "outputs": [
    {
     "name": "stderr",
     "output_type": "stream",
     "text": [
      "/var/folders/jq/nz6nvbd54ns2lkjvj31_7_4r0000gn/T/ipykernel_82615/2403058388.py:15: DeprecationWarning: scipy.signal.cwt is deprecated in SciPy 1.12 and will be removed\n",
      "in SciPy 1.15. We recommend using PyWavelets instead.\n",
      "\n",
      "  CA1cwtWake0cons = signal.cwt(fCA1wake0C, signal.morlet2, widths, w=w)\n",
      "/var/folders/jq/nz6nvbd54ns2lkjvj31_7_4r0000gn/T/ipykernel_82615/2403058388.py:16: DeprecationWarning: scipy.signal.cwt is deprecated in SciPy 1.12 and will be removed\n",
      "in SciPy 1.15. We recommend using PyWavelets instead.\n",
      "\n",
      "  CA1cwtWake0lib = signal.cwt(fCA1wake0L, signal.morlet2, widths, w=w)\n"
     ]
    }
   ],
   "source": [
    "# Conservative boolean filtering of CA1 filtered signal\n",
    "BooleanCons = EMGboolean['BooleanConservative']\n",
    "fCA1wake0C = filt_CA1.copy()\n",
    "fCA1wake0C[BooleanCons] = 0\n",
    "CA1wake0C = CA1.copy()\n",
    "CA1wake0C[BooleanCons] = 0\n",
    "# Liberal boolean filtering of CA1 filtered signal\n",
    "BooleanLib = EMGboolean['BooleanLiberal']\n",
    "fCA1wake0L = filt_CA1.copy()\n",
    "fCA1wake0L[BooleanLib] = 0\n",
    "CA1wake0L = CA1.copy()\n",
    "CA1wake0L[BooleanLib] = 0\n",
    "\n",
    "# Computation of CWT\n",
    "CA1cwtWake0cons = signal.cwt(fCA1wake0C, signal.morlet2, widths, w=w)\n",
    "CA1cwtWake0lib = signal.cwt(fCA1wake0L, signal.morlet2, widths, w=w)\n",
    "\n",
    "# Projection calculation\n",
    "absCA1W0Ccwt = np.absolute(CA1cwtWake0cons)\n",
    "proj_CA1W0Ccwt = np.sum(absCA1W0Ccwt, axis = 0)/80\n",
    "absCA1W0Lcwt = np.absolute(CA1cwtWake0lib)\n",
    "proj_CA1W0Lcwt = np.sum(absCA1W0Lcwt, axis = 0)/80"
   ]
  },
  {
   "cell_type": "markdown",
   "metadata": {},
   "source": [
    "### Display subset \n",
    "\n",
    "Not necessary cell to run"
   ]
  },
  {
   "cell_type": "code",
   "execution_count": null,
   "metadata": {},
   "outputs": [],
   "source": [
    "# Defining subset\n",
    "start = 00000\n",
    "end = 800000\n",
    "\n",
    "tt = times[start:end]\n",
    "CA1t = CA1wake0C[start:end]/10\n",
    "#CA1cwtt = CA1NWcwt[:, start:end]\n",
    "proj_CA1cwtt = proj_CA1W0Ccwt[start:end]\n",
    "\n",
    "plt.close('all')\n",
    "plt.axhline(sdproj_CA1cwt, color='r') # horizontal\n",
    "plt.axhline(sd3proj_CA1cwt, color='g') # horizontal\n",
    "plt.axhline(sd05proj_CA1cwt, color='b') # horizontal\n",
    "plt.plot(tt, CA1t)\n",
    "plt.plot(tt, proj_CA1cwtt)\n",
    "plt.show()\n",
    "\n",
    "## WARNING: Plot only short subsets (~ 10 s), too memory consuming otherwise\n",
    "#plt.pcolormesh(tt, freq, np.abs(CA1cwtt), cmap='viridis', shading='gouraud')\n",
    "#plt.plot(tt, CA1t)\n",
    "#plt.show()\n"
   ]
  },
  {
   "cell_type": "markdown",
   "metadata": {},
   "source": [
    "Display with ephyviewer, not needed"
   ]
  },
  {
   "cell_type": "code",
   "execution_count": 5,
   "metadata": {},
   "outputs": [
    {
     "data": {
      "text/plain": [
       "0"
      ]
     },
     "execution_count": 5,
     "metadata": {},
     "output_type": "execute_result"
    }
   ],
   "source": [
    "from ephyviewer import mkQApp, MainViewer, TraceViewer\n",
    "\n",
    "combined = np.stack([CA1, filt_CA1, proj_CA1W0Ccwt, proj_CA1W0Lcwt], axis = 1)\n",
    "\n",
    "app = mkQApp()\n",
    "\n",
    "sample_rate = 1000.\n",
    "t_start = 0.\n",
    "\n",
    "#Create the main window that can contain several viewers\n",
    "win = MainViewer()\n",
    "view1 = TraceViewer.from_numpy(combined, sample_rate, t_start, 'Signals')\n",
    "win.add_view(view1)\n",
    "\n",
    "#Parameters can be set in script\n",
    "#view1.params['scale_mode'] = 'same_for_all'\n",
    "view1.params['display_labels'] = True\n",
    "#And also parameters for each channel\n",
    "view1.by_channel_params['ch0', 'color'] = '#ffffff'\n",
    "view1.by_channel_params['ch1', 'color'] = '#0055ff'\n",
    "view1.by_channel_params['ch2', 'color'] = '#ff5500'\n",
    "view1.by_channel_params['ch3', 'color'] = '#ffffff'\n",
    "\n",
    "\n",
    "view1.by_channel_params['ch0', 'gain'] = 0.05\n",
    "view1.by_channel_params['ch1', 'gain'] = 1\n",
    "view1.by_channel_params['ch2', 'gain'] = 1\n",
    "view1.by_channel_params['ch3', 'gain'] = 1\n",
    "\n",
    "view1.by_channel_params['ch0', 'offset'] = 500\n",
    "view1.by_channel_params['ch1', 'offset'] = 0\n",
    "view1.by_channel_params['ch2', 'offset'] = 0\n",
    "view1.by_channel_params['ch3', 'offset'] = 0\n",
    "\n",
    "\n",
    "#Run\n",
    "win.show()\n",
    "app.exec_()"
   ]
  },
  {
   "cell_type": "markdown",
   "metadata": {},
   "source": [
    "## Extracting SWRs and determining main properties \n",
    "\n",
    "First extraction of SWR peaks, initiation, end and width"
   ]
  },
  {
   "cell_type": "code",
   "execution_count": 6,
   "metadata": {},
   "outputs": [],
   "source": [
    "from scipy.signal import find_peaks\n",
    "from scipy.signal import chirp, find_peaks, peak_widths\n",
    "\n",
    "# 3 sd threshold\n",
    "peaks, properties = find_peaks(proj_CA1W0Lcwt, prominence=1, width=20, height=sd3proj_CA1cwt)\n",
    "properties[\"prominences\"], properties[\"widths\"]\n",
    "\n",
    "# SWR boundaries taken at 70% from peak of intensity. This means that the SWRs with small amplitude will be longer than the big ones.\n",
    "results_width = peak_widths(proj_CA1W0Lcwt, peaks, rel_height=0.7)\n",
    "\n",
    "# Organise results in numpy array\n",
    "peaks2 = peaks.reshape(len(peaks),1)\n",
    "npresults_width = np.array(results_width).reshape(4,-1)\n",
    "SWR_prop = np.append(peaks2, results_width).reshape(5,len(peaks2)).round()"
   ]
  },
  {
   "cell_type": "markdown",
   "metadata": {},
   "source": [
    "Display subset"
   ]
  },
  {
   "cell_type": "code",
   "execution_count": null,
   "metadata": {},
   "outputs": [],
   "source": [
    "plt.close('all')\n",
    "plt.plot(proj_CA1W0Lcwt)\n",
    "plt.plot(peakst, proj_CA1W0Lcwt[peaks], \"x\")\n",
    "plt.plot(CA1)\n",
    "plt.axhline(sd3proj_CA1cwt, color='r') # horizontal\n",
    "plt.vlines(x=peakst, ymin=proj_CA1W0Lcwt[peakst] - propertiest[\"prominences\"], ymax = proj_CA1W0Lcwt[peakst], color = \"C1\")\n",
    "plt.hlines(y=propertiest[\"width_heights\"], xmin=propertiest[\"left_ips\"], xmax=propertiest[\"right_ips\"], color = \"C1\")\n",
    "plt.hlines(*results_widtht[1:], color=\"C2\")\n",
    "plt.show()"
   ]
  },
  {
   "cell_type": "markdown",
   "metadata": {},
   "source": [
    "Second extraction of main frequency and power "
   ]
  },
  {
   "cell_type": "code",
   "execution_count": 7,
   "metadata": {},
   "outputs": [
    {
     "name": "stderr",
     "output_type": "stream",
     "text": [
      "/var/folders/jq/nz6nvbd54ns2lkjvj31_7_4r0000gn/T/ipykernel_82615/3356834751.py:14: ComplexWarning: Casting complex values to real discards the imaginary part\n",
      "  data[tt, 1] = max(SWR_MaxP).round()\n",
      "/var/folders/jq/nz6nvbd54ns2lkjvj31_7_4r0000gn/T/ipykernel_82615/3356834751.py:16: DeprecationWarning: The Python built-in `round` is deprecated for complex scalars, and will raise a `TypeError` in a future release. Use `np.round` or `scalar.round` instead.\n",
      "  data[tt, 3] = round(sum(SWR_MaxP)/len(SWR_MaxP))\n",
      "/var/folders/jq/nz6nvbd54ns2lkjvj31_7_4r0000gn/T/ipykernel_82615/3356834751.py:16: ComplexWarning: Casting complex values to real discards the imaginary part\n",
      "  data[tt, 3] = round(sum(SWR_MaxP)/len(SWR_MaxP))\n"
     ]
    }
   ],
   "source": [
    "projMaxP_cwtmg = np.max(CA1cwtWake0lib, axis = 0)\n",
    "projMaxF_cwtmg = np.argmax(CA1cwtWake0lib, axis = 0) + 120\n",
    "projMaxP_cwtmg.shape\n",
    "\n",
    "nb_SWR = np.arange(0,len(peaks),1)\n",
    "data = np.zeros((len(peaks),4))\n",
    "\n",
    "for tt in nb_SWR:\n",
    "    SWR_start = int(SWR_prop[3,tt])\n",
    "    SWR_stop = int(SWR_prop[4,tt])\n",
    "    SWR_MaxP = projMaxP_cwtmg[SWR_start:SWR_stop]\n",
    "    SWR_MaxF = projMaxF_cwtmg[SWR_start:SWR_stop]\n",
    "    data[tt, 0] = max(SWR_MaxF).round()\n",
    "    data[tt, 1] = max(SWR_MaxP).round()\n",
    "    data[tt, 2] = round(sum(SWR_MaxF)/len(SWR_MaxF))\n",
    "    data[tt, 3] = round(sum(SWR_MaxP)/len(SWR_MaxP))\n",
    "\n",
    "param_SWR = pd.DataFrame(data, columns = ['Max freq', 'Max int', 'Avg freq', 'Avg int'])\n",
    "tSWR_prop = SWR_prop.transpose()\n",
    "pd_prop_SWR = pd.DataFrame(tSWR_prop, columns = ['peak time', 'Duration', 'peak amp', 'start time', 'end time'])\n",
    "All_SWR = pd.concat([pd_prop_SWR, param_SWR], axis=1)"
   ]
  },
  {
   "cell_type": "markdown",
   "metadata": {},
   "source": [
    "### Store the results in All_SWR_prop pd dataframe and save as pkl/csv for post processing.\n",
    "\n",
    "End of Notebook. "
   ]
  },
  {
   "cell_type": "code",
   "execution_count": null,
   "metadata": {},
   "outputs": [],
   "source": [
    "filename2 = folder_base / f'SWRproperties.pkl'\n",
    "filename3 = folder_base / f'SWRproperties.csv'\n",
    "All_SWR.to_pickle(filename2)\n",
    "All_SWR.to_csv(filename3, sep = ',')\n",
    "\n",
    "\n",
    "combined = np.stack([fCA1wake0L, proj_CA1W0Lcwt], axis = 1)\n",
    "filenameC = folder_base / f'SignalCA1.npy'\n",
    "np.save(filenameC, combined)\n",
    "\n",
    "# if done and no intention to display for assessment\n",
    "#%reset\n",
    "#plt.close('all')"
   ]
  },
  {
   "cell_type": "markdown",
   "metadata": {},
   "source": [
    "### Display\n",
    "\n",
    "ephys viewer to check SWR detection"
   ]
  },
  {
   "cell_type": "code",
   "execution_count": 10,
   "metadata": {},
   "outputs": [
    {
     "name": "stdout",
     "output_type": "stream",
     "text": [
      "debug True\n",
      "QT_MODE PyQt5\n",
      "refresh duration for  6.008148193359375e-05 s\n",
      "refresh duration for  5.507469177246094e-05 s\n",
      "refresh duration for event 6.9141387939453125e-06 s\n",
      "refresh duration for  0.0002410411834716797 s\n",
      "refresh duration for event 2.86102294921875e-06 s\n",
      "refresh duration for  0.0001380443572998047 s\n",
      "refresh duration for event 1.9073486328125e-06 s\n",
      "refresh duration for  0.0004642009735107422 s\n",
      "refresh duration for event 1.5735626220703125e-05 s\n",
      "refresh duration for  0.0005002021789550781 s\n",
      "refresh duration for event 6.198883056640625e-06 s\n",
      "refresh duration for  0.000247955322265625 s\n",
      "refresh duration for event 4.76837158203125e-06 s\n",
      "save_all_settings\n"
     ]
    },
    {
     "data": {
      "text/plain": [
       "0"
      ]
     },
     "execution_count": 10,
     "metadata": {},
     "output_type": "execute_result"
    },
    {
     "ename": "",
     "evalue": "",
     "output_type": "error",
     "traceback": [
      "\u001b[1;31mThe Kernel crashed while executing code in the current cell or a previous cell. \n",
      "\u001b[1;31mPlease review the code in the cell(s) to identify a possible cause of the failure. \n",
      "\u001b[1;31mClick <a href='https://aka.ms/vscodeJupyterKernelCrash'>here</a> for more info. \n",
      "\u001b[1;31mView Jupyter <a href='command:jupyter.viewOutput'>log</a> for further details."
     ]
    }
   ],
   "source": [
    "%gui qt\n",
    "\n",
    "#Create one data source with 3 event channel\n",
    "all_events = []\n",
    "conditions = ['All','Good','Bad']\n",
    "for c,cond in enumerate(conditions):\n",
    "    match cond:\n",
    "        case 'All':\n",
    "            selection = \"All_SWR['toKeep'] | ~All_SWR['toKeep']\"\n",
    "        case 'Good':\n",
    "            selection = \"All_SWR['toKeep']\"\n",
    "        case 'Bad':\n",
    "            selection = \"~All_SWR['toKeep']\"\n",
    "    ev_times = All_SWR.loc[:,'peak time'].values\n",
    "    ev_labels = [f'SWR {i}'for i in All_SWR.index]\n",
    "    all_events.append({ 'time':ev_times, 'label':ev_labels, 'name': conditions[c] })\n",
    "source_ev = InMemoryEventSource(all_events=all_events)\n",
    "\n",
    "app = mkQApp()\n",
    "\n",
    "sample_rate = 1000.\n",
    "t_start = 0.\n",
    "\n",
    "SWR_peak = peaks\n",
    "SWR_start = SWR_prop[3,:].astype(int)\n",
    "SWR_end = SWR_prop[4,:].astype(int)\n",
    "\n",
    "#create 2 familly scatters from theses 2 indexes\n",
    "scatter_indexes = {0: SWR_peak, 1: SWR_start, 2: SWR_end}\n",
    "#and asign them to some channels each\n",
    "scatter_channels = {0: [1, 2], 1: [0, 1], 2: [0, 1]}\n",
    "source = AnalogSignalSourceWithScatter(combined, sample_rate, t_start, scatter_indexes, scatter_channels)\n",
    "\n",
    "#Create the main window that can contain several viewers\n",
    "win = MainViewer(debug=True, show_auto_scale=True)\n",
    "\n",
    "#create a viewer for signal with TraceViewer\n",
    "#connected to the signal source\n",
    "view1 = TraceViewer(source=source)\n",
    "\n",
    "#Parameters can be set in script\n",
    "#view1.params['scale_mode'] = 'same_for_all'\n",
    "view1.params['display_labels'] = True\n",
    "#And also parameters for each channel\n",
    "view1.by_channel_params['ch0', 'color'] = '#ffffff'\n",
    "view1.by_channel_params['ch1', 'color'] = '#0055ff'\n",
    "view1.by_channel_params['ch2', 'color'] = '#ff5500'\n",
    "view1.by_channel_params['ch3', 'color'] = '#ffffff'\n",
    "\n",
    "view1.by_channel_params['ch0', 'gain'] = 0.001\n",
    "view1.by_channel_params['ch1', 'gain'] = 0.005\n",
    "view1.by_channel_params['ch2', 'gain'] = 0.005\n",
    "view1.by_channel_params['ch3', 'gain'] = 0.005\n",
    "\n",
    "\n",
    "view1.by_channel_params['ch0', 'offset'] = 6\n",
    "view1.by_channel_params['ch1', 'offset'] = -1\n",
    "view1.by_channel_params['ch2', 'offset'] = -1\n",
    "view1.by_channel_params['ch3', 'offset'] = -1\n",
    "\n",
    "\n",
    "view2 = EventList(source=source_ev, name='event')\n",
    "\n",
    "\n",
    "#put this viewer in the main window\n",
    "win.add_view(view1)\n",
    "win.add_view(view2, location='bottom',  orientation='horizontal')\n",
    "\n",
    "#Run\n",
    "win.show()\n",
    "app.exec_()"
   ]
  },
  {
   "cell_type": "markdown",
   "metadata": {},
   "source": [
    "Quick plot of average and max intensity (can be done with freq as well) paired."
   ]
  },
  {
   "cell_type": "code",
   "execution_count": null,
   "metadata": {},
   "outputs": [],
   "source": [
    "\n",
    "# input data:\n",
    "MaxSWR = param_SWR['Max int']\n",
    "AvgSWR = param_SWR['Avg int']\n",
    "\n",
    "# plotting the points\n",
    "plt.scatter(np.zeros(len(MaxSWR)), MaxSWR)\n",
    "plt.scatter(np.ones(len(AvgSWR)), AvgSWR)\n",
    "\n",
    "# plotting the lines\n",
    "for i in range(len(MaxSWR)):\n",
    "    plt.plot( [0,1], [MaxSWR[i], AvgSWR[i]], c='k')\n",
    "\n",
    "plt.xticks([0,1], ['Max', 'Avg'])\n",
    "plt.show()"
   ]
  }
 ],
 "metadata": {
  "interpreter": {
   "hash": "984d3fbee8ffa490637705ae3d7233e001ab0304f3daaca07b5aa8569b88ca53"
  },
  "kernelspec": {
   "display_name": "Python 3.9.12 ('formation')",
   "language": "python",
   "name": "python3"
  },
  "language_info": {
   "codemirror_mode": {
    "name": "ipython",
    "version": 3
   },
   "file_extension": ".py",
   "mimetype": "text/x-python",
   "name": "python",
   "nbconvert_exporter": "python",
   "pygments_lexer": "ipython3",
   "version": "3.10.13"
  },
  "orig_nbformat": 4
 },
 "nbformat": 4,
 "nbformat_minor": 2
}
