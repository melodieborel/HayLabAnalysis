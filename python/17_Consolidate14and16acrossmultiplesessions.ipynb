{
 "cells": [
  {
   "cell_type": "markdown",
   "metadata": {},
   "source": [
    "17- just to put everyone together"
   ]
  },
  {
   "cell_type": "code",
   "execution_count": 149,
   "metadata": {},
   "outputs": [],
   "source": [
    "import quantities as pq\n",
    "import numpy as np\n",
    "import neo\n",
    "from pathlib import Path\n",
    "import xarray as xr\n",
    "import json\n",
    "import pickle\n",
    "import pandas as pd\n",
    "import math\n",
    "import matplotlib.pyplot as plt\n",
    "from matplotlib.widgets import Slider, Button, Cursor\n",
    "%matplotlib widget\n"
   ]
  },
  {
   "attachments": {},
   "cell_type": "markdown",
   "metadata": {},
   "source": [
    "Load multiple session"
   ]
  },
  {
   "cell_type": "code",
   "execution_count": 150,
   "metadata": {},
   "outputs": [],
   "source": [
    "folder_base = Path('Gaelle/Baseline_recording/BlackLinesOK/')\n",
    "sessions = 4\n",
    "\n",
    "mfile = open('Gaelle/Baseline_recording/BlackLinesOK/mappings.pkl', 'rb')\n",
    "mapping = pickle.load(mfile)\n",
    "\n",
    "dict_Int = {}\n",
    "dict_Counter = {}\n",
    "for x in range(1, sessions+1):\n",
    "    IntensityFile = folder_base / f'session{x}/CTRL_Spikes_spindlesSWRInd_14bis.xlsx' #\n",
    "    dict_Int[\"session{0}\".format(x)] = pd.read_excel(IntensityFile)\n",
    "    CounterFile = folder_base / f'session{x}/CounterSWR_16bis.xlsx' #\n",
    "    dict_Counter[\"session{0}\".format(x)] = pd.read_excel(CounterFile)\n"
   ]
  },
  {
   "cell_type": "code",
   "execution_count": 151,
   "metadata": {},
   "outputs": [],
   "source": [
    "units = len(mapping)\n",
    "B = mapping['session']\n",
    "# this is only necessary in case the final session analysed are not the same as used for cross-registration\n",
    "B = B[['session1', 'session2', 'session3', 'session4']]#, 'session5']] \n",
    "\n",
    "data = {\n",
    "    'NegAll': np.zeros(units),\n",
    "    'NegBefore': np.zeros(units),\n",
    "    'NegAfter' : np.zeros(units),\n",
    "    'PosAll' : np.zeros(units),\n",
    "    'PosBefore' : np.zeros(units),\n",
    "    'PosAfter' : np.zeros(units),\n",
    "    'UnAll' : np.zeros(units),\n",
    "    'UnBefore' : np.zeros(units),\n",
    "    'UnAfter' : np.zeros(units),\n",
    "    'Sessions' : np.zeros(units)\n",
    "}\n",
    "Activity_Per_Neurons = pd.DataFrame(data, columns=['NegAll', 'NegBefore', 'NegAfter', 'PosAll', 'PosBefore', 'PosAfter', 'UnAll', 'UnBefore', 'UnAfter', 'Sessions'])\n",
    "counterNegSWR = 0\n",
    "counterPosSWR = 0\n",
    "counterUnSWR = 0\n",
    "\n",
    "for unit in range(units):\n",
    "    counter = 0\n",
    "    for i in B:\n",
    "        counterNegSWR += list(dict_Counter[i][0])[0]\n",
    "        counterPosSWR += list(dict_Counter[i][0])[1]\n",
    "        counterUnSWR += list(dict_Counter[i][0])[2]\n",
    "        if math.isnan (float(B[i][unit])) == False:\n",
    "            counter = counter + 1\n",
    "            unit_id = int(float(B[i][unit]))\n",
    "            Activity_Per_Neurons['Sessions'][unit] = counter\n",
    "            Unit_id_rank = [x for x in range(len(dict_Int[i]['UnitId'])) if dict_Int[i]['UnitId'][x] == unit_id]\n",
    "            if Unit_id_rank != [] and Activity_Per_Neurons['Sessions'][unit] > 0:\n",
    "                Activity_Per_Neurons['NegAll'][unit] += dict_Int[i]['NegAll'][Unit_id_rank]*list(dict_Counter[i][0])[0]\n",
    "                Activity_Per_Neurons['NegBefore'][unit] += dict_Int[i]['NegBefore'][Unit_id_rank]*list(dict_Counter[i][0])[0]\n",
    "                Activity_Per_Neurons['NegAfter'][unit] += dict_Int[i]['NegAfter'][Unit_id_rank]*list(dict_Counter[i][0])[0]\n",
    "                Activity_Per_Neurons['PosAll'][unit] += dict_Int[i]['PosAll'][Unit_id_rank]*list(dict_Counter[i][0])[1]\n",
    "                Activity_Per_Neurons['PosBefore'][unit] += dict_Int[i]['PosBefore'][Unit_id_rank]*list(dict_Counter[i][0])[1]\n",
    "                Activity_Per_Neurons['PosAfter'][unit] += dict_Int[i]['PosAfter'][Unit_id_rank]*list(dict_Counter[i][0])[1]\n",
    "                Activity_Per_Neurons['UnAll'][unit] += dict_Int[i]['UnAll'][Unit_id_rank]*list(dict_Counter[i][0])[1]\n",
    "                Activity_Per_Neurons['UnBefore'][unit] += dict_Int[i]['UnBefore'][Unit_id_rank]*list(dict_Counter[i][0])[1]\n",
    "                Activity_Per_Neurons['UnAfter'][unit] += dict_Int[i]['UnAfter'][Unit_id_rank]*list(dict_Counter[i][0])[1]\n",
    "Activity_Per_Neurons\n",
    "\n",
    "Activity_Per_Neurons['NegAll'] /= counterNegSWR\n",
    "Activity_Per_Neurons['NegBefore'] /= counterNegSWR\n",
    "Activity_Per_Neurons['NegAfter'] /= counterNegSWR\n",
    "Activity_Per_Neurons['PosAll'] /= counterPosSWR\n",
    "Activity_Per_Neurons['PosBefore'] /= counterPosSWR\n",
    "Activity_Per_Neurons['PosAfter'] /= counterPosSWR\n",
    "Activity_Per_Neurons['UnAll'] /= counterUnSWR\n",
    "Activity_Per_Neurons['UnBefore'] /= counterUnSWR\n",
    "Activity_Per_Neurons['UnAfter'] /= counterUnSWR\n",
    "\n",
    "filenameOut = folder_base / f'CTRL_S_CouplingSPI14_Consolidated.xlsx'\n",
    "writer = pd.ExcelWriter(filenameOut)\n",
    "Activity_Per_Neurons.to_excel(writer)\n",
    "writer.save()"
   ]
  }
 ],
 "metadata": {
  "kernelspec": {
   "display_name": "formation",
   "language": "python",
   "name": "python3"
  },
  "language_info": {
   "codemirror_mode": {
    "name": "ipython",
    "version": 3
   },
   "file_extension": ".py",
   "mimetype": "text/x-python",
   "name": "python",
   "nbconvert_exporter": "python",
   "pygments_lexer": "ipython3",
   "version": "3.9.12"
  },
  "orig_nbformat": 4,
  "vscode": {
   "interpreter": {
    "hash": "984d3fbee8ffa490637705ae3d7233e001ab0304f3daaca07b5aa8569b88ca53"
   }
  }
 },
 "nbformat": 4,
 "nbformat_minor": 2
}
