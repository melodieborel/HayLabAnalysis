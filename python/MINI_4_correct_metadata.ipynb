{
 "cells": [
  {
   "attachments": {},
   "cell_type": "markdown",
   "metadata": {},
   "source": [
    "# Correct minian metadata if needed"
   ]
  },
  {
   "cell_type": "code",
   "execution_count": null,
   "metadata": {},
   "outputs": [],
   "source": [
    "cd \"C:/Users/Manip2/SCRIPTS/CodePythonAudrey/CodePythonAurelie/HayLabAnalysis/minian\""
   ]
  },
  {
   "cell_type": "code",
   "execution_count": null,
   "metadata": {},
   "outputs": [],
   "source": [
    "minian_path = \".\"\n",
    "import os\n",
    "\n",
    "import sys\n",
    "import warnings\n",
    "import itertools as itt\n",
    "import numpy as np\n",
    "import xarray as xr\n",
    "import holoviews as hv\n",
    "import pandas as pd\n",
    "from pathlib import Path\n",
    "from holoviews.operation.datashader import datashade, regrid\n",
    "from dask.diagnostics import ProgressBar\n",
    "sys.path.append(minian_path)\n",
    "from IPython.display import display\n",
    "from ipyfilechooser import FileChooser\n",
    "from holoviews.operation.datashader import datashade, regrid\n",
    "\n",
    "\n",
    "from minian.utilities import (\n",
    "    TaskAnnotation,\n",
    "    get_optimal_chk,\n",
    "    load_videos,\n",
    "    open_minian,\n",
    "    save_minian,\n",
    ")\n",
    "from minian.visualization import AlignViewer\n",
    "import matplotlib.pyplot as plt\n",
    "from pathlib import Path\n",
    "\n",
    "\n",
    "import warnings\n",
    "warnings.filterwarnings(\"ignore\")"
   ]
  },
  {
   "cell_type": "code",
   "execution_count": null,
   "metadata": {},
   "outputs": [],
   "source": [
    "try:\n",
    "    %store -r dpath\n",
    "except:\n",
    "    print(\"data not in strore\")\n",
    "    dpath =\"//10.69.168.1/crnldata/waking/audrey_hay/L1imaging/AnalysedMarch2023/Gaelle/Baseline_recording\"\n",
    "\n",
    "\n",
    "# Set up Initial Basic Parameters#\n",
    "minian_path = \".\"\n",
    "\n",
    "fc1 = FileChooser(dpath,select_default=True, show_only_dirs = True, title = \"<b>Choose Mice Folder</b>\")\n",
    "display(fc1)\n",
    "\n",
    "# Sample callback function\n",
    "def update_my_folder(chooser):\n",
    "    global dpath\n",
    "    dpath = chooser.selected\n",
    "    %store dpath\n",
    "    return \n",
    "\n",
    "# Register callback function\n",
    "fc1.register_callback(update_my_folder)"
   ]
  },
  {
   "cell_type": "markdown",
   "metadata": {},
   "source": [
    "Load metadata"
   ]
  },
  {
   "cell_type": "code",
   "execution_count": null,
   "metadata": {},
   "outputs": [],
   "source": [
    "minian_ds_path_Origin = os.path.join(dpath, \"minian\")\n",
    "\n",
    "def correct_meta(ds,  minian_ds_path_Origin):\n",
    "    path_obj =Path(minian_ds_path_Origin)\n",
    "    #print(len(path_obj.parts))\n",
    "    if len(path_obj.parts)==12: # Not a DrugExperiment with Subsessions       \n",
    "        ds['session'] = path_obj.parents[0].name\n",
    "        ds['animal'] = path_obj.parents[4].name\n",
    "    elif len(path_obj.parts)==11: # Not a DrugExperiment with No Subsessions\n",
    "        ds['session'] = path_obj.parents[1].name.split(\"_\")[-1]\n",
    "        ds['animal'] = path_obj.parents[3].name\n",
    "    print(f\"['animal: {ds['animal'].values}']\")\n",
    "    print(f\"['session: {ds['session'].values}']\")\n",
    "    return ds\n",
    "\n",
    "minian_ds = open_minian(minian_ds_path_Origin, post_process=correct_meta)\n",
    "\n",
    "max_proj = minian_ds['max_proj']\n",
    "max_projnp = minian_ds['max_proj'].values\n",
    "\n",
    "\"\"\"\n",
    "max_projnp = np.rot90(max_projnp) # rotate 90°degrees clockwise\n",
    "max_projnp = np.rot90(max_projnp) # rotate 90°degrees clockwise\n",
    "max_projnp = np.rot90(max_projnp) # rotate 90°degrees clockwise\n",
    "\n",
    "max_projnp = np.flip(max_projnp, (0,1)) #flip horizontally & vertically\n",
    "\"\"\"\n",
    "max_proj.values = max_projnp\n"
   ]
  },
  {
   "cell_type": "markdown",
   "metadata": {},
   "source": [
    "Display intial template"
   ]
  },
  {
   "cell_type": "code",
   "execution_count": null,
   "metadata": {},
   "outputs": [],
   "source": [
    "output_size = 100\n",
    "hv.notebook_extension('bokeh', width=100)\n",
    "hv.output(size=int(output_size * 0.6))\n",
    "opts_im = {'frame_height': 500,\n",
    "    'frame_width': 500, 'cmap': 'flag'}\n",
    "max_proj = minian_ds['max_proj'].rename('temps')\n",
    "hv_max_proj = hv.Dataset(max_proj).to(hv.Image, ['width', 'height'])\n",
    "hv_max_proj.opts(**opts_im).relabel(\"Initial Templates\")"
   ]
  },
  {
   "cell_type": "markdown",
   "metadata": {},
   "source": [
    "Rotate as much as needed or flip horizontally &/or vertically"
   ]
  },
  {
   "cell_type": "code",
   "execution_count": null,
   "metadata": {},
   "outputs": [],
   "source": [
    "max_projnp = np.rot90(max_projnp) # rotate 90°degrees clockwise\n",
    "#max_projnp = np.flip(max_projnp, (0,1)) #flip horizontally & vertically\n",
    "\n",
    "max_proj.values = max_projnp"
   ]
  },
  {
   "cell_type": "markdown",
   "metadata": {},
   "source": [
    "Display modified template"
   ]
  },
  {
   "cell_type": "code",
   "execution_count": null,
   "metadata": {},
   "outputs": [],
   "source": [
    "hv.output(size=int(output_size * 0.6))\n",
    "opts_im = {'frame_height': 500,\n",
    "    'frame_width': 500, 'cmap': 'flag'}\n",
    "hv_max_proj = hv.Dataset(max_proj).to(hv.Image, ['width', 'height'])\n",
    "hv_max_proj.opts(**opts_im).relabel(\"Modified templates\")"
   ]
  },
  {
   "cell_type": "markdown",
   "metadata": {},
   "source": [
    "Save metadata"
   ]
  },
  {
   "cell_type": "code",
   "execution_count": null,
   "metadata": {},
   "outputs": [],
   "source": [
    "param_save_minian = {\n",
    "    \"dpath\": minian_ds_path_Origin,\n",
    "    \"meta_dict\": dict(session=-1, animal=-2),\n",
    "    \"overwrite\": True\n",
    "}\n",
    "\n",
    "max_proj = save_minian(max_proj.rename(\"max_proj\"), **param_save_minian)\n"
   ]
  }
 ],
 "metadata": {
  "kernelspec": {
   "display_name": "minian",
   "language": "python",
   "name": "python3"
  },
  "language_info": {
   "codemirror_mode": {
    "name": "ipython",
    "version": 3
   },
   "file_extension": ".py",
   "mimetype": "text/x-python",
   "name": "python",
   "nbconvert_exporter": "python",
   "pygments_lexer": "ipython3",
   "version": "3.11.7"
  },
  "orig_nbformat": 4,
  "vscode": {
   "interpreter": {
    "hash": "d28f0aa69d972f186b6eef62f149b885b857325c1e4e259a67006c9c0c737cc7"
   }
  }
 },
 "nbformat": 4,
 "nbformat_minor": 2
}
