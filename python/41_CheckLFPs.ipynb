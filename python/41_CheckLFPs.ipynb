{
 "cells": [
  {
   "cell_type": "markdown",
   "metadata": {},
   "source": [
    "# Visualisation of LFP & Sleep scoring"
   ]
  },
  {
   "cell_type": "markdown",
   "metadata": {},
   "source": [
    "### Load LFP and packages"
   ]
  },
  {
   "cell_type": "code",
   "execution_count": 1,
   "metadata": {},
   "outputs": [
    {
     "name": "stdout",
     "output_type": "stream",
     "text": [
      "\\\\10.69.168.1\\crnldata\\waking\\audrey_hay\\L1imaging\\AnalysedMarch2023\n"
     ]
    }
   ],
   "source": [
    "cd \"//10.69.168.1/crnldata/waking/audrey_hay/L1imaging/AnalysedMarch2023/\""
   ]
  },
  {
   "cell_type": "code",
   "execution_count": 20,
   "metadata": {},
   "outputs": [],
   "source": [
    "from scipy import signal\n",
    "import numpy as np\n",
    "import matplotlib.pyplot as plt\n",
    "from matplotlib.widgets import Slider, Button, Cursor\n",
    "from scipy import fftpack\n",
    "import pandas as pd\n",
    "from pathlib import Path\n",
    "import os\n",
    "from IPython.display import display\n",
    "from ipyfilechooser import FileChooser\n",
    "from ephyviewer import mkQApp, MainViewer, TraceViewer\n",
    "from ephyviewer import AnalogSignalSourceWithScatter\n",
    "import ephyviewer\n",
    "from scipy.stats import zscore\n",
    "from scipy.interpolate import interp1d\n",
    "from itertools import groupby\n",
    "from ephyviewer import mkQApp, MainViewer, TraceViewer, TimeFreqViewer\n",
    "from ephyviewer import InMemoryAnalogSignalSource\n",
    "import ephyviewer\n",
    "\n",
    "from scipy.signal import find_peaks\n",
    "from scipy.signal import chirp, find_peaks, peak_widths\n",
    "\n",
    "%matplotlib widget"
   ]
  },
  {
   "cell_type": "code",
   "execution_count": 3,
   "metadata": {},
   "outputs": [
    {
     "data": {
      "application/vnd.jupyter.widget-view+json": {
       "model_id": "dae174887afb4bed9b032996d9844767",
       "version_major": 2,
       "version_minor": 0
      },
      "text/plain": [
       "FileChooser(path='\\\\10.69.168.1\\crnldata\\waking\\audrey_hay', filename='', title='<b>Open Ephys folder</b>', sh…"
      ]
     },
     "metadata": {},
     "output_type": "display_data"
    },
    {
     "name": "stdout",
     "output_type": "stream",
     "text": [
      "Stored 'dpath' (str)\n",
      "Stored 'dpath' (str)\n",
      "Stored 'dpath' (str)\n",
      "Stored 'dpath' (str)\n",
      "Stored 'dpath' (str)\n",
      "Stored 'dpath' (str)\n",
      "Stored 'dpath' (str)\n",
      "Stored 'dpath' (str)\n",
      "Stored 'dpath' (str)\n",
      "Stored 'dpath' (str)\n",
      "Stored 'dpath' (str)\n",
      "Stored 'dpath' (str)\n",
      "Stored 'dpath' (str)\n",
      "Stored 'dpath' (str)\n",
      "Stored 'dpath' (str)\n",
      "Stored 'dpath' (str)\n",
      "Stored 'dpath' (str)\n"
     ]
    }
   ],
   "source": [
    "dpath = \"//10.69.168.1/crnldata/waking/audrey_hay/\"\n",
    "\n",
    "fc1 = FileChooser(dpath,select_default=True, show_only_dirs = False, title = \"<b>Open Ephys folder</b>\")\n",
    "display(fc1)\n",
    "\n",
    "# Sample callback function\n",
    "def update_my_folder(chooser):\n",
    "    global dpath\n",
    "    dpath = chooser.selected\n",
    "    %store dpath\n",
    "    return \n",
    "\n",
    "# Register callback function\n",
    "fc1.register_callback(update_my_folder)"
   ]
  },
  {
   "cell_type": "code",
   "execution_count": 46,
   "metadata": {},
   "outputs": [
    {
     "name": "stdout",
     "output_type": "stream",
     "text": [
      "Lou\n"
     ]
    }
   ],
   "source": [
    "folder_base = Path(dpath) \n",
    "DataRec = np.fromfile(folder_base, dtype=\"int16\")\n",
    "All = DataRec.reshape(-1,32)\n",
    "All.shape\n",
    "\n",
    "DataRec2 = np.fromfile(folder_base, dtype=\"uint16\")\n",
    "All2 = DataRec2.reshape(-1,32)\n",
    "All2.shape\n",
    "\n",
    "Channels = '//10.69.168.1/crnldata/waking/audrey_hay/AurelieB/LFPChannels_perMice.xlsx' \n",
    "mice=folder_base.parts[-1].split('_')[0]\n",
    "print(mice)\n",
    "\n",
    "allchannels = pd.read_excel(Channels)\n",
    "\n",
    "PFCch1=int(allchannels[mice][0].split(',')[0])\n",
    "PFCch2=int(allchannels[mice][0].split(',')[1])\n",
    "CA1ch1=int(allchannels[mice][2].split(',')[0])\n",
    "CA1ch2=int(allchannels[mice][2].split(',')[1])\n",
    "S1ch1=int(allchannels[mice][1].split(',')[0])\n",
    "S1ch2=int(allchannels[mice][1].split(',')[1])\n",
    "EMGch1=int(allchannels[mice][3])\n",
    "\n",
    "PFC  =  All[:, PFCch1]-All[:, PFCch2] \n",
    "CA1  =  All[:, CA1ch1]-All[:, CA1ch2] \n",
    "S1  =  All[:, S1ch1]-All[:, S1ch2] \n",
    "EMG  =  All2[:, EMGch1]\n",
    "\n",
    "combined = np.stack([zscore(S1),zscore(PFC), zscore(CA1), zscore(EMG)], axis = 1)"
   ]
  },
  {
   "cell_type": "markdown",
   "metadata": {},
   "source": [
    "# EphyViewer\n"
   ]
  },
  {
   "cell_type": "code",
   "execution_count": 47,
   "metadata": {},
   "outputs": [
    {
     "name": "stdout",
     "output_type": "stream",
     "text": [
      "debug True\n",
      "QT_MODE PyQt5\n",
      "refresh duration for  0.0010318756103515625 s\n",
      "refresh duration for  0.0 s\n",
      "refresh duration for FFT 0.0 s\n",
      "refresh duration for  0.0 s\n",
      "refresh duration for FFT 0.000997304916381836 s\n",
      "refresh duration for  0.0 s\n",
      "refresh duration for FFT 0.0 s\n",
      "refresh duration for  0.0 s\n",
      "refresh duration for FFT 0.0 s\n",
      "refresh duration for  0.0 s\n",
      "refresh duration for FFT 0.0009860992431640625 s\n",
      "refresh duration for  0.0 s\n",
      "refresh duration for FFT 0.0 s\n",
      "refresh duration for  0.0 s\n",
      "refresh duration for FFT 0.0 s\n",
      "refresh duration for  0.0 s\n",
      "refresh duration for FFT 0.0 s\n",
      "refresh duration for  0.0 s\n",
      "refresh duration for FFT 0.0 s\n",
      "refresh duration for  0.005101919174194336 s\n",
      "refresh duration for FFT 0.0 s\n",
      "refresh duration for  0.0 s\n",
      "refresh duration for FFT 0.005025148391723633 s\n",
      "refresh duration for  0.0 s\n",
      "refresh duration for FFT 0.0 s\n",
      "refresh duration for  0.0 s\n",
      "refresh duration for FFT 0.0 s\n",
      "viewer has moved already 2 86.4256 8.102400000000001\n",
      "viewer has moved already 2 86.4256 21.6064\n",
      "viewer has moved already 2 86.4256 37.81120000000001\n",
      "viewer has moved already 2 86.4256 45.91360000000001\n",
      "viewer has moved already 2 86.4256 56.716800000000006\n",
      "viewer has moved already 2 86.4256 62.1184\n",
      "viewer has moved already 2 86.4256 64.81920000000001\n",
      "viewer has moved already 0 86.4256 8.102400000000001\n",
      "viewer has moved already 0 86.4256 21.6064\n",
      "viewer has moved already 2 86.4256 72.9216\n",
      "viewer has moved already 0 86.4256 37.81120000000001\n",
      "viewer has moved already 0 86.4256 45.91360000000001\n",
      "viewer has moved already 0 86.4256 56.716800000000006\n",
      "viewer has moved already 0 86.4256 62.1184\n",
      "viewer has moved already 0 86.4256 64.81920000000001\n",
      "viewer has moved already 0 86.4256 72.9216\n",
      "viewer has moved already 0 86.4256 72.9216\n",
      "viewer has moved already 2 86.4256 72.9216\n",
      "viewer has moved already 2 86.4256 78.32320000000001\n",
      "viewer has moved already 0 86.4256 78.32320000000001\n",
      "refresh duration for  0.0 s\n",
      "viewer has moved already 1 94.52800000000002 8.102400000000001\n",
      "viewer has moved already 0 94.52800000000002 86.4256\n",
      "viewer has moved already 1 94.52800000000002 21.6064\n",
      "viewer has moved already 1 94.52800000000002 37.81120000000001\n",
      "viewer has moved already 1 94.52800000000002 45.91360000000001\n",
      "viewer has moved already 1 94.52800000000002 56.716800000000006\n",
      "viewer has moved already 1 94.52800000000002 62.1184\n",
      "viewer has moved already 1 94.52800000000002 64.81920000000001\n",
      "refresh duration for FFT 0.005005836486816406 s\n",
      "viewer has moved already 1 94.52800000000002 72.9216\n",
      "viewer has moved already 1 94.52800000000002 72.9216\n",
      "viewer has moved already 1 94.52800000000002 78.32320000000001\n",
      "viewer has moved already 1 94.52800000000002 86.4256\n",
      "refresh duration for  0.0 s\n",
      "refresh duration for FFT 0.0 s\n",
      "refresh duration for  0.0 s\n",
      "refresh duration for FFT 0.0 s\n",
      "refresh duration for  0.0 s\n",
      "viewer has moved already 2 345.7024 94.52800000000002\n",
      "viewer has moved already 2 345.7024 116.1344\n",
      "viewer has moved already 2 345.7024 143.1424\n",
      "refresh duration for FFT 0.0 s\n",
      "viewer has moved already 1 345.7024 116.1344\n",
      "viewer has moved already 1 345.7024 143.1424\n",
      "viewer has moved already 0 345.7024 116.1344\n",
      "viewer has moved already 0 345.7024 143.1424\n",
      "refresh duration for  0.0 s\n",
      "refresh duration for FFT 0.0 s\n",
      "refresh duration for  0.0 s\n",
      "refresh duration for FFT 0.0 s\n",
      "viewer has moved already 2 529.3568 359.20640000000003\n",
      "viewer has moved already 0 529.3568 359.20640000000003\n",
      "viewer has moved already 1 529.3568 359.20640000000003\n",
      "refresh duration for  0.0 s\n",
      "refresh duration for FFT 0.0 s\n",
      "refresh duration for  0.0 s\n",
      "refresh duration for FFT 0.0 s\n",
      "refresh duration for  0.0 s\n",
      "refresh duration for FFT 0.0 s\n",
      "viewer has moved already 2 688.7040000000001 588.7744\n",
      "viewer has moved already 2 688.7040000000001 618.4832\n",
      "refresh duration for  0.0 s\n",
      "refresh duration for FFT 0.0 s\n",
      "viewer has moved already 0 715.7120000000001 588.7744\n",
      "viewer has moved already 0 715.7120000000001 618.4832\n",
      "viewer has moved already 1 715.7120000000001 588.7744\n",
      "viewer has moved already 1 715.7120000000001 618.4832\n",
      "refresh duration for  0.0 s\n",
      "viewer has moved already 1 837.248 688.7040000000001\n",
      "viewer has moved already 1 837.248 715.7120000000001\n",
      "viewer has moved already 0 837.248 688.7040000000001\n",
      "viewer has moved already 0 837.248 715.7120000000001\n",
      "refresh duration for FFT 0.0 s\n",
      "refresh duration for  0.0 s\n",
      "refresh duration for FFT 0.0 s\n",
      "refresh duration for  0.0 s\n",
      "refresh duration for FFT 0.0 s\n",
      "viewer has moved already 2 1145.1392 715.7120000000001\n",
      "viewer has moved already 2 1145.1392 837.248\n",
      "viewer has moved already 2 1145.1392 958.784\n",
      "refresh duration for  0.0 s\n",
      "refresh duration for FFT 0.0 s\n",
      "viewer has moved already 1 1334.1952 958.784\n",
      "viewer has moved already 1 1334.1952 1145.1392\n",
      "viewer has moved already 0 1334.1952 958.784\n",
      "viewer has moved already 0 1334.1952 1145.1392\n",
      "refresh duration for  0.0 s\n",
      "refresh duration for FFT 0.0 s\n",
      "refresh duration for  0.0 s\n",
      "refresh duration for FFT 0.0 s\n",
      "refresh duration for  0.0 s\n",
      "refresh duration for FFT 0.0 s\n",
      "viewer has moved already 2 1471.9360000000001 1334.1952\n",
      "viewer has moved already 2 1471.9360000000001 1366.6048\n",
      "viewer has moved already 2 1471.9360000000001 1463.8336000000002\n",
      "refresh duration for  0.0 s\n",
      "refresh duration for FFT 0.0 s\n",
      "viewer has moved already 1 1474.6368000000002 1366.6048\n",
      "viewer has moved already 1 1474.6368000000002 1463.8336000000002\n",
      "viewer has moved already 1 1474.6368000000002 1471.9360000000001\n",
      "viewer has moved already 0 1474.6368000000002 1366.6048\n",
      "viewer has moved already 0 1474.6368000000002 1463.8336000000002\n",
      "viewer has moved already 0 1474.6368000000002 1471.9360000000001\n",
      "refresh duration for  0.0 s\n",
      "refresh duration for FFT 0.0 s\n",
      "refresh duration for  0.0 s\n",
      "refresh duration for FFT 0.0 s\n",
      "refresh duration for  0.0 s\n",
      "refresh duration for FFT 0.0 s\n",
      "viewer has moved already 2 1558.3616 1528.6528\n",
      "viewer has moved already 2 1558.3616 1539.456\n",
      "viewer has moved already 1 1558.3616 1539.456\n",
      "viewer has moved already 0 1558.3616 1539.456\n",
      "save_all_settings\n"
     ]
    },
    {
     "data": {
      "text/plain": [
       "0"
      ]
     },
     "execution_count": 47,
     "metadata": {},
     "output_type": "execute_result"
    }
   ],
   "source": [
    "from ephyviewer import mkQApp, MainViewer, TraceViewer, TimeFreqViewer, CsvEpochSource, EpochEncoder,EpochViewer\n",
    "from ephyviewer import InMemoryAnalogSignalSource\n",
    "from ephyviewer import InMemorySpikeSource\n",
    "\n",
    "app = mkQApp()\n",
    "win = MainViewer(debug=True, show_auto_scale=True)\n",
    "\n",
    "# LFPs\n",
    "\n",
    "sample_rate = 1000\n",
    "t_start = 0.\n",
    "\n",
    "#source = AnalogSignalSourceWithScatter(combined, sample_rate, t_start, scatter_indexes, scatter_channels, scatter_colors= {0: '#FFFFFF', 1: '#222222', 2: '#FFFFFF', 3: '#222222', 4: '#FFFFFF', 5: '#222222'}, channel_names=['S1','PFC', 'CA1', 'EMG', 'Scoring'])\n",
    "source =InMemoryAnalogSignalSource(combined, sample_rate, t_start, channel_names=['S1','PFC', 'CA1', 'EMG', 'Scoring'])\n",
    "view1 = TraceViewer(source=source)\n",
    "\n",
    "view1.params['display_labels'] = True\n",
    "view1.params['scale_mode'] = 'same_for_all'\n",
    "view1.auto_scale()\n",
    "view1.by_channel_params['ch0', 'color'] = '#88FF88' #FF0000 red, #00FF00 green, and #0000FF blue\n",
    "view1.by_channel_params['ch1', 'color'] = '#8888FF'\n",
    "view1.by_channel_params['ch2', 'color'] = '#FF8888'\n",
    "view1.by_channel_params['ch3', 'color'] = '#FFFFFF'\n",
    "\n",
    "\n",
    "# FFT\n",
    "view3 = TimeFreqViewer(source=source, name='FFT')\n",
    "\n",
    "view3.params['show_axis'] = True\n",
    "view3.params['timefreq', 'f_start'] = 1\n",
    "view3.params['timefreq', 'f_stop'] = 250\n",
    "view3.params['timefreq', 'deltafreq'] = 1 #interval in Hz\n",
    "\n",
    "view3.by_channel_params['ch0', 'clim'] = 1\n",
    "view3.by_channel_params['ch1', 'clim'] = 1\n",
    "view3.by_channel_params['ch2', 'clim'] = 1\n",
    "view3.by_channel_params['ch0', 'visible'] = True\n",
    "view3.by_channel_params['ch1', 'visible'] = True\n",
    "view3.by_channel_params['ch2', 'visible'] = True\n",
    "view3.by_channel_params['ch3', 'visible'] = False\n",
    "\n",
    "\n",
    "win.add_view(view1)\n",
    "win.add_view(view3)\n",
    "\n",
    "#Run\n",
    "\n",
    "win.show()\n",
    "app.exec_()"
   ]
  }
 ],
 "metadata": {
  "interpreter": {
   "hash": "984d3fbee8ffa490637705ae3d7233e001ab0304f3daaca07b5aa8569b88ca53"
  },
  "kernelspec": {
   "display_name": "Python 3.9.12 ('formation')",
   "language": "python",
   "name": "python3"
  },
  "language_info": {
   "codemirror_mode": {
    "name": "ipython",
    "version": 3
   },
   "file_extension": ".py",
   "mimetype": "text/x-python",
   "name": "python",
   "nbconvert_exporter": "python",
   "pygments_lexer": "ipython3",
   "version": "3.11.7"
  },
  "orig_nbformat": 4
 },
 "nbformat": 4,
 "nbformat_minor": 2
}
