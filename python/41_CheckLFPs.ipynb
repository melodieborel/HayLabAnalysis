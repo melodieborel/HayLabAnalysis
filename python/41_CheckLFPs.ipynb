{
 "cells": [
  {
   "cell_type": "markdown",
   "metadata": {},
   "source": [
    "# Visualisation of LFP & Sleep scoring"
   ]
  },
  {
   "cell_type": "markdown",
   "metadata": {},
   "source": [
    "### Load LFP and packages"
   ]
  },
  {
   "cell_type": "code",
   "execution_count": 1,
   "metadata": {},
   "outputs": [],
   "source": [
    "from scipy import signal\n",
    "import numpy as np\n",
    "import matplotlib.pyplot as plt\n",
    "from matplotlib.widgets import Slider, Button, Cursor\n",
    "from scipy import fftpack\n",
    "import pandas as pd\n",
    "from pathlib import Path\n",
    "import os\n",
    "from IPython.display import display\n",
    "from ipyfilechooser import FileChooser\n",
    "from ephyviewer import mkQApp, MainViewer, TraceViewer\n",
    "from ephyviewer import AnalogSignalSourceWithScatter\n",
    "import ephyviewer\n",
    "from scipy.stats import zscore\n",
    "from scipy.interpolate import interp1d\n",
    "from itertools import groupby\n",
    "from ephyviewer import mkQApp, MainViewer, TraceViewer, TimeFreqViewer\n",
    "from ephyviewer import InMemoryAnalogSignalSource\n",
    "import ephyviewer\n",
    "\n",
    "from scipy.signal import find_peaks\n",
    "from scipy.signal import chirp, find_peaks, peak_widths\n",
    "\n",
    "#%matplotlib widget"
   ]
  },
  {
   "cell_type": "code",
   "execution_count": 2,
   "metadata": {},
   "outputs": [
    {
     "data": {
      "application/vnd.jupyter.widget-view+json": {
       "model_id": "dce748ccafc644cc93e8a98baf9847f9",
       "version_major": 2,
       "version_minor": 0
      },
      "text/plain": [
       "FileChooser(path='\\\\10.69.168.1\\crnldata\\forgetting\\Carla', filename='', title='<b>Open Ephys folder</b>', sho…"
      ]
     },
     "metadata": {},
     "output_type": "display_data"
    },
    {
     "name": "stdout",
     "output_type": "stream",
     "text": [
      "Stored 'dpath' (str)\n"
     ]
    }
   ],
   "source": [
    "dpath = \"//10.69.168.1/crnldata/forgetting/Carla/\"\n",
    "\n",
    "fc1 = FileChooser(dpath,select_default=True, show_only_dirs = False, title = \"<b>Open Ephys folder</b>\")\n",
    "display(fc1)\n",
    "\n",
    "# Sample callback function\n",
    "def update_my_folder(chooser):\n",
    "    global dpath\n",
    "    dpath = chooser.selected\n",
    "    %store dpath\n",
    "    return \n",
    "\n",
    "# Register callback function\n",
    "fc1.register_callback(update_my_folder)"
   ]
  },
  {
   "cell_type": "code",
   "execution_count": 3,
   "metadata": {},
   "outputs": [
    {
     "name": "stdout",
     "output_type": "stream",
     "text": [
      "Vert\n"
     ]
    }
   ],
   "source": [
    "folder_base = Path(dpath) \n",
    "DataRec = np.fromfile(folder_base, dtype=\"int16\")\n",
    "All = DataRec.reshape(-1,96)\n",
    "All.shape\n",
    "#DataRec2 = np.fromfile(folder_base, dtype=\"uint16\")\n",
    "#All2 = DataRec2.reshape(-1,32) \n",
    "#All2.shape\n",
    "\n",
    "Channels = '//10.69.168.1/crnldata/forgetting/Carla/OpenEphysData/LFPChannels_perMice.xlsx' \n",
    "\n",
    "\n",
    "mice=folder_base.parts[-8].split('_')[0]\n",
    "\n",
    "mice='Vert'\n",
    "\n",
    "print(mice)\n",
    "\n",
    "allchannels = pd.read_excel(Channels)\n",
    "\n",
    "\n",
    "PFCch1=int(allchannels[mice][0].split('_')[0])\n",
    "PFCch2=int(allchannels[mice][0].split('_')[1])\n",
    "CA1ch1=int(allchannels[mice][2].split('_')[0])\n",
    "CA1ch2=int(allchannels[mice][2].split('_')[1])\n",
    "S1ch1=int(allchannels[mice][1].split('_')[0])\n",
    "S1ch2=int(allchannels[mice][1].split('_')[1])\n",
    "EMGch1=int(allchannels[mice][3])\n",
    "oPFCch1=int(allchannels[mice][4].split('_')[0])\n",
    "oPFCch2=int(allchannels[mice][4].split('_')[1])\n",
    "EnthCch1=int(allchannels[mice][5].split('_')[0])\n",
    "EnthCch2=int(allchannels[mice][5].split('_')[1])\n",
    "RHch1=int(allchannels[mice][6].split('_')[0])\n",
    "RHch2=int(allchannels[mice][6].split('_')[1])\n"
   ]
  },
  {
   "cell_type": "code",
   "execution_count": 5,
   "metadata": {},
   "outputs": [],
   "source": [
    "#Channels 0-31\n",
    "PFC  =  All[:, (PFCch1)]-All[:, (PFCch2)] \n",
    "CA1  =  All[:, (CA1ch1)]-All[:, (CA1ch2)]\n",
    "#CA1  =  All[:, (CA1ch1)] ou CA1  =  All[:, (CA1ch2)] si problème avec une électode\n",
    "S1  =  All[:, (S1ch1)]-All[:, (S1ch2)] \n",
    "EMG  =  All[:, (EMGch1)]\n",
    "#oPFC  =  All[:, (oPFCch1)]-All[:, (oPFCch2)] \n",
    "oPFC  =  All[:, (oPFCch1)]\n",
    "EnthC  =  All[:, (EnthCch1)]-All[:, (EnthCch2)] \n",
    "RH  =  All[:, (RHch1)]-All[:, (RHch2)] \n",
    "\n",
    "\n",
    "combined = np.stack([zscore(S1),zscore(PFC), zscore(CA1), zscore(EMG), zscore(oPFC), zscore(EnthC), zscore(RH)], axis = 1)"
   ]
  },
  {
   "cell_type": "code",
   "execution_count": 9,
   "metadata": {},
   "outputs": [
    {
     "data": {
      "text/html": [
       "<div>\n",
       "<style scoped>\n",
       "    .dataframe tbody tr th:only-of-type {\n",
       "        vertical-align: middle;\n",
       "    }\n",
       "\n",
       "    .dataframe tbody tr th {\n",
       "        vertical-align: top;\n",
       "    }\n",
       "\n",
       "    .dataframe thead th {\n",
       "        text-align: right;\n",
       "    }\n",
       "</style>\n",
       "<table border=\"1\" class=\"dataframe\">\n",
       "  <thead>\n",
       "    <tr style=\"text-align: right;\">\n",
       "      <th></th>\n",
       "      <th>MICE</th>\n",
       "      <th>Vert test</th>\n",
       "      <th>Jaune test</th>\n",
       "      <th>Rouge</th>\n",
       "      <th>Bleu</th>\n",
       "      <th>Violet</th>\n",
       "      <th>Jaune</th>\n",
       "      <th>Vert</th>\n",
       "      <th>Orange</th>\n",
       "    </tr>\n",
       "  </thead>\n",
       "  <tbody>\n",
       "    <tr>\n",
       "      <th>0</th>\n",
       "      <td>PFC</td>\n",
       "      <td>29.31</td>\n",
       "      <td>28,30</td>\n",
       "      <td>NaN</td>\n",
       "      <td>NaN</td>\n",
       "      <td>13.15</td>\n",
       "      <td>17.19</td>\n",
       "      <td>5.70</td>\n",
       "      <td>5.70</td>\n",
       "    </tr>\n",
       "    <tr>\n",
       "      <th>1</th>\n",
       "      <td>S1</td>\n",
       "      <td>1,3</td>\n",
       "      <td>0,2</td>\n",
       "      <td>5.70</td>\n",
       "      <td>27.29</td>\n",
       "      <td>17.19</td>\n",
       "      <td>5.70</td>\n",
       "      <td>13.15</td>\n",
       "      <td>13.15</td>\n",
       "    </tr>\n",
       "    <tr>\n",
       "      <th>2</th>\n",
       "      <td>CA1</td>\n",
       "      <td>13,17</td>\n",
       "      <td>14,18</td>\n",
       "      <td>27.29</td>\n",
       "      <td>17.19</td>\n",
       "      <td>1.30</td>\n",
       "      <td>9.11</td>\n",
       "      <td>27.29</td>\n",
       "      <td>27.29</td>\n",
       "    </tr>\n",
       "    <tr>\n",
       "      <th>3</th>\n",
       "      <td>EMG</td>\n",
       "      <td>9</td>\n",
       "      <td>9</td>\n",
       "      <td>22.00</td>\n",
       "      <td>22.00</td>\n",
       "      <td>22.00</td>\n",
       "      <td>22.00</td>\n",
       "      <td>22.00</td>\n",
       "      <td>22.00</td>\n",
       "    </tr>\n",
       "    <tr>\n",
       "      <th>4</th>\n",
       "      <td>oPFC</td>\n",
       "      <td>5,7</td>\n",
       "      <td>5,7</td>\n",
       "      <td>9.11</td>\n",
       "      <td>1.30</td>\n",
       "      <td>9.11</td>\n",
       "      <td>27.29</td>\n",
       "      <td>9.11</td>\n",
       "      <td>9.11</td>\n",
       "    </tr>\n",
       "    <tr>\n",
       "      <th>5</th>\n",
       "      <td>EnthC</td>\n",
       "      <td>21.23</td>\n",
       "      <td>21,23</td>\n",
       "      <td>1.30</td>\n",
       "      <td>9.11</td>\n",
       "      <td>27.29</td>\n",
       "      <td>1.30</td>\n",
       "      <td>17.19</td>\n",
       "      <td>17.19</td>\n",
       "    </tr>\n",
       "    <tr>\n",
       "      <th>6</th>\n",
       "      <td>RH</td>\n",
       "      <td>NaN</td>\n",
       "      <td>NaN</td>\n",
       "      <td>17.19</td>\n",
       "      <td>5.70</td>\n",
       "      <td>5.70</td>\n",
       "      <td>13.15</td>\n",
       "      <td>1.30</td>\n",
       "      <td>1.30</td>\n",
       "    </tr>\n",
       "  </tbody>\n",
       "</table>\n",
       "</div>"
      ],
      "text/plain": [
       "    MICE Vert test Jaune test  Rouge   Bleu  Violet  Jaune   Vert  Orange\n",
       "0    PFC     29.31      28,30    NaN    NaN   13.15  17.19   5.70    5.70\n",
       "1     S1       1,3        0,2   5.70  27.29   17.19   5.70  13.15   13.15\n",
       "2    CA1     13,17      14,18  27.29  17.19    1.30   9.11  27.29   27.29\n",
       "3    EMG         9          9  22.00  22.00   22.00  22.00  22.00   22.00\n",
       "4   oPFC       5,7        5,7   9.11   1.30    9.11  27.29   9.11    9.11\n",
       "5  EnthC     21.23      21,23   1.30   9.11   27.29   1.30  17.19   17.19\n",
       "6     RH       NaN        NaN  17.19   5.70    5.70  13.15   1.30    1.30"
      ]
     },
     "execution_count": 9,
     "metadata": {},
     "output_type": "execute_result"
    }
   ],
   "source": [
    "allchannels"
   ]
  },
  {
   "cell_type": "code",
   "execution_count": 5,
   "metadata": {},
   "outputs": [],
   "source": [
    "#Channels 32-63\n",
    "#PFC  =  All[:, (PFCch1+32)]-All[:, (PFCch2+32)] \n",
    "CA1  =  All[:, (CA1ch1+32)]-All[:, (CA1ch2+32)] \n",
    "S1  =  All[:, (S1ch1+32)]-All[:, (S1ch2+32)] \n",
    "EMG  =  All[:, (EMGch1+32)]\n",
    "oPFC  =  All[:, (oPFCch1+32)]-All[:, (oPFCch2+32)] \n",
    "EnthC  =  All[:, (EnthCch1+32)]-All[:, (EnthCch2+32)] \n",
    "RH  =  All[:, (RHch1+32)]-All[:, (RHch2+32)] \n",
    "\n",
    "\n",
    "#combined = np.stack([zscore(S1),zscore(PFC), zscore(CA1), zscore(EMG), zscore(oPFC), zscore(EnthC), zscore(RH)], axis = 1)\n",
    "\n",
    "combined = np.stack([zscore(S1), zscore(CA1), zscore(EMG), zscore(oPFC), zscore(EnthC),zscore(RH)], axis = 1)"
   ]
  },
  {
   "cell_type": "code",
   "execution_count": 5,
   "metadata": {},
   "outputs": [],
   "source": [
    "#Channels 64-95\n",
    "PFC  =  All[:, (PFCch1+64)]-All[:, (PFCch2+64)] \n",
    "CA1  =  All[:, (CA1ch1+64)]-All[:, (CA1ch2+64)] \n",
    "S1  =  All[:, (S1ch1+64)]-All[:, (S1ch2+64)] \n",
    "EMG  =  All[:, (EMGch1+64)]\n",
    "oPFC  =  All[:, (oPFCch1+64)]-All[:, (oPFCch2+64)] \n",
    "EnthC  =  All[:, (EnthCch1+64)]-All[:, (EnthCch2+64)] \n",
    "RH  =  All[:, (RHch1+64)]-All[:, (RHch2+64)] \n",
    "\n",
    "combined = np.stack([zscore(S1),zscore(PFC), zscore(CA1), zscore(EMG), zscore(oPFC), zscore(EnthC), zscore(RH)], axis = 1)"
   ]
  },
  {
   "cell_type": "markdown",
   "metadata": {},
   "source": [
    "# EphyViewer\n"
   ]
  },
  {
   "cell_type": "code",
   "execution_count": 7,
   "metadata": {},
   "outputs": [
    {
     "name": "stdout",
     "output_type": "stream",
     "text": [
      "debug True\n",
      "QT_MODE PyQt5\n",
      "refresh duration for  0.0 s\n",
      "refresh duration for  0.0 s\n",
      "save_all_settings\n"
     ]
    },
    {
     "data": {
      "text/plain": [
       "0"
      ]
     },
     "execution_count": 7,
     "metadata": {},
     "output_type": "execute_result"
    }
   ],
   "source": [
    "from ephyviewer import mkQApp, MainViewer, TraceViewer, TimeFreqViewer, CsvEpochSource, EpochEncoder,EpochViewer\n",
    "from ephyviewer import InMemoryAnalogSignalSource\n",
    "from ephyviewer import InMemorySpikeSource\n",
    "\n",
    "app = mkQApp()\n",
    "win = MainViewer(debug=True, show_auto_scale=True)\n",
    "\n",
    "# LFPs\n",
    "\n",
    "sample_rate = 1000\n",
    "t_start = 0.\n",
    "\n",
    "#source = AnalogSignalSourceWithScatter(combined, sample_rate, t_start, scatter_indexes, scatter_channels, scatter_colors= {0: '#FFFFFF', 1: '#222222', 2: '#FFFFFF', 3: '#222222', 4: '#FFFFFF', 5: '#222222'}, channel_names=['S1','PFC', 'CA1', 'EMG', 'Scoring'])\n",
    "#source =InMemoryAnalogSignalSource(combined, sample_rate, t_start, channel_names=['S1', 'CA1', 'EMG','oPFC', 'EnthC', 'RH'])\n",
    "source =InMemoryAnalogSignalSource(combined, sample_rate, t_start, channel_names=['S1','PFC', 'CA1', 'EMG','oPFC', 'EnthC', 'RH'])\n",
    "view1 = TraceViewer(source=source)\n",
    "\n",
    "view1.params['display_labels'] = True\n",
    "view1.params['scale_mode'] = 'same_for_all'\n",
    "view1.auto_scale()\n",
    "view1.by_channel_params['ch0', 'color'] = '#FF88FF' #FF0000 red, #00FF00 green, and #0000FF blue\n",
    "view1.by_channel_params['ch1', 'color'] = '#88FF88'\n",
    "view1.by_channel_params['ch2', 'color'] = '#8888FF'\n",
    "view1.by_channel_params['ch3', 'color'] = '#FFFFFF'\n",
    "view1.by_channel_params['ch4', 'color'] = '#FF8877'\n",
    "view1.by_channel_params['ch5', 'color'] = '#777777'\n",
    "view1.by_channel_params['ch6', 'color'] = '#FFFF99'\n",
    "\n",
    "\n",
    "# FFT\n",
    "view3 = TimeFreqViewer(source=source, name='FFT')\n",
    "\n",
    "view3.params['show_axis'] = True\n",
    "view3.params['timefreq', 'f_start'] = 1\n",
    "view3.params['timefreq', 'f_stop'] = 50\n",
    "view3.params['timefreq', 'deltafreq'] = 1 #interval in Hz\n",
    "\n",
    "view3.by_channel_params['ch0', 'clim'] = 1\n",
    "view3.by_channel_params['ch1', 'clim'] = 1\n",
    "view3.by_channel_params['ch2', 'clim'] = 1\n",
    "view3.by_channel_params['ch4', 'clim'] = 1\n",
    "view3.by_channel_params['ch5', 'clim'] = 1\n",
    "view3.by_channel_params['ch0', 'visible'] = True\n",
    "view3.by_channel_params['ch1', 'visible'] = True\n",
    "view3.by_channel_params['ch2', 'visible'] = True\n",
    "view3.by_channel_params['ch4', 'visible'] = True\n",
    "view3.by_channel_params['ch5', 'visible'] = True\n",
    "view3.by_channel_params['ch6', 'visible'] = True\n",
    "view3.by_channel_params['ch3', 'visible'] = False\n",
    "\n",
    "\n",
    "win.add_view(view1)\n",
    "win.add_view(view3)\n",
    "\n",
    "#Run\n",
    "\n",
    "win.show()\n",
    "app.exec_()"
   ]
  },
  {
   "cell_type": "code",
   "execution_count": 13,
   "metadata": {},
   "outputs": [],
   "source": [
    "%gui qt\n",
    "app = mkQApp()\n",
    "\n",
    "sample_rate = 1000.\n",
    "t_start = 0.\n",
    "\n",
    "#Create the main window that can contain several viewers\n",
    "win = MainViewer()\n",
    "view1 = TraceViewer.from_numpy(All, sample_rate, t_start, 'Signals')\n",
    "#add them to mainwindow\n",
    "\n",
    "view1.params['display_labels'] = True\n",
    "view1.params['scale_mode'] = 'same_for_all'\n",
    "view1.auto_scale()\n",
    "\n",
    "win.add_view(view1)\n",
    "\n",
    "\n",
    "#Run\n",
    "win.show()\n"
   ]
  }
 ],
 "metadata": {
  "kernelspec": {
   "display_name": "SleepRec2",
   "language": "python",
   "name": "python3"
  },
  "language_info": {
   "codemirror_mode": {
    "name": "ipython",
    "version": 3
   },
   "file_extension": ".py",
   "mimetype": "text/x-python",
   "name": "python",
   "nbconvert_exporter": "python",
   "pygments_lexer": "ipython3",
   "version": "3.11.10"
  },
  "orig_nbformat": 4
 },
 "nbformat": 4,
 "nbformat_minor": 2
}
