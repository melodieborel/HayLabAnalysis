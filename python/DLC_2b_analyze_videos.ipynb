{
 "cells": [
  {
   "cell_type": "markdown",
   "id": "d05b456a",
   "metadata": {},
   "source": [
    "# Analyze with DLC all videos from a folder locally"
   ]
  },
  {
   "cell_type": "code",
   "execution_count": null,
   "id": "0d81b2a5",
   "metadata": {},
   "outputs": [
    {
     "name": "stdout",
     "output_type": "stream",
     "text": [
      "Loading DLC 3.0.0rc9...\n",
      "Found AVI file: 0_compressed.avi in /crnldata/forgetting/Aurelie/MiniscopeOE_data/L2_3_mice/RC/PlaceCells_experiment/2025_09_04/Cheeseboard/12_57_34/My_First_WebCam\n"
     ]
    },
    {
     "ename": "ValueError",
     "evalue": "Could not find a shuffle with trainingset fraction 0.95 and index 1",
     "output_type": "error",
     "traceback": [
      "\u001b[0;31m---------------------------------------------------------------------------\u001b[0m",
      "\u001b[0;31mValueError\u001b[0m                                Traceback (most recent call last)",
      "Cell \u001b[0;32mIn[1], line 24\u001b[0m\n\u001b[1;32m     22\u001b[0m \u001b[38;5;28mprint\u001b[39m(\u001b[38;5;124mf\u001b[39m\u001b[38;5;124m\"\u001b[39m\u001b[38;5;124mFound AVI file: \u001b[39m\u001b[38;5;132;01m{\u001b[39;00mfile\u001b[38;5;132;01m}\u001b[39;00m\u001b[38;5;124m in \u001b[39m\u001b[38;5;132;01m{\u001b[39;00mroot\u001b[38;5;132;01m}\u001b[39;00m\u001b[38;5;124m\"\u001b[39m)\n\u001b[1;32m     23\u001b[0m filevideo\u001b[38;5;241m=\u001b[39mos\u001b[38;5;241m.\u001b[39mpath\u001b[38;5;241m.\u001b[39mjoin(root, file)\n\u001b[0;32m---> 24\u001b[0m \u001b[43mdeeplabcut\u001b[49m\u001b[38;5;241;43m.\u001b[39;49m\u001b[43manalyze_videos\u001b[49m\u001b[43m(\u001b[49m\u001b[43mconfig\u001b[49m\u001b[43m,\u001b[49m\u001b[43mfilevideo\u001b[49m\u001b[43m,\u001b[49m\u001b[43mshuffle\u001b[49m\u001b[38;5;241;43m=\u001b[39;49m\u001b[43mshuffle\u001b[49m\u001b[43m,\u001b[49m\u001b[43mvideotype\u001b[49m\u001b[38;5;241;43m=\u001b[39;49m\u001b[43m \u001b[49m\u001b[38;5;124;43m'\u001b[39;49m\u001b[38;5;124;43mavi\u001b[39;49m\u001b[38;5;124;43m'\u001b[39;49m\u001b[43m)\u001b[49m\n\u001b[1;32m     25\u001b[0m elapsed_time \u001b[38;5;241m=\u001b[39m time\u001b[38;5;241m.\u001b[39mtime() \u001b[38;5;241m-\u001b[39m st\n\u001b[1;32m     26\u001b[0m \u001b[38;5;28mprint\u001b[39m(\u001b[38;5;124m'\u001b[39m\u001b[38;5;124mExecution time:\u001b[39m\u001b[38;5;124m'\u001b[39m, time\u001b[38;5;241m.\u001b[39mstrftime(\u001b[38;5;124m\"\u001b[39m\u001b[38;5;124m%\u001b[39m\u001b[38;5;124mH:\u001b[39m\u001b[38;5;124m%\u001b[39m\u001b[38;5;124mM:\u001b[39m\u001b[38;5;124m%\u001b[39m\u001b[38;5;124mS\u001b[39m\u001b[38;5;124m\"\u001b[39m, time\u001b[38;5;241m.\u001b[39mgmtime(elapsed_time)))\n",
      "File \u001b[0;32m~/miniconda3/envs/DEEPLABCUT/lib/python3.10/site-packages/deeplabcut/compat.py:899\u001b[0m, in \u001b[0;36manalyze_videos\u001b[0;34m(config, videos, videotype, shuffle, trainingsetindex, gputouse, save_as_csv, in_random_order, destfolder, batchsize, cropping, TFGPUinference, dynamic, modelprefix, robust_nframes, allow_growth, use_shelve, auto_track, n_tracks, animal_names, calibrate, identity_only, use_openvino, engine, **torch_kwargs)\u001b[0m\n\u001b[1;32m    685\u001b[0m \u001b[38;5;250m\u001b[39m\u001b[38;5;124;03m\"\"\"Makes prediction based on a trained network.\u001b[39;00m\n\u001b[1;32m    686\u001b[0m \n\u001b[1;32m    687\u001b[0m \u001b[38;5;124;03mThe index of the trained network is specified by parameters in the config file\u001b[39;00m\n\u001b[0;32m   (...)\u001b[0m\n\u001b[1;32m    896\u001b[0m \u001b[38;5;124;03m    )\u001b[39;00m\n\u001b[1;32m    897\u001b[0m \u001b[38;5;124;03m\"\"\"\u001b[39;00m\n\u001b[1;32m    898\u001b[0m \u001b[38;5;28;01mif\u001b[39;00m engine \u001b[38;5;129;01mis\u001b[39;00m \u001b[38;5;28;01mNone\u001b[39;00m:\n\u001b[0;32m--> 899\u001b[0m     engine \u001b[38;5;241m=\u001b[39m \u001b[43mget_shuffle_engine\u001b[49m\u001b[43m(\u001b[49m\n\u001b[1;32m    900\u001b[0m \u001b[43m        \u001b[49m\u001b[43m_load_config\u001b[49m\u001b[43m(\u001b[49m\u001b[43mconfig\u001b[49m\u001b[43m)\u001b[49m\u001b[43m,\u001b[49m\n\u001b[1;32m    901\u001b[0m \u001b[43m        \u001b[49m\u001b[43mtrainingsetindex\u001b[49m\u001b[38;5;241;43m=\u001b[39;49m\u001b[43mtrainingsetindex\u001b[49m\u001b[43m,\u001b[49m\n\u001b[1;32m    902\u001b[0m \u001b[43m        \u001b[49m\u001b[43mshuffle\u001b[49m\u001b[38;5;241;43m=\u001b[39;49m\u001b[43mshuffle\u001b[49m\u001b[43m,\u001b[49m\n\u001b[1;32m    903\u001b[0m \u001b[43m        \u001b[49m\u001b[43mmodelprefix\u001b[49m\u001b[38;5;241;43m=\u001b[39;49m\u001b[43mmodelprefix\u001b[49m\u001b[43m,\u001b[49m\n\u001b[1;32m    904\u001b[0m \u001b[43m    \u001b[49m\u001b[43m)\u001b[49m\n\u001b[1;32m    906\u001b[0m \u001b[38;5;28;01mif\u001b[39;00m engine \u001b[38;5;241m==\u001b[39m Engine\u001b[38;5;241m.\u001b[39mTF:\n\u001b[1;32m    907\u001b[0m     \u001b[38;5;28;01mfrom\u001b[39;00m\u001b[38;5;250m \u001b[39m\u001b[38;5;21;01mdeeplabcut\u001b[39;00m\u001b[38;5;21;01m.\u001b[39;00m\u001b[38;5;21;01mpose_estimation_tensorflow\u001b[39;00m\u001b[38;5;250m \u001b[39m\u001b[38;5;28;01mimport\u001b[39;00m analyze_videos\n",
      "File \u001b[0;32m~/miniconda3/envs/DEEPLABCUT/lib/python3.10/site-packages/deeplabcut/generate_training_dataset/metadata.py:414\u001b[0m, in \u001b[0;36mget_shuffle_engine\u001b[0;34m(cfg, trainingsetindex, shuffle, modelprefix)\u001b[0m\n\u001b[1;32m    411\u001b[0m     metadata\u001b[38;5;241m.\u001b[39msave()\n\u001b[1;32m    413\u001b[0m metadata \u001b[38;5;241m=\u001b[39m TrainingDatasetMetadata\u001b[38;5;241m.\u001b[39mload(cfg)\n\u001b[0;32m--> 414\u001b[0m shuffle_metadata \u001b[38;5;241m=\u001b[39m \u001b[43mmetadata\u001b[49m\u001b[38;5;241;43m.\u001b[39;49m\u001b[43mget\u001b[49m\u001b[43m(\u001b[49m\u001b[43mtrainingsetindex\u001b[49m\u001b[43m,\u001b[49m\u001b[43m \u001b[49m\u001b[43mshuffle\u001b[49m\u001b[43m)\u001b[49m\n\u001b[1;32m    415\u001b[0m \u001b[38;5;28;01mif\u001b[39;00m modelprefix:\n\u001b[1;32m    416\u001b[0m     \u001b[38;5;66;03m# try to get the engine by checking which models folder exists\u001b[39;00m\n\u001b[1;32m    417\u001b[0m     engines \u001b[38;5;241m=\u001b[39m find_engines_from_model_folders(\n\u001b[1;32m    418\u001b[0m         cfg, trainingsetindex, shuffle, modelprefix\n\u001b[1;32m    419\u001b[0m     )\n",
      "File \u001b[0;32m~/miniconda3/envs/DEEPLABCUT/lib/python3.10/site-packages/deeplabcut/generate_training_dataset/metadata.py:206\u001b[0m, in \u001b[0;36mTrainingDatasetMetadata.get\u001b[0;34m(self, trainset_index, index)\u001b[0m\n\u001b[1;32m    200\u001b[0m     \u001b[38;5;28;01mif\u001b[39;00m (\n\u001b[1;32m    201\u001b[0m         shuffle\u001b[38;5;241m.\u001b[39mtrain_fraction \u001b[38;5;241m==\u001b[39m train_fraction\n\u001b[1;32m    202\u001b[0m         \u001b[38;5;129;01mand\u001b[39;00m shuffle\u001b[38;5;241m.\u001b[39mindex \u001b[38;5;241m==\u001b[39m index\n\u001b[1;32m    203\u001b[0m     ):\n\u001b[1;32m    204\u001b[0m         \u001b[38;5;28;01mreturn\u001b[39;00m shuffle\n\u001b[0;32m--> 206\u001b[0m \u001b[38;5;28;01mraise\u001b[39;00m \u001b[38;5;167;01mValueError\u001b[39;00m(\n\u001b[1;32m    207\u001b[0m     \u001b[38;5;124mf\u001b[39m\u001b[38;5;124m\"\u001b[39m\u001b[38;5;124mCould not find a shuffle with trainingset fraction \u001b[39m\u001b[38;5;132;01m{\u001b[39;00mtrain_fraction\u001b[38;5;132;01m}\u001b[39;00m\u001b[38;5;124m and \u001b[39m\u001b[38;5;124m\"\u001b[39m\n\u001b[1;32m    208\u001b[0m     \u001b[38;5;124mf\u001b[39m\u001b[38;5;124m\"\u001b[39m\u001b[38;5;124mindex \u001b[39m\u001b[38;5;132;01m{\u001b[39;00mindex\u001b[38;5;132;01m}\u001b[39;00m\u001b[38;5;124m\"\u001b[39m\n\u001b[1;32m    209\u001b[0m )\n",
      "\u001b[0;31mValueError\u001b[0m: Could not find a shuffle with trainingset fraction 0.95 and index 1"
     ]
    }
   ],
   "source": [
    "import os\n",
    "import deeplabcut\n",
    "import time\n",
    "\n",
    "project='MiniscopeOE-AurelieB-2025-09-08'\n",
    "project='MiniscopeOE-AurelieB-2025-09-08'\n",
    "\n",
    "shuffle=1\n",
    "\n",
    "prefix='/home/aurelie.brecier/'\n",
    "\n",
    "projectpath=os.path.join(prefix,project)\n",
    "config=os.path.join(projectpath,'config.yaml')\n",
    "\n",
    "basepath='/crnldata/forgetting/Aurelie/MiniscopeOE_data/L2_3_mice/RC/' #data'\n",
    "\n",
    "avi_files = []\n",
    "for root, dirs, files in os.walk(basepath):\n",
    "    for file in files:\n",
    "        st = time.time()\n",
    "        if file.lower().endswith(\".avi\"):\n",
    "            has_h5 = any(f.lower().endswith(\".h5\") for f in files)\n",
    "            if \"My_First_WebCam\" in root and \"Cheeseboard\" in root:# and not has_h5:\n",
    "                print(f\"Found AVI file: {file} in {root}\")\n",
    "                filevideo=os.path.join(root, file)\n",
    "                deeplabcut.analyze_videos(config,filevideo,videotype= 'avi')\n",
    "                elapsed_time = time.time() - st\n",
    "                print('Execution time:', time.strftime(\"%H:%M:%S\", time.gmtime(elapsed_time)))"
   ]
  }
 ],
 "metadata": {
  "kernelspec": {
   "display_name": "DEEPLABCUT",
   "language": "python",
   "name": "python3"
  },
  "language_info": {
   "codemirror_mode": {
    "name": "ipython",
    "version": 3
   },
   "file_extension": ".py",
   "mimetype": "text/x-python",
   "name": "python",
   "nbconvert_exporter": "python",
   "pygments_lexer": "ipython3",
   "version": "3.10.18"
  }
 },
 "nbformat": 4,
 "nbformat_minor": 5
}
