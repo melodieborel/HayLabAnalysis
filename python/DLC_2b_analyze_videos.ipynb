{
 "cells": [
  {
   "cell_type": "markdown",
   "id": "c1dc8bb4",
   "metadata": {},
   "source": [
    "Analyze all videos with DLC from a folder (locally OR on interactives nodes)"
   ]
  },
  {
   "cell_type": "code",
   "execution_count": null,
   "id": "96a9a430",
   "metadata": {},
   "outputs": [],
   "source": [
    "import os\n",
    "import deeplabcut\n",
    "import time\n",
    "\n",
    "project='Cheeseboard-CBM-2025-02-06'\n",
    "\n",
    "shuffle=1\n",
    "\n",
    "prefix='/home/carla.burnet-merlin/'\n",
    "\n",
    "projectpath=os.path.join(prefix,project)\n",
    "config=os.path.join(projectpath,'config.yaml')\n",
    "\n",
    "basepath='/crnldata/forgetting/Carla/CheeseboardTest/' #data'\n",
    "\n",
    "avi_files = []\n",
    "for root, dirs, files in os.walk(basepath):\n",
    "    for file in files:\n",
    "        st = time.time()\n",
    "        if file.lower().endswith(\".mp4\"):\n",
    "            if \"Cheeseboard\" in root:\n",
    "                print(f\"Found MP4 file: {file} in {root}\")\n",
    "                filevideo=os.path.join(root, file)\n",
    "                deeplabcut.analyze_videos(config,filevideo,shuffle=shuffle,videotype= 'mp4')\n",
    "                elapsed_time = time.time() - st\n",
    "                print('Execution time:', time.strftime(\"%H:%M:%S\", time.gmtime(elapsed_time)))"
   ]
  }
 ],
 "metadata": {
  "kernelspec": {
   "display_name": "DEEPLABCUT",
   "language": "python",
   "name": "python3"
  },
  "language_info": {
   "codemirror_mode": {
    "name": "ipython",
    "version": 3
   },
   "file_extension": ".py",
   "mimetype": "text/x-python",
   "name": "python",
   "nbconvert_exporter": "python",
   "pygments_lexer": "ipython3",
   "version": "3.10.18"
  }
 },
 "nbformat": 4,
 "nbformat_minor": 5
}
