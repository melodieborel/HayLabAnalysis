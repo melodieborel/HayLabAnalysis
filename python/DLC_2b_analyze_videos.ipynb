{
 "cells": [
  {
   "cell_type": "markdown",
   "id": "d05b456a",
   "metadata": {},
   "source": [
    "# Analyze with DLC all videos from a folder locally"
   ]
  },
  {
   "cell_type": "code",
   "execution_count": null,
   "id": "0d81b2a5",
   "metadata": {},
   "outputs": [],
   "source": [
    "import os\n",
    "import deeplabcut\n",
    "import time\n",
    "\n",
    "project='MiniscopeOECheeseboard-AurelieB-2025-08-25'\n",
    "\n",
    "shuffle=1\n",
    "\n",
    "prefix='//10.69.168.1/crnldata/forgetting/Aurelie/DLC_models/'\n",
    "\n",
    "projectpath=os.path.join(prefix,project)\n",
    "config=os.path.join(projectpath,'config.yaml')\n",
    "\n",
    "basepath='//10.69.168.1/crnldata/forgetting/Aurelie/MiniscopeOE_data/L2_3_mice/BC/PlaceCells_experiment/' #data'\n",
    "\n",
    "avi_files = []\n",
    "for root, dirs, files in os.walk(basepath):\n",
    "    for file in files:\n",
    "        st = time.time()\n",
    "        if file.lower().endswith(\".avi\"):\n",
    "            has_h5 = any(f.lower().endswith(\".h5\") for f in files)\n",
    "            if \"My_First_WebCam\" in root and \"Cheeseboard\" in root and not has_h5:\n",
    "                print(f\"Found AVI file: {file} in {root}\")\n",
    "                filevideo=os.path.join(root, file)\n",
    "                deeplabcut.analyze_videos(config,filevideo,shuffle=shuffle,videotype= 'avi')\n",
    "                elapsed_time = time.time() - st\n",
    "                print('Execution time:', time.strftime(\"%H:%M:%S\", time.gmtime(elapsed_time)))"
   ]
  }
 ],
 "metadata": {
  "kernelspec": {
   "display_name": "Python 3",
   "language": "python",
   "name": "python3"
  },
  "language_info": {
   "codemirror_mode": {
    "name": "ipython",
    "version": 3
   },
   "file_extension": ".py",
   "mimetype": "text/x-python",
   "name": "python",
   "nbconvert_exporter": "python",
   "pygments_lexer": "ipython3",
   "version": "3.10.18"
  }
 },
 "nbformat": 4,
 "nbformat_minor": 5
}
