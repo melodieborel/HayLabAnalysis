{
 "cells": [
  {
   "cell_type": "code",
   "execution_count": null,
   "id": "0d81b2a5",
   "metadata": {},
   "outputs": [
    {
     "name": "stdout",
     "output_type": "stream",
     "text": [
      "Loading DLC 3.0.0rc9...\n",
      "Found AVI file: 0_compressed.avi in //10.69.168.1/crnldata/forgetting/Aurelie/MiniscopeOE_data/L1NDNF_mice\\BW\\LongTermMemory_experiment\\Habituation\\2025_03_05\\Cheeseboard\\15_35_48\\My_First_WebCam\n",
      "Analyzing videos with C:\\Users\\Manip2\\Desktop\\MiniscopeOECheeseboard-AurelieB-2025-08-25\\dlc-models-pytorch\\iteration-0\\MiniscopeOECheeseboardAug25-trainset95shuffle1\\train\\snapshot-best-110.pt\n",
      "Starting to analyze \\\\10.69.168.1\\crnldata\\forgetting\\Aurelie\\MiniscopeOE_data\\L1NDNF_mice\\BW\\LongTermMemory_experiment\\Habituation\\2025_03_05\\Cheeseboard\\15_35_48\\My_First_WebCam\\0_compressed.avi\n",
      "Video metadata: \n",
      "  Overall # of frames:    10050\n",
      "  Duration of video [s]:  167.50\n",
      "  fps:                    60.0\n",
      "  resolution:             w=640, h=480\n",
      "\n",
      "Running pose prediction with batch size 8\n"
     ]
    },
    {
     "name": "stderr",
     "output_type": "stream",
     "text": [
      " 27%|██▋       | 2675/10050 [00:42<02:03, 59.58it/s]"
     ]
    }
   ],
   "source": [
    "import os\n",
    "import deeplabcut\n",
    "\n",
    "def getsubfolders(folder):\n",
    "    ''' returns list of subfolders '''\n",
    "    return [os.path.join(folder,p) for p in os.listdir(folder) if os.path.isdir(os.path.join(folder,p))]\n",
    "    \n",
    "project='MiniscopeOECheeseboard-AurelieB-2025-08-25'\n",
    "\n",
    "shuffle=1\n",
    "\n",
    "prefix='C:/Users/Manip2/Desktop/'\n",
    "\n",
    "projectpath=os.path.join(prefix,project)\n",
    "config=os.path.join(projectpath,'config.yaml')\n",
    "\n",
    "basepath='//10.69.168.1/crnldata/forgetting/Aurelie/MiniscopeOE_data/' #data'\n",
    "\n",
    "import os\n",
    "avi_files = []\n",
    "for root, dirs, files in os.walk(basepath):\n",
    "    for file in files:\n",
    "        if file.lower().endswith(\".avi\"):\n",
    "            if \"My_First_WebCam\" in root and \"Cheeseboard\" in root:\n",
    "                print(f\"Found AVI file: {file} in {root}\")\n",
    "                filevideo=os.path.join(root, file)\n",
    "                deeplabcut.analyze_videos(config,filevideo,shuffle=shuffle,videotype= 'avi')"
   ]
  }
 ],
 "metadata": {
  "kernelspec": {
   "display_name": "Python 3",
   "language": "python",
   "name": "python3"
  },
  "language_info": {
   "codemirror_mode": {
    "name": "ipython",
    "version": 3
   },
   "file_extension": ".py",
   "mimetype": "text/x-python",
   "name": "python",
   "nbconvert_exporter": "python",
   "pygments_lexer": "ipython3",
   "version": "3.10.18"
  }
 },
 "nbformat": 4,
 "nbformat_minor": 5
}
