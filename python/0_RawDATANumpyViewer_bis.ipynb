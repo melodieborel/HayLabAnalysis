{
 "cells": [
  {
   "cell_type": "markdown",
   "metadata": {},
   "source": [
    "# This is just a notebook to visualise 1kHz filtered raw data"
   ]
  },
  {
   "cell_type": "markdown",
   "metadata": {},
   "source": [
    "## Setup everything"
   ]
  },
  {
   "cell_type": "markdown",
   "metadata": {},
   "source": [
    "### Import packages"
   ]
  },
  {
   "cell_type": "code",
   "execution_count": 1,
   "metadata": {},
   "outputs": [
    {
     "ename": "ModuleNotFoundError",
     "evalue": "No module named 'ephyviewer'",
     "output_type": "error",
     "traceback": [
      "\u001b[0;31m---------------------------------------------------------------------------\u001b[0m",
      "\u001b[0;31mModuleNotFoundError\u001b[0m                       Traceback (most recent call last)",
      "Cell \u001b[0;32mIn[1], line 5\u001b[0m\n\u001b[1;32m      2\u001b[0m \u001b[38;5;28;01mimport\u001b[39;00m \u001b[38;5;21;01mnumpy\u001b[39;00m \u001b[38;5;28;01mas\u001b[39;00m \u001b[38;5;21;01mnp\u001b[39;00m\n\u001b[1;32m      3\u001b[0m \u001b[38;5;28;01mimport\u001b[39;00m \u001b[38;5;21;01mmatplotlib\u001b[39;00m\n\u001b[0;32m----> 5\u001b[0m \u001b[38;5;28;01mfrom\u001b[39;00m \u001b[38;5;21;01mephyviewer\u001b[39;00m \u001b[38;5;28;01mimport\u001b[39;00m mkQApp, MainViewer, TraceViewer, TimeFreqViewer, InMemoryAnalogSignalSource\n\u001b[1;32m      6\u001b[0m \u001b[38;5;28;01mfrom\u001b[39;00m \u001b[38;5;21;01mephyviewer\u001b[39;00m \u001b[38;5;28;01mimport\u001b[39;00m AnalogSignalSourceWithScatter\n\u001b[1;32m      8\u001b[0m \u001b[38;5;66;03m# add the Contrib dir that contains all tools developped by MB : mbTools.py\u001b[39;00m\n\u001b[1;32m      9\u001b[0m \u001b[38;5;66;03m#sys.path.append(os.path.join(os.path.dirname(sys.path[0]),'python'))\u001b[39;00m\n\u001b[1;32m     10\u001b[0m \u001b[38;5;66;03m#print(os.path.join(os.path.dirname(sys.path[0]),'python'))\u001b[39;00m\n",
      "\u001b[0;31mModuleNotFoundError\u001b[0m: No module named 'ephyviewer'"
     ]
    }
   ],
   "source": [
    "import os\n",
    "import numpy as np\n",
    "import matplotlib\n",
    "\n",
    "from ephyviewer import mkQApp, MainViewer, TraceViewer, TimeFreqViewer, InMemoryAnalogSignalSource\n",
    "from ephyviewer import AnalogSignalSourceWithScatter\n",
    "\n",
    "# add the Contrib dir that contains all tools developped by MB : mbTools.py\n",
    "#sys.path.append(os.path.join(os.path.dirname(sys.path[0]),'python'))\n",
    "#print(os.path.join(os.path.dirname(sys.path[0]),'python'))\n",
    "from mbTools import mbTools"
   ]
  },
  {
   "cell_type": "markdown",
   "metadata": {},
   "source": [
    "### Import local config, create it if inexistant\n",
    "All user-specific configuration (projects, defautl path to files...) are stored in a file named localConfig.ini in the python subfolder of AudreyHayLab repo. It is ignored by git so that it remains truely local. If the file does not exist at beginning, it is created with default values that can be modified at whishes."
   ]
  },
  {
   "cell_type": "code",
   "execution_count": 2,
   "metadata": {},
   "outputs": [
    {
     "name": "stdout",
     "output_type": "stream",
     "text": [
      "Local config file loaded from localConfig.ini\n",
      "All raw data are expected to be found in the folder: /Users/mb\n",
      "All analysis will be saved in the folder: /Users/mb/Analysis\n",
      "DATA\n",
      "[('path', '/Users/mb')]\n",
      "ANALYSIS\n",
      "[('path', '/Users/mb/Analysis'),\n",
      " ('projecttype', '0'),\n",
      " ('animalid', '0'),\n",
      " ('projectid', 'AProject'),\n",
      " ('subprojectid', 'OneOfItsSubProject'),\n",
      " ('conditionid', 'control'),\n",
      " ('recordingid', '0')]\n",
      "AProject.OneOfItsSubProject\n",
      "[('design', '0'),\n",
      " ('nanimal', '6'),\n",
      " ('conditions', \"['control']\"),\n",
      " ('nrecordings', '1')]\n",
      "Annie.NPX\n",
      "[('design', '0'),\n",
      " ('nanimal', '6'),\n",
      " ('conditions', \"['control']\"),\n",
      " ('nrecordings', '1')]\n"
     ]
    }
   ],
   "source": [
    "config = mbTools.localConf()\n",
    "rawDataPath = config['DATA']['path']\n",
    "print(f'All raw data are expected to be found in the folder: {rawDataPath}')\n",
    "analysisPath = config['ANALYSIS']['path']\n",
    "print(f'All analysis will be saved in the folder: {analysisPath}')\n",
    "config.printAll()"
   ]
  },
  {
   "cell_type": "markdown",
   "metadata": {},
   "source": [
    "## Choose experiment\n",
    "Select the experiment to display. If the experiment was already analyzed, a saved_dictionary.pkl was created and contains all necessary variables. Select this file. Otherwise select the raw data recording file.\n",
    ">**If you have a file with channel mapping somewhere**, we should make sure it is properly translated into a dict.pkl"
   ]
  },
  {
   "cell_type": "code",
   "execution_count": 3,
   "metadata": {},
   "outputs": [
    {
     "name": "stdout",
     "output_type": "stream",
     "text": [
      "/Users/mb/Analysis/AProject/OneOfItsSubProject/control/0/saved_dictionary.pkl\n",
      "Local config file loaded from localConfig.ini\n",
      "the file is /Users/mb/Analysis/AProject/OneOfItsSubProject/control/0/saved_dictionary.pkl\n"
     ]
    },
    {
     "data": {
      "application/vnd.jupyter.widget-view+json": {
       "model_id": "f7dbf034888f4c1fb87c290d45c1e3d3",
       "version_major": 2,
       "version_minor": 0
      },
      "text/plain": [
       "FileChooser(path='/Users/mb/Analysis/AProject/OneOfItsSubProject/control/0', filename='saved_dictionary.pkl', …"
      ]
     },
     "metadata": {},
     "output_type": "display_data"
    }
   ],
   "source": [
    "currentFile = None\n",
    "%store -r currentFile\n",
    "print(currentFile)\n",
    "try:\n",
    "    theExpe = mbTools.expeConfigDict(currentFile)\n",
    "except Exception as error:\n",
    "    print(error)\n",
    "    theExpe = mbTools.expeConfigDict()"
   ]
  },
  {
   "cell_type": "markdown",
   "metadata": {},
   "source": [
    "### Possibility to change raw data path \n",
    "if for some reason the path to the raw data is wrong, you can update it here"
   ]
  },
  {
   "cell_type": "code",
   "execution_count": 4,
   "metadata": {},
   "outputs": [
    {
     "data": {
      "application/vnd.jupyter.widget-view+json": {
       "model_id": "22314ca7d01a4930a685e58b11ba11c8",
       "version_major": 2,
       "version_minor": 0
      },
      "text/plain": [
       "FileChooser(path='/Users/mb/Documents/Syntuitio/AudreyHay/PlanB/python', filename='', title='<b>ePhys data</b>…"
      ]
     },
     "metadata": {},
     "output_type": "display_data"
    }
   ],
   "source": [
    "theExpe.rawDataSelector()"
   ]
  },
  {
   "cell_type": "markdown",
   "metadata": {},
   "source": [
    "## Load Data"
   ]
  },
  {
   "cell_type": "markdown",
   "metadata": {},
   "source": [
    "### Map the whole data into memory"
   ]
  },
  {
   "cell_type": "code",
   "execution_count": 5,
   "metadata": {},
   "outputs": [
    {
     "data": {
      "application/vnd.jupyter.widget-view+json": {
       "model_id": "d577d3ad6730485fa4790c2ef399f522",
       "version_major": 2,
       "version_minor": 0
      },
      "text/plain": [
       "FileChooser(path='/Users/mb/Documents/Syntuitio/AudreyHay/PlanB/recording8/continuous/Rhythm_FPGA-133.0', file…"
      ]
     },
     "metadata": {},
     "output_type": "display_data"
    }
   ],
   "source": [
    "if False:\n",
    "    dpath = None #  '//10.69.168.1/crnldata/waking/audrey_hay/NPX/NPX4_claustrum/Expe_2024-07-18_12-00-43/'\n",
    "    # %store dpath\n",
    "    %store -r dpath\n",
    "    print(dpath)\n",
    "    theExpe.rawDataPath = dpath\n",
    "thedata = mbTools.experiment(theExpe)"
   ]
  },
  {
   "cell_type": "code",
   "execution_count": 6,
   "metadata": {},
   "outputs": [
    {
     "name": "stdout",
     "output_type": "stream",
     "text": [
      "warning: this function is not confirmed yet. Please see with MB, that it is porperly working when you want to use it\n",
      "/Users/mb/Documents/Syntuitio/AudreyHay/PlanB/python\n",
      "None\n"
     ]
    }
   ],
   "source": [
    "Timestamps = thedata.loadRecording_TimeStamps()\n",
    "print(Timestamps)"
   ]
  },
  {
   "cell_type": "code",
   "execution_count": 7,
   "metadata": {},
   "outputs": [
    {
     "name": "stdout",
     "output_type": "stream",
     "text": [
      "/Users/mb/Documents/Syntuitio/AudreyHay/PlanB/recording8/continuous/Rhythm_FPGA-133.0\n",
      "found some continuous.dat files\n",
      "carrefull, to match my case, numChannels is set to 64\n",
      "data not recorded with Bonsai\n",
      "importing /Users/mb/Documents/Syntuitio/AudreyHay/PlanB/recording8/continuous/Rhythm_FPGA-133.0/continuous.dat\n",
      "OE32channels.bin file loaded, with 64 channels and 23513856 datapoint\n"
     ]
    }
   ],
   "source": [
    "%load_ext autoreload\n",
    "%autoreload 2\n",
    "%reload_ext autoreload\n",
    "thedata.analyseExpe_findData()"
   ]
  },
  {
   "cell_type": "markdown",
   "metadata": {},
   "source": [
    "### Extract submatrix of interest"
   ]
  },
  {
   "cell_type": "code",
   "execution_count": 8,
   "metadata": {},
   "outputs": [],
   "source": [
    "#initiate combined and channelLabels\n",
    "combined =  {}\n",
    "channelLabels = {}\n",
    "sample_rates = {}"
   ]
  },
  {
   "cell_type": "code",
   "execution_count": 9,
   "metadata": {},
   "outputs": [
    {
     "name": "stdout",
     "output_type": "stream",
     "text": [
      "LFP data combined\n"
     ]
    }
   ],
   "source": [
    "#LFP\n",
    "if 'OE_LFP' in thedata.data:\n",
    "    combined['LFP'] = thedata.data['OE_LFP'].combineStructures(None)[:,:16]\n",
    "    channelLabels['LFP'] = thedata.data['OE_LFP'].channelLabels[:16]\n",
    "    sample_rates['LFP'] = 1000\n",
    "    print(\"LFP data combined\")\n",
    "else:\n",
    "    print(\"no LFP data to combine\")"
   ]
  },
  {
   "cell_type": "code",
   "execution_count": null,
   "metadata": {},
   "outputs": [],
   "source": [
    "#NPX\n",
    "if 'NPX' in thedata.data:\n",
    "    combined['NPX'] = thedata.data['NPX'].signal['spike']\n",
    "    channelLabels['NPX'] = thedata.data['NPX'].channelLabels\n",
    "    sample_rates['NPX'] = 30000\n",
    "    print(\"NPX data combined\")\n",
    "else:\n",
    "    print(\"no NPX data to combine\")"
   ]
  },
  {
   "cell_type": "code",
   "execution_count": 13,
   "metadata": {},
   "outputs": [
    {
     "name": "stdout",
     "output_type": "stream",
     "text": [
      "debug True\n",
      "QT_MODE PySide6\n",
      "refresh duration for LFP 0.0001533031463623047 s\n",
      "refresh duration for LFP 0.00011205673217773438 s\n",
      "refresh duration for tfr 0.0001327991485595703 s\n"
     ]
    },
    {
     "name": "stderr",
     "output_type": "stream",
     "text": [
      "qt.pointer.dispatch: skipping QEventPoint(id=0 ts=0 pos=0,0 scn=743.401,562.73 gbl=743.401,562.73 Released ellipse=(1x1 ∡ 0) vel=0,0 press=-743.401,-562.73 last=-743.401,-562.73 Δ 743.401,562.73) : no target window\n",
      "qt.pointer.dispatch: skipping QEventPoint(id=1 ts=0 pos=0,0 scn=875.704,522.228 gbl=875.704,522.228 Released ellipse=(1x1 ∡ 0) vel=0,0 press=-875.704,-522.228 last=-875.704,-522.228 Δ 875.704,522.228) : no target window\n",
      "qt.pointer.dispatch: skipping QEventPoint(id=2 ts=0 pos=0,0 scn=821.882,517.908 gbl=821.882,517.908 Released ellipse=(1x1 ∡ 0) vel=0,0 press=-821.882,-517.908 last=-821.882,-517.908 Δ 821.882,517.908) : no target window\n",
      "qt.pointer.dispatch: skipping QEventPoint(id=3 ts=0 pos=0,0 scn=777.782,526.008 gbl=777.782,526.008 Released ellipse=(1x1 ∡ 0) vel=0,0 press=-777.782,-526.008 last=-777.782,-526.008 Δ 777.782,526.008) : no target window\n",
      "qt.pointer.dispatch: skipping QEventPoint(id=4 ts=0 pos=0,0 scn=789.483,541.488 gbl=789.483,541.488 Released ellipse=(1x1 ∡ 0) vel=0,0 press=-789.483,-541.488 last=-789.483,-541.488 Δ 789.483,541.488) : no target window\n",
      "qt.pointer.dispatch: skipping QEventPoint(id=1 ts=0 pos=0,0 scn=687.016,363.661 gbl=687.016,363.661 Released ellipse=(1x1 ∡ 0) vel=0,0 press=-687.016,-363.661 last=-687.016,-363.661 Δ 687.016,363.661) : no target window\n"
     ]
    },
    {
     "name": "stdout",
     "output_type": "stream",
     "text": [
      "save_all_settings\n"
     ]
    }
   ],
   "source": [
    "%gui qt\n",
    "app = mkQApp()\n",
    "\n",
    "t_start = 0.\n",
    "\n",
    "TTL = Timestamps\n",
    "\n",
    "#create 2 familly scatters from theses 2 indexes\n",
    "scatter_indexes = {0: TTL, 1: TTL}\n",
    "#and asign them to some channels each\n",
    "scatter_channels = {0: [0, 12], 1: [0, 1]}\n",
    "#source = AnalogSignalSourceWithScatter(combined, sample_rate, t_start, scatter_indexes, scatter_channels)\n",
    "\n",
    "#Create the main window that can contain several viewers\n",
    "win = MainViewer(debug=True)\n",
    "\n",
    "if 'LFP' in combined:\n",
    "    source = InMemoryAnalogSignalSource(combined['LFP'], sample_rates['LFP'], t_start, channel_names=channelLabels['LFP'])\n",
    "    view1 = TraceViewer(source=source, name = 'LFP')\n",
    "\n",
    "    #Parameters can be set in script\n",
    "    view1.params['display_labels'] = True\n",
    "    view1.params['scale_mode'] = 'same_for_all'\n",
    "    view1.auto_scale()\n",
    "\n",
    "    cmap = matplotlib.colormaps[\"hsv\"]#Wistia\"]\n",
    "    nCh = len(view1.by_channel_params.children())\n",
    "    for ch in range(nCh):\n",
    "        #view1.by_channel_params[f'ch{ch}', 'gain'] = 0.00002\n",
    "        #view1.by_channel_params[f'ch{ch}', 'offset'] = 0.1\n",
    "        view1.by_channel_params[f'ch{ch}', 'color'] = matplotlib.colors.to_hex(cmap(ch/nCh), keep_alpha=False)\n",
    "        pass\n",
    "\n",
    "    #create a time freq viewer conencted to the same source\n",
    "    view2 = TimeFreqViewer(source=source, name='tfr')\n",
    "    view2.params['show_axis'] = False\n",
    "    view2.params['timefreq', 'deltafreq'] = 1\n",
    "    #view2.by_channel_params['ch3', 'visible'] = False\n",
    "    view2.auto_scale()\n",
    "\n",
    "    win.add_view(view1)\n",
    "    win.add_view(view2)\n",
    "\n",
    "\n",
    "if 'NPX' in combined:\n",
    "    view3 = TraceViewer.from_numpy(combined['NPX'], sample_rates['NPX'], t_start, 'NPX', channel_names=channelLabels['NPX'])\n",
    "    #view1 = TraceViewer(source=source)\n",
    "    win.add_view(view3)\n",
    "\n",
    "    #Parameters can be set in script\n",
    "    view3.params['display_labels'] = True\n",
    "    view3.params['scale_mode'] = 'same_for_all'\n",
    "    view3.auto_scale()\n",
    "\n",
    "    cmap = matplotlib.colormaps[\"hsv\"]#Wistia\"]\n",
    "    nCh = len(view3.by_channel_params.children())\n",
    "    for ch in range(nCh):\n",
    "        #view3.by_channel_params[f'ch{ch}', 'gain'] = 0.00002\n",
    "        #view3.by_channel_params[f'ch{ch}', 'offset'] = 0.1\n",
    "        view3.by_channel_params[f'ch{ch}', 'color'] = matplotlib.colors.to_hex(cmap(ch/nCh), keep_alpha=False)\n",
    "        pass\n",
    "\n",
    "#Run\n",
    "win.show()\n",
    "#app.exec()  #if commented, the app is shown and fonctionnal. Maybe detecting buttons. the Python icon doesn't close any better"
   ]
  }
 ],
 "metadata": {
  "kernelspec": {
   "display_name": "Python 3.9.12 ('formation')",
   "language": "python",
   "name": "python3"
  },
  "language_info": {
   "codemirror_mode": {
    "name": "ipython",
    "version": 3
   },
   "file_extension": ".py",
   "mimetype": "text/x-python",
   "name": "python",
   "nbconvert_exporter": "python",
   "pygments_lexer": "ipython3",
   "version": "3.11.5"
  },
  "orig_nbformat": 4,
  "vscode": {
   "interpreter": {
    "hash": "984d3fbee8ffa490637705ae3d7233e001ab0304f3daaca07b5aa8569b88ca53"
   }
  }
 },
 "nbformat": 4,
 "nbformat_minor": 2
}
