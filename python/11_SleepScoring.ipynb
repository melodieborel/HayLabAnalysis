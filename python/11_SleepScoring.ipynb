{
 "cells": [
  {
   "cell_type": "markdown",
   "metadata": {},
   "source": [
    "# Sleep scoring"
   ]
  },
  {
   "cell_type": "markdown",
   "metadata": {},
   "source": [
    "Load packages"
   ]
  },
  {
   "cell_type": "code",
   "execution_count": null,
   "metadata": {},
   "outputs": [],
   "source": [
    "import quantities as pq\n",
    "import numpy as np\n",
    "import neo\n",
    "from pathlib import Path\n",
    "import xarray as xr\n",
    "import pandas as pd\n",
    "import matplotlib.pyplot as plt\n",
    "from matplotlib.widgets import Slider, Button, Cursor\n",
    "import scipy\n",
    "from scipy import interpolate\n",
    "from scipy import fftpack\n",
    "from scipy import signal\n",
    "from scipy import stats\n",
    "from itertools import groupby\n",
    "\n",
    "%matplotlib widget\n",
    "from IPython.display import display\n",
    "from ipyfilechooser import FileChooser\n",
    "import os\n",
    "from ephyviewer import mkQApp, MainViewer, TraceViewer\n",
    "\n",
    "# add the Contrib dir that contains all tools developped by MB : mbTools.py\n",
    "#sys.path.append(os.path.join(os.path.dirname(sys.path[0]),'python'))\n",
    "#print(os.path.join(os.path.dirname(sys.path[0]),'python'))\n",
    "import HayLabAnalysis as hla"
   ]
  },
  {
   "cell_type": "markdown",
   "metadata": {},
   "source": [
    "Load downsampled recordings"
   ]
  },
  {
   "cell_type": "code",
   "execution_count": null,
   "metadata": {},
   "outputs": [],
   "source": [
    "dpath = \"//10.69.168.1/crnldata/waking/audrey_hay/L1imaging/AnalysedMarch2023/Gaelle/Baseline_recording\"\n",
    "try:\n",
    "    %store -r dpath\n",
    "except:\n",
    "    print(\"data not in strore\")\n",
    "    dpath =\"//10.69.168.1/crnldata/waking/audrey_hay/L1imaging/AnalysedMarch2023/Gaelle/Baseline_recording\"\n",
    "\n",
    "\n",
    "# Set up Initial Basic Parameters#\n",
    "minian_path = \".\"\n",
    "\n",
    "fc1 = FileChooser(dpath,select_default=True, show_only_dirs = True, title = \"<b>OpenEphys Folder</b>\")\n",
    "display(fc1)\n",
    "\n",
    "# Sample callback function\n",
    "def update_my_folder(chooser):\n",
    "    global dpath\n",
    "    dpath = chooser.selected\n",
    "    %store dpath\n",
    "    return \n",
    "\n",
    "# Register callback function\n",
    "fc1.register_callback(update_my_folder)"
   ]
  },
  {
   "cell_type": "code",
   "execution_count": null,
   "metadata": {},
   "outputs": [],
   "source": [
    "folder_base = Path(dpath)\n",
    "\n",
    "filename0 = folder_base / f'LFPwake0_AB.npy'\n",
    "filename2 = folder_base / f'RawDataChannelExtractedDS.npy'\n",
    "filenamePKL = folder_base / f'EMGframeBoolean_AB.pkl'\n",
    "\n",
    "All = np.load(filename2, mmap_mode= 'r')\n",
    "All0 = np.load(filename0, mmap_mode= 'r')\n",
    "Bool = pd.read_pickle(filenamePKL)\n",
    "\n",
    "Channels = '//10.69.168.1/crnldata/waking/audrey_hay/L1imaging/AnalysedMarch2023/LFPChannels_perMice.xlsx' \n",
    "allchannels = pd.read_excel(Channels)\n",
    "\n",
    "mice = os.path.basename(os.path.dirname(os.path.dirname(folder_base)))\n"
   ]
  },
  {
   "cell_type": "markdown",
   "metadata": {},
   "source": [
    "Associate channels to brain areas"
   ]
  },
  {
   "cell_type": "code",
   "execution_count": null,
   "metadata": {},
   "outputs": [],
   "source": [
    "CA1ch1=int(allchannels[mice][2].split(',')[0])\n",
    "CA1ch2=int(allchannels[mice][2].split(',')[1])\n",
    "CA1  =  All[:, CA1ch1]-All[:, CA1ch2] \n",
    "\n",
    "PFCch1=int(allchannels[mice][0].split(',')[0])\n",
    "PFCch2=int(allchannels[mice][0].split(',')[1])\n",
    "PFC  =  All[:, PFCch1]-All[:, PFCch2] \n",
    "\n",
    "S1ch1=int(allchannels[mice][1].split(',')[0])\n",
    "S1ch2=int(allchannels[mice][1].split(',')[1])\n",
    "S1  =  All[:, S1ch1]-All[:, S1ch2] \n",
    "\n",
    "ThetaCh = CA1\n",
    "Beta1Ch = PFC\n",
    "Beta2Ch = S1\n",
    "\n",
    "EMGch=int(allchannels[mice][3])\n",
    "EMG  =  All[:, EMGch]"
   ]
  },
  {
   "cell_type": "markdown",
   "metadata": {},
   "source": [
    "Visualise to determine what channel/stereochannel to use to extract muscular activity, delta, theta, beta and maybe index of higher frequency"
   ]
  },
  {
   "cell_type": "code",
   "execution_count": null,
   "metadata": {},
   "outputs": [],
   "source": [
    "combined = np.stack([S1, PFC, CA1/2, EMG], axis=1)\n",
    "\n",
    "app = mkQApp()\n",
    "\n",
    "sample_rate = 1000.\n",
    "t_start = 0.\n",
    "\n",
    "#Create the main window that can contain several viewers\n",
    "win = MainViewer()\n",
    "view1 = TraceViewer.from_numpy(combined, sample_rate, t_start, 'Signals')\n",
    "win.add_view(view1)\n",
    "\n",
    "#Parameters can be set in script\n",
    "#view1.params['scale_mode'] = 'same_for_all'\n",
    "view1.params['display_labels'] = True\n",
    "#And also parameters for each channel\n",
    "view1.by_channel_params['ch0', 'color'] = '#aa0000'\n",
    "view1.by_channel_params['ch1', 'color'] = '#0055ff'\n",
    "view1.by_channel_params['ch2', 'color'] = '#9955aa'\n",
    "view1.by_channel_params['ch3', 'color'] = '#999999'\n",
    "\n",
    "view1.params['scale_mode'] = 'same_for_all'\n",
    "view1.auto_scale()\n",
    "\n",
    "#Run\n",
    "win.show()\n",
    "app.exec_()"
   ]
  },
  {
   "cell_type": "markdown",
   "metadata": {},
   "source": [
    "## Build vigilance state scoring vector\n",
    "[we use here liberal boolean for wake detection]\n",
    "\n",
    "    ### 0 = wake\n",
    "    ### 1 = REM\n",
    "    ### >1 = NREM\n",
    "\n",
    "    "
   ]
  },
  {
   "cell_type": "markdown",
   "metadata": {},
   "source": [
    "Set all sleep at 1 and wake at 0"
   ]
  },
  {
   "cell_type": "code",
   "execution_count": null,
   "metadata": {},
   "outputs": [],
   "source": [
    "ScoringVectorLength = len(EMG)\n",
    "ScoringVector = np.zeros((ScoringVectorLength))\n",
    "WakeStatus = np.zeros((ScoringVectorLength))\n",
    "WakeStatusCons = np.zeros((ScoringVectorLength))\n",
    "EMGStatusBoolLib = Bool.BooleanLiberal\n",
    "EMGStatusBoolCons = Bool.BooleanConservative\n",
    "WakeStatus[EMGStatusBoolLib] = 1\n",
    "WakeStatusCons[EMGStatusBoolCons] = 1\n",
    "\n",
    "fs = 1000\n",
    "times = np.arange(0, EMG.size/fs, 1./fs)\n",
    "plt.close()\n",
    "plt.plot(times, WakeStatusCons)\n",
    "plt.plot(times, WakeStatus)\n",
    "plt.show()"
   ]
  },
  {
   "cell_type": "markdown",
   "metadata": {},
   "source": [
    "Extract REM and set NREM at 2"
   ]
  },
  {
   "cell_type": "code",
   "execution_count": null,
   "metadata": {},
   "outputs": [],
   "source": [
    "# Filtre parameter:\n",
    "f_lowcut = 5.\n",
    "f_hicut = 9.\n",
    "fs = 1000\n",
    "nyq = 0.5 * fs\n",
    "N = 4                 # Filtre order\n",
    "Wn = [f_lowcut/nyq,f_hicut/nyq]  # Nyquist frequency fraction\n",
    "\n",
    "# Filtering:\n",
    "b, a = signal.butter(N, Wn, 'band')\n",
    "\n",
    "#ThetaCh[EMGStatusBoolLib]=0\n",
    "\n",
    "filt_Theta = signal.filtfilt(b, a, ThetaCh)\n",
    "\n",
    "# Parameter and computation of CWT\n",
    "w = 30.\n",
    "freq = np.linspace(5, 9, 8)\n",
    "widths = w*fs / (2*freq*np.pi)\n",
    "ThetaCWT = signal.cwt(filt_Theta, signal.morlet2, widths, w=w)\n",
    "\n",
    "# Projection calculation\n",
    "absThetaCWT = np.absolute(ThetaCWT)\n",
    "\n",
    "zabsThetaCWT = stats.zscore(absThetaCWT, axis=None)\n",
    "\n",
    "proj_ThetaCWT = np.max(zabsThetaCWT, axis = 0)/8\n",
    "sdproj_ThetaCWT = np.std(proj_ThetaCWT)\n",
    "meanproj_ThetaCWT = np.mean(proj_ThetaCWT)\n",
    "\n",
    "numpnts = EMG.size\n",
    "ThetaStatus = np.zeros(numpnts)\n",
    "for ind in range(numpnts):\n",
    "    if proj_ThetaCWT[ind]>(meanproj_ThetaCWT+1.4*sdproj_ThetaCWT):\n",
    "        ThetaStatus[ind] = 1\n",
    "\n",
    "plt.close()\n",
    "plt.plot(times, proj_ThetaCWT*2)\n",
    "plt.plot(times, ThetaStatus)\n",
    "plt.show()"
   ]
  },
  {
   "cell_type": "markdown",
   "metadata": {},
   "source": [
    "Extract beta "
   ]
  },
  {
   "cell_type": "code",
   "execution_count": null,
   "metadata": {},
   "outputs": [],
   "source": [
    "# Filtre parameter:\n",
    "f_lowcut = 10.\n",
    "f_hicut = 18.\n",
    "fs = 1000\n",
    "nyq = 0.5 * fs\n",
    "N = 4                 # Filtre order\n",
    "Wn = [f_lowcut/nyq,f_hicut/nyq]  # Nyquist frequency fraction\n",
    "\n",
    "# Filtering:\n",
    "b, a = signal.butter(N, Wn, 'band')\n",
    "filt_Beta1 = signal.filtfilt(b, a, Beta1Ch)\n",
    "filt_Beta2 = signal.filtfilt(b, a, Beta2Ch)\n",
    "\n",
    "# Parameter and computation of CWT\n",
    "w = 10.\n",
    "freq = np.linspace(10, 18, 16)\n",
    "widths = w*fs / (2*freq*np.pi)\n",
    "Beta1CWT = signal.cwt(filt_Beta1, signal.morlet2, widths, w=w)\n",
    "Beta2CWT = signal.cwt(filt_Beta2, signal.morlet2, widths, w=w)\n",
    "\n",
    "# Projection calculation\n",
    "absBeta1CWT = np.absolute(Beta1CWT)\n",
    "absBeta2CWT = np.absolute(Beta2CWT)\n",
    "from scipy import stats\n",
    "\n",
    "zabsBeta1CWT = stats.zscore(absBeta1CWT, axis=None)\n",
    "zabsBeta2CWT = stats.zscore(absBeta2CWT, axis=None)\n",
    "\n",
    "proj_Beta1CWT = np.max(zabsBeta1CWT, axis = 0)/16\n",
    "proj_Beta2CWT = np.max(zabsBeta2CWT, axis = 0)/16\n",
    "meanproj_Beta1CWT = np.mean(zabsBeta1CWT)\n",
    "meanproj_Beta2CWT = np.mean(zabsBeta2CWT)\n",
    "sdproj_Beta1CWT = np.std(proj_Beta1CWT)\n",
    "sdproj_Beta2CWT = np.std(proj_Beta2CWT)\n",
    "\n",
    "numpnts = EMG.size\n",
    "Beta1Status = np.zeros(numpnts)\n",
    "Beta2Status = np.zeros(numpnts)\n",
    "for ind in range(numpnts):\n",
    "    if proj_Beta1CWT[ind]>(meanproj_Beta1CWT+3*sdproj_Beta1CWT):\n",
    "        Beta1Status[ind] = 1\n",
    "    if proj_Beta2CWT[ind]>(meanproj_Beta2CWT+3*sdproj_Beta2CWT):\n",
    "        Beta2Status[ind] = 1\n",
    "\n",
    "\n",
    "plt.close()\n",
    "plt.plot(proj_Beta2CWT)\n",
    "plt.plot(Beta2Status/2)\n",
    "plt.show()"
   ]
  },
  {
   "cell_type": "code",
   "execution_count": null,
   "metadata": {},
   "outputs": [],
   "source": [
    "ScoringVector = np.ones((ScoringVectorLength))\n",
    "for ind in range(numpnts):\n",
    "    if ThetaStatus[ind]>0:\n",
    "        ScoringVector[ind] = 2\n",
    "    if Beta1Status[ind]>0:\n",
    "        ScoringVector[ind] = 0\n",
    "    if WakeStatus[ind]==0:\n",
    "        ScoringVector[ind] = 3\n",
    "\n",
    "plt.close()\n",
    "plt.plot(ScoringVector)\n",
    "plt.show()"
   ]
  },
  {
   "cell_type": "markdown",
   "metadata": {},
   "source": [
    "Reduce bins"
   ]
  },
  {
   "cell_type": "code",
   "execution_count": null,
   "metadata": {},
   "outputs": [],
   "source": [
    "input_arr = ThetaStatus\n",
    "\n",
    "R = round(ScoringVectorLength/5000) # 5 sec bins\n",
    "\n",
    "split_arr = np.linspace(0, len(input_arr), num=R+1, dtype=int)\n",
    "\n",
    "dwnsmpl_subarr = np.split(input_arr, split_arr[1:])\n",
    "\n",
    "dwnsmpl_arrT = np.array( list( np.mean(item) for item in dwnsmpl_subarr[:-1] ) )\n",
    "\n",
    "plt.close()\n",
    "plt.plot(dwnsmpl_arrT)\n",
    "\n",
    "for i in range(len(dwnsmpl_arrT)):\n",
    "    if dwnsmpl_arrT[i]<0.4: #0.25\n",
    "        dwnsmpl_arrT[i] = 0\n",
    "    else:\n",
    "        dwnsmpl_arrT[i] = 1  \n",
    "\n",
    "for i in range(len(dwnsmpl_arrT)-3):\n",
    "    if i > (len(dwnsmpl_arrT)-3):\n",
    "        print(i)\n",
    "        break          \n",
    "    elif (dwnsmpl_arrT[i]>0 and dwnsmpl_arrT[i+2]>0):\n",
    "        dwnsmpl_arrT[i+1]=1\n",
    "    elif (dwnsmpl_arrT[i]>0 and dwnsmpl_arrT[i+3]>0):\n",
    "        dwnsmpl_arrT[i+1]=1\n",
    "        dwnsmpl_arrT[i+2]=1\n",
    "\n",
    "for i in range(len(dwnsmpl_arrT)):\n",
    "    if i > (len(dwnsmpl_arrT)-3):\n",
    "        print(i)\n",
    "        break\n",
    "    elif (dwnsmpl_arrT[i]<1 and dwnsmpl_arrT[i+1]>0 and dwnsmpl_arrT[i+2]<1):\n",
    "        dwnsmpl_arrT[i+1]=0\n",
    "\n",
    "plt.plot(dwnsmpl_arrT)\n",
    "plt.show()\n"
   ]
  },
  {
   "cell_type": "code",
   "execution_count": null,
   "metadata": {},
   "outputs": [],
   "source": [
    "input_arr1 = proj_Beta1CWT\n",
    "input_arr2 = proj_Beta2CWT\n",
    "\n",
    "R = round(ScoringVectorLength/5000) # 5 sec bins\n",
    "\n",
    "split_arr1 = np.linspace(0, len(input_arr1), num=R+1, dtype=int)\n",
    "split_arr2 = np.linspace(0, len(input_arr2), num=R+1, dtype=int)\n",
    "\n",
    "dwnsmpl_subarr1 = np.split(input_arr1, split_arr1[1:])\n",
    "dwnsmpl_subarr2 = np.split(input_arr2, split_arr2[1:])\n",
    "\n",
    "dwnsmpl_arr1B = np.array( list( np.mean(item) for item in dwnsmpl_subarr1[:-1] ) )\n",
    "dwnsmpl_arr2B = np.array( list( np.mean(item) for item in dwnsmpl_subarr2[:-1] ) )\n",
    "\n",
    "plt.close()\n",
    "plt.plot(dwnsmpl_arr2B)\n",
    "\n",
    "for i in range(len(dwnsmpl_arr1B)):\n",
    "    if dwnsmpl_arr1B[i]<0.12: # arbitrary set\n",
    "        dwnsmpl_arr1B[i] = 0\n",
    "    else:\n",
    "        dwnsmpl_arr1B[i] = 1  \n",
    "\n",
    "for i in range(len(dwnsmpl_arr1B)-3):\n",
    "    if i > (len(dwnsmpl_arr1B)-3):\n",
    "        break                 \n",
    "    elif (dwnsmpl_arr1B[i]>0 and dwnsmpl_arr1B[i+2]>0):\n",
    "        dwnsmpl_arr1B[i+1]=1\n",
    "    elif (dwnsmpl_arr1B[i]>0 and dwnsmpl_arr1B[i+3]>0):\n",
    "        dwnsmpl_arr1B[i+1]=1\n",
    "        dwnsmpl_arr1B[i+2]=1\n",
    "\n",
    "for i in range(len(dwnsmpl_arr2B)):\n",
    "    if dwnsmpl_arr2B[i]<0.12: # arbitrary set\n",
    "        dwnsmpl_arr2B[i] = 0\n",
    "    else:\n",
    "        dwnsmpl_arr2B[i] = 1  \n",
    "\n",
    "for i in range(len(dwnsmpl_arr2B)-3):          \n",
    "    if (dwnsmpl_arr2B[i]>0 and dwnsmpl_arr2B[i+2]>0):\n",
    "        dwnsmpl_arr2B[i+1]=1\n",
    "    elif (dwnsmpl_arr2B[i]>0 and dwnsmpl_arr2B[i+3]>0):\n",
    "        dwnsmpl_arr2B[i+1]=1\n",
    "        dwnsmpl_arr2B[i+2]=1\n",
    "\n",
    "plt.plot(dwnsmpl_arr2B)\n",
    "plt.show()"
   ]
  },
  {
   "cell_type": "code",
   "execution_count": null,
   "metadata": {},
   "outputs": [],
   "source": [
    "input_arrW = WakeStatus\n",
    "\n",
    "R = round(ScoringVectorLength/5000) # 5 sec bins\n",
    "\n",
    "split_arr = np.linspace(0, len(input_arr), num=R+1, dtype=int)\n",
    "\n",
    "dwnsmpl_subarr = np.split(input_arrW, split_arr[1:])\n",
    "\n",
    "dwnsmpl_arrW = np.array( list( np.mean(item) for item in dwnsmpl_subarr[:-1] ) )\n",
    "plt.close()\n",
    "plt.plot(dwnsmpl_arrW)\n",
    "\n",
    "for i in range(len(dwnsmpl_arrW)):\n",
    "    if dwnsmpl_arrW[i]<0.4: # arbitrary set\n",
    "        dwnsmpl_arrW[i] = 0\n",
    "    else:\n",
    "        dwnsmpl_arrW[i] = 1 \n",
    "\n",
    "plt.plot(dwnsmpl_arrW)\n",
    "plt.show()"
   ]
  },
  {
   "cell_type": "code",
   "execution_count": null,
   "metadata": {},
   "outputs": [],
   "source": [
    "dwnsmpl_arrT = dwnsmpl_arrT * 1\n",
    "dwnsmpl_arrW = dwnsmpl_arrW * 1.5\n",
    "dwnsmpl_arr1B = dwnsmpl_arr1B * 0.5\n",
    "dwnsmpl_arr2B = dwnsmpl_arr2B * 0.5\n",
    "\n",
    "plt.close()\n",
    "plt.plot(dwnsmpl_arrW)\n",
    "plt.plot(dwnsmpl_arr2B)\n",
    "plt.plot(dwnsmpl_arrT)\n",
    "plt.show()"
   ]
  },
  {
   "cell_type": "code",
   "execution_count": null,
   "metadata": {},
   "outputs": [],
   "source": [
    "ScoringVectorS = np.zeros((len(dwnsmpl_arrW)))\n",
    "for ind in range(len(dwnsmpl_arrW)): #0 =NREM\n",
    "    if dwnsmpl_arr2B[ind]>0:\n",
    "        ScoringVectorS[ind] = 0.5 #N2\n",
    "    if dwnsmpl_arrT[ind]>0:\n",
    "        ScoringVectorS[ind] = 1 #REM\n",
    "    if dwnsmpl_arrW[ind]>0:\n",
    "        ScoringVectorS[ind] = 1.5 #Wake\n",
    "\n",
    "\n",
    "plt.close()\n",
    "plt.plot(ScoringVectorS)\n",
    "plt.show()"
   ]
  },
  {
   "cell_type": "code",
   "execution_count": null,
   "metadata": {},
   "outputs": [],
   "source": [
    "array=ScoringVectorS\n",
    "substates_duration = [len(list(group)) for key, group in groupby(array)]\n",
    "substates_identity = [key for key, _ in groupby(array)]\n",
    "substates_end = np.array(substates_duration).cumsum()        \n",
    "substates_start =np.append([0],substates_end[:-1]) #substates_start =np.append([1],substates_end+1) create 1 second gap\n",
    "mapp = {0: 'NREM', 0.5: 'N2', 1: 'REM', 1.5: 'Wake'}\n",
    "substates_identity = [mapp[num] for num in substates_identity]\n",
    "substates = pd.DataFrame(list(zip(substates_identity, substates_duration, substates_start, substates_end)), columns=['Identity', 'Duration', 'Start','End'])\n"
   ]
  },
  {
   "cell_type": "code",
   "execution_count": null,
   "metadata": {},
   "outputs": [],
   "source": [
    "substates"
   ]
  },
  {
   "cell_type": "code",
   "execution_count": null,
   "metadata": {},
   "outputs": [],
   "source": [
    "ScoringVectorS2=ScoringVectorS.copy()\n",
    "for index in substates.index[substates.Identity == 'REM'].tolist():\n",
    "    if substates.Identity[index+2]=='REM':\n",
    "        start=substates.Start[index+1]\n",
    "        end=substates.End[index+1]\n",
    "        ScoringVectorS2[start:end]=1\n"
   ]
  },
  {
   "cell_type": "code",
   "execution_count": null,
   "metadata": {},
   "outputs": [],
   "source": [
    "array=ScoringVectorS2\n",
    "substates_duration = [len(list(group)) for key, group in groupby(array)]\n",
    "substates_identity = [key for key, _ in groupby(array)]\n",
    "substates_end = np.array(substates_duration).cumsum()        \n",
    "substates_start =np.append([0],substates_end[:-1]) #substates_start =np.append([1],substates_end+1) create 1 second gap\n",
    "mapp = {0: 'NREM', 0.5: 'N2', 1: 'REM', 1.5: 'Wake'}\n",
    "substates_identity = [mapp[num] for num in substates_identity]\n",
    "substates2 = pd.DataFrame(list(zip(substates_identity, substates_duration, substates_start, substates_end)), columns=['Identity', 'Duration', 'Start','End'])\n"
   ]
  },
  {
   "cell_type": "code",
   "execution_count": null,
   "metadata": {},
   "outputs": [],
   "source": [
    "substates2"
   ]
  },
  {
   "cell_type": "code",
   "execution_count": null,
   "metadata": {},
   "outputs": [],
   "source": [
    "for i in range(len(ScoringVectorS)):\n",
    "    if i > (len(ScoringVectorS)-4):\n",
    "        break       \n",
    "    elif not ScoringVectorS[i]==1.5 and ScoringVectorS[i+1]==1.5 and not ScoringVectorS[i+2]==1.5:\n",
    "        ScoringVectorS[i+1]=ScoringVectorS[i] # need at least 2consecutive bins / 10sec of Wake\n",
    "    elif (ScoringVectorS[i]==0.5 and ScoringVectorS[i+1]==0 and ScoringVectorS[i+2]>0):\n",
    "        ScoringVectorS[i+1]=0.5\n",
    "    elif (ScoringVectorS[i]==1 and ScoringVectorS[i+1]==0):\n",
    "        ScoringVectorS[i+1]=1 #can't be NREM after REM\n",
    "    elif (ScoringVectorS[i]==1 and ScoringVectorS[i+1]==0.5):\n",
    "        ScoringVectorS[i+1]=1 #can't be NREM after REM\n",
    "\n",
    "plt.close()\n",
    "plt.plot(ScoringVectorS)\n",
    "plt.show()"
   ]
  },
  {
   "cell_type": "code",
   "execution_count": null,
   "metadata": {},
   "outputs": [],
   "source": [
    "for i in range(len(ScoringVectorS)):\n",
    "    if i > (len(ScoringVectorS)-4):\n",
    "        print(i)\n",
    "        break          \n",
    "    elif (ScoringVectorS[i]==0.5 and ScoringVectorS[i+1]==0 and ScoringVectorS[i+2]>0):\n",
    "        ScoringVectorS[i+1]=0.5\n",
    "    elif (ScoringVectorS[i]==1 and ScoringVectorS[i+1]==0 and ScoringVectorS[i+2]>0):\n",
    "        ScoringVectorS[i+1]=1\n",
    "    elif (ScoringVectorS[i]==1.5 and ScoringVectorS[i+1]<1.5 and (ScoringVectorS[i+2]==1.5 or ScoringVectorS[i+3]==1.5)):\n",
    "        ScoringVectorS[i+1]=1.5\n",
    "\n",
    "plt.close()\n",
    "plt.plot(ScoringVectorS)\n",
    "plt.show()"
   ]
  },
  {
   "cell_type": "code",
   "execution_count": null,
   "metadata": {},
   "outputs": [],
   "source": [
    "filenameOut = folder_base / f'ScoredSleep_AB.npy'\n",
    "np.save(filenameOut, ScoringVectorS)\n",
    "\n"
   ]
  }
 ],
 "metadata": {
  "kernelspec": {
   "display_name": "Python 3.9.12 ('formation')",
   "language": "python",
   "name": "python3"
  },
  "language_info": {
   "codemirror_mode": {
    "name": "ipython",
    "version": 3
   },
   "file_extension": ".py",
   "mimetype": "text/x-python",
   "name": "python",
   "nbconvert_exporter": "python",
   "pygments_lexer": "ipython3",
   "version": "3.9.12"
  },
  "orig_nbformat": 4,
  "vscode": {
   "interpreter": {
    "hash": "984d3fbee8ffa490637705ae3d7233e001ab0304f3daaca07b5aa8569b88ca53"
   }
  }
 },
 "nbformat": 4,
 "nbformat_minor": 2
}
