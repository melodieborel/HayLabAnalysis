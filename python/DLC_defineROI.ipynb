{
 "cells": [
  {
   "cell_type": "markdown",
   "metadata": {},
   "source": [
    "# Define the average Reward position on video files\n",
    "Choose a path that contains one or mutliple .avi files. A window will open and the first frame of each video will be diplayed. Click on the frame where the reward position was. A red cross will appear at the location. Click again to change the location of the reward. Press \"s\" to save the last position and to go to the next video. The average X Y positions will be saved as a text file in the original path. Press \"q\" when you processed enough videos to get a good average of where the reward was."
   ]
  },
  {
   "cell_type": "code",
   "execution_count": 8,
   "metadata": {},
   "outputs": [],
   "source": [
    "# Path to the root folder containing video files\n",
    "video_folder = \"Z:/forgetting/Carla/Cheeseboard/\""
   ]
  },
  {
   "cell_type": "code",
   "execution_count": 9,
   "metadata": {},
   "outputs": [
    {
     "name": "stdout",
     "output_type": "stream",
     "text": [
      "Clicked at: (946, 769)\n",
      "Clicked at: (934, 768)\n",
      "Clicked at: (935, 769)\n",
      "Clicked at: (947, 765)\n",
      "Clicked at: (938, 726)\n",
      "Clicked at: (943, 766)\n",
      "Clicked at: (938, 705)\n",
      "Clicked at: (947, 753)\n",
      "Clicked at: (943, 756)\n",
      "Clicked at: (947, 752)\n",
      "Clicked at: (945, 752)\n",
      "Clicked at: (942, 766)\n",
      "Clicked at: (933, 770)\n",
      "Clicked at: (950, 761)\n",
      "Clicked at: (949, 758)\n",
      "Clicked at: (949, 759)\n",
      "Clicked at: (946, 765)\n",
      "Clicked at: (1008, 0)\n",
      "Clicked at: (948, 761)\n",
      "Clicked at: (943, 761)\n",
      "Clicked at: (938, 768)\n",
      "Clicked at: (946, 768)\n",
      "Clicked at: (943, 766)\n",
      "Clicked at: (945, 755)\n",
      "Clicked at: (938, 766)\n",
      "Clicked at: (952, 764)\n",
      "Quitting program...\n",
      "Saved reward position (943.4, 758.76) to Z:/forgetting/Carla/Cheeseboard/Reward_position.txt\n"
     ]
    }
   ],
   "source": [
    "import cv2\n",
    "import os\n",
    "import numpy as np\n",
    "\n",
    "# Global variables\n",
    "click_position = None\n",
    "frame_copy = None\n",
    "quit=False\n",
    "\n",
    "reward_postion=[]\n",
    "# Mouse click event handler\n",
    "def on_click(event, x, y, flags, param):\n",
    "    global click_position, frame_copy\n",
    "    if event == cv2.EVENT_LBUTTONDOWN:  # Left mouse button click\n",
    "        click_position = (x, y)\n",
    "        print(f\"Clicked at: ({x}, {y})\")\n",
    "        \n",
    "        # Draw a red cross at the clicked position\n",
    "        frame_copy = frame.copy()\n",
    "        cv2.line(frame_copy, (x-20, y), (x+20, y), (0, 0, 255), 2)  # Horizontal line\n",
    "        cv2.line(frame_copy, (x, y-20), (x, y+20), (0, 0, 255), 2)  # Vertical line\n",
    "\n",
    "# Loop through the video folder\n",
    "for root, dirs, files in os.walk(video_folder):\n",
    "    video_files = [f for f in files if f.endswith(('.avi', '.mp4', '.mov'))]\n",
    "    \n",
    "    for video_file in video_files:\n",
    "        video_path = os.path.join(root, video_file)\n",
    "        video_path = os.path.normpath(video_path)\n",
    "\n",
    "        cap = cv2.VideoCapture(video_path)\n",
    "\n",
    "        if not cap.isOpened():\n",
    "            print(f\"Error: Could not open video {video_file}\")\n",
    "            continue\n",
    "\n",
    "        ret, frame = cap.read()\n",
    "        if not ret:\n",
    "            print(f\"Error: Could not read first frame of {video_file}\")\n",
    "            cap.release()\n",
    "            continue\n",
    "\n",
    "        frame_copy = frame.copy()\n",
    "        cv2.imshow(video_path, frame_copy)\n",
    "        cv2.setMouseCallback(video_path, on_click)\n",
    "\n",
    "        while quit==False:\n",
    "            cv2.imshow(video_path, frame_copy)\n",
    "            key = cv2.waitKey(1) & 0xFF\n",
    "\n",
    "            if key == ord('q'):  # Quit everything\n",
    "                cap.release()\n",
    "                cv2.destroyAllWindows()\n",
    "                quit=True\n",
    "                print(\"Quitting program...\")\n",
    "            \n",
    "            elif key == ord('s'):  # Skip to next video\n",
    "                reward_postion.append(click_position)\n",
    "                break\n",
    "\n",
    "        #if click_position:\n",
    "        #    save_click_position(video_path, click_position)\n",
    "\n",
    "        cap.release()\n",
    "        cv2.destroyAllWindows()\n",
    "\n",
    "        if quit:\n",
    "            break\n",
    "    if quit:\n",
    "        break\n",
    "\n",
    "if reward_postion:\n",
    "    txt_file_path = os.path.splitext(video_folder)[0] + \"Reward_position.txt\"\n",
    "    with open(txt_file_path, 'w') as f:\n",
    "        f.write(f\"Reward Position: x={round(np.mean(reward_postion, axis=0)[0],2)}, y={round(np.mean(reward_postion, axis=0)[1],2)}\")\n",
    "    print(f\"Saved reward position ({round(np.mean(reward_postion, axis=0)[0],2)}, {round(np.mean(reward_postion, axis=0)[1],2)}) to {txt_file_path}\")\n",
    "\n"
   ]
  },
  {
   "cell_type": "code",
   "execution_count": 7,
   "metadata": {},
   "outputs": [
    {
     "data": {
      "text/plain": [
       "606"
      ]
     },
     "execution_count": 7,
     "metadata": {},
     "output_type": "execute_result"
    }
   ],
   "source": [
    "939-333"
   ]
  },
  {
   "cell_type": "code",
   "execution_count": 6,
   "metadata": {},
   "outputs": [
    {
     "data": {
      "text/plain": [
       "607"
      ]
     },
     "execution_count": 6,
     "metadata": {},
     "output_type": "execute_result"
    }
   ],
   "source": [
    "1217-610"
   ]
  },
  {
   "cell_type": "code",
   "execution_count": 7,
   "metadata": {},
   "outputs": [
    {
     "name": "stdout",
     "output_type": "stream",
     "text": [
      "4.11.0\n"
     ]
    }
   ],
   "source": [
    "import cv2\n",
    "print(cv2.__version__)\n"
   ]
  },
  {
   "cell_type": "code",
   "execution_count": 4,
   "metadata": {},
   "outputs": [
    {
     "name": "stdout",
     "output_type": "stream",
     "text": [
      "Processing video: AHAD01.42-Training J4-7.mp4\n"
     ]
    }
   ],
   "source": [
    "print(f\"Processing video: {video_file}\")\n"
   ]
  },
  {
   "cell_type": "code",
   "execution_count": 6,
   "metadata": {},
   "outputs": [
    {
     "name": "stdout",
     "output_type": "stream",
     "text": [
      "Files found: ['AHAD01.42-Training J1-1.mp4', 'AHAD01.42-Training J1-2.mp4', 'AHAD01.42-Training J1-3.mp4', 'AHAD01.42-Training J1-4.mp4', 'AHAD01.42-Training J1-5.mp4', 'AHAD01.42-Training J1-6.mp4', 'AHAD01.42-Training J1-7.mp4', 'AHAD01.42-Training J1-8.mp4', 'AHAD01.42-Training J2-1.mp4', 'AHAD01.42-Training J2-2.mp4', 'AHAD01.42-Training J2-3.mp4', 'AHAD01.42-Training J2-4.mp4', 'AHAD01.42-Training J2-5.mp4', 'AHAD01.42-Training J2-6.mp4', 'AHAD01.42-Training J2-7.mp4', 'AHAD01.42-Training J3-1.mp4', 'AHAD01.42-Training J3-2.mp4', 'AHAD01.42-Training J3-3.mp4', 'AHAD01.42-Training J3-4.mp4', 'AHAD01.42-Training J3-5.mp4', 'AHAD01.42-Training J3-6.mp4', 'AHAD01.42-Training J3-7.mp4', 'AHAD01.42-Training J4-1.mp4', 'AHAD01.42-Training J4-2.mp4', 'AHAD01.42-Training J4-3.mp4', 'AHAD01.42-Training J4-4.mp4', 'AHAD01.42-Training J4-5.mp4', 'AHAD01.42-Training J4-6.mp4', 'AHAD01.42-Training J4-7.mp4']\n"
     ]
    }
   ],
   "source": [
    "print(\"Files found:\", video_files)"
   ]
  }
 ],
 "metadata": {
  "kernelspec": {
   "display_name": "SleepRec2",
   "language": "python",
   "name": "python3"
  },
  "language_info": {
   "codemirror_mode": {
    "name": "ipython",
    "version": 3
   },
   "file_extension": ".py",
   "mimetype": "text/x-python",
   "name": "python",
   "nbconvert_exporter": "python",
   "pygments_lexer": "ipython3",
   "version": "3.11.10"
  }
 },
 "nbformat": 4,
 "nbformat_minor": 2
}
