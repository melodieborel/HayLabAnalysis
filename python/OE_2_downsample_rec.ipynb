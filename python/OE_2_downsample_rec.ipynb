{
 "cells": [
  {
   "cell_type": "markdown",
   "metadata": {},
   "source": [
    "# Downsample OpenEphys data\n",
    "\n",
    "Import packages"
   ]
  },
  {
   "cell_type": "code",
   "execution_count": null,
   "metadata": {},
   "outputs": [],
   "source": [
    "import numpy as np\n",
    "from pathlib import Path\n",
    "import xarray as xr\n",
    "import pandas as pd\n",
    "import matplotlib.pyplot as plt\n",
    "from matplotlib.widgets import Slider, Button, Cursor\n",
    "from scipy import signal\n",
    "import quantities as pq\n",
    "import os\n",
    "from IPython.display import display\n",
    "from ipyfilechooser import FileChooser\n",
    "import json \n",
    "%matplotlib widget"
   ]
  },
  {
   "cell_type": "markdown",
   "metadata": {},
   "source": [
    "Choose recording"
   ]
  },
  {
   "cell_type": "code",
   "execution_count": null,
   "metadata": {},
   "outputs": [],
   "source": [
    "try: # tries to retrieve dpath either from a previous run or from a previous notebook\n",
    "    %store -r dpath\n",
    "except:\n",
    "    print(\"the path was not defined in store\")\n",
    "    dpath = \"//10.69.168.1/crnldata/forgetting/\"\n",
    "\n",
    "fc1 = FileChooser(dpath,select_default = True, show_only_dirs = True, title = \"<b>Go inside the folder containing the LFP raw file</b>\")\n",
    "display(fc1)\n",
    "\n",
    "# Sample callback function\n",
    "def update_my_folder(chooser):\n",
    "    global dpath\n",
    "    dpath = chooser.selected\n",
    "    %store dpath\n",
    "    return \n",
    "\n",
    "# Register callback function\n",
    "fc1.register_callback(update_my_folder)"
   ]
  },
  {
   "cell_type": "markdown",
   "metadata": {},
   "source": [
    "Load recordings"
   ]
  },
  {
   "cell_type": "code",
   "execution_count": null,
   "metadata": {},
   "outputs": [],
   "source": [
    "folder_base = Path(dpath) \n",
    "LFPfile = Path(f'{folder_base}\\continuous.dat')\n",
    "\n",
    "if LFPfile.exists():\n",
    "    print('continuous.dat file')\n",
    "    LFPfile = Path(f'{folder_base}\\continuous.dat')\n",
    "    DataRec = np.fromfile(LFPfile, dtype=\"int16\")\n",
    "    filepath = Path(os.path.join(folder_base.parent.parent, f'structure.oebin'))\n",
    "    with open(filepath) as f:\n",
    "        metadata = json.load(f)\n",
    "    samplerate = metadata['continuous'][0]['sample_rate']  \n",
    "    numchannel = metadata['continuous'][0]['num_channels'] \n",
    "    rec_ch_list = np.array([int(''.join(c for c in metadata['continuous'][0]['channels'][x]['channel_name'] if c.isdigit()))-1 for x in range(0, len(metadata['continuous'][0]['channels']))])\n",
    "    DataRec = DataRec.reshape(-1,numchannel)\n",
    "    print('Metadata found')\n",
    "    # Load LFPs timestamps \n",
    "    for file_pathTS in folder_base.parent.parent.glob('**/continuous/*/timeStamps.npy'):\n",
    "        print('LFPs timestamps file found')\n",
    "        LFPtimestamps = np.load(file_pathTS) \n",
    "    LFPs_df=pd.DataFrame(DataRec, columns=rec_ch_list) \n",
    "\n",
    "print('sample rate =', samplerate, 'Hz')\n",
    "print(numchannel, 'channels recorded')\n",
    "print(round(LFPs_df.shape[0]/samplerate/60), 'min of recording')"
   ]
  },
  {
   "cell_type": "markdown",
   "metadata": {},
   "source": [
    "Downsample signals to 1 kz & save\n"
   ]
  },
  {
   "cell_type": "code",
   "execution_count": null,
   "metadata": {},
   "outputs": [],
   "source": [
    "if samplerate > 1000:\n",
    "    new_sampling_rate = 1000 # Hz\n",
    "    Nmber_points = int(np.shape(LFPs_df)[0] * new_sampling_rate / samplerate)\n",
    "    LFPs_df_DS = pd.DataFrame(signal.resample(LFPs_df, Nmber_points, axis = 0), columns=LFPs_df.columns.values)\n",
    "    LFPtimestampsDS = LFPtimestamps[::int(samplerate/new_sampling_rate)][:-1]\n",
    "    samplerate = new_sampling_rate\n",
    "    LFPs_df_DS.to_pickle(f'{LFPfile.parent}/DataFrame_rawdataDS.pkl')\n",
    "    np.save(f'{file_pathTS.parent}/timeStampsDS.npy', LFPtimestampsDS)\n",
    "    LFPs_df = LFPs_df_DS\n",
    "    LFPtimestamps = LFPtimestampsDS\n",
    "# eventually delete original files to gain space"
   ]
  }
 ],
 "metadata": {
  "kernelspec": {
   "display_name": "minian",
   "language": "python",
   "name": "python3"
  },
  "language_info": {
   "codemirror_mode": {
    "name": "ipython",
    "version": 3
   },
   "file_extension": ".py",
   "mimetype": "text/x-python",
   "name": "python",
   "nbconvert_exporter": "python",
   "pygments_lexer": "ipython3",
   "version": "3.11.7"
  },
  "orig_nbformat": 4
 },
 "nbformat": 4,
 "nbformat_minor": 2
}
