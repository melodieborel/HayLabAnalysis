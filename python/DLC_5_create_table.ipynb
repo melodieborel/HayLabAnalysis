{
 "cells": [
  {
   "cell_type": "code",
   "execution_count": 2,
   "metadata": {},
   "outputs": [],
   "source": [
    "import pandas as pd\n",
    "import numpy as np\n",
    "import matplotlib.pyplot as plt\n",
    "import random\n",
    "import math\n",
    "import os\n",
    "from pathlib import Path\n",
    "import re\n",
    "from scipy import stats"
   ]
  },
  {
   "cell_type": "code",
   "execution_count": 4,
   "metadata": {},
   "outputs": [
    {
     "name": "stdout",
     "output_type": "stream",
     "text": [
      "C:\\Users\\AudreyHay\\Documents\\Carla\\Cheeseboard\\APPPS1\\AHAD01.37\\2mois\\Test\\28_02_2025\\AHAD01.37-TestDLC_Resnet50_CheeseboardFeb6shuffle1_snapshot_030.h5\n",
      "C:\\Users\\AudreyHay\\Documents\\Carla\\Cheeseboard\\APPPS1\\AHAD01.37\\2mois\\Training\\24_02_2025\\AHAD01.37-Training J1-1DLC_Resnet50_CheeseboardFeb6shuffle1_snapshot_010.h5\n",
      "C:\\Users\\AudreyHay\\Documents\\Carla\\Cheeseboard\\APPPS1\\AHAD01.37\\2mois\\Training\\24_02_2025\\AHAD01.37-Training J1-2DLC_Resnet50_CheeseboardFeb6shuffle1_snapshot_010.h5\n",
      "C:\\Users\\AudreyHay\\Documents\\Carla\\Cheeseboard\\APPPS1\\AHAD01.37\\2mois\\Training\\24_02_2025\\AHAD01.37-Training J1-3DLC_Resnet50_CheeseboardFeb6shuffle1_snapshot_010.h5\n",
      "C:\\Users\\AudreyHay\\Documents\\Carla\\Cheeseboard\\APPPS1\\AHAD01.37\\2mois\\Training\\24_02_2025\\AHAD01.37-Training J1-4DLC_Resnet50_CheeseboardFeb6shuffle1_snapshot_010.h5\n",
      "C:\\Users\\AudreyHay\\Documents\\Carla\\Cheeseboard\\APPPS1\\AHAD01.37\\2mois\\Training\\24_02_2025\\AHAD01.37-Training J1-5DLC_Resnet50_CheeseboardFeb6shuffle1_snapshot_010.h5\n",
      "C:\\Users\\AudreyHay\\Documents\\Carla\\Cheeseboard\\APPPS1\\AHAD01.37\\2mois\\Training\\24_02_2025\\AHAD01.37-Training J1-6DLC_Resnet50_CheeseboardFeb6shuffle1_snapshot_010.h5\n",
      "C:\\Users\\AudreyHay\\Documents\\Carla\\Cheeseboard\\APPPS1\\AHAD01.37\\2mois\\Training\\24_02_2025\\AHAD01.37-Training J1-7DLC_Resnet50_CheeseboardFeb6shuffle1_snapshot_010.h5\n",
      "C:\\Users\\AudreyHay\\Documents\\Carla\\Cheeseboard\\APPPS1\\AHAD01.37\\2mois\\Training\\24_02_2025\\AHAD01.37-Training J1-8DLC_Resnet50_CheeseboardFeb6shuffle1_snapshot_010.h5\n"
     ]
    },
    {
     "name": "stderr",
     "output_type": "stream",
     "text": [
      "C:\\Users\\AudreyHay\\AppData\\Local\\Temp\\ipykernel_37164\\4179300524.py:209: RuntimeWarning: Mean of empty slice\n",
      "  Summary_table.loc[counter, 'average_speed'] = round(np.nanmean(distances_to_reward)/pixel_to_cm*frame_rate,2)\n",
      "C:\\Users\\AudreyHay\\AppData\\Local\\Temp\\ipykernel_37164\\4179300524.py:209: RuntimeWarning: Mean of empty slice\n",
      "  Summary_table.loc[counter, 'average_speed'] = round(np.nanmean(distances_to_reward)/pixel_to_cm*frame_rate,2)\n"
     ]
    },
    {
     "name": "stdout",
     "output_type": "stream",
     "text": [
      "C:\\Users\\AudreyHay\\Documents\\Carla\\Cheeseboard\\APPPS1\\AHAD01.37\\2mois\\Training\\25_02_2025\\AHAD01.37-Training J2-1DLC_Resnet50_CheeseboardFeb6shuffle1_snapshot_010.h5\n",
      "C:\\Users\\AudreyHay\\Documents\\Carla\\Cheeseboard\\APPPS1\\AHAD01.37\\2mois\\Training\\25_02_2025\\AHAD01.37-Training J2-2DLC_Resnet50_CheeseboardFeb6shuffle1_snapshot_010.h5\n",
      "C:\\Users\\AudreyHay\\Documents\\Carla\\Cheeseboard\\APPPS1\\AHAD01.37\\2mois\\Training\\25_02_2025\\AHAD01.37-Training J2-3DLC_Resnet50_CheeseboardFeb6shuffle1_snapshot_010.h5\n",
      "C:\\Users\\AudreyHay\\Documents\\Carla\\Cheeseboard\\APPPS1\\AHAD01.37\\2mois\\Training\\25_02_2025\\AHAD01.37-Training J2-4DLC_Resnet50_CheeseboardFeb6shuffle1_snapshot_010.h5\n",
      "C:\\Users\\AudreyHay\\Documents\\Carla\\Cheeseboard\\APPPS1\\AHAD01.37\\2mois\\Training\\25_02_2025\\AHAD01.37-Training J2-5DLC_Resnet50_CheeseboardFeb6shuffle1_snapshot_010.h5\n",
      "C:\\Users\\AudreyHay\\Documents\\Carla\\Cheeseboard\\APPPS1\\AHAD01.37\\2mois\\Training\\25_02_2025\\AHAD01.37-Training J2-6DLC_Resnet50_CheeseboardFeb6shuffle1_snapshot_010.h5\n",
      "C:\\Users\\AudreyHay\\Documents\\Carla\\Cheeseboard\\APPPS1\\AHAD01.37\\2mois\\Training\\25_02_2025\\AHAD01.37-Training J2-7DLC_Resnet50_CheeseboardFeb6shuffle1_snapshot_010.h5\n",
      "C:\\Users\\AudreyHay\\Documents\\Carla\\Cheeseboard\\APPPS1\\AHAD01.37\\2mois\\Training\\25_02_2025\\AHAD01.37-Training J2-8DLC_Resnet50_CheeseboardFeb6shuffle1_snapshot_010.h5\n",
      "C:\\Users\\AudreyHay\\Documents\\Carla\\Cheeseboard\\APPPS1\\AHAD01.37\\2mois\\Training\\26_02_2025\\AHAD01.37-Training J3-1DLC_Resnet50_CheeseboardFeb6shuffle1_snapshot_010.h5\n",
      "C:\\Users\\AudreyHay\\Documents\\Carla\\Cheeseboard\\APPPS1\\AHAD01.37\\2mois\\Training\\26_02_2025\\AHAD01.37-Training J3-2DLC_Resnet50_CheeseboardFeb6shuffle1_snapshot_010.h5\n",
      "C:\\Users\\AudreyHay\\Documents\\Carla\\Cheeseboard\\APPPS1\\AHAD01.37\\2mois\\Training\\26_02_2025\\AHAD01.37-Training J3-3DLC_Resnet50_CheeseboardFeb6shuffle1_snapshot_010.h5\n",
      "C:\\Users\\AudreyHay\\Documents\\Carla\\Cheeseboard\\APPPS1\\AHAD01.37\\2mois\\Training\\26_02_2025\\AHAD01.37-Training J3-4DLC_Resnet50_CheeseboardFeb6shuffle1_snapshot_010.h5\n",
      "C:\\Users\\AudreyHay\\Documents\\Carla\\Cheeseboard\\APPPS1\\AHAD01.37\\2mois\\Training\\26_02_2025\\AHAD01.37-Training J3-5DLC_Resnet50_CheeseboardFeb6shuffle1_snapshot_010.h5\n",
      "C:\\Users\\AudreyHay\\Documents\\Carla\\Cheeseboard\\APPPS1\\AHAD01.37\\2mois\\Training\\26_02_2025\\AHAD01.37-Training J3-6DLC_Resnet50_CheeseboardFeb6shuffle1_snapshot_010.h5\n",
      "C:\\Users\\AudreyHay\\Documents\\Carla\\Cheeseboard\\APPPS1\\AHAD01.37\\2mois\\Training\\26_02_2025\\AHAD01.37-Training J3-7DLC_Resnet50_CheeseboardFeb6shuffle1_snapshot_010.h5\n"
     ]
    },
    {
     "name": "stderr",
     "output_type": "stream",
     "text": [
      "C:\\Users\\AudreyHay\\AppData\\Local\\Temp\\ipykernel_37164\\4179300524.py:209: RuntimeWarning: Mean of empty slice\n",
      "  Summary_table.loc[counter, 'average_speed'] = round(np.nanmean(distances_to_reward)/pixel_to_cm*frame_rate,2)\n",
      "C:\\Users\\AudreyHay\\AppData\\Local\\Temp\\ipykernel_37164\\4179300524.py:209: RuntimeWarning: Mean of empty slice\n",
      "  Summary_table.loc[counter, 'average_speed'] = round(np.nanmean(distances_to_reward)/pixel_to_cm*frame_rate,2)\n"
     ]
    },
    {
     "name": "stdout",
     "output_type": "stream",
     "text": [
      "C:\\Users\\AudreyHay\\Documents\\Carla\\Cheeseboard\\APPPS1\\AHAD01.37\\2mois\\Training\\27_02_2025\\AHAD01.37-Training J4-1DLC_Resnet50_CheeseboardFeb6shuffle1_snapshot_010.h5\n",
      "C:\\Users\\AudreyHay\\Documents\\Carla\\Cheeseboard\\APPPS1\\AHAD01.37\\2mois\\Training\\27_02_2025\\AHAD01.37-Training J4-2DLC_Resnet50_CheeseboardFeb6shuffle1_snapshot_010.h5\n",
      "C:\\Users\\AudreyHay\\Documents\\Carla\\Cheeseboard\\APPPS1\\AHAD01.37\\2mois\\Training\\27_02_2025\\AHAD01.37-Training J4-3DLC_Resnet50_CheeseboardFeb6shuffle1_snapshot_010.h5\n",
      "C:\\Users\\AudreyHay\\Documents\\Carla\\Cheeseboard\\APPPS1\\AHAD01.37\\2mois\\Training\\27_02_2025\\AHAD01.37-Training J4-4DLC_Resnet50_CheeseboardFeb6shuffle1_snapshot_010.h5\n",
      "C:\\Users\\AudreyHay\\Documents\\Carla\\Cheeseboard\\APPPS1\\AHAD01.37\\2mois\\Training\\27_02_2025\\AHAD01.37-Training J4-6DLC_Resnet50_CheeseboardFeb6shuffle1_snapshot_010.h5\n",
      "C:\\Users\\AudreyHay\\Documents\\Carla\\Cheeseboard\\APPPS1\\AHAD01.37\\2mois\\Training\\27_02_2025\\AHAD01.37-Training J4-7DLC_Resnet50_CheeseboardFeb6shuffle1_snapshot_010.h5\n",
      "C:\\Users\\AudreyHay\\Documents\\Carla\\Cheeseboard\\APPPS1\\AHAD01.37\\3mois\\Post\\27_03_2025\\AHAD01.37-After Test2-1DLC_Resnet50_CheeseboardFeb6shuffle1_snapshot_010.h5\n",
      "C:\\Users\\AudreyHay\\Documents\\Carla\\Cheeseboard\\APPPS1\\AHAD01.37\\3mois\\Post\\27_03_2025\\AHAD01.37-After test2-2DLC_Resnet50_CheeseboardFeb6shuffle1_snapshot_010.h5\n",
      "C:\\Users\\AudreyHay\\Documents\\Carla\\Cheeseboard\\APPPS1\\AHAD01.37\\3mois\\Post\\27_03_2025\\AHAD01.37-After test2-3DLC_Resnet50_CheeseboardFeb6shuffle1_snapshot_010.h5\n",
      "C:\\Users\\AudreyHay\\Documents\\Carla\\Cheeseboard\\APPPS1\\AHAD01.37\\3mois\\Test\\27_03_2025\\AHAD01.37-Test2DLC_Resnet50_CheeseboardFeb6shuffle1_snapshot_010.h5\n",
      "C:\\Users\\AudreyHay\\Documents\\Carla\\Cheeseboard\\APPPS1\\AHAD01.37\\4mois\\Post\\06_05_2025\\AHAD01.37-After test3-1DLC_Resnet50_CheeseboardFeb6shuffle1_snapshot_010.h5\n",
      "C:\\Users\\AudreyHay\\Documents\\Carla\\Cheeseboard\\APPPS1\\AHAD01.37\\4mois\\Post\\06_05_2025\\AHAD01.37-After test3-2DLC_Resnet50_CheeseboardFeb6shuffle1_snapshot_010.h5\n",
      "C:\\Users\\AudreyHay\\Documents\\Carla\\Cheeseboard\\APPPS1\\AHAD01.37\\4mois\\Post\\06_05_2025\\AHAD01.37-After test3-3DLC_Resnet50_CheeseboardFeb6shuffle1_snapshot_010.h5\n"
     ]
    },
    {
     "name": "stderr",
     "output_type": "stream",
     "text": [
      "C:\\Users\\AudreyHay\\AppData\\Local\\Temp\\ipykernel_37164\\4179300524.py:209: RuntimeWarning: Mean of empty slice\n",
      "  Summary_table.loc[counter, 'average_speed'] = round(np.nanmean(distances_to_reward)/pixel_to_cm*frame_rate,2)\n",
      "C:\\Users\\AudreyHay\\AppData\\Local\\Temp\\ipykernel_37164\\4179300524.py:209: RuntimeWarning: Mean of empty slice\n",
      "  Summary_table.loc[counter, 'average_speed'] = round(np.nanmean(distances_to_reward)/pixel_to_cm*frame_rate,2)\n"
     ]
    },
    {
     "name": "stdout",
     "output_type": "stream",
     "text": [
      "C:\\Users\\AudreyHay\\Documents\\Carla\\Cheeseboard\\APPPS1\\AHAD01.37\\4mois\\Test\\06_05_2025\\AHAD01.37-Test3DLC_Resnet50_CheeseboardFeb6shuffle1_snapshot_010.h5\n",
      "C:\\Users\\AudreyHay\\Documents\\Carla\\Cheeseboard\\APPPS1\\AHAD01.37\\5mois\\Test\\27_05_2025\\AHAD01.37-Test4DLC_Resnet50_CheeseboardFeb6shuffle1_snapshot_010.h5\n",
      "C:\\Users\\AudreyHay\\Documents\\Carla\\Cheeseboard\\APPPS1\\AHAD01.38\\2mois\\Test\\28_02_2025\\AHAD01.38-TestDLC_Resnet50_CheeseboardFeb6shuffle1_snapshot_030.h5\n",
      "C:\\Users\\AudreyHay\\Documents\\Carla\\Cheeseboard\\APPPS1\\AHAD01.38\\2mois\\Test\\28_02_2025\\AHAD01.38-TestDLC_Resnet50_CheeseboardFeb6shuffle1_snapshot_030_filtered.h5\n",
      "C:\\Users\\AudreyHay\\Documents\\Carla\\Cheeseboard\\APPPS1\\AHAD01.38\\2mois\\Training\\24_02_2025\\AHAD01.38-Training J1-1DLC_Resnet50_CheeseboardFeb6shuffle1_snapshot_010.h5\n",
      "C:\\Users\\AudreyHay\\Documents\\Carla\\Cheeseboard\\APPPS1\\AHAD01.38\\2mois\\Training\\24_02_2025\\AHAD01.38-Training J1-2DLC_Resnet50_CheeseboardFeb6shuffle1_snapshot_010.h5\n",
      "C:\\Users\\AudreyHay\\Documents\\Carla\\Cheeseboard\\APPPS1\\AHAD01.38\\2mois\\Training\\24_02_2025\\AHAD01.38-Training J1-3DLC_Resnet50_CheeseboardFeb6shuffle1_snapshot_010.h5\n",
      "C:\\Users\\AudreyHay\\Documents\\Carla\\Cheeseboard\\APPPS1\\AHAD01.38\\2mois\\Training\\24_02_2025\\AHAD01.38-Training J1-4DLC_Resnet50_CheeseboardFeb6shuffle1_snapshot_010.h5\n",
      "C:\\Users\\AudreyHay\\Documents\\Carla\\Cheeseboard\\APPPS1\\AHAD01.38\\2mois\\Training\\24_02_2025\\AHAD01.38-Training J1-5DLC_Resnet50_CheeseboardFeb6shuffle1_snapshot_010.h5\n",
      "C:\\Users\\AudreyHay\\Documents\\Carla\\Cheeseboard\\APPPS1\\AHAD01.38\\2mois\\Training\\24_02_2025\\AHAD01.38-Training J1-6DLC_Resnet50_CheeseboardFeb6shuffle1_snapshot_010.h5\n",
      "C:\\Users\\AudreyHay\\Documents\\Carla\\Cheeseboard\\APPPS1\\AHAD01.38\\2mois\\Training\\24_02_2025\\AHAD01.38-Training J1-7DLC_Resnet50_CheeseboardFeb6shuffle1_snapshot_010.h5\n",
      "C:\\Users\\AudreyHay\\Documents\\Carla\\Cheeseboard\\APPPS1\\AHAD01.38\\2mois\\Training\\24_02_2025\\AHAD01.38-Training J1-8DLC_Resnet50_CheeseboardFeb6shuffle1_snapshot_010.h5\n",
      "C:\\Users\\AudreyHay\\Documents\\Carla\\Cheeseboard\\APPPS1\\AHAD01.38\\2mois\\Training\\25_02_2025\\AHAD01.38-Training J2-1DLC_Resnet50_CheeseboardFeb6shuffle1_snapshot_010.h5\n",
      "C:\\Users\\AudreyHay\\Documents\\Carla\\Cheeseboard\\APPPS1\\AHAD01.38\\2mois\\Training\\25_02_2025\\AHAD01.38-Training J2-2DLC_Resnet50_CheeseboardFeb6shuffle1_snapshot_010.h5\n",
      "C:\\Users\\AudreyHay\\Documents\\Carla\\Cheeseboard\\APPPS1\\AHAD01.38\\2mois\\Training\\25_02_2025\\AHAD01.38-Training J2-3DLC_Resnet50_CheeseboardFeb6shuffle1_snapshot_010.h5\n",
      "C:\\Users\\AudreyHay\\Documents\\Carla\\Cheeseboard\\APPPS1\\AHAD01.38\\2mois\\Training\\25_02_2025\\AHAD01.38-Training J2-4DLC_Resnet50_CheeseboardFeb6shuffle1_snapshot_010.h5\n",
      "C:\\Users\\AudreyHay\\Documents\\Carla\\Cheeseboard\\APPPS1\\AHAD01.38\\2mois\\Training\\25_02_2025\\AHAD01.38-Training J2-5DLC_Resnet50_CheeseboardFeb6shuffle1_snapshot_010.h5\n",
      "C:\\Users\\AudreyHay\\Documents\\Carla\\Cheeseboard\\APPPS1\\AHAD01.38\\2mois\\Training\\25_02_2025\\AHAD01.38-Training J2-6DLC_Resnet50_CheeseboardFeb6shuffle1_snapshot_010.h5\n",
      "C:\\Users\\AudreyHay\\Documents\\Carla\\Cheeseboard\\APPPS1\\AHAD01.38\\2mois\\Training\\25_02_2025\\AHAD01.38-Training J2-7DLC_Resnet50_CheeseboardFeb6shuffle1_snapshot_010.h5\n",
      "C:\\Users\\AudreyHay\\Documents\\Carla\\Cheeseboard\\APPPS1\\AHAD01.38\\2mois\\Training\\25_02_2025\\AHAD01.38-Training J2-8DLC_Resnet50_CheeseboardFeb6shuffle1_snapshot_010.h5\n",
      "C:\\Users\\AudreyHay\\Documents\\Carla\\Cheeseboard\\APPPS1\\AHAD01.38\\2mois\\Training\\26_02_2025\\AHAD01.38-Training J3-1DLC_Resnet50_CheeseboardFeb6shuffle1_snapshot_010.h5\n",
      "C:\\Users\\AudreyHay\\Documents\\Carla\\Cheeseboard\\APPPS1\\AHAD01.38\\2mois\\Training\\26_02_2025\\AHAD01.38-Training J3-2DLC_Resnet50_CheeseboardFeb6shuffle1_snapshot_010.h5\n",
      "C:\\Users\\AudreyHay\\Documents\\Carla\\Cheeseboard\\APPPS1\\AHAD01.38\\2mois\\Training\\26_02_2025\\AHAD01.38-Training J3-3DLC_Resnet50_CheeseboardFeb6shuffle1_snapshot_010.h5\n",
      "C:\\Users\\AudreyHay\\Documents\\Carla\\Cheeseboard\\APPPS1\\AHAD01.38\\2mois\\Training\\26_02_2025\\AHAD01.38-Training J3-4DLC_Resnet50_CheeseboardFeb6shuffle1_snapshot_010.h5\n"
     ]
    },
    {
     "name": "stderr",
     "output_type": "stream",
     "text": [
      "C:\\Users\\AudreyHay\\AppData\\Local\\Temp\\ipykernel_37164\\4179300524.py:209: RuntimeWarning: Mean of empty slice\n",
      "  Summary_table.loc[counter, 'average_speed'] = round(np.nanmean(distances_to_reward)/pixel_to_cm*frame_rate,2)\n",
      "C:\\Users\\AudreyHay\\AppData\\Local\\Temp\\ipykernel_37164\\4179300524.py:209: RuntimeWarning: Mean of empty slice\n",
      "  Summary_table.loc[counter, 'average_speed'] = round(np.nanmean(distances_to_reward)/pixel_to_cm*frame_rate,2)\n"
     ]
    },
    {
     "name": "stdout",
     "output_type": "stream",
     "text": [
      "C:\\Users\\AudreyHay\\Documents\\Carla\\Cheeseboard\\APPPS1\\AHAD01.38\\2mois\\Training\\26_02_2025\\AHAD01.38-Training J3-5DLC_Resnet50_CheeseboardFeb6shuffle1_snapshot_010.h5\n",
      "C:\\Users\\AudreyHay\\Documents\\Carla\\Cheeseboard\\APPPS1\\AHAD01.38\\2mois\\Training\\26_02_2025\\AHAD01.38-Training J3-6DLC_Resnet50_CheeseboardFeb6shuffle1_snapshot_010.h5\n",
      "C:\\Users\\AudreyHay\\Documents\\Carla\\Cheeseboard\\APPPS1\\AHAD01.38\\2mois\\Training\\26_02_2025\\AHAD01.38-Training J3-7DLC_Resnet50_CheeseboardFeb6shuffle1_snapshot_010.h5\n",
      "C:\\Users\\AudreyHay\\Documents\\Carla\\Cheeseboard\\APPPS1\\AHAD01.38\\2mois\\Training\\27_02_2025\\AHAD01.38-Training J4-1DLC_Resnet50_CheeseboardFeb6shuffle1_snapshot_010.h5\n",
      "C:\\Users\\AudreyHay\\Documents\\Carla\\Cheeseboard\\APPPS1\\AHAD01.38\\2mois\\Training\\27_02_2025\\AHAD01.38-Training J4-2DLC_Resnet50_CheeseboardFeb6shuffle1_snapshot_010.h5\n",
      "C:\\Users\\AudreyHay\\Documents\\Carla\\Cheeseboard\\APPPS1\\AHAD01.38\\2mois\\Training\\27_02_2025\\AHAD01.38-Training J4-3DLC_Resnet50_CheeseboardFeb6shuffle1_snapshot_010.h5\n",
      "C:\\Users\\AudreyHay\\Documents\\Carla\\Cheeseboard\\APPPS1\\AHAD01.38\\2mois\\Training\\27_02_2025\\AHAD01.38-Training J4-4DLC_Resnet50_CheeseboardFeb6shuffle1_snapshot_010.h5\n",
      "C:\\Users\\AudreyHay\\Documents\\Carla\\Cheeseboard\\APPPS1\\AHAD01.38\\2mois\\Training\\27_02_2025\\AHAD01.38-Training J4-5DLC_Resnet50_CheeseboardFeb6shuffle1_snapshot_010.h5\n",
      "C:\\Users\\AudreyHay\\Documents\\Carla\\Cheeseboard\\APPPS1\\AHAD01.38\\2mois\\Training\\27_02_2025\\AHAD01.38-Training J4-6DLC_Resnet50_CheeseboardFeb6shuffle1_snapshot_010.h5\n",
      "C:\\Users\\AudreyHay\\Documents\\Carla\\Cheeseboard\\APPPS1\\AHAD01.38\\2mois\\Training\\27_02_2025\\AHAD01.38-Training J4-7DLC_Resnet50_CheeseboardFeb6shuffle1_snapshot_010.h5\n",
      "C:\\Users\\AudreyHay\\Documents\\Carla\\Cheeseboard\\APPPS1\\AHAD01.38\\3mois\\Post\\27_03_2025\\AHAD01.38-Test2DLC_Resnet50_CheeseboardFeb6shuffle1_snapshot_010.h5\n"
     ]
    },
    {
     "name": "stderr",
     "output_type": "stream",
     "text": [
      "C:\\Users\\AudreyHay\\AppData\\Local\\Temp\\ipykernel_37164\\4179300524.py:209: RuntimeWarning: Mean of empty slice\n",
      "  Summary_table.loc[counter, 'average_speed'] = round(np.nanmean(distances_to_reward)/pixel_to_cm*frame_rate,2)\n"
     ]
    },
    {
     "name": "stdout",
     "output_type": "stream",
     "text": [
      "C:\\Users\\AudreyHay\\Documents\\Carla\\Cheeseboard\\APPPS1\\AHAD01.38\\3mois\\Test\\27_03_2025\\AHAD01.38-After test2-1DLC_Resnet50_CheeseboardFeb6shuffle1_snapshot_010.h5\n",
      "C:\\Users\\AudreyHay\\Documents\\Carla\\Cheeseboard\\APPPS1\\AHAD01.38\\3mois\\Test\\27_03_2025\\AHAD01.38-After test2-2DLC_Resnet50_CheeseboardFeb6shuffle1_snapshot_010.h5\n",
      "C:\\Users\\AudreyHay\\Documents\\Carla\\Cheeseboard\\APPPS1\\AHAD01.38\\3mois\\Test\\27_03_2025\\AHAD01.38-After test2-3DLC_Resnet50_CheeseboardFeb6shuffle1_snapshot_010.h5\n",
      "C:\\Users\\AudreyHay\\Documents\\Carla\\Cheeseboard\\APPPS1\\AHAD01.38\\4mois\\Post\\06_05_2025\\AHAD01.38-After test3-1DLC_Resnet50_CheeseboardFeb6shuffle1_snapshot_010.h5\n",
      "C:\\Users\\AudreyHay\\Documents\\Carla\\Cheeseboard\\APPPS1\\AHAD01.38\\4mois\\Post\\06_05_2025\\AHAD01.38-After test3-2DLC_Resnet50_CheeseboardFeb6shuffle1_snapshot_010.h5\n",
      "C:\\Users\\AudreyHay\\Documents\\Carla\\Cheeseboard\\APPPS1\\AHAD01.38\\4mois\\Post\\06_05_2025\\AHAD01.38-After test3-3DLC_Resnet50_CheeseboardFeb6shuffle1_snapshot_010.h5\n",
      "C:\\Users\\AudreyHay\\Documents\\Carla\\Cheeseboard\\APPPS1\\AHAD01.38\\4mois\\Test\\06_05_2025\\AHAD01.38-Test3DLC_Resnet50_CheeseboardFeb6shuffle1_snapshot_010.h5\n",
      "C:\\Users\\AudreyHay\\Documents\\Carla\\Cheeseboard\\APPPS1\\AHAD01.38\\5mois\\Test\\27_05_2025\\AHAD01.38-Test4DLC_Resnet50_CheeseboardFeb6shuffle1_snapshot_010.h5\n",
      "C:\\Users\\AudreyHay\\Documents\\Carla\\Cheeseboard\\APPPS1\\AHAD01.40\\2mois\\Test\\28_02_2025\\AHAD01.40-TestDLC_Resnet50_CheeseboardFeb6shuffle1_snapshot_030.h5\n",
      "C:\\Users\\AudreyHay\\Documents\\Carla\\Cheeseboard\\APPPS1\\AHAD01.40\\2mois\\Test\\28_02_2025\\AHAD01.40-TestDLC_Resnet50_CheeseboardFeb6shuffle1_snapshot_030_filtered.h5\n",
      "C:\\Users\\AudreyHay\\Documents\\Carla\\Cheeseboard\\APPPS1\\AHAD01.40\\2mois\\Training\\24_02_2025\\AHAD01.40-Training J1-1DLC_Resnet50_CheeseboardFeb6shuffle1_snapshot_010.h5\n",
      "C:\\Users\\AudreyHay\\Documents\\Carla\\Cheeseboard\\APPPS1\\AHAD01.40\\2mois\\Training\\24_02_2025\\AHAD01.40-Training J1-2DLC_Resnet50_CheeseboardFeb6shuffle1_snapshot_010.h5\n",
      "C:\\Users\\AudreyHay\\Documents\\Carla\\Cheeseboard\\APPPS1\\AHAD01.40\\2mois\\Training\\24_02_2025\\AHAD01.40-Training J1-3DLC_Resnet50_CheeseboardFeb6shuffle1_snapshot_010.h5\n"
     ]
    },
    {
     "name": "stderr",
     "output_type": "stream",
     "text": [
      "C:\\Users\\AudreyHay\\AppData\\Local\\Temp\\ipykernel_37164\\4179300524.py:209: RuntimeWarning: Mean of empty slice\n",
      "  Summary_table.loc[counter, 'average_speed'] = round(np.nanmean(distances_to_reward)/pixel_to_cm*frame_rate,2)\n",
      "C:\\Users\\AudreyHay\\AppData\\Local\\Temp\\ipykernel_37164\\4179300524.py:209: RuntimeWarning: Mean of empty slice\n",
      "  Summary_table.loc[counter, 'average_speed'] = round(np.nanmean(distances_to_reward)/pixel_to_cm*frame_rate,2)\n"
     ]
    },
    {
     "name": "stdout",
     "output_type": "stream",
     "text": [
      "C:\\Users\\AudreyHay\\Documents\\Carla\\Cheeseboard\\APPPS1\\AHAD01.40\\2mois\\Training\\24_02_2025\\AHAD01.40-Training J1-4DLC_Resnet50_CheeseboardFeb6shuffle1_snapshot_010.h5\n",
      "C:\\Users\\AudreyHay\\Documents\\Carla\\Cheeseboard\\APPPS1\\AHAD01.40\\2mois\\Training\\24_02_2025\\AHAD01.40-Training J1-5DLC_Resnet50_CheeseboardFeb6shuffle1_snapshot_010.h5\n",
      "C:\\Users\\AudreyHay\\Documents\\Carla\\Cheeseboard\\APPPS1\\AHAD01.40\\2mois\\Training\\24_02_2025\\AHAD01.40-Training J1-6DLC_Resnet50_CheeseboardFeb6shuffle1_snapshot_010.h5\n",
      "C:\\Users\\AudreyHay\\Documents\\Carla\\Cheeseboard\\APPPS1\\AHAD01.40\\2mois\\Training\\24_02_2025\\AHAD01.40-Training J1-7DLC_Resnet50_CheeseboardFeb6shuffle1_snapshot_010.h5\n",
      "C:\\Users\\AudreyHay\\Documents\\Carla\\Cheeseboard\\APPPS1\\AHAD01.40\\2mois\\Training\\24_02_2025\\AHAD01.40-Training J1-8DLC_Resnet50_CheeseboardFeb6shuffle1_snapshot_010.h5\n",
      "C:\\Users\\AudreyHay\\Documents\\Carla\\Cheeseboard\\APPPS1\\AHAD01.40\\2mois\\Training\\25_02_2025\\AHAD01.40-Training J2-1DLC_Resnet50_CheeseboardFeb6shuffle1_snapshot_010.h5\n",
      "C:\\Users\\AudreyHay\\Documents\\Carla\\Cheeseboard\\APPPS1\\AHAD01.40\\2mois\\Training\\25_02_2025\\AHAD01.40-Training J2-2DLC_Resnet50_CheeseboardFeb6shuffle1_snapshot_010.h5\n",
      "C:\\Users\\AudreyHay\\Documents\\Carla\\Cheeseboard\\APPPS1\\AHAD01.40\\2mois\\Training\\25_02_2025\\AHAD01.40-Training J2-3DLC_Resnet50_CheeseboardFeb6shuffle1_snapshot_010.h5\n",
      "C:\\Users\\AudreyHay\\Documents\\Carla\\Cheeseboard\\APPPS1\\AHAD01.40\\2mois\\Training\\25_02_2025\\AHAD01.40-Training J2-4DLC_Resnet50_CheeseboardFeb6shuffle1_snapshot_010.h5\n",
      "C:\\Users\\AudreyHay\\Documents\\Carla\\Cheeseboard\\APPPS1\\AHAD01.40\\2mois\\Training\\25_02_2025\\AHAD01.40-Training J2-5DLC_Resnet50_CheeseboardFeb6shuffle1_snapshot_010.h5\n",
      "C:\\Users\\AudreyHay\\Documents\\Carla\\Cheeseboard\\APPPS1\\AHAD01.40\\2mois\\Training\\25_02_2025\\AHAD01.40-Training J2-6DLC_Resnet50_CheeseboardFeb6shuffle1_snapshot_010.h5\n",
      "C:\\Users\\AudreyHay\\Documents\\Carla\\Cheeseboard\\APPPS1\\AHAD01.40\\2mois\\Training\\25_02_2025\\AHAD01.40-Training J2-7DLC_Resnet50_CheeseboardFeb6shuffle1_snapshot_010.h5\n"
     ]
    },
    {
     "name": "stderr",
     "output_type": "stream",
     "text": [
      "C:\\Users\\AudreyHay\\AppData\\Local\\Temp\\ipykernel_37164\\4179300524.py:209: RuntimeWarning: Mean of empty slice\n",
      "  Summary_table.loc[counter, 'average_speed'] = round(np.nanmean(distances_to_reward)/pixel_to_cm*frame_rate,2)\n",
      "C:\\Users\\AudreyHay\\AppData\\Local\\Temp\\ipykernel_37164\\4179300524.py:209: RuntimeWarning: Mean of empty slice\n",
      "  Summary_table.loc[counter, 'average_speed'] = round(np.nanmean(distances_to_reward)/pixel_to_cm*frame_rate,2)\n",
      "C:\\Users\\AudreyHay\\AppData\\Local\\Temp\\ipykernel_37164\\4179300524.py:209: RuntimeWarning: Mean of empty slice\n",
      "  Summary_table.loc[counter, 'average_speed'] = round(np.nanmean(distances_to_reward)/pixel_to_cm*frame_rate,2)\n"
     ]
    },
    {
     "name": "stdout",
     "output_type": "stream",
     "text": [
      "C:\\Users\\AudreyHay\\Documents\\Carla\\Cheeseboard\\APPPS1\\AHAD01.40\\2mois\\Training\\26_02_2025\\AHAD01.40-Training J3-1DLC_Resnet50_CheeseboardFeb6shuffle1_snapshot_010.h5\n",
      "C:\\Users\\AudreyHay\\Documents\\Carla\\Cheeseboard\\APPPS1\\AHAD01.40\\2mois\\Training\\26_02_2025\\AHAD01.40-Training J3-2DLC_Resnet50_CheeseboardFeb6shuffle1_snapshot_010.h5\n",
      "C:\\Users\\AudreyHay\\Documents\\Carla\\Cheeseboard\\APPPS1\\AHAD01.40\\2mois\\Training\\26_02_2025\\AHAD01.40-Training J3-3DLC_Resnet50_CheeseboardFeb6shuffle1_snapshot_010.h5\n",
      "C:\\Users\\AudreyHay\\Documents\\Carla\\Cheeseboard\\APPPS1\\AHAD01.40\\2mois\\Training\\26_02_2025\\AHAD01.40-Training J3-4DLC_Resnet50_CheeseboardFeb6shuffle1_snapshot_010.h5\n",
      "C:\\Users\\AudreyHay\\Documents\\Carla\\Cheeseboard\\APPPS1\\AHAD01.40\\2mois\\Training\\26_02_2025\\AHAD01.40-Training J3-5DLC_Resnet50_CheeseboardFeb6shuffle1_snapshot_010.h5\n",
      "C:\\Users\\AudreyHay\\Documents\\Carla\\Cheeseboard\\APPPS1\\AHAD01.40\\2mois\\Training\\26_02_2025\\AHAD01.40-Training J3-6DLC_Resnet50_CheeseboardFeb6shuffle1_snapshot_010.h5\n",
      "C:\\Users\\AudreyHay\\Documents\\Carla\\Cheeseboard\\APPPS1\\AHAD01.40\\2mois\\Training\\26_02_2025\\AHAD01.40-Training J3-7DLC_Resnet50_CheeseboardFeb6shuffle1_snapshot_010.h5\n"
     ]
    },
    {
     "name": "stderr",
     "output_type": "stream",
     "text": [
      "C:\\Users\\AudreyHay\\AppData\\Local\\Temp\\ipykernel_37164\\4179300524.py:209: RuntimeWarning: Mean of empty slice\n",
      "  Summary_table.loc[counter, 'average_speed'] = round(np.nanmean(distances_to_reward)/pixel_to_cm*frame_rate,2)\n",
      "C:\\Users\\AudreyHay\\AppData\\Local\\Temp\\ipykernel_37164\\4179300524.py:209: RuntimeWarning: Mean of empty slice\n",
      "  Summary_table.loc[counter, 'average_speed'] = round(np.nanmean(distances_to_reward)/pixel_to_cm*frame_rate,2)\n",
      "C:\\Users\\AudreyHay\\AppData\\Local\\Temp\\ipykernel_37164\\4179300524.py:209: RuntimeWarning: Mean of empty slice\n",
      "  Summary_table.loc[counter, 'average_speed'] = round(np.nanmean(distances_to_reward)/pixel_to_cm*frame_rate,2)\n"
     ]
    },
    {
     "name": "stdout",
     "output_type": "stream",
     "text": [
      "C:\\Users\\AudreyHay\\Documents\\Carla\\Cheeseboard\\APPPS1\\AHAD01.40\\2mois\\Training\\27_02_2025\\AHAD01.40-Training J4-1DLC_Resnet50_CheeseboardFeb6shuffle1_snapshot_010.h5\n",
      "C:\\Users\\AudreyHay\\Documents\\Carla\\Cheeseboard\\APPPS1\\AHAD01.40\\2mois\\Training\\27_02_2025\\AHAD01.40-Training J4-2DLC_Resnet50_CheeseboardFeb6shuffle1_snapshot_010.h5\n",
      "C:\\Users\\AudreyHay\\Documents\\Carla\\Cheeseboard\\APPPS1\\AHAD01.40\\2mois\\Training\\27_02_2025\\AHAD01.40-Training J4-3DLC_Resnet50_CheeseboardFeb6shuffle1_snapshot_010.h5\n",
      "C:\\Users\\AudreyHay\\Documents\\Carla\\Cheeseboard\\APPPS1\\AHAD01.40\\2mois\\Training\\27_02_2025\\AHAD01.40-Training J4-4DLC_Resnet50_CheeseboardFeb6shuffle1_snapshot_010.h5\n",
      "C:\\Users\\AudreyHay\\Documents\\Carla\\Cheeseboard\\APPPS1\\AHAD01.40\\2mois\\Training\\27_02_2025\\AHAD01.40-Training J4-5DLC_Resnet50_CheeseboardFeb6shuffle1_snapshot_010.h5\n",
      "C:\\Users\\AudreyHay\\Documents\\Carla\\Cheeseboard\\APPPS1\\AHAD01.40\\2mois\\Training\\27_02_2025\\AHAD01.40-Training J4-6DLC_Resnet50_CheeseboardFeb6shuffle1_snapshot_010.h5\n",
      "C:\\Users\\AudreyHay\\Documents\\Carla\\Cheeseboard\\APPPS1\\AHAD01.40\\2mois\\Training\\27_02_2025\\AHAD01.40-Training J4-7DLC_Resnet50_CheeseboardFeb6shuffle1_snapshot_010.h5\n"
     ]
    },
    {
     "name": "stderr",
     "output_type": "stream",
     "text": [
      "C:\\Users\\AudreyHay\\AppData\\Local\\Temp\\ipykernel_37164\\4179300524.py:209: RuntimeWarning: Mean of empty slice\n",
      "  Summary_table.loc[counter, 'average_speed'] = round(np.nanmean(distances_to_reward)/pixel_to_cm*frame_rate,2)\n"
     ]
    },
    {
     "name": "stdout",
     "output_type": "stream",
     "text": [
      "C:\\Users\\AudreyHay\\Documents\\Carla\\Cheeseboard\\APPPS1\\AHAD01.40\\3mois\\Post\\27_03_2025\\AHAD01.40-After test2-1DLC_Resnet50_CheeseboardFeb6shuffle1_snapshot_010.h5\n",
      "C:\\Users\\AudreyHay\\Documents\\Carla\\Cheeseboard\\APPPS1\\AHAD01.40\\3mois\\Post\\27_03_2025\\AHAD01.40-After test2-2DLC_Resnet50_CheeseboardFeb6shuffle1_snapshot_010.h5\n",
      "C:\\Users\\AudreyHay\\Documents\\Carla\\Cheeseboard\\APPPS1\\AHAD01.40\\3mois\\Post\\27_03_2025\\AHAD01.40-After test2-3DLC_Resnet50_CheeseboardFeb6shuffle1_snapshot_010.h5\n",
      "C:\\Users\\AudreyHay\\Documents\\Carla\\Cheeseboard\\APPPS1\\AHAD01.40\\3mois\\Test\\27_03_2025\\AHAD01.40-Test2DLC_Resnet50_CheeseboardFeb6shuffle1_snapshot_010.h5\n",
      "C:\\Users\\AudreyHay\\Documents\\Carla\\Cheeseboard\\APPPS1\\AHAD01.40\\3mois\\Training\\24_03_2025\\AHAD01.40-Training J1-1DLC_Resnet50_CheeseboardFeb6shuffle1_snapshot_010.h5\n",
      "C:\\Users\\AudreyHay\\Documents\\Carla\\Cheeseboard\\APPPS1\\AHAD01.40\\3mois\\Training\\24_03_2025\\AHAD01.40-Training J1-2DLC_Resnet50_CheeseboardFeb6shuffle1_snapshot_010.h5\n",
      "C:\\Users\\AudreyHay\\Documents\\Carla\\Cheeseboard\\APPPS1\\AHAD01.40\\3mois\\Training\\24_03_2025\\AHAD01.40-Training J1-3DLC_Resnet50_CheeseboardFeb6shuffle1_snapshot_010.h5\n",
      "C:\\Users\\AudreyHay\\Documents\\Carla\\Cheeseboard\\APPPS1\\AHAD01.40\\3mois\\Training\\24_03_2025\\AHAD01.40-Training J1-4DLC_Resnet50_CheeseboardFeb6shuffle1_snapshot_010.h5\n",
      "C:\\Users\\AudreyHay\\Documents\\Carla\\Cheeseboard\\APPPS1\\AHAD01.40\\3mois\\Training\\24_03_2025\\AHAD01.40-Training J1-5DLC_Resnet50_CheeseboardFeb6shuffle1_snapshot_010.h5\n",
      "C:\\Users\\AudreyHay\\Documents\\Carla\\Cheeseboard\\APPPS1\\AHAD01.40\\3mois\\Training\\25_03_2025\\AHAD01.40-Training J2-1DLC_Resnet50_CheeseboardFeb6shuffle1_snapshot_010.h5\n",
      "C:\\Users\\AudreyHay\\Documents\\Carla\\Cheeseboard\\APPPS1\\AHAD01.40\\3mois\\Training\\25_03_2025\\AHAD01.40-Training J2-2DLC_Resnet50_CheeseboardFeb6shuffle1_snapshot_010.h5\n",
      "C:\\Users\\AudreyHay\\Documents\\Carla\\Cheeseboard\\APPPS1\\AHAD01.40\\3mois\\Training\\25_03_2025\\AHAD01.40-Training J2-3DLC_Resnet50_CheeseboardFeb6shuffle1_snapshot_010.h5\n",
      "C:\\Users\\AudreyHay\\Documents\\Carla\\Cheeseboard\\APPPS1\\AHAD01.40\\3mois\\Training\\25_03_2025\\AHAD01.40-Training J2-4DLC_Resnet50_CheeseboardFeb6shuffle1_snapshot_010.h5\n",
      "C:\\Users\\AudreyHay\\Documents\\Carla\\Cheeseboard\\APPPS1\\AHAD01.40\\3mois\\Training\\25_03_2025\\AHAD01.40-Training J2-5DLC_Resnet50_CheeseboardFeb6shuffle1_snapshot_010.h5\n",
      "C:\\Users\\AudreyHay\\Documents\\Carla\\Cheeseboard\\APPPS1\\AHAD01.40\\3mois\\Training\\26_03_2025\\AHAD01.40-Training J3-1DLC_Resnet50_CheeseboardFeb6shuffle1_snapshot_010.h5\n",
      "C:\\Users\\AudreyHay\\Documents\\Carla\\Cheeseboard\\APPPS1\\AHAD01.40\\3mois\\Training\\26_03_2025\\AHAD01.40-Training J3-2DLC_Resnet50_CheeseboardFeb6shuffle1_snapshot_010.h5\n",
      "C:\\Users\\AudreyHay\\Documents\\Carla\\Cheeseboard\\APPPS1\\AHAD01.40\\3mois\\Training\\26_03_2025\\AHAD01.40-Training J3-3DLC_Resnet50_CheeseboardFeb6shuffle1_snapshot_010.h5\n",
      "C:\\Users\\AudreyHay\\Documents\\Carla\\Cheeseboard\\APPPS1\\AHAD01.40\\3mois\\Training\\26_03_2025\\AHAD01.40-Training J3-4DLC_Resnet50_CheeseboardFeb6shuffle1_snapshot_010.h5\n",
      "C:\\Users\\AudreyHay\\Documents\\Carla\\Cheeseboard\\APPPS1\\AHAD01.40\\3mois\\Training\\26_03_2025\\AHAD01.40-Training J3-5DLC_Resnet50_CheeseboardFeb6shuffle1_snapshot_010.h5\n",
      "C:\\Users\\AudreyHay\\Documents\\Carla\\Cheeseboard\\APPPS1\\AHAD01.40\\4mois\\Post\\06_05_2025\\AHAD01.40-After test3-1DLC_Resnet50_CheeseboardFeb6shuffle1_snapshot_010.h5\n",
      "C:\\Users\\AudreyHay\\Documents\\Carla\\Cheeseboard\\APPPS1\\AHAD01.40\\4mois\\Post\\06_05_2025\\AHAD01.40-After test3-2DLC_Resnet50_CheeseboardFeb6shuffle1_snapshot_010.h5\n",
      "C:\\Users\\AudreyHay\\Documents\\Carla\\Cheeseboard\\APPPS1\\AHAD01.40\\4mois\\Post\\06_05_2025\\AHAD01.40-After test3-3DLC_Resnet50_CheeseboardFeb6shuffle1_snapshot_010.h5\n",
      "C:\\Users\\AudreyHay\\Documents\\Carla\\Cheeseboard\\APPPS1\\AHAD01.40\\4mois\\Test\\06_05_2025\\AHAD01.40-Test3DLC_Resnet50_CheeseboardFeb6shuffle1_snapshot_010.h5\n",
      "C:\\Users\\AudreyHay\\Documents\\Carla\\Cheeseboard\\APPPS1\\AHAD01.40\\5mois\\Test\\27_05_2025\\AHAD01.40-Test4DLC_Resnet50_CheeseboardFeb6shuffle1_snapshot_010.h5\n",
      "C:\\Users\\AudreyHay\\Documents\\Carla\\Cheeseboard\\APPPS1\\AHAD01.44\\2mois\\Test\\28_02_2025\\AHAD01.44-TestDLC_Resnet50_CheeseboardFeb6shuffle1_snapshot_030.h5\n",
      "C:\\Users\\AudreyHay\\Documents\\Carla\\Cheeseboard\\APPPS1\\AHAD01.44\\2mois\\Test\\28_02_2025\\AHAD01.44-TestDLC_Resnet50_CheeseboardFeb6shuffle1_snapshot_030_filtered.h5\n",
      "C:\\Users\\AudreyHay\\Documents\\Carla\\Cheeseboard\\APPPS1\\AHAD01.44\\3mois\\Post\\27_03_2025\\AHAD01.44-After test2-1DLC_Resnet50_CheeseboardFeb6shuffle1_snapshot_010.h5\n",
      "C:\\Users\\AudreyHay\\Documents\\Carla\\Cheeseboard\\APPPS1\\AHAD01.44\\3mois\\Post\\27_03_2025\\AHAD01.44-After test2-2DLC_Resnet50_CheeseboardFeb6shuffle1_snapshot_010.h5\n",
      "C:\\Users\\AudreyHay\\Documents\\Carla\\Cheeseboard\\APPPS1\\AHAD01.44\\3mois\\Post\\27_03_2025\\AHAD01.44-After test2-3DLC_Resnet50_CheeseboardFeb6shuffle1_snapshot_010.h5\n",
      "C:\\Users\\AudreyHay\\Documents\\Carla\\Cheeseboard\\APPPS1\\AHAD01.44\\3mois\\Test\\27_03_2025\\AHAD01.44-Test2DLC_Resnet50_CheeseboardFeb6shuffle1_snapshot_010.h5\n",
      "C:\\Users\\AudreyHay\\Documents\\Carla\\Cheeseboard\\APPPS1\\AHAD01.44\\3mois\\Training\\24_03_2025\\AHAD01.44-Training J1-1DLC_Resnet50_CheeseboardFeb6shuffle1_snapshot_010.h5\n",
      "C:\\Users\\AudreyHay\\Documents\\Carla\\Cheeseboard\\APPPS1\\AHAD01.44\\3mois\\Training\\24_03_2025\\AHAD01.44-Training J1-2DLC_Resnet50_CheeseboardFeb6shuffle1_snapshot_010.h5\n",
      "C:\\Users\\AudreyHay\\Documents\\Carla\\Cheeseboard\\APPPS1\\AHAD01.44\\3mois\\Training\\24_03_2025\\AHAD01.44-Training J1-3DLC_Resnet50_CheeseboardFeb6shuffle1_snapshot_010.h5\n",
      "C:\\Users\\AudreyHay\\Documents\\Carla\\Cheeseboard\\APPPS1\\AHAD01.44\\3mois\\Training\\24_03_2025\\AHAD01.44-Training J1-4DLC_Resnet50_CheeseboardFeb6shuffle1_snapshot_010.h5\n"
     ]
    },
    {
     "name": "stderr",
     "output_type": "stream",
     "text": [
      "C:\\Users\\AudreyHay\\AppData\\Local\\Temp\\ipykernel_37164\\4179300524.py:209: RuntimeWarning: Mean of empty slice\n",
      "  Summary_table.loc[counter, 'average_speed'] = round(np.nanmean(distances_to_reward)/pixel_to_cm*frame_rate,2)\n"
     ]
    },
    {
     "name": "stdout",
     "output_type": "stream",
     "text": [
      "C:\\Users\\AudreyHay\\Documents\\Carla\\Cheeseboard\\APPPS1\\AHAD01.44\\3mois\\Training\\24_03_2025\\AHAD01.44-Training J1-5DLC_Resnet50_CheeseboardFeb6shuffle1_snapshot_010.h5\n",
      "C:\\Users\\AudreyHay\\Documents\\Carla\\Cheeseboard\\APPPS1\\AHAD01.44\\3mois\\Training\\25_03_2025\\AHAD01.44-Training J2-1DLC_Resnet50_CheeseboardFeb6shuffle1_snapshot_010.h5\n",
      "C:\\Users\\AudreyHay\\Documents\\Carla\\Cheeseboard\\APPPS1\\AHAD01.44\\3mois\\Training\\25_03_2025\\AHAD01.44-Training J2-2DLC_Resnet50_CheeseboardFeb6shuffle1_snapshot_010.h5\n",
      "C:\\Users\\AudreyHay\\Documents\\Carla\\Cheeseboard\\APPPS1\\AHAD01.44\\3mois\\Training\\25_03_2025\\AHAD01.44-Training J2-3DLC_Resnet50_CheeseboardFeb6shuffle1_snapshot_010.h5\n",
      "C:\\Users\\AudreyHay\\Documents\\Carla\\Cheeseboard\\APPPS1\\AHAD01.44\\3mois\\Training\\25_03_2025\\AHAD01.44-Training J2-4DLC_Resnet50_CheeseboardFeb6shuffle1_snapshot_010.h5\n"
     ]
    },
    {
     "name": "stderr",
     "output_type": "stream",
     "text": [
      "C:\\Users\\AudreyHay\\AppData\\Local\\Temp\\ipykernel_37164\\4179300524.py:209: RuntimeWarning: Mean of empty slice\n",
      "  Summary_table.loc[counter, 'average_speed'] = round(np.nanmean(distances_to_reward)/pixel_to_cm*frame_rate,2)\n",
      "C:\\Users\\AudreyHay\\AppData\\Local\\Temp\\ipykernel_37164\\4179300524.py:209: RuntimeWarning: Mean of empty slice\n",
      "  Summary_table.loc[counter, 'average_speed'] = round(np.nanmean(distances_to_reward)/pixel_to_cm*frame_rate,2)\n"
     ]
    },
    {
     "name": "stdout",
     "output_type": "stream",
     "text": [
      "C:\\Users\\AudreyHay\\Documents\\Carla\\Cheeseboard\\APPPS1\\AHAD01.44\\3mois\\Training\\25_03_2025\\AHAD01.44-Training J2-5DLC_Resnet50_CheeseboardFeb6shuffle1_snapshot_010.h5\n",
      "C:\\Users\\AudreyHay\\Documents\\Carla\\Cheeseboard\\APPPS1\\AHAD01.44\\3mois\\Training\\26_03_2025\\AHAD01.44-Training J3-1DLC_Resnet50_CheeseboardFeb6shuffle1_snapshot_010.h5\n",
      "C:\\Users\\AudreyHay\\Documents\\Carla\\Cheeseboard\\APPPS1\\AHAD01.44\\3mois\\Training\\26_03_2025\\AHAD01.44-Training J3-2DLC_Resnet50_CheeseboardFeb6shuffle1_snapshot_010.h5\n",
      "C:\\Users\\AudreyHay\\Documents\\Carla\\Cheeseboard\\APPPS1\\AHAD01.44\\3mois\\Training\\26_03_2025\\AHAD01.44-Training J3-3DLC_Resnet50_CheeseboardFeb6shuffle1_snapshot_010.h5\n",
      "C:\\Users\\AudreyHay\\Documents\\Carla\\Cheeseboard\\APPPS1\\AHAD01.44\\3mois\\Training\\26_03_2025\\AHAD01.44-Training J3-4DLC_Resnet50_CheeseboardFeb6shuffle1_snapshot_010.h5\n",
      "C:\\Users\\AudreyHay\\Documents\\Carla\\Cheeseboard\\APPPS1\\AHAD01.44\\3mois\\Training\\26_03_2025\\AHAD01.44-Training J3-5DLC_Resnet50_CheeseboardFeb6shuffle1_snapshot_010.h5\n",
      "C:\\Users\\AudreyHay\\Documents\\Carla\\Cheeseboard\\APPPS1\\AHAD01.44\\4mois\\Post\\06_05_2025\\AHAD01.44-After test3-1DLC_Resnet50_CheeseboardFeb6shuffle1_snapshot_010.h5\n",
      "C:\\Users\\AudreyHay\\Documents\\Carla\\Cheeseboard\\APPPS1\\AHAD01.44\\4mois\\Post\\06_05_2025\\AHAD01.44-After test3-2DLC_Resnet50_CheeseboardFeb6shuffle1_snapshot_010.h5\n",
      "C:\\Users\\AudreyHay\\Documents\\Carla\\Cheeseboard\\APPPS1\\AHAD01.44\\4mois\\Post\\06_05_2025\\AHAD01.44-After test3-3DLC_Resnet50_CheeseboardFeb6shuffle1_snapshot_010.h5\n",
      "C:\\Users\\AudreyHay\\Documents\\Carla\\Cheeseboard\\APPPS1\\AHAD01.44\\4mois\\Test\\06_05_2025\\AHAD01.44-Test3DLC_Resnet50_CheeseboardFeb6shuffle1_snapshot_010.h5\n",
      "C:\\Users\\AudreyHay\\Documents\\Carla\\Cheeseboard\\APPPS1\\AHAD02.01\\3mois\\Test\\14_02_2025\\AHAD02.01-TestDLC_Resnet50_CheeseboardFeb6shuffle1_snapshot_160.h5\n",
      "C:\\Users\\AudreyHay\\Documents\\Carla\\Cheeseboard\\APPPS1\\AHAD02.01\\3mois\\Training\\10_02_2025\\AHAD02.01-Training J1-1DLC_Resnet50_CheeseboardFeb6shuffle1_snapshot_160.h5\n",
      "C:\\Users\\AudreyHay\\Documents\\Carla\\Cheeseboard\\APPPS1\\AHAD02.01\\3mois\\Training\\10_02_2025\\AHAD02.01-Training J1-2DLC_Resnet50_CheeseboardFeb6shuffle1_snapshot_160.h5\n",
      "C:\\Users\\AudreyHay\\Documents\\Carla\\Cheeseboard\\APPPS1\\AHAD02.01\\3mois\\Training\\10_02_2025\\AHAD02.01-Training J1-3DLC_Resnet50_CheeseboardFeb6shuffle1_snapshot_160.h5\n",
      "C:\\Users\\AudreyHay\\Documents\\Carla\\Cheeseboard\\APPPS1\\AHAD02.01\\4mois\\Test\\04_03_2025\\AHAD02.01-Test2DLC_Resnet50_CheeseboardFeb6shuffle1_snapshot_030.h5\n",
      "C:\\Users\\AudreyHay\\Documents\\Carla\\Cheeseboard\\APPPS1\\AHAD02.01\\4mois\\Test\\04_03_2025\\AHAD02.01-Test2DLC_Resnet50_CheeseboardFeb6shuffle1_snapshot_030_filtered.h5\n",
      "C:\\Users\\AudreyHay\\Documents\\Carla\\Cheeseboard\\APPPS1\\AHAD02.01\\5mois\\Post\\02_04_2025\\AHAD02.01-After test3-1DLC_Resnet50_CheeseboardFeb6shuffle1_snapshot_010.h5\n",
      "C:\\Users\\AudreyHay\\Documents\\Carla\\Cheeseboard\\APPPS1\\AHAD02.01\\5mois\\Post\\02_04_2025\\AHAD02.01-After test3-2DLC_Resnet50_CheeseboardFeb6shuffle1_snapshot_010.h5\n",
      "C:\\Users\\AudreyHay\\Documents\\Carla\\Cheeseboard\\APPPS1\\AHAD02.01\\5mois\\Post\\02_04_2025\\AHAD02.01-After test3-3DLC_Resnet50_CheeseboardFeb6shuffle1_snapshot_010.h5\n",
      "C:\\Users\\AudreyHay\\Documents\\Carla\\Cheeseboard\\APPPS1\\AHAD02.01\\5mois\\Test\\02_04_2025\\AHAD02.01-Test3DLC_Resnet50_CheeseboardFeb6shuffle1_snapshot_010.h5\n",
      "C:\\Users\\AudreyHay\\Documents\\Carla\\Cheeseboard\\APPPS1\\AHAD02.01\\6mois\\Post\\29_04_2025\\AHAD02.01-After test4-2DLC_Resnet50_CheeseboardFeb6shuffle1_snapshot_010.h5\n",
      "C:\\Users\\AudreyHay\\Documents\\Carla\\Cheeseboard\\APPPS1\\AHAD02.01\\6mois\\Post\\29_04_2025\\AHAD02.01-After test4-3DLC_Resnet50_CheeseboardFeb6shuffle1_snapshot_010.h5\n",
      "C:\\Users\\AudreyHay\\Documents\\Carla\\Cheeseboard\\APPPS1\\AHAD02.01\\6mois\\Post\\29_04_2025\\AHAD02.01-Test4DLC_Resnet50_CheeseboardFeb6shuffle1_snapshot_010.h5\n"
     ]
    },
    {
     "name": "stderr",
     "output_type": "stream",
     "text": [
      "C:\\Users\\AudreyHay\\AppData\\Local\\Temp\\ipykernel_37164\\4179300524.py:209: RuntimeWarning: Mean of empty slice\n",
      "  Summary_table.loc[counter, 'average_speed'] = round(np.nanmean(distances_to_reward)/pixel_to_cm*frame_rate,2)\n"
     ]
    },
    {
     "name": "stdout",
     "output_type": "stream",
     "text": [
      "C:\\Users\\AudreyHay\\Documents\\Carla\\Cheeseboard\\APPPS1\\AHAD02.01\\6mois\\Test\\29_04_2025\\AHAD02.01-After test4-1DLC_Resnet50_CheeseboardFeb6shuffle1_snapshot_010.h5\n",
      "C:\\Users\\AudreyHay\\Documents\\Carla\\Cheeseboard\\APPPS1\\AHAD02.01\\7mois\\Post\\04_06_2025\\AHAD02.01-AfterTest5-1DLC_Resnet50_CheeseboardFeb6shuffle1_snapshot_010.h5\n",
      "C:\\Users\\AudreyHay\\Documents\\Carla\\Cheeseboard\\APPPS1\\AHAD02.01\\7mois\\Post\\04_06_2025\\AHAD02.01-AfterTest5-2DLC_Resnet50_CheeseboardFeb6shuffle1_snapshot_010.h5\n",
      "C:\\Users\\AudreyHay\\Documents\\Carla\\Cheeseboard\\APPPS1\\AHAD02.01\\7mois\\Post\\04_06_2025\\AHAD02.01-AfterTest5-3DLC_Resnet50_CheeseboardFeb6shuffle1_snapshot_010.h5\n",
      "C:\\Users\\AudreyHay\\Documents\\Carla\\Cheeseboard\\APPPS1\\AHAD02.01\\7mois\\Test\\04_06_2025\\AHAD02.01-Test5DLC_Resnet50_CheeseboardFeb6shuffle1_snapshot_010.h5\n",
      "C:\\Users\\AudreyHay\\Documents\\Carla\\Cheeseboard\\APPPS1\\AHAD02.03\\3mois\\Test\\31_01_2025\\AHAD02.03-TestDLC_Resnet50_CheeseboardFeb6shuffle1_snapshot_160.h5\n",
      "C:\\Users\\AudreyHay\\Documents\\Carla\\Cheeseboard\\APPPS1\\AHAD02.03\\3mois\\Training\\27_01_2025\\AHAD02.03-Training J1-1DLC_Resnet50_CheeseboardFeb6shuffle1_snapshot_160.h5\n",
      "C:\\Users\\AudreyHay\\Documents\\Carla\\Cheeseboard\\APPPS1\\AHAD02.03\\3mois\\Training\\27_01_2025\\AHAD02.03-Training J1-2DLC_Resnet50_CheeseboardFeb6shuffle1_snapshot_160.h5\n",
      "C:\\Users\\AudreyHay\\Documents\\Carla\\Cheeseboard\\APPPS1\\AHAD02.03\\3mois\\Training\\27_01_2025\\AHAD02.03-Training J1-3DLC_Resnet50_CheeseboardFeb6shuffle1_snapshot_160.h5\n",
      "C:\\Users\\AudreyHay\\Documents\\Carla\\Cheeseboard\\APPPS1\\AHAD02.03\\3mois\\Training\\30_01_2025\\AHAD02.03-Training J4-1DLC_Resnet50_CheeseboardFeb6shuffle1_snapshot_160.h5\n",
      "C:\\Users\\AudreyHay\\Documents\\Carla\\Cheeseboard\\APPPS1\\AHAD02.03\\3mois\\Training\\30_01_2025\\AHAD02.03-Training J4-2DLC_Resnet50_CheeseboardFeb6shuffle1_snapshot_160.h5\n",
      "C:\\Users\\AudreyHay\\Documents\\Carla\\Cheeseboard\\APPPS1\\AHAD02.03\\3mois\\Training\\30_01_2025\\AHAD02.03-Training J4-3DLC_Resnet50_CheeseboardFeb6shuffle1_snapshot_160.h5\n",
      "C:\\Users\\AudreyHay\\Documents\\Carla\\Cheeseboard\\APPPS1\\AHAD02.03\\5mois\\Test\\02_04_2025\\AHAD02.03-After test3-1DLC_Resnet50_CheeseboardFeb6shuffle1_snapshot_010.h5\n",
      "C:\\Users\\AudreyHay\\Documents\\Carla\\Cheeseboard\\APPPS1\\AHAD02.03\\5mois\\Test\\02_04_2025\\AHAD02.03-After test3-2DLC_Resnet50_CheeseboardFeb6shuffle1_snapshot_010.h5\n",
      "C:\\Users\\AudreyHay\\Documents\\Carla\\Cheeseboard\\APPPS1\\AHAD02.03\\5mois\\Test\\02_04_2025\\AHAD02.03-After test3-3DLC_Resnet50_CheeseboardFeb6shuffle1_snapshot_010.h5\n",
      "C:\\Users\\AudreyHay\\Documents\\Carla\\Cheeseboard\\APPPS1\\AHAD02.03\\5mois\\Test\\02_04_2025\\AHAD02.03-Test3DLC_Resnet50_CheeseboardFeb6shuffle1_snapshot_010.h5\n",
      "C:\\Users\\AudreyHay\\Documents\\Carla\\Cheeseboard\\APPPS1\\AHAD02.03\\6mois\\Post\\29_04_2025\\AHAD02.03-After test4-1DLC_Resnet50_CheeseboardFeb6shuffle1_snapshot_010.h5\n",
      "C:\\Users\\AudreyHay\\Documents\\Carla\\Cheeseboard\\APPPS1\\AHAD02.03\\6mois\\Post\\29_04_2025\\AHAD02.03-After test4-2DLC_Resnet50_CheeseboardFeb6shuffle1_snapshot_010.h5\n",
      "C:\\Users\\AudreyHay\\Documents\\Carla\\Cheeseboard\\APPPS1\\AHAD02.03\\6mois\\Post\\29_04_2025\\AHAD02.03-After test4-3DLC_Resnet50_CheeseboardFeb6shuffle1_snapshot_010.h5\n",
      "C:\\Users\\AudreyHay\\Documents\\Carla\\Cheeseboard\\APPPS1\\AHAD02.03\\6mois\\Test\\29_04_2025\\AHAD02.03-Test4DLC_Resnet50_CheeseboardFeb6shuffle1_snapshot_010.h5\n"
     ]
    },
    {
     "name": "stderr",
     "output_type": "stream",
     "text": [
      "C:\\Users\\AudreyHay\\AppData\\Local\\Temp\\ipykernel_37164\\4179300524.py:209: RuntimeWarning: Mean of empty slice\n",
      "  Summary_table.loc[counter, 'average_speed'] = round(np.nanmean(distances_to_reward)/pixel_to_cm*frame_rate,2)\n"
     ]
    },
    {
     "name": "stdout",
     "output_type": "stream",
     "text": [
      "C:\\Users\\AudreyHay\\Documents\\Carla\\Cheeseboard\\APPPS1\\AHAD02.03\\7mois\\Post\\04_06_2025\\AHAD02.03-AfterTest5-1DLC_Resnet50_CheeseboardFeb6shuffle1_snapshot_010.h5\n",
      "C:\\Users\\AudreyHay\\Documents\\Carla\\Cheeseboard\\APPPS1\\AHAD02.03\\7mois\\Post\\04_06_2025\\AHAD02.03-AfterTest5-2DLC_Resnet50_CheeseboardFeb6shuffle1_snapshot_010.h5\n",
      "C:\\Users\\AudreyHay\\Documents\\Carla\\Cheeseboard\\APPPS1\\AHAD02.03\\7mois\\Post\\04_06_2025\\AHAD02.03-AfterTest5-3DLC_Resnet50_CheeseboardFeb6shuffle1_snapshot_010.h5\n",
      "C:\\Users\\AudreyHay\\Documents\\Carla\\Cheeseboard\\APPPS1\\AHAD02.03\\7mois\\Test\\04_06_2025\\AHAD02.03-Test5DLC_Resnet50_CheeseboardFeb6shuffle1_snapshot_010.h5\n",
      "C:\\Users\\AudreyHay\\Documents\\Carla\\Cheeseboard\\APPPS1\\AHAD02.05\\3mois\\Test\\31_01_2025\\AHAD02.05_TestDLC_Resnet50_CheeseboardFeb6shuffle1_snapshot_160.h5\n",
      "C:\\Users\\AudreyHay\\Documents\\Carla\\Cheeseboard\\APPPS1\\AHAD02.05\\3mois\\Training\\27_01_2025\\AHAD02.05-Training J1-1DLC_Resnet50_CheeseboardFeb6shuffle1_snapshot_160.h5\n",
      "C:\\Users\\AudreyHay\\Documents\\Carla\\Cheeseboard\\APPPS1\\AHAD02.05\\3mois\\Training\\27_01_2025\\AHAD02.05-Training J1-2DLC_Resnet50_CheeseboardFeb6shuffle1_snapshot_160.h5\n",
      "C:\\Users\\AudreyHay\\Documents\\Carla\\Cheeseboard\\APPPS1\\AHAD02.05\\3mois\\Training\\27_01_2025\\AHAD02.05-Training J1-3DLC_Resnet50_CheeseboardFeb6shuffle1_snapshot_160.h5\n",
      "C:\\Users\\AudreyHay\\Documents\\Carla\\Cheeseboard\\APPPS1\\AHAD02.05\\3mois\\Training\\30_01_2025\\AHAD02.05-Training J4-1DLC_Resnet50_CheeseboardFeb6shuffle1_snapshot_160.h5\n",
      "C:\\Users\\AudreyHay\\Documents\\Carla\\Cheeseboard\\APPPS1\\AHAD02.05\\3mois\\Training\\30_01_2025\\AHAD02.05-Training J4-2DLC_Resnet50_CheeseboardFeb6shuffle1_snapshot_160.h5\n",
      "C:\\Users\\AudreyHay\\Documents\\Carla\\Cheeseboard\\APPPS1\\AHAD02.05\\3mois\\Training\\30_01_2025\\AHAD02.05-Training J4-3DLC_Resnet50_CheeseboardFeb6shuffle1_snapshot_160.h5\n",
      "C:\\Users\\AudreyHay\\Documents\\Carla\\Cheeseboard\\APPPS1\\AHAD02.05\\4mois\\Test\\04_03_2025\\AHAD02.05-Test2DLC_Resnet50_CheeseboardFeb6shuffle1_snapshot_030.h5\n",
      "C:\\Users\\AudreyHay\\Documents\\Carla\\Cheeseboard\\APPPS1\\AHAD02.05\\4mois\\Test\\04_03_2025\\AHAD02.05-Test2DLC_Resnet50_CheeseboardFeb6shuffle1_snapshot_030_filtered.h5\n",
      "C:\\Users\\AudreyHay\\Documents\\Carla\\Cheeseboard\\APPPS1\\AHAD02.05\\5mois\\Post\\02_04_2025\\AHAD02.05-After test3-1DLC_Resnet50_CheeseboardFeb6shuffle1_snapshot_010.h5\n",
      "C:\\Users\\AudreyHay\\Documents\\Carla\\Cheeseboard\\APPPS1\\AHAD02.05\\5mois\\Post\\02_04_2025\\AHAD02.05-After test3-2DLC_Resnet50_CheeseboardFeb6shuffle1_snapshot_010.h5\n",
      "C:\\Users\\AudreyHay\\Documents\\Carla\\Cheeseboard\\APPPS1\\AHAD02.05\\5mois\\Post\\02_04_2025\\AHAD02.05-After test3-3DLC_Resnet50_CheeseboardFeb6shuffle1_snapshot_010.h5\n",
      "C:\\Users\\AudreyHay\\Documents\\Carla\\Cheeseboard\\APPPS1\\AHAD02.05\\5mois\\Test\\02_04_2025\\AHAD02.05-Test3DLC_Resnet50_CheeseboardFeb6shuffle1_snapshot_010.h5\n",
      "C:\\Users\\AudreyHay\\Documents\\Carla\\Cheeseboard\\APPPS1\\AHAD02.05\\6mois\\Post\\29_04_2025\\AHAD02.05-After test4-1DLC_Resnet50_CheeseboardFeb6shuffle1_snapshot_010.h5\n",
      "C:\\Users\\AudreyHay\\Documents\\Carla\\Cheeseboard\\APPPS1\\AHAD02.05\\6mois\\Post\\29_04_2025\\AHAD02.05-After test4-2DLC_Resnet50_CheeseboardFeb6shuffle1_snapshot_010.h5\n",
      "C:\\Users\\AudreyHay\\Documents\\Carla\\Cheeseboard\\APPPS1\\AHAD02.05\\6mois\\Post\\29_04_2025\\AHAD02.05-After test4-3DLC_Resnet50_CheeseboardFeb6shuffle1_snapshot_010.h5\n",
      "C:\\Users\\AudreyHay\\Documents\\Carla\\Cheeseboard\\APPPS1\\AHAD02.05\\6mois\\Test\\29_04_2025\\AHAD02.05-Test4DLC_Resnet50_CheeseboardFeb6shuffle1_snapshot_010.h5\n",
      "C:\\Users\\AudreyHay\\Documents\\Carla\\Cheeseboard\\APPPS1\\AHAD02.05\\7mois\\Post\\04_06_2025\\AHAD02.05-AfterTest5-1DLC_Resnet50_CheeseboardFeb6shuffle1_snapshot_010.h5\n",
      "C:\\Users\\AudreyHay\\Documents\\Carla\\Cheeseboard\\APPPS1\\AHAD02.05\\7mois\\Post\\04_06_2025\\AHAD02.05-AfterTest5-2DLC_Resnet50_CheeseboardFeb6shuffle1_snapshot_010.h5\n",
      "C:\\Users\\AudreyHay\\Documents\\Carla\\Cheeseboard\\APPPS1\\AHAD02.05\\7mois\\Post\\04_06_2025\\AHAD02.05-AfterTest5-3DLC_Resnet50_CheeseboardFeb6shuffle1_snapshot_010.h5\n",
      "C:\\Users\\AudreyHay\\Documents\\Carla\\Cheeseboard\\APPPS1\\AHAD02.05\\7mois\\Test\\04_06_2025\\AHAD02.05-Test5DLC_Resnet50_CheeseboardFeb6shuffle1_snapshot_010.h5\n",
      "C:\\Users\\AudreyHay\\Documents\\Carla\\Cheeseboard\\APPPS1\\AHAD02.06\\3mois\\Test\\31_01_2025\\AHAD02.06DLC_Resnet50_CheeseboardFeb6shuffle1_snapshot_160.h5\n",
      "C:\\Users\\AudreyHay\\Documents\\Carla\\Cheeseboard\\APPPS1\\AHAD02.06\\3mois\\Training\\27_01_2025\\AHAD02.06-Training J1-1DLC_Resnet50_CheeseboardFeb6shuffle1_snapshot_160.h5\n",
      "C:\\Users\\AudreyHay\\Documents\\Carla\\Cheeseboard\\APPPS1\\AHAD02.06\\3mois\\Training\\27_01_2025\\AHAD02.06-Training J1-2DLC_Resnet50_CheeseboardFeb6shuffle1_snapshot_160.h5\n",
      "C:\\Users\\AudreyHay\\Documents\\Carla\\Cheeseboard\\APPPS1\\AHAD02.06\\3mois\\Training\\27_01_2025\\AHAD02.06-Training J1-3DLC_Resnet50_CheeseboardFeb6shuffle1_snapshot_160.h5\n",
      "C:\\Users\\AudreyHay\\Documents\\Carla\\Cheeseboard\\APPPS1\\AHAD02.06\\3mois\\Training\\30_01_2025\\AHAD02.06-Training J4-1DLC_Resnet50_CheeseboardFeb6shuffle1_snapshot_160.h5\n",
      "C:\\Users\\AudreyHay\\Documents\\Carla\\Cheeseboard\\APPPS1\\AHAD02.06\\3mois\\Training\\30_01_2025\\AHAD02.06-Training J4-2DLC_Resnet50_CheeseboardFeb6shuffle1_snapshot_160.h5\n",
      "C:\\Users\\AudreyHay\\Documents\\Carla\\Cheeseboard\\APPPS1\\AHAD02.06\\3mois\\Training\\30_01_2025\\AHAD02.06-Training J4-3DLC_Resnet50_CheeseboardFeb6shuffle1_snapshot_160.h5\n",
      "C:\\Users\\AudreyHay\\Documents\\Carla\\Cheeseboard\\APPPS1\\AHAD02.06\\4mois\\Test\\04_03_2025\\AHAD02.06-Test2DLC_Resnet50_CheeseboardFeb6shuffle1_snapshot_030.h5\n",
      "C:\\Users\\AudreyHay\\Documents\\Carla\\Cheeseboard\\APPPS1\\AHAD02.06\\4mois\\Test\\04_03_2025\\AHAD02.06-Test2DLC_Resnet50_CheeseboardFeb6shuffle1_snapshot_030_filtered.h5\n",
      "C:\\Users\\AudreyHay\\Documents\\Carla\\Cheeseboard\\APPPS1\\AHAD02.06\\5mois\\Post\\02_04_2025\\AHAD02.06-After test3-1DLC_Resnet50_CheeseboardFeb6shuffle1_snapshot_010.h5\n",
      "C:\\Users\\AudreyHay\\Documents\\Carla\\Cheeseboard\\APPPS1\\AHAD02.06\\5mois\\Post\\02_04_2025\\AHAD02.06-After test3-2DLC_Resnet50_CheeseboardFeb6shuffle1_snapshot_010.h5\n",
      "C:\\Users\\AudreyHay\\Documents\\Carla\\Cheeseboard\\APPPS1\\AHAD02.06\\5mois\\Post\\02_04_2025\\AHAD02.06-After test3-3DLC_Resnet50_CheeseboardFeb6shuffle1_snapshot_010.h5\n",
      "C:\\Users\\AudreyHay\\Documents\\Carla\\Cheeseboard\\APPPS1\\AHAD02.06\\5mois\\Test\\02_04_2025\\AHAD02.06-Test3DLC_Resnet50_CheeseboardFeb6shuffle1_snapshot_010.h5\n",
      "C:\\Users\\AudreyHay\\Documents\\Carla\\Cheeseboard\\APPPS1\\AHAD02.06\\6mois\\Post\\29_04_2025\\AHAD02.06-After test4-1DLC_Resnet50_CheeseboardFeb6shuffle1_snapshot_010.h5\n",
      "C:\\Users\\AudreyHay\\Documents\\Carla\\Cheeseboard\\APPPS1\\AHAD02.06\\6mois\\Post\\29_04_2025\\AHAD02.06-After test4-2DLC_Resnet50_CheeseboardFeb6shuffle1_snapshot_010.h5\n",
      "C:\\Users\\AudreyHay\\Documents\\Carla\\Cheeseboard\\APPPS1\\AHAD02.06\\6mois\\Post\\29_04_2025\\AHAD02.06-After test4-3DLC_Resnet50_CheeseboardFeb6shuffle1_snapshot_010.h5\n",
      "C:\\Users\\AudreyHay\\Documents\\Carla\\Cheeseboard\\APPPS1\\AHAD02.06\\6mois\\Test\\29_04_2025\\AHAD02.06-Test4DLC_Resnet50_CheeseboardFeb6shuffle1_snapshot_010.h5\n",
      "C:\\Users\\AudreyHay\\Documents\\Carla\\Cheeseboard\\APPPS1\\AHAD02.06\\7mois\\Post\\04_06_2025\\AHAD02.06-AfterTest5-1DLC_Resnet50_CheeseboardFeb6shuffle1_snapshot_010.h5\n",
      "C:\\Users\\AudreyHay\\Documents\\Carla\\Cheeseboard\\APPPS1\\AHAD02.06\\7mois\\Post\\04_06_2025\\AHAD02.06-AfterTest5-2DLC_Resnet50_CheeseboardFeb6shuffle1_snapshot_010.h5\n",
      "C:\\Users\\AudreyHay\\Documents\\Carla\\Cheeseboard\\APPPS1\\AHAD02.06\\7mois\\Post\\04_06_2025\\AHAD02.06-AfterTest5-3DLC_Resnet50_CheeseboardFeb6shuffle1_snapshot_010.h5\n",
      "C:\\Users\\AudreyHay\\Documents\\Carla\\Cheeseboard\\APPPS1\\AHAD02.06\\7mois\\Test\\04_06_2025\\AHAD02.06-Test5DLC_Resnet50_CheeseboardFeb6shuffle1_snapshot_010.h5\n",
      "C:\\Users\\AudreyHay\\Documents\\Carla\\Cheeseboard\\APPPS1\\AHAD02.07\\3mois\\Test\\14_02_2025\\AHAD02.07-TestDLC_Resnet50_CheeseboardFeb6shuffle1_snapshot_160.h5\n",
      "C:\\Users\\AudreyHay\\Documents\\Carla\\Cheeseboard\\APPPS1\\AHAD02.07\\3mois\\Training\\10_02_2025\\AHAD02.07-Training J1-1DLC_Resnet50_CheeseboardFeb6shuffle1_snapshot_160.h5\n",
      "C:\\Users\\AudreyHay\\Documents\\Carla\\Cheeseboard\\APPPS1\\AHAD02.07\\3mois\\Training\\10_02_2025\\AHAD02.07-Training J1-2DLC_Resnet50_CheeseboardFeb6shuffle1_snapshot_160.h5\n",
      "C:\\Users\\AudreyHay\\Documents\\Carla\\Cheeseboard\\APPPS1\\AHAD02.07\\3mois\\Training\\10_02_2025\\AHAD02.07-Training J1-3DLC_Resnet50_CheeseboardFeb6shuffle1_snapshot_160.h5\n",
      "C:\\Users\\AudreyHay\\Documents\\Carla\\Cheeseboard\\APPPS1\\AHAD02.07\\4mois\\Test\\04_03_2025\\AHAD02.07-Test2DLC_Resnet50_CheeseboardFeb6shuffle1_snapshot_030.h5\n",
      "C:\\Users\\AudreyHay\\Documents\\Carla\\Cheeseboard\\APPPS1\\AHAD02.07\\4mois\\Test\\04_03_2025\\AHAD02.07-Test2DLC_Resnet50_CheeseboardFeb6shuffle1_snapshot_030_filtered.h5\n",
      "C:\\Users\\AudreyHay\\Documents\\Carla\\Cheeseboard\\APPPS1\\AHAD02.07\\5mois\\Post\\02_04_2025\\AHAD02.07-After test3-1DLC_Resnet50_CheeseboardFeb6shuffle1_snapshot_010.h5\n",
      "C:\\Users\\AudreyHay\\Documents\\Carla\\Cheeseboard\\APPPS1\\AHAD02.07\\5mois\\Post\\02_04_2025\\AHAD02.07-After test3-2DLC_Resnet50_CheeseboardFeb6shuffle1_snapshot_010.h5\n"
     ]
    },
    {
     "name": "stderr",
     "output_type": "stream",
     "text": [
      "C:\\Users\\AudreyHay\\AppData\\Local\\Temp\\ipykernel_37164\\4179300524.py:209: RuntimeWarning: Mean of empty slice\n",
      "  Summary_table.loc[counter, 'average_speed'] = round(np.nanmean(distances_to_reward)/pixel_to_cm*frame_rate,2)\n"
     ]
    },
    {
     "name": "stdout",
     "output_type": "stream",
     "text": [
      "C:\\Users\\AudreyHay\\Documents\\Carla\\Cheeseboard\\APPPS1\\AHAD02.07\\5mois\\Post\\02_04_2025\\AHAD02.07-After test3-3DLC_Resnet50_CheeseboardFeb6shuffle1_snapshot_010.h5\n",
      "C:\\Users\\AudreyHay\\Documents\\Carla\\Cheeseboard\\APPPS1\\AHAD02.07\\5mois\\Test\\02_04_2025\\AHAD02.07-Test3DLC_Resnet50_CheeseboardFeb6shuffle1_snapshot_010.h5\n",
      "C:\\Users\\AudreyHay\\Documents\\Carla\\Cheeseboard\\APPPS1\\AHAD02.07\\6mois\\Post\\29_04_2025\\AHAD02.07-After test4-1DLC_Resnet50_CheeseboardFeb6shuffle1_snapshot_010.h5\n",
      "C:\\Users\\AudreyHay\\Documents\\Carla\\Cheeseboard\\APPPS1\\AHAD02.07\\6mois\\Post\\29_04_2025\\AHAD02.07-After test4-2DLC_Resnet50_CheeseboardFeb6shuffle1_snapshot_010.h5\n",
      "C:\\Users\\AudreyHay\\Documents\\Carla\\Cheeseboard\\APPPS1\\AHAD02.07\\6mois\\Post\\29_04_2025\\AHAD02.07-After test4-3DLC_Resnet50_CheeseboardFeb6shuffle1_snapshot_010.h5\n",
      "C:\\Users\\AudreyHay\\Documents\\Carla\\Cheeseboard\\APPPS1\\AHAD02.07\\6mois\\Test\\29_04_2025\\AHAD02.07-Test4DLC_Resnet50_CheeseboardFeb6shuffle1_snapshot_010.h5\n",
      "C:\\Users\\AudreyHay\\Documents\\Carla\\Cheeseboard\\APPPS1\\AHAD02.07\\7mois\\Post\\04_06_2025\\AHAD02.07-AfterTest5-1DLC_Resnet50_CheeseboardFeb6shuffle1_snapshot_010.h5\n",
      "C:\\Users\\AudreyHay\\Documents\\Carla\\Cheeseboard\\APPPS1\\AHAD02.07\\7mois\\Post\\04_06_2025\\AHAD02.07-AfterTest5-2DLC_Resnet50_CheeseboardFeb6shuffle1_snapshot_010.h5\n",
      "C:\\Users\\AudreyHay\\Documents\\Carla\\Cheeseboard\\APPPS1\\AHAD02.07\\7mois\\Test\\04_06_2025\\AHAD02.07-Test5DLC_Resnet50_CheeseboardFeb6shuffle1_snapshot_010.h5\n",
      "C:\\Users\\AudreyHay\\Documents\\Carla\\Cheeseboard\\APPPS1\\AHAD02.08\\3mois\\Test\\14_02_2025\\AHAD02.08-TestDLC_Resnet50_CheeseboardFeb6shuffle1_snapshot_160.h5\n"
     ]
    },
    {
     "name": "stderr",
     "output_type": "stream",
     "text": [
      "C:\\Users\\AudreyHay\\AppData\\Local\\Temp\\ipykernel_37164\\4179300524.py:209: RuntimeWarning: Mean of empty slice\n",
      "  Summary_table.loc[counter, 'average_speed'] = round(np.nanmean(distances_to_reward)/pixel_to_cm*frame_rate,2)\n",
      "C:\\Users\\AudreyHay\\AppData\\Local\\Temp\\ipykernel_37164\\4179300524.py:209: RuntimeWarning: Mean of empty slice\n",
      "  Summary_table.loc[counter, 'average_speed'] = round(np.nanmean(distances_to_reward)/pixel_to_cm*frame_rate,2)\n"
     ]
    },
    {
     "name": "stdout",
     "output_type": "stream",
     "text": [
      "C:\\Users\\AudreyHay\\Documents\\Carla\\Cheeseboard\\APPPS1\\AHAD02.08\\3mois\\Training\\10_02_2025\\AHAD02.08-Training J1-1DLC_Resnet50_CheeseboardFeb6shuffle1_snapshot_160.h5\n",
      "C:\\Users\\AudreyHay\\Documents\\Carla\\Cheeseboard\\APPPS1\\AHAD02.08\\3mois\\Training\\10_02_2025\\AHAD02.08-Training J1-2DLC_Resnet50_CheeseboardFeb6shuffle1_snapshot_160.h5\n",
      "C:\\Users\\AudreyHay\\Documents\\Carla\\Cheeseboard\\APPPS1\\AHAD02.08\\3mois\\Training\\10_02_2025\\AHAD02.08-Training J1-3DLC_Resnet50_CheeseboardFeb6shuffle1_snapshot_160.h5\n",
      "C:\\Users\\AudreyHay\\Documents\\Carla\\Cheeseboard\\APPPS1\\AHAD02.08\\4mois\\Test\\04_03_2025\\AHAD02.08-Test2DLC_Resnet50_CheeseboardFeb6shuffle1_snapshot_030.h5\n",
      "C:\\Users\\AudreyHay\\Documents\\Carla\\Cheeseboard\\APPPS1\\AHAD02.08\\4mois\\Test\\04_03_2025\\AHAD02.08-Test2DLC_Resnet50_CheeseboardFeb6shuffle1_snapshot_030_filtered.h5\n",
      "C:\\Users\\AudreyHay\\Documents\\Carla\\Cheeseboard\\APPPS1\\AHAD02.08\\5mois\\Test\\02-04-2025\\AHAD02.08-After test3-1DLC_Resnet50_CheeseboardFeb6shuffle1_snapshot_010.h5\n",
      "C:\\Users\\AudreyHay\\Documents\\Carla\\Cheeseboard\\APPPS1\\AHAD02.08\\5mois\\Test\\02-04-2025\\AHAD02.08-After test3-2DLC_Resnet50_CheeseboardFeb6shuffle1_snapshot_010.h5\n",
      "C:\\Users\\AudreyHay\\Documents\\Carla\\Cheeseboard\\APPPS1\\AHAD02.08\\5mois\\Test\\02-04-2025\\AHAD02.08-After test3-3DLC_Resnet50_CheeseboardFeb6shuffle1_snapshot_010.h5\n",
      "C:\\Users\\AudreyHay\\Documents\\Carla\\Cheeseboard\\APPPS1\\AHAD02.08\\5mois\\Test\\02_04_2025\\AHAD02.08-Test3DLC_Resnet50_CheeseboardFeb6shuffle1_snapshot_010.h5\n",
      "C:\\Users\\AudreyHay\\Documents\\Carla\\Cheeseboard\\APPPS1\\AHAD02.08\\6mois\\Post\\29_04_2025\\AHAD02.08-After test4-1DLC_Resnet50_CheeseboardFeb6shuffle1_snapshot_010.h5\n",
      "C:\\Users\\AudreyHay\\Documents\\Carla\\Cheeseboard\\APPPS1\\AHAD02.08\\6mois\\Post\\29_04_2025\\AHAD02.08-After test4-2DLC_Resnet50_CheeseboardFeb6shuffle1_snapshot_010.h5\n",
      "C:\\Users\\AudreyHay\\Documents\\Carla\\Cheeseboard\\APPPS1\\AHAD02.08\\6mois\\Post\\29_04_2025\\AHAD02.08-After test4-3DLC_Resnet50_CheeseboardFeb6shuffle1_snapshot_010.h5\n",
      "C:\\Users\\AudreyHay\\Documents\\Carla\\Cheeseboard\\APPPS1\\AHAD02.08\\6mois\\Test\\29_04_2025\\AHAD02.08-Test4DLC_Resnet50_CheeseboardFeb6shuffle1_snapshot_010.h5\n",
      "C:\\Users\\AudreyHay\\Documents\\Carla\\Cheeseboard\\APPPS1\\AHAD02.08\\7mois\\Post\\04_06_2025\\AHAD02.08-AfterTest5-1DLC_Resnet50_CheeseboardFeb6shuffle1_snapshot_010.h5\n",
      "C:\\Users\\AudreyHay\\Documents\\Carla\\Cheeseboard\\APPPS1\\AHAD02.08\\7mois\\Post\\04_06_2025\\AHAD02.08-AfterTest5-2DLC_Resnet50_CheeseboardFeb6shuffle1_snapshot_010.h5\n",
      "C:\\Users\\AudreyHay\\Documents\\Carla\\Cheeseboard\\APPPS1\\AHAD02.08\\7mois\\Post\\04_06_2025\\AHAD02.08-AfterTest5-3DLC_Resnet50_CheeseboardFeb6shuffle1_snapshot_010.h5\n",
      "C:\\Users\\AudreyHay\\Documents\\Carla\\Cheeseboard\\APPPS1\\AHAD02.08\\7mois\\Test\\04_06_2025\\AHAD02.08-Test5DLC_Resnet50_CheeseboardFeb6shuffle1_snapshot_010.h5\n"
     ]
    },
    {
     "name": "stderr",
     "output_type": "stream",
     "text": [
      "C:\\Users\\AudreyHay\\AppData\\Local\\Temp\\ipykernel_37164\\4179300524.py:209: RuntimeWarning: Mean of empty slice\n",
      "  Summary_table.loc[counter, 'average_speed'] = round(np.nanmean(distances_to_reward)/pixel_to_cm*frame_rate,2)\n"
     ]
    },
    {
     "name": "stdout",
     "output_type": "stream",
     "text": [
      "C:\\Users\\AudreyHay\\Documents\\Carla\\Cheeseboard\\WT\\AHAD01.39\\2mois\\Test\\28_02_2025\\AHAD01.39-TestDLC_Resnet50_CheeseboardFeb6shuffle1_snapshot_030.h5\n",
      "C:\\Users\\AudreyHay\\Documents\\Carla\\Cheeseboard\\WT\\AHAD01.39\\2mois\\Training\\24_02_2025\\AHAD01.39-Training J1-1DLC_Resnet50_CheeseboardFeb6shuffle1_snapshot_010.h5\n",
      "C:\\Users\\AudreyHay\\Documents\\Carla\\Cheeseboard\\WT\\AHAD01.39\\2mois\\Training\\24_02_2025\\AHAD01.39-Training J1-2DLC_Resnet50_CheeseboardFeb6shuffle1_snapshot_010.h5\n",
      "C:\\Users\\AudreyHay\\Documents\\Carla\\Cheeseboard\\WT\\AHAD01.39\\2mois\\Training\\24_02_2025\\AHAD01.39-Training J1-3DLC_Resnet50_CheeseboardFeb6shuffle1_snapshot_010.h5\n"
     ]
    },
    {
     "name": "stderr",
     "output_type": "stream",
     "text": [
      "C:\\Users\\AudreyHay\\AppData\\Local\\Temp\\ipykernel_37164\\4179300524.py:209: RuntimeWarning: Mean of empty slice\n",
      "  Summary_table.loc[counter, 'average_speed'] = round(np.nanmean(distances_to_reward)/pixel_to_cm*frame_rate,2)\n"
     ]
    },
    {
     "name": "stdout",
     "output_type": "stream",
     "text": [
      "C:\\Users\\AudreyHay\\Documents\\Carla\\Cheeseboard\\WT\\AHAD01.39\\2mois\\Training\\24_02_2025\\AHAD01.39-Training J1-4DLC_Resnet50_CheeseboardFeb6shuffle1_snapshot_010.h5\n",
      "C:\\Users\\AudreyHay\\Documents\\Carla\\Cheeseboard\\WT\\AHAD01.39\\2mois\\Training\\24_02_2025\\AHAD01.39-Training J1-5DLC_Resnet50_CheeseboardFeb6shuffle1_snapshot_010.h5\n",
      "C:\\Users\\AudreyHay\\Documents\\Carla\\Cheeseboard\\WT\\AHAD01.39\\2mois\\Training\\24_02_2025\\AHAD01.39-Training J1-6DLC_Resnet50_CheeseboardFeb6shuffle1_snapshot_010.h5\n",
      "C:\\Users\\AudreyHay\\Documents\\Carla\\Cheeseboard\\WT\\AHAD01.39\\2mois\\Training\\24_02_2025\\AHAD01.39-Training J1-7DLC_Resnet50_CheeseboardFeb6shuffle1_snapshot_010.h5\n",
      "C:\\Users\\AudreyHay\\Documents\\Carla\\Cheeseboard\\WT\\AHAD01.39\\2mois\\Training\\24_02_2025\\AHAD01.39-Training J1-8DLC_Resnet50_CheeseboardFeb6shuffle1_snapshot_010.h5\n",
      "C:\\Users\\AudreyHay\\Documents\\Carla\\Cheeseboard\\WT\\AHAD01.39\\2mois\\Training\\25_02_2025\\AHAD01.39-Training J2-1DLC_Resnet50_CheeseboardFeb6shuffle1_snapshot_010.h5\n",
      "C:\\Users\\AudreyHay\\Documents\\Carla\\Cheeseboard\\WT\\AHAD01.39\\2mois\\Training\\25_02_2025\\AHAD01.39-Training J2-2DLC_Resnet50_CheeseboardFeb6shuffle1_snapshot_010.h5\n",
      "C:\\Users\\AudreyHay\\Documents\\Carla\\Cheeseboard\\WT\\AHAD01.39\\2mois\\Training\\25_02_2025\\AHAD01.39-Training J2-3DLC_Resnet50_CheeseboardFeb6shuffle1_snapshot_010.h5\n",
      "C:\\Users\\AudreyHay\\Documents\\Carla\\Cheeseboard\\WT\\AHAD01.39\\2mois\\Training\\25_02_2025\\AHAD01.39-Training J2-4DLC_Resnet50_CheeseboardFeb6shuffle1_snapshot_010.h5\n",
      "C:\\Users\\AudreyHay\\Documents\\Carla\\Cheeseboard\\WT\\AHAD01.39\\2mois\\Training\\25_02_2025\\AHAD01.39-Training J2-5DLC_Resnet50_CheeseboardFeb6shuffle1_snapshot_010.h5\n",
      "C:\\Users\\AudreyHay\\Documents\\Carla\\Cheeseboard\\WT\\AHAD01.39\\2mois\\Training\\25_02_2025\\AHAD01.39-Training J2-6DLC_Resnet50_CheeseboardFeb6shuffle1_snapshot_010.h5\n",
      "C:\\Users\\AudreyHay\\Documents\\Carla\\Cheeseboard\\WT\\AHAD01.39\\2mois\\Training\\25_02_2025\\AHAD01.39-Training J2-7DLC_Resnet50_CheeseboardFeb6shuffle1_snapshot_010.h5\n",
      "C:\\Users\\AudreyHay\\Documents\\Carla\\Cheeseboard\\WT\\AHAD01.39\\2mois\\Training\\25_02_2025\\AHAD01.39-Training J2-8DLC_Resnet50_CheeseboardFeb6shuffle1_snapshot_010.h5\n",
      "C:\\Users\\AudreyHay\\Documents\\Carla\\Cheeseboard\\WT\\AHAD01.39\\2mois\\Training\\26_02_2025\\AHAD01.39-Training J3-1DLC_Resnet50_CheeseboardFeb6shuffle1_snapshot_010.h5\n",
      "C:\\Users\\AudreyHay\\Documents\\Carla\\Cheeseboard\\WT\\AHAD01.39\\2mois\\Training\\26_02_2025\\AHAD01.39-Training J3-2DLC_Resnet50_CheeseboardFeb6shuffle1_snapshot_010.h5\n",
      "C:\\Users\\AudreyHay\\Documents\\Carla\\Cheeseboard\\WT\\AHAD01.39\\2mois\\Training\\26_02_2025\\AHAD01.39-Training J3-3DLC_Resnet50_CheeseboardFeb6shuffle1_snapshot_010.h5\n",
      "C:\\Users\\AudreyHay\\Documents\\Carla\\Cheeseboard\\WT\\AHAD01.39\\2mois\\Training\\26_02_2025\\AHAD01.39-Training J3-4DLC_Resnet50_CheeseboardFeb6shuffle1_snapshot_010.h5\n",
      "C:\\Users\\AudreyHay\\Documents\\Carla\\Cheeseboard\\WT\\AHAD01.39\\2mois\\Training\\26_02_2025\\AHAD01.39-Training J3-5DLC_Resnet50_CheeseboardFeb6shuffle1_snapshot_010.h5\n",
      "C:\\Users\\AudreyHay\\Documents\\Carla\\Cheeseboard\\WT\\AHAD01.39\\2mois\\Training\\26_02_2025\\AHAD01.39-Training J3-6DLC_Resnet50_CheeseboardFeb6shuffle1_snapshot_010.h5\n",
      "C:\\Users\\AudreyHay\\Documents\\Carla\\Cheeseboard\\WT\\AHAD01.39\\2mois\\Training\\26_02_2025\\AHAD01.39-Training J3-7DLC_Resnet50_CheeseboardFeb6shuffle1_snapshot_010.h5\n",
      "C:\\Users\\AudreyHay\\Documents\\Carla\\Cheeseboard\\WT\\AHAD01.39\\2mois\\Training\\27_02_2025\\AHAD01.39-Training J4-1DLC_Resnet50_CheeseboardFeb6shuffle1_snapshot_010.h5\n",
      "C:\\Users\\AudreyHay\\Documents\\Carla\\Cheeseboard\\WT\\AHAD01.39\\2mois\\Training\\27_02_2025\\AHAD01.39-Training J4-2DLC_Resnet50_CheeseboardFeb6shuffle1_snapshot_010.h5\n",
      "C:\\Users\\AudreyHay\\Documents\\Carla\\Cheeseboard\\WT\\AHAD01.39\\2mois\\Training\\27_02_2025\\AHAD01.39-Training J4-3DLC_Resnet50_CheeseboardFeb6shuffle1_snapshot_010.h5\n",
      "C:\\Users\\AudreyHay\\Documents\\Carla\\Cheeseboard\\WT\\AHAD01.39\\2mois\\Training\\27_02_2025\\AHAD01.39-Training J4-4DLC_Resnet50_CheeseboardFeb6shuffle1_snapshot_010.h5\n",
      "C:\\Users\\AudreyHay\\Documents\\Carla\\Cheeseboard\\WT\\AHAD01.39\\2mois\\Training\\27_02_2025\\AHAD01.39-Training J4-5DLC_Resnet50_CheeseboardFeb6shuffle1_snapshot_010.h5\n",
      "C:\\Users\\AudreyHay\\Documents\\Carla\\Cheeseboard\\WT\\AHAD01.39\\2mois\\Training\\27_02_2025\\AHAD01.39-Training J4-6DLC_Resnet50_CheeseboardFeb6shuffle1_snapshot_010.h5\n",
      "C:\\Users\\AudreyHay\\Documents\\Carla\\Cheeseboard\\WT\\AHAD01.39\\2mois\\Training\\27_02_2025\\AHAD01.39-Training J4-7DLC_Resnet50_CheeseboardFeb6shuffle1_snapshot_010.h5\n",
      "C:\\Users\\AudreyHay\\Documents\\Carla\\Cheeseboard\\WT\\AHAD01.39\\3mois\\Post\\27_03_2025\\AHAD01.39-After test2-1DLC_Resnet50_CheeseboardFeb6shuffle1_snapshot_010.h5\n",
      "C:\\Users\\AudreyHay\\Documents\\Carla\\Cheeseboard\\WT\\AHAD01.39\\3mois\\Post\\27_03_2025\\AHAD01.39-After test2-2DLC_Resnet50_CheeseboardFeb6shuffle1_snapshot_010.h5\n",
      "C:\\Users\\AudreyHay\\Documents\\Carla\\Cheeseboard\\WT\\AHAD01.39\\3mois\\Post\\27_03_2025\\AHAD01.39-After test2-3DLC_Resnet50_CheeseboardFeb6shuffle1_snapshot_010.h5\n",
      "C:\\Users\\AudreyHay\\Documents\\Carla\\Cheeseboard\\WT\\AHAD01.39\\3mois\\Test\\27_03_2025\\AHAD01.39-Test2DLC_Resnet50_CheeseboardFeb6shuffle1_snapshot_010.h5\n",
      "C:\\Users\\AudreyHay\\Documents\\Carla\\Cheeseboard\\WT\\AHAD01.39\\3mois\\Training\\24_03_2025\\AHAD01.39-Training J1-1DLC_Resnet50_CheeseboardFeb6shuffle1_snapshot_010.h5\n",
      "C:\\Users\\AudreyHay\\Documents\\Carla\\Cheeseboard\\WT\\AHAD01.39\\3mois\\Training\\24_03_2025\\AHAD01.39-Training J1-2DLC_Resnet50_CheeseboardFeb6shuffle1_snapshot_010.h5\n",
      "C:\\Users\\AudreyHay\\Documents\\Carla\\Cheeseboard\\WT\\AHAD01.39\\3mois\\Training\\24_03_2025\\AHAD01.39-Training J1-3DLC_Resnet50_CheeseboardFeb6shuffle1_snapshot_010.h5\n",
      "C:\\Users\\AudreyHay\\Documents\\Carla\\Cheeseboard\\WT\\AHAD01.39\\3mois\\Training\\24_03_2025\\AHAD01.39-Training J1-4DLC_Resnet50_CheeseboardFeb6shuffle1_snapshot_010.h5\n",
      "C:\\Users\\AudreyHay\\Documents\\Carla\\Cheeseboard\\WT\\AHAD01.39\\3mois\\Training\\24_03_2025\\AHAD01.39-Training J1-5DLC_Resnet50_CheeseboardFeb6shuffle1_snapshot_010.h5\n",
      "C:\\Users\\AudreyHay\\Documents\\Carla\\Cheeseboard\\WT\\AHAD01.39\\3mois\\Training\\25_03_2025\\AHAD01.39-Training J2-1DLC_Resnet50_CheeseboardFeb6shuffle1_snapshot_010.h5\n",
      "C:\\Users\\AudreyHay\\Documents\\Carla\\Cheeseboard\\WT\\AHAD01.39\\3mois\\Training\\25_03_2025\\AHAD01.39-Training J2-2DLC_Resnet50_CheeseboardFeb6shuffle1_snapshot_010.h5\n",
      "C:\\Users\\AudreyHay\\Documents\\Carla\\Cheeseboard\\WT\\AHAD01.39\\3mois\\Training\\25_03_2025\\AHAD01.39-Training J2-3DLC_Resnet50_CheeseboardFeb6shuffle1_snapshot_010.h5\n"
     ]
    },
    {
     "name": "stderr",
     "output_type": "stream",
     "text": [
      "C:\\Users\\AudreyHay\\AppData\\Local\\Temp\\ipykernel_37164\\4179300524.py:209: RuntimeWarning: Mean of empty slice\n",
      "  Summary_table.loc[counter, 'average_speed'] = round(np.nanmean(distances_to_reward)/pixel_to_cm*frame_rate,2)\n",
      "C:\\Users\\AudreyHay\\AppData\\Local\\Temp\\ipykernel_37164\\4179300524.py:209: RuntimeWarning: Mean of empty slice\n",
      "  Summary_table.loc[counter, 'average_speed'] = round(np.nanmean(distances_to_reward)/pixel_to_cm*frame_rate,2)\n"
     ]
    },
    {
     "name": "stdout",
     "output_type": "stream",
     "text": [
      "C:\\Users\\AudreyHay\\Documents\\Carla\\Cheeseboard\\WT\\AHAD01.39\\3mois\\Training\\25_03_2025\\AHAD01.39-Training J2-4DLC_Resnet50_CheeseboardFeb6shuffle1_snapshot_010.h5\n",
      "C:\\Users\\AudreyHay\\Documents\\Carla\\Cheeseboard\\WT\\AHAD01.39\\3mois\\Training\\25_03_2025\\AHAD01.39-Training J2-5DLC_Resnet50_CheeseboardFeb6shuffle1_snapshot_010.h5\n",
      "C:\\Users\\AudreyHay\\Documents\\Carla\\Cheeseboard\\WT\\AHAD01.39\\3mois\\Training\\26_03_2025\\AHAD01.39-Training J3-1DLC_Resnet50_CheeseboardFeb6shuffle1_snapshot_010.h5\n",
      "C:\\Users\\AudreyHay\\Documents\\Carla\\Cheeseboard\\WT\\AHAD01.39\\3mois\\Training\\26_03_2025\\AHAD01.39-Training J3-2DLC_Resnet50_CheeseboardFeb6shuffle1_snapshot_010.h5\n",
      "C:\\Users\\AudreyHay\\Documents\\Carla\\Cheeseboard\\WT\\AHAD01.39\\3mois\\Training\\26_03_2025\\AHAD01.39-Training J3-3DLC_Resnet50_CheeseboardFeb6shuffle1_snapshot_010.h5\n",
      "C:\\Users\\AudreyHay\\Documents\\Carla\\Cheeseboard\\WT\\AHAD01.39\\3mois\\Training\\26_03_2025\\AHAD01.39-Training J3-4DLC_Resnet50_CheeseboardFeb6shuffle1_snapshot_010.h5\n",
      "C:\\Users\\AudreyHay\\Documents\\Carla\\Cheeseboard\\WT\\AHAD01.39\\3mois\\Training\\26_03_2025\\AHAD01.39-Training J3-5DLC_Resnet50_CheeseboardFeb6shuffle1_snapshot_010.h5\n"
     ]
    },
    {
     "name": "stderr",
     "output_type": "stream",
     "text": [
      "C:\\Users\\AudreyHay\\AppData\\Local\\Temp\\ipykernel_37164\\4179300524.py:209: RuntimeWarning: Mean of empty slice\n",
      "  Summary_table.loc[counter, 'average_speed'] = round(np.nanmean(distances_to_reward)/pixel_to_cm*frame_rate,2)\n",
      "C:\\Users\\AudreyHay\\AppData\\Local\\Temp\\ipykernel_37164\\4179300524.py:209: RuntimeWarning: Mean of empty slice\n",
      "  Summary_table.loc[counter, 'average_speed'] = round(np.nanmean(distances_to_reward)/pixel_to_cm*frame_rate,2)\n"
     ]
    },
    {
     "name": "stdout",
     "output_type": "stream",
     "text": [
      "C:\\Users\\AudreyHay\\Documents\\Carla\\Cheeseboard\\WT\\AHAD01.39\\4mois\\Post\\06_05_2025\\AHAD01.39-After test3-1DLC_Resnet50_CheeseboardFeb6shuffle1_snapshot_010.h5\n",
      "C:\\Users\\AudreyHay\\Documents\\Carla\\Cheeseboard\\WT\\AHAD01.39\\4mois\\Post\\06_05_2025\\AHAD01.39-After test3-2DLC_Resnet50_CheeseboardFeb6shuffle1_snapshot_010.h5\n",
      "C:\\Users\\AudreyHay\\Documents\\Carla\\Cheeseboard\\WT\\AHAD01.39\\4mois\\Post\\06_05_2025\\AHAD01.39-After test3-3DLC_Resnet50_CheeseboardFeb6shuffle1_snapshot_010.h5\n",
      "C:\\Users\\AudreyHay\\Documents\\Carla\\Cheeseboard\\WT\\AHAD01.39\\4mois\\Test\\06_05_2025\\AHAD01.39-Test3DLC_Resnet50_CheeseboardFeb6shuffle1_snapshot_010.h5\n",
      "C:\\Users\\AudreyHay\\Documents\\Carla\\Cheeseboard\\WT\\AHAD01.39\\5mois\\Test\\27_05_2025\\AHAD01.39-Test4DLC_Resnet50_CheeseboardFeb6shuffle1_snapshot_010.h5\n",
      "C:\\Users\\AudreyHay\\Documents\\Carla\\Cheeseboard\\WT\\AHAD01.41\\2mois\\Test\\28_02_2025\\AHAD01.41-TestDLC_Resnet50_CheeseboardFeb6shuffle1_snapshot_030.h5\n",
      "C:\\Users\\AudreyHay\\Documents\\Carla\\Cheeseboard\\WT\\AHAD01.41\\2mois\\Test\\28_02_2025\\AHAD01.41-TestDLC_Resnet50_CheeseboardFeb6shuffle1_snapshot_030_filtered.h5\n",
      "C:\\Users\\AudreyHay\\Documents\\Carla\\Cheeseboard\\WT\\AHAD01.41\\3mois\\Post\\27_03_2025\\AHAD01.41-After test2-1DLC_Resnet50_CheeseboardFeb6shuffle1_snapshot_010.h5\n",
      "C:\\Users\\AudreyHay\\Documents\\Carla\\Cheeseboard\\WT\\AHAD01.41\\3mois\\Post\\27_03_2025\\AHAD01.41-After test2-2DLC_Resnet50_CheeseboardFeb6shuffle1_snapshot_010.h5\n",
      "C:\\Users\\AudreyHay\\Documents\\Carla\\Cheeseboard\\WT\\AHAD01.41\\3mois\\Post\\27_03_2025\\AHAD01.41-After test2-3DLC_Resnet50_CheeseboardFeb6shuffle1_snapshot_010.h5\n",
      "C:\\Users\\AudreyHay\\Documents\\Carla\\Cheeseboard\\WT\\AHAD01.41\\3mois\\Test\\27_03_2025\\AHAD01.41-Test2DLC_Resnet50_CheeseboardFeb6shuffle1_snapshot_010.h5\n",
      "C:\\Users\\AudreyHay\\Documents\\Carla\\Cheeseboard\\WT\\AHAD01.41\\3mois\\Training\\24_03_2025\\AHAD01.41-Training J1-1DLC_Resnet50_CheeseboardFeb6shuffle1_snapshot_010.h5\n",
      "C:\\Users\\AudreyHay\\Documents\\Carla\\Cheeseboard\\WT\\AHAD01.41\\3mois\\Training\\24_03_2025\\AHAD01.41-Training J1-2DLC_Resnet50_CheeseboardFeb6shuffle1_snapshot_010.h5\n"
     ]
    },
    {
     "name": "stderr",
     "output_type": "stream",
     "text": [
      "C:\\Users\\AudreyHay\\AppData\\Local\\Temp\\ipykernel_37164\\4179300524.py:209: RuntimeWarning: Mean of empty slice\n",
      "  Summary_table.loc[counter, 'average_speed'] = round(np.nanmean(distances_to_reward)/pixel_to_cm*frame_rate,2)\n"
     ]
    },
    {
     "name": "stdout",
     "output_type": "stream",
     "text": [
      "C:\\Users\\AudreyHay\\Documents\\Carla\\Cheeseboard\\WT\\AHAD01.41\\3mois\\Training\\24_03_2025\\AHAD01.41-Training J1-3DLC_Resnet50_CheeseboardFeb6shuffle1_snapshot_010.h5\n",
      "C:\\Users\\AudreyHay\\Documents\\Carla\\Cheeseboard\\WT\\AHAD01.41\\3mois\\Training\\24_03_2025\\AHAD01.41-Training J1-4DLC_Resnet50_CheeseboardFeb6shuffle1_snapshot_010.h5\n",
      "C:\\Users\\AudreyHay\\Documents\\Carla\\Cheeseboard\\WT\\AHAD01.41\\3mois\\Training\\24_03_2025\\AHAD01.41-Training J1-5DLC_Resnet50_CheeseboardFeb6shuffle1_snapshot_010.h5\n",
      "C:\\Users\\AudreyHay\\Documents\\Carla\\Cheeseboard\\WT\\AHAD01.41\\3mois\\Training\\25_03_2025\\AHAD01.41-Training J2-1DLC_Resnet50_CheeseboardFeb6shuffle1_snapshot_010.h5\n",
      "C:\\Users\\AudreyHay\\Documents\\Carla\\Cheeseboard\\WT\\AHAD01.41\\3mois\\Training\\25_03_2025\\AHAD01.41-Training J2-2DLC_Resnet50_CheeseboardFeb6shuffle1_snapshot_010.h5\n"
     ]
    },
    {
     "name": "stderr",
     "output_type": "stream",
     "text": [
      "C:\\Users\\AudreyHay\\AppData\\Local\\Temp\\ipykernel_37164\\4179300524.py:209: RuntimeWarning: Mean of empty slice\n",
      "  Summary_table.loc[counter, 'average_speed'] = round(np.nanmean(distances_to_reward)/pixel_to_cm*frame_rate,2)\n",
      "C:\\Users\\AudreyHay\\AppData\\Local\\Temp\\ipykernel_37164\\4179300524.py:209: RuntimeWarning: Mean of empty slice\n",
      "  Summary_table.loc[counter, 'average_speed'] = round(np.nanmean(distances_to_reward)/pixel_to_cm*frame_rate,2)\n"
     ]
    },
    {
     "name": "stdout",
     "output_type": "stream",
     "text": [
      "C:\\Users\\AudreyHay\\Documents\\Carla\\Cheeseboard\\WT\\AHAD01.41\\3mois\\Training\\25_03_2025\\AHAD01.41-Training J2-3DLC_Resnet50_CheeseboardFeb6shuffle1_snapshot_010.h5\n",
      "C:\\Users\\AudreyHay\\Documents\\Carla\\Cheeseboard\\WT\\AHAD01.41\\3mois\\Training\\25_03_2025\\AHAD01.41-Training J2-4DLC_Resnet50_CheeseboardFeb6shuffle1_snapshot_010.h5\n",
      "C:\\Users\\AudreyHay\\Documents\\Carla\\Cheeseboard\\WT\\AHAD01.41\\3mois\\Training\\25_03_2025\\AHAD01.41-Training J2-5DLC_Resnet50_CheeseboardFeb6shuffle1_snapshot_010.h5\n",
      "C:\\Users\\AudreyHay\\Documents\\Carla\\Cheeseboard\\WT\\AHAD01.41\\3mois\\Training\\26_03_2025\\AHAD01.41-Training J3-1DLC_Resnet50_CheeseboardFeb6shuffle1_snapshot_010.h5\n",
      "C:\\Users\\AudreyHay\\Documents\\Carla\\Cheeseboard\\WT\\AHAD01.41\\3mois\\Training\\26_03_2025\\AHAD01.41-Training J3-2DLC_Resnet50_CheeseboardFeb6shuffle1_snapshot_010.h5\n",
      "C:\\Users\\AudreyHay\\Documents\\Carla\\Cheeseboard\\WT\\AHAD01.41\\3mois\\Training\\26_03_2025\\AHAD01.41-Training J3-3DLC_Resnet50_CheeseboardFeb6shuffle1_snapshot_010.h5\n",
      "C:\\Users\\AudreyHay\\Documents\\Carla\\Cheeseboard\\WT\\AHAD01.41\\3mois\\Training\\26_03_2025\\AHAD01.41-Training J3-4DLC_Resnet50_CheeseboardFeb6shuffle1_snapshot_010.h5\n",
      "C:\\Users\\AudreyHay\\Documents\\Carla\\Cheeseboard\\WT\\AHAD01.41\\3mois\\Training\\26_03_2025\\AHAD01.41-Training J3-5DLC_Resnet50_CheeseboardFeb6shuffle1_snapshot_010.h5\n",
      "C:\\Users\\AudreyHay\\Documents\\Carla\\Cheeseboard\\WT\\AHAD01.41\\4mois\\Test\\06_05_2025\\AHAD01.41-Test3DLC_Resnet50_CheeseboardFeb6shuffle1_snapshot_010.h5\n",
      "C:\\Users\\AudreyHay\\Documents\\Carla\\Cheeseboard\\WT\\AHAD01.41\\5mois\\Test\\27_05_2025\\AHAD01.41-Test4DLC_Resnet50_CheeseboardFeb6shuffle1_snapshot_010.h5\n",
      "C:\\Users\\AudreyHay\\Documents\\Carla\\Cheeseboard\\WT\\AHAD01.42\\2mois\\Test\\28_02_2025\\AHAD01.42-TestDLC_Resnet50_CheeseboardFeb6shuffle1_snapshot_030.h5\n"
     ]
    },
    {
     "name": "stderr",
     "output_type": "stream",
     "text": [
      "C:\\Users\\AudreyHay\\AppData\\Local\\Temp\\ipykernel_37164\\4179300524.py:209: RuntimeWarning: Mean of empty slice\n",
      "  Summary_table.loc[counter, 'average_speed'] = round(np.nanmean(distances_to_reward)/pixel_to_cm*frame_rate,2)\n"
     ]
    },
    {
     "name": "stdout",
     "output_type": "stream",
     "text": [
      "C:\\Users\\AudreyHay\\Documents\\Carla\\Cheeseboard\\WT\\AHAD01.42\\2mois\\Test\\28_02_2025\\AHAD01.42-TestDLC_Resnet50_CheeseboardFeb6shuffle1_snapshot_030_filtered.h5\n"
     ]
    },
    {
     "name": "stderr",
     "output_type": "stream",
     "text": [
      "C:\\Users\\AudreyHay\\AppData\\Local\\Temp\\ipykernel_37164\\4179300524.py:209: RuntimeWarning: Mean of empty slice\n",
      "  Summary_table.loc[counter, 'average_speed'] = round(np.nanmean(distances_to_reward)/pixel_to_cm*frame_rate,2)\n"
     ]
    },
    {
     "name": "stdout",
     "output_type": "stream",
     "text": [
      "C:\\Users\\AudreyHay\\Documents\\Carla\\Cheeseboard\\WT\\AHAD01.42\\3mois\\Post\\27_03_2025\\AHAD01.42-After test2-1DLC_Resnet50_CheeseboardFeb6shuffle1_snapshot_010.h5\n",
      "C:\\Users\\AudreyHay\\Documents\\Carla\\Cheeseboard\\WT\\AHAD01.42\\3mois\\Post\\27_03_2025\\AHAD01.42-After test2-2DLC_Resnet50_CheeseboardFeb6shuffle1_snapshot_010.h5\n",
      "C:\\Users\\AudreyHay\\Documents\\Carla\\Cheeseboard\\WT\\AHAD01.42\\3mois\\Post\\27_03_2025\\AHAD01.42-After test2-3DLC_Resnet50_CheeseboardFeb6shuffle1_snapshot_010.h5\n",
      "C:\\Users\\AudreyHay\\Documents\\Carla\\Cheeseboard\\WT\\AHAD01.42\\3mois\\Test\\27_03_2025\\AHAD01.42-Test2DLC_Resnet50_CheeseboardFeb6shuffle1_snapshot_010.h5\n"
     ]
    },
    {
     "name": "stderr",
     "output_type": "stream",
     "text": [
      "C:\\Users\\AudreyHay\\AppData\\Local\\Temp\\ipykernel_37164\\4179300524.py:209: RuntimeWarning: Mean of empty slice\n",
      "  Summary_table.loc[counter, 'average_speed'] = round(np.nanmean(distances_to_reward)/pixel_to_cm*frame_rate,2)\n"
     ]
    },
    {
     "name": "stdout",
     "output_type": "stream",
     "text": [
      "C:\\Users\\AudreyHay\\Documents\\Carla\\Cheeseboard\\WT\\AHAD01.42\\3mois\\Training\\25_02_2025\\AHAD01.42-Training J1-1DLC_Resnet50_CheeseboardFeb6shuffle1_snapshot_010.h5\n",
      "C:\\Users\\AudreyHay\\Documents\\Carla\\Cheeseboard\\WT\\AHAD01.42\\3mois\\Training\\25_02_2025\\AHAD01.42-Training J1-2DLC_Resnet50_CheeseboardFeb6shuffle1_snapshot_010.h5\n",
      "C:\\Users\\AudreyHay\\Documents\\Carla\\Cheeseboard\\WT\\AHAD01.42\\3mois\\Training\\25_02_2025\\AHAD01.42-Training J1-3DLC_Resnet50_CheeseboardFeb6shuffle1_snapshot_010.h5\n",
      "C:\\Users\\AudreyHay\\Documents\\Carla\\Cheeseboard\\WT\\AHAD01.42\\3mois\\Training\\25_02_2025\\AHAD01.42-Training J1-4DLC_Resnet50_CheeseboardFeb6shuffle1_snapshot_010.h5\n",
      "C:\\Users\\AudreyHay\\Documents\\Carla\\Cheeseboard\\WT\\AHAD01.42\\3mois\\Training\\25_02_2025\\AHAD01.42-Training J1-5DLC_Resnet50_CheeseboardFeb6shuffle1_snapshot_010.h5\n",
      "C:\\Users\\AudreyHay\\Documents\\Carla\\Cheeseboard\\WT\\AHAD01.42\\3mois\\Training\\26_02_2025\\AHAD01.42-Training J2-1DLC_Resnet50_CheeseboardFeb6shuffle1_snapshot_010.h5\n",
      "C:\\Users\\AudreyHay\\Documents\\Carla\\Cheeseboard\\WT\\AHAD01.42\\3mois\\Training\\26_02_2025\\AHAD01.42-Training J2-2DLC_Resnet50_CheeseboardFeb6shuffle1_snapshot_010.h5\n",
      "C:\\Users\\AudreyHay\\Documents\\Carla\\Cheeseboard\\WT\\AHAD01.42\\3mois\\Training\\26_02_2025\\AHAD01.42-Training J2-3DLC_Resnet50_CheeseboardFeb6shuffle1_snapshot_010.h5\n",
      "C:\\Users\\AudreyHay\\Documents\\Carla\\Cheeseboard\\WT\\AHAD01.42\\3mois\\Training\\26_02_2025\\AHAD01.42-Training J2-4DLC_Resnet50_CheeseboardFeb6shuffle1_snapshot_010.h5\n",
      "C:\\Users\\AudreyHay\\Documents\\Carla\\Cheeseboard\\WT\\AHAD01.42\\3mois\\Training\\26_02_2025\\AHAD01.42-Training J2-5DLC_Resnet50_CheeseboardFeb6shuffle1_snapshot_010.h5\n",
      "C:\\Users\\AudreyHay\\Documents\\Carla\\Cheeseboard\\WT\\AHAD01.42\\3mois\\Training\\26_02_2025\\AHAD01.42-Training J3-1DLC_Resnet50_CheeseboardFeb6shuffle1_snapshot_010.h5\n"
     ]
    },
    {
     "name": "stderr",
     "output_type": "stream",
     "text": [
      "C:\\Users\\AudreyHay\\AppData\\Local\\Temp\\ipykernel_37164\\4179300524.py:209: RuntimeWarning: Mean of empty slice\n",
      "  Summary_table.loc[counter, 'average_speed'] = round(np.nanmean(distances_to_reward)/pixel_to_cm*frame_rate,2)\n"
     ]
    },
    {
     "name": "stdout",
     "output_type": "stream",
     "text": [
      "C:\\Users\\AudreyHay\\Documents\\Carla\\Cheeseboard\\WT\\AHAD01.42\\3mois\\Training\\26_02_2025\\AHAD01.42-Training J3-2DLC_Resnet50_CheeseboardFeb6shuffle1_snapshot_010.h5\n",
      "C:\\Users\\AudreyHay\\Documents\\Carla\\Cheeseboard\\WT\\AHAD01.42\\3mois\\Training\\26_02_2025\\AHAD01.42-Training J3-3DLC_Resnet50_CheeseboardFeb6shuffle1_snapshot_010.h5\n",
      "C:\\Users\\AudreyHay\\Documents\\Carla\\Cheeseboard\\WT\\AHAD01.42\\3mois\\Training\\26_02_2025\\AHAD01.42-Training J3-4DLC_Resnet50_CheeseboardFeb6shuffle1_snapshot_010.h5\n",
      "C:\\Users\\AudreyHay\\Documents\\Carla\\Cheeseboard\\WT\\AHAD01.42\\3mois\\Training\\26_02_2025\\AHAD01.42-Training J3-5DLC_Resnet50_CheeseboardFeb6shuffle1_snapshot_010.h5\n",
      "C:\\Users\\AudreyHay\\Documents\\Carla\\Cheeseboard\\WT\\AHAD01.42\\4mois\\Test\\06_05_2025\\AHAD01.42-Test3DLC_Resnet50_CheeseboardFeb6shuffle1_snapshot_010.h5\n",
      "C:\\Users\\AudreyHay\\Documents\\Carla\\Cheeseboard\\WT\\AHAD01.42\\5mois\\Test\\27_05_2025\\AHAD01.42-Test4DLC_Resnet50_CheeseboardFeb6shuffle1_snapshot_010.h5\n",
      "C:\\Users\\AudreyHay\\Documents\\Carla\\Cheeseboard\\WT\\AHAD01.43\\2mois\\Test\\28_02_2025\\AHAD01.43-TestDLC_Resnet50_CheeseboardFeb6shuffle1_snapshot_030.h5\n",
      "C:\\Users\\AudreyHay\\Documents\\Carla\\Cheeseboard\\WT\\AHAD01.43\\2mois\\Test\\28_02_2025\\AHAD01.43-TestDLC_Resnet50_CheeseboardFeb6shuffle1_snapshot_030_filtered.h5\n",
      "C:\\Users\\AudreyHay\\Documents\\Carla\\Cheeseboard\\WT\\AHAD01.43\\3mois\\Post\\27_03_2025\\AHAD01.43-After test2-1DLC_Resnet50_CheeseboardFeb6shuffle1_snapshot_010.h5\n",
      "C:\\Users\\AudreyHay\\Documents\\Carla\\Cheeseboard\\WT\\AHAD01.43\\3mois\\Post\\27_03_2025\\AHAD01.43-After test2-2DLC_Resnet50_CheeseboardFeb6shuffle1_snapshot_010.h5\n",
      "C:\\Users\\AudreyHay\\Documents\\Carla\\Cheeseboard\\WT\\AHAD01.43\\3mois\\Post\\27_03_2025\\AHAD01.43-After test2-3DLC_Resnet50_CheeseboardFeb6shuffle1_snapshot_010.h5\n",
      "C:\\Users\\AudreyHay\\Documents\\Carla\\Cheeseboard\\WT\\AHAD01.43\\3mois\\Test\\27_03_2025\\AHAD01.43-Test2DLC_Resnet50_CheeseboardFeb6shuffle1_snapshot_010.h5\n",
      "C:\\Users\\AudreyHay\\Documents\\Carla\\Cheeseboard\\WT\\AHAD01.43\\3mois\\Training\\24_03_2025\\AHAD01.43-Training J1-1DLC_Resnet50_CheeseboardFeb6shuffle1_snapshot_010.h5\n",
      "C:\\Users\\AudreyHay\\Documents\\Carla\\Cheeseboard\\WT\\AHAD01.43\\3mois\\Training\\24_03_2025\\AHAD01.43-Training J1-2DLC_Resnet50_CheeseboardFeb6shuffle1_snapshot_010.h5\n",
      "C:\\Users\\AudreyHay\\Documents\\Carla\\Cheeseboard\\WT\\AHAD01.43\\3mois\\Training\\24_03_2025\\AHAD01.43-Training J1-3DLC_Resnet50_CheeseboardFeb6shuffle1_snapshot_010.h5\n",
      "C:\\Users\\AudreyHay\\Documents\\Carla\\Cheeseboard\\WT\\AHAD01.43\\3mois\\Training\\24_03_2025\\AHAD01.43-Training J1-4DLC_Resnet50_CheeseboardFeb6shuffle1_snapshot_010.h5\n",
      "C:\\Users\\AudreyHay\\Documents\\Carla\\Cheeseboard\\WT\\AHAD01.43\\3mois\\Training\\24_03_2025\\AHAD01.43-Training J1-5DLC_Resnet50_CheeseboardFeb6shuffle1_snapshot_010.h5\n",
      "C:\\Users\\AudreyHay\\Documents\\Carla\\Cheeseboard\\WT\\AHAD01.43\\3mois\\Training\\25_03_2025\\AHAD01.43-Training J2-1DLC_Resnet50_CheeseboardFeb6shuffle1_snapshot_010.h5\n",
      "C:\\Users\\AudreyHay\\Documents\\Carla\\Cheeseboard\\WT\\AHAD01.43\\3mois\\Training\\25_03_2025\\AHAD01.43-Training J2-2DLC_Resnet50_CheeseboardFeb6shuffle1_snapshot_010.h5\n"
     ]
    },
    {
     "name": "stderr",
     "output_type": "stream",
     "text": [
      "C:\\Users\\AudreyHay\\AppData\\Local\\Temp\\ipykernel_37164\\4179300524.py:209: RuntimeWarning: Mean of empty slice\n",
      "  Summary_table.loc[counter, 'average_speed'] = round(np.nanmean(distances_to_reward)/pixel_to_cm*frame_rate,2)\n"
     ]
    },
    {
     "name": "stdout",
     "output_type": "stream",
     "text": [
      "C:\\Users\\AudreyHay\\Documents\\Carla\\Cheeseboard\\WT\\AHAD01.43\\3mois\\Training\\25_03_2025\\AHAD01.43-Training J2-3DLC_Resnet50_CheeseboardFeb6shuffle1_snapshot_010.h5\n",
      "C:\\Users\\AudreyHay\\Documents\\Carla\\Cheeseboard\\WT\\AHAD01.43\\3mois\\Training\\25_03_2025\\AHAD01.43-Training J2-4DLC_Resnet50_CheeseboardFeb6shuffle1_snapshot_010.h5\n",
      "C:\\Users\\AudreyHay\\Documents\\Carla\\Cheeseboard\\WT\\AHAD01.43\\3mois\\Training\\25_03_2025\\AHAD01.43-Training J2-5DLC_Resnet50_CheeseboardFeb6shuffle1_snapshot_010.h5\n",
      "C:\\Users\\AudreyHay\\Documents\\Carla\\Cheeseboard\\WT\\AHAD01.43\\3mois\\Training\\26_03_2025\\AHAD01.43-Training J3-1DLC_Resnet50_CheeseboardFeb6shuffle1_snapshot_010.h5\n"
     ]
    },
    {
     "name": "stderr",
     "output_type": "stream",
     "text": [
      "C:\\Users\\AudreyHay\\AppData\\Local\\Temp\\ipykernel_37164\\4179300524.py:209: RuntimeWarning: Mean of empty slice\n",
      "  Summary_table.loc[counter, 'average_speed'] = round(np.nanmean(distances_to_reward)/pixel_to_cm*frame_rate,2)\n"
     ]
    },
    {
     "name": "stdout",
     "output_type": "stream",
     "text": [
      "C:\\Users\\AudreyHay\\Documents\\Carla\\Cheeseboard\\WT\\AHAD01.43\\3mois\\Training\\26_03_2025\\AHAD01.43-Training J3-2DLC_Resnet50_CheeseboardFeb6shuffle1_snapshot_010.h5\n",
      "C:\\Users\\AudreyHay\\Documents\\Carla\\Cheeseboard\\WT\\AHAD01.43\\3mois\\Training\\26_03_2025\\AHAD01.43-Training J3-3DLC_Resnet50_CheeseboardFeb6shuffle1_snapshot_010.h5\n",
      "C:\\Users\\AudreyHay\\Documents\\Carla\\Cheeseboard\\WT\\AHAD01.43\\3mois\\Training\\26_03_2025\\AHAD01.43-Training J3-4DLC_Resnet50_CheeseboardFeb6shuffle1_snapshot_010.h5\n",
      "C:\\Users\\AudreyHay\\Documents\\Carla\\Cheeseboard\\WT\\AHAD01.43\\3mois\\Training\\26_03_2025\\AHAD01.43-Training J3-5DLC_Resnet50_CheeseboardFeb6shuffle1_snapshot_010.h5\n",
      "C:\\Users\\AudreyHay\\Documents\\Carla\\Cheeseboard\\WT\\AHAD01.43\\4mois\\Test\\06_05_2025\\AHAD01.43-Test3DLC_Resnet50_CheeseboardFeb6shuffle1_snapshot_010.h5\n",
      "C:\\Users\\AudreyHay\\Documents\\Carla\\Cheeseboard\\WT\\AHAD01.43\\5mois\\Test\\27_05_2025\\AHAD01.43-Test4DLC_Resnet50_CheeseboardFeb6shuffle1_snapshot_010.h5\n",
      "C:\\Users\\AudreyHay\\Documents\\Carla\\Cheeseboard\\WT\\AHAD02.02\\3mois\\Test\\14_02_2025\\AHAD02.02-TestDLC_Resnet50_CheeseboardFeb6shuffle1_snapshot_160.h5\n"
     ]
    },
    {
     "name": "stderr",
     "output_type": "stream",
     "text": [
      "C:\\Users\\AudreyHay\\AppData\\Local\\Temp\\ipykernel_37164\\4179300524.py:209: RuntimeWarning: Mean of empty slice\n",
      "  Summary_table.loc[counter, 'average_speed'] = round(np.nanmean(distances_to_reward)/pixel_to_cm*frame_rate,2)\n"
     ]
    },
    {
     "name": "stdout",
     "output_type": "stream",
     "text": [
      "C:\\Users\\AudreyHay\\Documents\\Carla\\Cheeseboard\\WT\\AHAD02.02\\3mois\\Training\\10-02-2025\\AHAD02.02-Training J1-1DLC_Resnet50_CheeseboardFeb6shuffle1_snapshot_160.h5\n",
      "C:\\Users\\AudreyHay\\Documents\\Carla\\Cheeseboard\\WT\\AHAD02.02\\3mois\\Training\\10-02-2025\\AHAD02.02-Training J1-2DLC_Resnet50_CheeseboardFeb6shuffle1_snapshot_160.h5\n",
      "C:\\Users\\AudreyHay\\Documents\\Carla\\Cheeseboard\\WT\\AHAD02.02\\3mois\\Training\\10-02-2025\\AHAD02.02-Training J1-3DLC_Resnet50_CheeseboardFeb6shuffle1_snapshot_160.h5\n",
      "C:\\Users\\AudreyHay\\Documents\\Carla\\Cheeseboard\\WT\\AHAD02.02\\4mois\\Test\\04_03_2025\\AHAD02.02-Test2DLC_Resnet50_CheeseboardFeb6shuffle1_snapshot_030.h5\n",
      "C:\\Users\\AudreyHay\\Documents\\Carla\\Cheeseboard\\WT\\AHAD02.02\\4mois\\Test\\04_03_2025\\AHAD02.02-Test2DLC_Resnet50_CheeseboardFeb6shuffle1_snapshot_030_filtered.h5\n",
      "C:\\Users\\AudreyHay\\Documents\\Carla\\Cheeseboard\\WT\\AHAD02.02\\5mois\\Post\\02_04_2025\\AHAD02.02-After test3-1DLC_Resnet50_CheeseboardFeb6shuffle1_snapshot_010.h5\n",
      "C:\\Users\\AudreyHay\\Documents\\Carla\\Cheeseboard\\WT\\AHAD02.02\\5mois\\Test\\02_04_2025\\AHAD02.02-Test3DLC_Resnet50_CheeseboardFeb6shuffle1_snapshot_010.h5\n"
     ]
    },
    {
     "name": "stderr",
     "output_type": "stream",
     "text": [
      "C:\\Users\\AudreyHay\\AppData\\Local\\Temp\\ipykernel_37164\\4179300524.py:209: RuntimeWarning: Mean of empty slice\n",
      "  Summary_table.loc[counter, 'average_speed'] = round(np.nanmean(distances_to_reward)/pixel_to_cm*frame_rate,2)\n"
     ]
    },
    {
     "name": "stdout",
     "output_type": "stream",
     "text": [
      "C:\\Users\\AudreyHay\\Documents\\Carla\\Cheeseboard\\WT\\AHAD02.02\\6mois\\Post\\29_04_2025\\AHAD02.02-After test4-1DLC_Resnet50_CheeseboardFeb6shuffle1_snapshot_010.h5\n",
      "C:\\Users\\AudreyHay\\Documents\\Carla\\Cheeseboard\\WT\\AHAD02.02\\6mois\\Test\\29_04_2025\\AHAD02.02-Test4DLC_Resnet50_CheeseboardFeb6shuffle1_snapshot_010.h5\n",
      "C:\\Users\\AudreyHay\\Documents\\Carla\\Cheeseboard\\WT\\AHAD02.02\\7mois\\Post\\04_06_2025\\AHAD02.02-AfterTest5-1DLC_Resnet50_CheeseboardFeb6shuffle1_snapshot_010.h5\n",
      "C:\\Users\\AudreyHay\\Documents\\Carla\\Cheeseboard\\WT\\AHAD02.02\\7mois\\Post\\04_06_2025\\AHAD02.02-AfterTest5-2DLC_Resnet50_CheeseboardFeb6shuffle1_snapshot_010.h5\n",
      "C:\\Users\\AudreyHay\\Documents\\Carla\\Cheeseboard\\WT\\AHAD02.02\\7mois\\Post\\04_06_2025\\AHAD02.02-AfterTest5-3DLC_Resnet50_CheeseboardFeb6shuffle1_snapshot_010.h5\n",
      "C:\\Users\\AudreyHay\\Documents\\Carla\\Cheeseboard\\WT\\AHAD02.02\\7mois\\Test\\04_06_2025\\AHAD02.02-Test5DLC_Resnet50_CheeseboardFeb6shuffle1_snapshot_010.h5\n",
      "C:\\Users\\AudreyHay\\Documents\\Carla\\Cheeseboard\\WT\\AHAD02.04\\3mois\\Training\\27_01_2025\\AHAD02.04-Training J1-1DLC_Resnet50_CheeseboardFeb6shuffle1_snapshot_160.h5\n",
      "C:\\Users\\AudreyHay\\Documents\\Carla\\Cheeseboard\\WT\\AHAD02.04\\3mois\\Training\\27_01_2025\\AHAD02.04-Training J1-2DLC_Resnet50_CheeseboardFeb6shuffle1_snapshot_160.h5\n",
      "C:\\Users\\AudreyHay\\Documents\\Carla\\Cheeseboard\\WT\\AHAD02.04\\3mois\\Training\\27_01_2025\\AHAD02.04-Training J1-3DLC_Resnet50_CheeseboardFeb6shuffle1_snapshot_160.h5\n",
      "C:\\Users\\AudreyHay\\Documents\\Carla\\Cheeseboard\\WT\\AHAD02.04\\3mois\\Training\\30_01_2025\\AHAD02.04-Training J4-1DLC_Resnet50_CheeseboardFeb6shuffle1_snapshot_160.h5\n",
      "C:\\Users\\AudreyHay\\Documents\\Carla\\Cheeseboard\\WT\\AHAD02.04\\3mois\\Training\\30_01_2025\\AHAD02.04-Training J4-2DLC_Resnet50_CheeseboardFeb6shuffle1_snapshot_160.h5\n",
      "C:\\Users\\AudreyHay\\Documents\\Carla\\Cheeseboard\\WT\\AHAD02.04\\3mois\\Training\\30_01_2025\\AHAD02.04-Training J4-3DLC_Resnet50_CheeseboardFeb6shuffle1_snapshot_160.h5\n"
     ]
    }
   ],
   "source": [
    "folder_path = \"C:/Users/AudreyHay/Documents/Carla/Cheeseboard\" #will analyse all .avi files in this directory\n",
    "counter=0\n",
    "day=1\n",
    "trial=1\n",
    "previousmice=0\n",
    "previous_session_time=0\n",
    "Summary_table=pd.DataFrame()\n",
    "\n",
    "for root, dirs, files in os.walk(folder_path):\n",
    "    h5_files = [f for f in files if f.endswith(('.h5'))]\n",
    "    \n",
    "    for h5_file in h5_files:\n",
    "        filename = os.path.join(root, h5_file)\n",
    "        filename = os.path.normpath(filename)\n",
    "        print(filename)\n",
    "\n",
    "        # Load HDF5 file\n",
    "        df = pd.read_hdf(filename)\n",
    "        directory = os.path.dirname(filename)\n",
    "        timestamps_path = Path(directory,'timeStamps.csv')\n",
    "        if timestamps_path.exists():\n",
    "            timestamps = pd.read_csv(timestamps_path)\n",
    "            frame_rate = round(1/(np.mean(np.diff(timestamps.iloc[:,1]))/1000))  # fps\n",
    "        else:\n",
    "            frame_rate = 16  # fps /!\\ CHANGE ACCORDING TO YOUR DATA\n",
    "        with open(\"Z:/forgetting/Carla/Cheeseboard/Reward_position.txt\", \"r\") as file:\n",
    "            text = file.read()  \n",
    "        numbers = re.findall(r\"[-+]?\\d*\\.\\d+|\\d+\", text)\n",
    "        reward_x, reward_y = map(float, numbers)\n",
    "\n",
    "        #\"Z:\\forgetting\\Aurelie\\CheeseboardExperiment\\DAQ_data\\AB\\Training\\Blue\\Cheeseboard\\2024_12_02\\15_13_07\\My_First_WebCam\\0_compressedDLC_resnet50_CheeseboardMiniscopeFeb21shuffle1_59000.csv\"\n",
    "        #\"Z:\\forgetting\\Carla\\Cheeseboard\\AHAD01.37\\3mois\\Post\\J1\\AHAD01.37-After Test2-1.mp4\"\n",
    "        session_type = os.path.basename(os.path.abspath(os.path.join(filename, \"../..\")))\n",
    "        mouse_age= os.path.basename(os.path.abspath(os.path.join(filename, \"../../..\")))\n",
    "        mice = os.path.basename(os.path.abspath(os.path.join(filename, \"../../../..\")))\n",
    "        sesstion_time = os.path.basename(os.path.abspath(os.path.join(filename, \"..\")))\n",
    "        genotype = os.path.basename(os.path.abspath(os.path.join(filename, \"../../../../..\")))\n",
    "        #trial_time = os.path.basename(os.path.abspath(os.path.join(filename, \"../..\")))\n",
    "\n",
    "        if mice == previousmice:\n",
    "            if sesstion_time==previous_session_time:\n",
    "                trial+=1\n",
    "            else:\n",
    "                day+=1\n",
    "                trial=1\n",
    "        else:\n",
    "            day=1\n",
    "            trial=1\n",
    "\n",
    "        # Define parameters\n",
    "        pixel_to_cm = 5.05  \n",
    "        reward_zone = 8 * pixel_to_cm if \"Training\" in filename else 20 * pixel_to_cm  # 8 cm for training, 20 cm for test\n",
    "        reward_zone = 8 * pixel_to_cm if \"Training\" in filename or \"Post\" in filename else 20 * pixel_to_cm\n",
    "\n",
    "        table_center_x, table_center_y = 920, 637  # Center of the cheeseboard table on the video\n",
    "        table_radius = 606 / 2\n",
    "        min_stay_at_reward = 2 * frame_rate  # 5 seconds\n",
    "\n",
    "        # Define functions\n",
    "        def calculate_relative_distance(x1, y1, x2, y2):\n",
    "            return math.sqrt((x2 - x1) ** 2 + (y2 - y1) ** 2)\n",
    "\n",
    "        def calculate_distance_run(x_coords, y_coords):\n",
    "            distances = np.sqrt(np.diff(x_coords) ** 2 + np.diff(y_coords) ** 2)\n",
    "            for i in range(1, len(distances) - 1):\n",
    "                if np.isnan(distances[i]):\n",
    "                    neighbors = [distances[i-1], distances[i+1]]\n",
    "                    distances[i] = np.nanmean([x for x in neighbors if not np.isnan(x)])\n",
    "            total_distance_cm = np.nansum(distances) / pixel_to_cm  # Convert to cm\n",
    "            return total_distance_cm, distances\n",
    "        \n",
    "        def find_long_non_nan_sequences(arr, min_length=5):\n",
    "            mask = ~np.isnan(arr)  # True for non-NaN values\n",
    "            diff = np.diff(np.concatenate(([0], mask.astype(int), [0])))  # Add padding to detect edges\n",
    "            starts = np.where(diff == 1)[0]  # Where a sequence starts\n",
    "            ends = np.where(diff == -1)[0]   # Where a sequence ends\n",
    "            sequences = [arr[start:end] for start, end in zip(starts, ends) if (end - start) > min_length]\n",
    "            return sequences\n",
    "\n",
    "        def remove_outliers_median_filter(data, window=4):\n",
    "            data = np.array(data, dtype=float)  # Ensure NumPy array with float type\n",
    "            filtered_data = np.copy(data)  # Copy to avoid modifying original data\n",
    "            half_window = window // 2\n",
    "            for i in range(len(data)):\n",
    "                # Define window range, ensuring it doesn't exceed bounds\n",
    "                start = max(0, i - half_window)\n",
    "                end = min(len(data), i + half_window + 1)\n",
    "                # Extract local values in window\n",
    "                local_values = data[start:end]\n",
    "                # Check if the window contains at least one non-NaN value\n",
    "                if np.all(np.isnan(local_values)):\n",
    "                    median_value = np.nan  # Keep NaN if no valid numbers\n",
    "                else:\n",
    "                    median_value = np.nanmedian(local_values)  # Compute median ignoring NaNs\n",
    "                # Replace only if the current value is not NaN\n",
    "                if not np.isnan(data[i]):\n",
    "                    filtered_data[i] = median_value\n",
    "            return filtered_data\n",
    "\n",
    "\n",
    "        # Remove uncertain location predictions (likelihood < 0.9)\n",
    "        #df.iloc[:, 0] = df.apply(lambda row: row.iloc[0] if row.iloc[-1] > 0.9 else np.nan, axis=1)\n",
    "        #df.iloc[:, 1] = df.apply(lambda row: row.iloc[1] if row.iloc[-1] > 0.9 else np.nan, axis=1)\n",
    "\n",
    "        # Separate the individual's positions into x and y coordinates\n",
    "        X = df.iloc[:, 0]\n",
    "        Y = df.iloc[:, 1]\n",
    "        \n",
    "        individual_x = np.array(X.values)\n",
    "        individual_y = np.array(Y.values)\n",
    "\n",
    "        # Define when the mouse is on the cheeseboard (start)\n",
    "        for i, x in enumerate(individual_x):\n",
    "            y = individual_y[i]\n",
    "            if calculate_relative_distance(x, y, table_center_x, table_center_y) >= table_radius:\n",
    "                individual_x[i] = np.nan\n",
    "                individual_y[i] = np.nan\n",
    "\n",
    "        x_start = find_long_non_nan_sequences(individual_x)[0][0] # first value of the first long non nan sequence\n",
    "        y_start = find_long_non_nan_sequences(individual_y)[0][0] # first value of the first long non nan sequence\n",
    "        start_frame = np.where(individual_x == x_start)[0][0].item()\n",
    "        individual_x[:start_frame]=np.nan # remove any path before the real start\n",
    "        individual_y[:start_frame]=np.nan # remove any path before the real start\n",
    "\n",
    "        individual_x = remove_outliers_median_filter(individual_x)\n",
    "        individual_y = remove_outliers_median_filter(individual_y)\n",
    "\n",
    "        for i in range(len(individual_x)-1, 0, -1): # Find the last non-NaN value which is not isolated\n",
    "            if not np.isnan(individual_x[i]) and not np.isnan(individual_x[i-1]):\n",
    "                last_frame = i\n",
    "                break\n",
    "            \n",
    "        if timestamps_path.exists():\n",
    "            start_time = timestamps.iloc[start_frame,1].item() / 1000\n",
    "            end_time = timestamps.iloc[-1,1].item() / 1000\n",
    "            duration_trial = end_time - start_time\n",
    "        else:\n",
    "            start_time=start_frame/frame_rate\n",
    "            end_time=last_frame/frame_rate\n",
    "            duration_trial = (last_frame - start_frame) / frame_rate\n",
    "\n",
    "        total_distance, distances = calculate_distance_run(individual_x[start_frame:last_frame], individual_y[start_frame:last_frame])\n",
    "\n",
    "        # Define when the mouse eats the reward\n",
    "        found_reward_frame = np.nan\n",
    "        found_reward_time = np.nan\n",
    "        consecutive_count = 0\n",
    "        for i, (x, y) in enumerate(zip(individual_x, individual_y)):\n",
    "            if calculate_relative_distance(x, y, reward_x, reward_y) <= reward_zone:\n",
    "                consecutive_count += 1\n",
    "            else:\n",
    "                consecutive_count = 0  \n",
    "            if consecutive_count > min_stay_at_reward:\n",
    "                found_reward_frame = (i - min_stay_at_reward)\n",
    "                break\n",
    "            \n",
    "        if not np.isnan(found_reward_frame) and not found_reward_frame==0:\n",
    "            if timestamps_path.exists():\n",
    "                found_reward_time = timestamps.iloc[found_reward_frame,1].item() / 1000\n",
    "                latency = (found_reward_time - start_time)\n",
    "            else:\n",
    "                latency = (found_reward_frame - start_frame) / frame_rate\n",
    "            distance_to_reward, distances_to_reward = calculate_distance_run(individual_x[start_frame:found_reward_frame], individual_y[start_frame:found_reward_frame])\n",
    "            \n",
    "            individual_x_filt = individual_x[~np.isnan(individual_x)]        \n",
    "            individual_y_filt = individual_y[~np.isnan(individual_y)]\n",
    "\n",
    "            enter_reward_zone = 0\n",
    "            consecutive_count = 0\n",
    "            for i, (x, y) in enumerate(zip(individual_x_filt, individual_y_filt)):\n",
    "                if calculate_relative_distance(x, y, reward_x, reward_y) <= reward_zone:\n",
    "                    if consecutive_count == 0:\n",
    "                        enter_reward_zone += 1\n",
    "                        consecutive_count = 1\n",
    "                else:\n",
    "                    consecutive_count = 0   \n",
    "            crossings_per_m=enter_reward_zone / (round(distance_to_reward) / 100)\n",
    "        \n",
    "        else:\n",
    "            latency=np.nan\n",
    "            distance_to_reward=np.nan\n",
    "            distances_to_reward=np.nan\n",
    "            enter_reward_zone=np.nan\n",
    "            crossings_per_m=np.nan\n",
    "\n",
    "        # Define the time spent inside the reward zone\n",
    "        time_spent_in_zone = 0\n",
    "\n",
    "        for i, (x, y) in enumerate(zip(individual_x, individual_y)):\n",
    "            if calculate_relative_distance(x, y, reward_x, reward_y) <= reward_zone:\n",
    "                time_spent_in_zone += 1\n",
    "        time_spent_in_zone = time_spent_in_zone / frame_rate\n",
    "\n",
    "        Summary_table.loc[counter, 'session_type'] = session_type\n",
    "        Summary_table.loc[counter, 'mice'] = mice\n",
    "        Summary_table.loc[counter, 'genotype'] =genotype\n",
    "        Summary_table.loc[counter, 'age'] = mouse_age\n",
    "        Summary_table.loc[counter, 'session'] = int(day)\n",
    "        Summary_table.loc[counter, 'session_time'] = sesstion_time\n",
    "        Summary_table.loc[counter, 'trial'] = int(trial)\n",
    "        #Summary_table.loc[counter, 'trial_time'] = trial_time\n",
    "        Summary_table.loc[counter, 'start_time'] = start_time\n",
    "        Summary_table.loc[counter, 'end_time'] = end_time\n",
    "        Summary_table.loc[counter, 'reward_zone_radius_cm'] = reward_zone/pixel_to_cm\n",
    "        Summary_table.loc[counter, 'found_reward_time'] = found_reward_time\n",
    "        Summary_table.loc[counter, 'reward_location_pix'] = str([reward_x,reward_y])\n",
    "        Summary_table.loc[counter, 'duration_trial_s'] = round(duration_trial,2)\n",
    "        Summary_table.loc[counter, 'total_distance_cm'] = round(total_distance,2)\n",
    "        Summary_table.loc[counter, 'average_speed'] = round(np.nanmean(distances_to_reward)/pixel_to_cm*frame_rate,2)\n",
    "        Summary_table.loc[counter, 'latency_to_reward_s'] = round(latency,2)\n",
    "        Summary_table.loc[counter, 'time_spent_at_reward_s'] = round(time_spent_in_zone,2)\n",
    "        Summary_table.loc[counter, 'distance_to_reward_cm'] = round(distance_to_reward,2)\n",
    "        Summary_table.loc[counter, 'crossings'] = enter_reward_zone\n",
    "        Summary_table.loc[counter, 'crossings_per_m'] = round(crossings_per_m, 2)\n",
    "       \n",
    "\n",
    "        previousmice = mice\n",
    "        previous_session_time = sesstion_time\n",
    "        counter+=1\n",
    "\n",
    "filenameOut = f'{folder_path}/Summary_table.xlsx'\n",
    "with pd.ExcelWriter(filenameOut) as writer:\n",
    "    Summary_table.to_excel(writer, index=False)"
   ]
  }
 ],
 "metadata": {
  "kernelspec": {
   "display_name": "SleepRec2",
   "language": "python",
   "name": "python3"
  },
  "language_info": {
   "codemirror_mode": {
    "name": "ipython",
    "version": 3
   },
   "file_extension": ".py",
   "mimetype": "text/x-python",
   "name": "python",
   "nbconvert_exporter": "python",
   "pygments_lexer": "ipython3",
   "version": "3.11.10"
  }
 },
 "nbformat": 4,
 "nbformat_minor": 2
}
