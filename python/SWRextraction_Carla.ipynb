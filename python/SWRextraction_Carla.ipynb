{
 "cells": [
  {
   "cell_type": "markdown",
   "metadata": {},
   "source": [
    "# Extraction of SWR from CA1 recordings\n",
    "\n",
    "Restarting from LFPwake0 and LFPwakeremoved.\n",
    "\n",
    "LFPwakeremoved will be used to determined signal variance for threshold adjustement. \n",
    "\n",
    "LFPwake0 will be used for time determination. "
   ]
  },
  {
   "cell_type": "markdown",
   "metadata": {},
   "source": [
    "## Load LFP and packages"
   ]
  },
  {
   "cell_type": "code",
   "execution_count": 1,
   "metadata": {},
   "outputs": [],
   "source": [
    "from scipy import signal\n",
    "from scipy.signal import find_peaks\n",
    "from scipy.signal import chirp, find_peaks, peak_widths\n",
    "import numpy as np\n",
    "import matplotlib.pyplot as plt\n",
    "from matplotlib.widgets import Slider, Button, Cursor\n",
    "from scipy import fftpack\n",
    "import pandas as pd\n",
    "from pathlib import Path\n",
    "import os\n",
    "from ipyfilechooser import FileChooser\n",
    "from IPython.display import display\n",
    "import ipywidgets as widgets\n",
    "\n",
    "\n",
    "%matplotlib widget\n",
    "\n",
    "from ephyviewer import mkQApp, MainViewer, TraceViewer, EventList, InMemoryEventSource, TimeFreqViewer\n",
    "from ephyviewer import AnalogSignalSourceWithScatter,InMemoryAnalogSignalSource\n",
    "import ephyviewer\n",
    "\n",
    "from mbTools import mbTools"
   ]
  },
  {
   "cell_type": "code",
   "execution_count": 2,
   "metadata": {},
   "outputs": [
    {
     "data": {
      "application/vnd.jupyter.widget-view+json": {
       "model_id": "1f461932e66c46559567716f95571c55",
       "version_major": 2,
       "version_minor": 0
      },
      "text/plain": [
       "FileChooser(path='\\\\10.69.168.1\\crnldata\\forgetting\\Carla', filename='', title='<b>Open Ephys folder</b>', sho…"
      ]
     },
     "metadata": {},
     "output_type": "display_data"
    },
    {
     "name": "stdout",
     "output_type": "stream",
     "text": [
      "Stored 'dpath' (str)\n"
     ]
    }
   ],
   "source": [
    "dpath = \"//10.69.168.1/crnldata/forgetting/Carla/\"\n",
    "\n",
    "fc1 = FileChooser(dpath,select_default=True, show_only_dirs = False, title = \"<b>Open Ephys folder</b>\")\n",
    "display(fc1)\n",
    "\n",
    "# Sample callback function\n",
    "def update_my_folder(chooser):\n",
    "    global dpath\n",
    "    dpath = chooser.selected\n",
    "    %store dpath\n",
    "    return \n",
    "\n",
    "# Register callback function\n",
    "fc1.register_callback(update_my_folder)"
   ]
  },
  {
   "cell_type": "code",
   "execution_count": 5,
   "metadata": {},
   "outputs": [
    {
     "data": {
      "application/vnd.jupyter.widget-view+json": {
       "model_id": "bf972e58c0b441faa6e7292e32c58f4a",
       "version_major": 2,
       "version_minor": 0
      },
      "text/plain": [
       "FileChooser(path='\\\\10.69.168.1\\crnldata\\forgetting\\Carla\\SleepRecExamples\\Blue\\2024_10_03\\sleep_14_33_06', fi…"
      ]
     },
     "metadata": {},
     "output_type": "display_data"
    }
   ],
   "source": [
    "dpath = \"\"\n",
    "\n",
    "\n",
    "try:\n",
    "    %store -r dpath\n",
    "except:\n",
    "    print(\"data path not in strore\")\n",
    "    dpath = os.path.expanduser(\"~\")\n",
    "\n",
    "fc1 = FileChooser(dpath,select_default=True, show_only_dirs = False, title = \"<b>Open Ephys folder</b>\")\n",
    "display(fc1)\n",
    "\n",
    "# Sample callback function\n",
    "def update_my_folder(chooser):\n",
    "    global dpath\n",
    "    dpath = chooser.selected\n",
    "    %store dpath\n",
    "    return \n",
    "\n",
    "# Register callback function\n",
    "fc1.register_callback(update_my_folder)"
   ]
  },
  {
   "cell_type": "code",
   "execution_count": 23,
   "metadata": {},
   "outputs": [
    {
     "name": "stdout",
     "output_type": "stream",
     "text": [
      "\\\\10.69.168.1\\crnldata\\forgetting\\Carla\\OpenEphysData\\Vert0-31_Jaune32-64_2024-12-13_14-13-58_TestLFPs\n",
      "Record Node 103\\experiment1\\recording1\\continuous\\OE_FPGA_Acquisition_Board-101.Rhythm Data\n",
      "Vert\n"
     ]
    }
   ],
   "source": [
    "structure = \"CA1\" #CA1 or EnthPFC\n",
    "ID=''#'_AB'\n",
    "sep = -4 # -3 if Baseline #-4 if CGP\n",
    "#animalIDPos = -3 # -3 if Baseline #-4 if CGP\n",
    "dirPathComponents = os.path.normpath(dpath).split(os.sep)\n",
    "mapPath = os.path.sep.join(dirPathComponents[:sep-1]) #\"//10.69.168.1/crnldata/wakingforgetting/Carla/\" \n",
    "folder_base = os.path.sep.join(dirPathComponents[sep-1:])\n",
    "#mice = dirPathComponents[animalIDPos]\n",
    "#os.chdir(mapPath)\n",
    "print(mapPath)\n",
    "print(folder_base)\n",
    "mice='Vert'\n",
    "print(mice)"
   ]
  },
  {
   "cell_type": "code",
   "execution_count": 33,
   "metadata": {},
   "outputs": [
    {
     "name": "stdout",
     "output_type": "stream",
     "text": [
      "/!\\ pre-existing file will be deleted and replaced : \\\\10.69.168.1\\crnldata\\forgetting\\Carla\\OpenEphysData\\Vert0-31_Jaune32-64_2024-12-13_14-13-58_TestLFPs\\Record Node 103\\experiment1\\recording1\\continuous\\OE_FPGA_Acquisition_Board-101.Rhythm Data\\SWRproperties.csv\n"
     ]
    }
   ],
   "source": [
    "#filenameOutput2 = os.path.join(mapPath, folder_base,f'Spindlesproperties_{structure}{suffix}.pkl')\n",
    "#filenameOutput3 = os.path.join(mapPath, folder_base,f'Spindlesproperties_{structure}{suffix}.csv')\n",
    "filenameOutput3 = os.path.join(mapPath, folder_base,f'SWRproperties{ID}.csv')\n",
    "\n",
    "ResetAnalysis=True #False or True\n",
    "\n",
    "if os.path.isfile(filenameOutput3):\n",
    "    if not ResetAnalysis:         \n",
    "        print(f'previous file imported and used : {filenameOutput3}')\n",
    "        All_SWR = pd.read_excel(filenameOutput3)\n",
    "        print(All_SWR)\n",
    "    else:\n",
    "        print(f'/!\\ pre-existing file will be deleted and replaced : {filenameOutput3}')\n",
    "else:\n",
    "    ResetAnalysis=True\n",
    "    print(f\"no previous analysis found, creation of : {filenameOutput3}\")"
   ]
  },
  {
   "cell_type": "code",
   "execution_count": 25,
   "metadata": {},
   "outputs": [],
   "source": [
    "if ResetAnalysis: \n",
    "    filename3 = os.path.join(dpath,f'LFPwakeremoved.npy')\n",
    "    filename2 = os.path.join(dpath,'continuous.dat')\n",
    "    EMGbooleaninput = os.path.join(dpath,f'EMGframeBoolean.pkl')\n",
    "\n",
    "\n",
    "    EMGboolean = pd.read_pickle(EMGbooleaninput)\n",
    "    LFPwakeremoved = np.load(filename3, mmap_mode= 'r', allow_pickle=True)\n",
    "\n",
    "    DataRec = np.fromfile(filename2, dtype=\"int16\")\n",
    "    All = DataRec.reshape(-1,64)\n",
    "    All.shape\n",
    "\n",
    "try:\n",
    "    Channels = '//10.69.168.1/crnldata/forgetting/Carla/OpenEphysData/LFPChannels_perMice.xlsx'\n",
    "    allchannels = pd.read_excel(Channels)\n",
    "    CA1ch1=int(allchannels[mice][2].split(',')[0])\n",
    "    CA1ch2=int(allchannels[mice][2].split(',')[1])\n",
    "    EMGch=int(allchannels[mice][3])\n",
    "    EMG  =  All[:, EMGch]\n",
    "    EnthCch1=int(allchannels[mice][5].split(',')[0])\n",
    "    EnthCch2=int(allchannels[mice][5].split(',')[1])\n",
    "except FileNotFoundError as e:\n",
    "        print(mbTools.color.BOLD + mbTools.color.YELLOW)\n",
    "        print(f\"File {os.path.join(mapPath,f'LFPChannels_perMice.xlsx')} not found!\")\n",
    "        print(\"probably you are not Aurélie... or the path to access it is wrong.\")\n",
    "        print(\"In the first case, make sure the mapping is rightfully setup in the curent cell\")\n",
    "        print(\"In the second case, you can play with the 'sep' variable of cell 3, or directly change the path\")\n",
    "        print(mbTools.color.END)\n",
    "        PFCch1=19\n",
    "        PFCch2=20\n",
    "        CA1ch1=21\n",
    "        CA1ch2=22\n",
    "\n",
    "CA1  =  All[:, CA1ch1]-All[:, CA1ch2] \n",
    "CA1wakeremoved = LFPwakeremoved[:,CA1ch1]-LFPwakeremoved[:,CA1ch2] \n",
    "EnthC  =  All[:, EnthCch1]-All[:, EnthCch2] \n",
    "CA1wakeremoved = LFPwakeremoved[:,EnthCch1]-LFPwakeremoved[:,EnthCch2] \n",
    "    \n"
   ]
  },
  {
   "cell_type": "markdown",
   "metadata": {},
   "source": [
    "# Band pass filter\n",
    "        SWR: 120-200 Hz"
   ]
  },
  {
   "cell_type": "code",
   "execution_count": 26,
   "metadata": {},
   "outputs": [],
   "source": [
    "if ResetAnalysis: \n",
    "\n",
    "    # Filtre parameter:\n",
    "    f_lowcut = 120.\n",
    "    f_hicut = 200.\n",
    "    fs = 1000\n",
    "    nyq = 0.5 * fs\n",
    "    N = 6                 # Filtre order\n",
    "    Wn = [f_lowcut/nyq,f_hicut/nyq]  # Nyquist frequency fraction\n",
    "\n",
    "    # Filtering:\n",
    "    b, a = signal.butter(N, Wn, 'band')\n",
    "    filt_CA1 = signal.filtfilt(b, a, CA1)\n",
    "    filt_CA1wakeremoved = signal.filtfilt(b, a, CA1wakeremoved)\n",
    "\n",
    "    # Plot\n",
    "    times = np.arange(0, CA1.size/fs, 1./fs)\n",
    "    #timesmin = np.arange(0, CA1.size/fs/60, 1./fs/60)\n",
    "    #fig, ax = plt.subplots()\n",
    "    #ax.plot(timesmin, filt_CA1)"
   ]
  },
  {
   "cell_type": "markdown",
   "metadata": {},
   "source": [
    "## Continuous Wavelet Transform and projection calculation\n",
    "\n",
    "First on signal with no wake time to determine sd of signal"
   ]
  },
  {
   "cell_type": "code",
   "execution_count": 27,
   "metadata": {},
   "outputs": [
    {
     "name": "stderr",
     "output_type": "stream",
     "text": [
      "C:\\Users\\AudreyHay\\AppData\\Local\\Temp\\ipykernel_41088\\2091298445.py:7: DeprecationWarning: scipy.signal.cwt is deprecated in SciPy 1.12 and will be removed\n",
      "in SciPy 1.15. We recommend using PyWavelets instead.\n",
      "\n",
      "  CA1NWcwt = signal.cwt(filt_CA1wakeremoved, signal.morlet2, widths, w=w)\n"
     ]
    }
   ],
   "source": [
    "if ResetAnalysis: \n",
    "\n",
    "    # Parameter and computation of CWT\n",
    "    w = 10.\n",
    "    freq = np.linspace(120, 200, 80)\n",
    "    widths = w*fs / (2*freq*np.pi)\n",
    "    CA1NWcwt = signal.cwt(filt_CA1wakeremoved, signal.morlet2, widths, w=w)\n",
    "\n",
    "    # Projection calculation\n",
    "    absCA1NWcwt = np.absolute(CA1NWcwt)\n",
    "    proj_CA1NWcwt = np.sum(absCA1NWcwt, axis = 0)/80\n",
    "    sdproj_CA1cwt = np.std(proj_CA1NWcwt)"
   ]
  },
  {
   "cell_type": "markdown",
   "metadata": {},
   "source": [
    "Second on the signal for which wake times have been zeroed"
   ]
  },
  {
   "cell_type": "code",
   "execution_count": 14,
   "metadata": {},
   "outputs": [
    {
     "name": "stderr",
     "output_type": "stream",
     "text": [
      "C:\\Users\\AudreyHay\\AppData\\Local\\Temp\\ipykernel_41088\\2391877685.py:16: DeprecationWarning: scipy.signal.cwt is deprecated in SciPy 1.12 and will be removed\n",
      "in SciPy 1.15. We recommend using PyWavelets instead.\n",
      "\n",
      "  CA1cwtWake0cons = signal.cwt(fCA1wake0C, signal.morlet2, widths, w=w)\n",
      "C:\\Users\\AudreyHay\\AppData\\Local\\Temp\\ipykernel_41088\\2391877685.py:17: DeprecationWarning: scipy.signal.cwt is deprecated in SciPy 1.12 and will be removed\n",
      "in SciPy 1.15. We recommend using PyWavelets instead.\n",
      "\n",
      "  CA1cwtWake0lib = signal.cwt(fCA1wake0L, signal.morlet2, widths, w=w)\n"
     ]
    }
   ],
   "source": [
    "if ResetAnalysis: \n",
    "    # Conservative boolean filtering of CA1 filtered signal\n",
    "    BooleanCons = EMGboolean['BooleanConservative']\n",
    "    fCA1wake0C = filt_CA1.copy()\n",
    "    fCA1wake0C[BooleanCons] = 0\n",
    "    CA1wake0C = CA1.copy()\n",
    "    CA1wake0C[BooleanCons] = 0\n",
    "    # Liberal boolean filtering of CA1 filtered signal\n",
    "    BooleanLib = EMGboolean['BooleanLiberal']\n",
    "    fCA1wake0L = filt_CA1.copy()\n",
    "    fCA1wake0L[BooleanLib] = 0\n",
    "    CA1wake0L = CA1.copy()\n",
    "    CA1wake0L[BooleanLib] = 0\n",
    "\n",
    "    # Computation of CWT\n",
    "    CA1cwtWake0cons = signal.cwt(fCA1wake0C, signal.morlet2, widths, w=w)\n",
    "    CA1cwtWake0lib = signal.cwt(fCA1wake0L, signal.morlet2, widths, w=w)\n",
    "\n",
    "    # Projection calculation\n",
    "    absCA1W0Ccwt = np.absolute(CA1cwtWake0cons)\n",
    "    proj_CA1W0Ccwt = np.sum(absCA1W0Ccwt, axis = 0)/80\n",
    "    absCA1W0Lcwt = np.absolute(CA1cwtWake0lib)\n",
    "    proj_CA1W0Lcwt = np.sum(absCA1W0Lcwt, axis = 0)/80\n"
   ]
  },
  {
   "cell_type": "markdown",
   "metadata": {},
   "source": [
    "## Define Threshlod"
   ]
  },
  {
   "cell_type": "code",
   "execution_count": 28,
   "metadata": {},
   "outputs": [
    {
     "data": {
      "application/vnd.jupyter.widget-view+json": {
       "model_id": "f621b12d4dd14861a993a16f92880d1c",
       "version_major": 2,
       "version_minor": 0
      },
      "image/png": "[encoded data removed]",
      "text/html": [
       "\n",
       "            <div style=\"display: inline-block;\">\n",
       "                <div class=\"jupyter-widgets widget-label\" style=\"text-align: center;\">\n",
       "                    Figure\n",
       "                </div>\n",
       "                <img src='data:image/png;base64,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' width=640.0/>\n",
       "            </div>\n",
       "        "
      ],
      "text/plain": [
       "Canvas(toolbar=Toolbar(toolitems=[('Home', 'Reset original view', 'home', 'home'), ('Back', 'Back to previous …"
      ]
     },
     "metadata": {},
     "output_type": "display_data"
    }
   ],
   "source": [
    "if ResetAnalysis: \n",
    "    # Defining subset\n",
    "    start = 00000\n",
    "    end = 100000\n",
    "\n",
    "    times = np.arange(0, CA1.size/fs, 1./fs)\n",
    "    tt = times[start:end]\n",
    "    Cortext = CA1wake0C[start:end]/10\n",
    "    #Cortexcwtt = PFCNWcwt[:, start:end]\n",
    "    proj_Cortexcwtt = proj_CA1W0Lcwt[start:end]\n",
    "\n",
    "    plt.close('all')\n",
    "    plt.axhline(sdproj_CA1cwt, color='r') # horizontal\n",
    "    plt.axhline(sdproj_CA1cwt*4, color='g') # horizontal\n",
    "    plt.plot(tt, Cortext,'b')\n",
    "    plt.plot(tt, proj_Cortexcwtt,'k')\n",
    "    plt.show()"
   ]
  },
  {
   "cell_type": "code",
   "execution_count": 29,
   "metadata": {},
   "outputs": [],
   "source": [
    "if ResetAnalysis: \n",
    "    sd_thresh = sdproj_CA1cwt*6.5"
   ]
  },
  {
   "cell_type": "markdown",
   "metadata": {},
   "source": [
    "## Extracting SWRs and determining main properties \n",
    "\n",
    "First extraction of SWR peaks, initiation, end and width"
   ]
  },
  {
   "cell_type": "code",
   "execution_count": 30,
   "metadata": {},
   "outputs": [
    {
     "name": "stdout",
     "output_type": "stream",
     "text": [
      "(0,)\n"
     ]
    }
   ],
   "source": [
    "if ResetAnalysis: \n",
    "\n",
    "    peaks, properties = find_peaks(proj_CA1W0Lcwt, prominence=1, width=20, height=sd_thresh)\n",
    "    properties[\"prominences\"], properties[\"widths\"]\n",
    "\n",
    "    # SWR boundaries taken at 70% from peak of intensity. This means that the SWRs with small amplitude will be longer than the big ones.\n",
    "    results_width = peak_widths(proj_CA1W0Lcwt, peaks, rel_height=0.7)\n",
    "\n",
    "    # Organise results in numpy array\n",
    "    peaks2 = peaks.reshape(len(peaks),1)\n",
    "    npresults_width = np.array(results_width).reshape(4,-1)\n",
    "    SWR_prop = np.append(peaks2, results_width).reshape(5,len(peaks2)).round()\n",
    "    print(peaks.shape)"
   ]
  },
  {
   "cell_type": "markdown",
   "metadata": {},
   "source": [
    "### Store the results in All_SWR_prop pd dataframe and save as pkl/csv for post processing.\n",
    "\n",
    "End of Notebook. "
   ]
  },
  {
   "cell_type": "code",
   "execution_count": 31,
   "metadata": {},
   "outputs": [],
   "source": [
    "if ResetAnalysis: \n",
    "\n",
    "    projMaxP_cwtmg = np.max(CA1cwtWake0lib, axis = 0)\n",
    "    projMaxF_cwtmg = np.argmax(CA1cwtWake0lib, axis = 0) + 120\n",
    "    projMaxP_cwtmg.shape\n",
    "\n",
    "    nb_SWR = len(peaks)\n",
    "    data = np.zeros((nb_SWR,4))\n",
    "\n",
    "    for tt in np.arange(nb_SWR):\n",
    "        SWR_start = int(SWR_prop[3,tt])\n",
    "        SWR_stop = int(SWR_prop[4,tt])\n",
    "        SWR_MaxP = projMaxP_cwtmg[SWR_start:SWR_stop]\n",
    "        SWR_MaxF = projMaxF_cwtmg[SWR_start:SWR_stop]\n",
    "        data[tt, 0] = max(SWR_MaxF).round()\n",
    "        data[tt, 1] = max(SWR_MaxP).round()\n",
    "        data[tt, 2] = round(sum(SWR_MaxF)/len(SWR_MaxF))\n",
    "        data[tt, 3] = round(sum(SWR_MaxP)/len(SWR_MaxP))\n",
    "\n",
    "    param_SWR = pd.DataFrame(data, columns = ['Max freq', 'Max int', 'Avg freq', 'Avg int'])\n",
    "    tSWR_prop = SWR_prop.transpose()\n",
    "    pd_prop_SWR = pd.DataFrame(tSWR_prop, columns = ['peak time', 'Duration', 'peak amp', 'start time', 'end time'])\n",
    "    pd_tokeep = pd.DataFrame(np.ones(nb_SWR).astype(bool), columns = ['toKeep'])\n",
    "    All_SWR = pd.concat([pd_tokeep,pd_prop_SWR, param_SWR], axis=1)\n",
    "\n",
    "    SWR_peak = peaks\n",
    "    SWR_start = SWR_prop[3,:].astype(int)\n",
    "    SWR_end = SWR_prop[4,:].astype(int)\n",
    "\n",
    "    All_SWR.to_csv(filenameOutput3, sep= ',')\n"
   ]
  },
  {
   "cell_type": "markdown",
   "metadata": {},
   "source": [
    "### Display and asses SWRs\n",
    "\n",
    "#### ephys viewer to check SWR detection"
   ]
  },
  {
   "cell_type": "code",
   "execution_count": 32,
   "metadata": {},
   "outputs": [
    {
     "name": "stdout",
     "output_type": "stream",
     "text": [
      "save_all_settings\n"
     ]
    }
   ],
   "source": [
    "%%capture\n",
    "%gui qt\n",
    "\n",
    "app = mkQApp()\n",
    "\n",
    "#Create one data source with 3 event channel\n",
    "all_events = []\n",
    "conditions = ['All','Good','Bad']\n",
    "for c,cond in enumerate(conditions):\n",
    "    match cond:\n",
    "        case 'All':\n",
    "            selection = \"All_SWR['toKeep'] | ~All_SWR['toKeep']\"\n",
    "        case 'Good':\n",
    "            selection = \"All_SWR['toKeep']\"\n",
    "        case 'Bad':\n",
    "            selection = \"~All_SWR['toKeep']\"\n",
    "    ev_times = All_SWR.loc[pd.eval(selection),'peak time'].values/1000\n",
    "    ev_labels = [f'SWR {i}'for i in All_SWR[pd.eval(selection)].index]\n",
    "    all_events.append({ 'time':ev_times, 'label':ev_labels, 'name': conditions[c] })\n",
    "source_ev = InMemoryEventSource(all_events=all_events)\n",
    "\n",
    "TTL = All[0:10000000, 11]#\n",
    "combined = np.stack([CA1/10, filt_CA1, proj_CA1W0Lcwt, proj_CA1W0Ccwt, TTL/1000, EMG/100], axis = 1)\n",
    "sample_rate = 1000.\n",
    "t_start = 0.\n",
    "\n",
    "#create 2 familly scatters from theses 2 indexes\n",
    "scatter_indexes = {0: SWR_peak, 1: SWR_start, 2: SWR_end}\n",
    "#and asign them to some channels each\n",
    "scatter_channels = {0: [1, 2], 1: [0, 1], 2: [0, 1]}\n",
    "source = AnalogSignalSourceWithScatter(combined, sample_rate, t_start, scatter_indexes, scatter_channels, scatter_colors= {0: '#FFFFFF', 1: '#FFFFFF', 2: '#222222'}, channel_names=[f'CA1','FiltLFP', 'EMGLib', 'EMGCons', 'TTL', 'EMG'])\n",
    "\n",
    "#Create the main window that can contain several viewers\n",
    "win = MainViewer(debug=True, show_auto_scale=True)\n",
    "\n",
    "#create a viewer for signal with TraceViewer\n",
    "#connected to the signal source\n",
    "view1 = TraceViewer(source=source)\n",
    "\n",
    "#Parameters can be set in script\n",
    "view1.params['scale_mode'] = 'same_for_all'\n",
    "view1.params['display_labels'] = True\n",
    "view1.auto_scale()\n",
    "\n",
    "nCh = len(view1.by_channel_params.children())\n",
    "mult = 6\n",
    "for ch in range(nCh):\n",
    "    match ch%mult:\n",
    "        case 0: # raw traces\n",
    "            view1.by_channel_params[f'ch{ch}', 'offset'] = 1.5 + 5*int(ch/mult)\n",
    "            #view1.by_channel_params[f'ch{ch}', 'gain'] = 0.05\n",
    "            view1.by_channel_params[f'ch{ch}', 'color'] = '#88FF88'\n",
    "        case 1: # filtered traces\n",
    "            view1.by_channel_params[f'ch{ch}', 'offset'] = 0.5 + 5*int(ch/mult)\n",
    "            #view1.by_channel_params[f'ch{ch}', 'gain'] = 0.1\n",
    "            view1.by_channel_params[f'ch{ch}', 'color'] = '#0055ff'\n",
    "        case 2: # envelop\n",
    "            view1.by_channel_params[f'ch{ch}', 'offset'] = 0.5 + 5*int(ch/mult)\n",
    "            #view1.by_channel_params[f'ch{ch}', 'gain'] = 0.1\n",
    "            view1.by_channel_params[f'ch{ch}', 'color'] = '#ff5500'\n",
    "        case 3: # envelop\n",
    "            view1.by_channel_params[f'ch{ch}', 'offset'] = 0.5 + 5*int(ch/mult)\n",
    "            #view1.by_channel_params[f'ch{ch}', 'gain'] = 0.1\n",
    "            view1.by_channel_params[f'ch{ch}', 'color'] = '#ffffff'\n",
    "        case 4: # TTL\n",
    "            view1.by_channel_params[f'ch{ch}', 'offset'] = 1.9 + 5*int(ch/mult)\n",
    "            #view1.by_channel_params[f'ch{ch}', 'gain'] = 0.1\n",
    "            view1.by_channel_params[f'ch{ch}', 'color'] = '#ffffff'\n",
    "        case 5: # EMG\n",
    "            view1.by_channel_params[f'ch{ch}', 'offset'] = 0.2 + 5*int(ch/mult)\n",
    "            #view1.by_channel_params[f'ch{ch}', 'gain'] = 1/10000\n",
    "            view1.by_channel_params[f'ch{ch}', 'color'] = '#888888'\n",
    "view1.params['ylim_max']=2*int((nCh+1)/mult)\n",
    "view1.params['ylim_min']=0\n",
    "\n",
    "view2 = EventList(source=source_ev, name='event')\n",
    "\n",
    "#create a time freq viewer conencted to the same source\n",
    "view3 = TimeFreqViewer(source=source, name='FFT')\n",
    "view3.params['show_axis'] = True\n",
    "view3.params['timefreq', 'f_start'] = 1\n",
    "view3.params['timefreq', 'f_stop'] = 200\n",
    "view3.params['timefreq', 'deltafreq'] = 1 #interval in Hz\n",
    "view3.by_channel_params['ch0', 'clim'] = 300\n",
    "view3.by_channel_params['ch0', 'visible'] = True\n",
    "\n",
    "\n",
    "#put this viewer in the main window\n",
    "win.add_view(view1)\n",
    "win.add_view(view3)\n",
    "win.add_view(view2, location='bottom',  orientation='horizontal')\n",
    "\n",
    "#Run\n",
    "win.show()"
   ]
  },
  {
   "cell_type": "markdown",
   "metadata": {},
   "source": [
    "#### Select and deselect SWRs"
   ]
  },
  {
   "cell_type": "code",
   "execution_count": 21,
   "metadata": {},
   "outputs": [
    {
     "data": {
      "application/vnd.jupyter.widget-view+json": {
       "model_id": "cf90e1b7f41348f4920af1c227f73148",
       "version_major": 2,
       "version_minor": 0
      },
      "text/plain": [
       "Button(description='Keep SWR', style=ButtonStyle())"
      ]
     },
     "metadata": {},
     "output_type": "display_data"
    },
    {
     "data": {
      "application/vnd.jupyter.widget-view+json": {
       "model_id": "228f5d1ffc224c57ac95063c33b782e2",
       "version_major": 2,
       "version_minor": 0
      },
      "text/plain": [
       "Button(description='Discard SWR', style=ButtonStyle())"
      ]
     },
     "metadata": {},
     "output_type": "display_data"
    }
   ],
   "source": [
    "def clicked(arg):\n",
    "    selectedEvent = view2.list_widget.currentItem().text()\n",
    "    selectedSWR = int(selectedEvent.split('SWR')[1])\n",
    "    #print(selectedSWR)\n",
    "    match arg.description:\n",
    "        case 'Keep SWR':\n",
    "            All_SWR.loc[selectedSWR,'toKeep']=True\n",
    "            print(f'SWR {selectedSWR} restored')\n",
    "        case 'Discard SWR':\n",
    "            All_SWR.loc[selectedSWR,'toKeep']=False\n",
    "            print(f'SWR {selectedSWR} discarded')\n",
    "    #save modif\n",
    "    #All_SWR.to_pickle(filenameOutput2)\n",
    "    All_SWR.to_csv(filenameOutput3, sep= ',')\n",
    "    #Create one data source with 3 event channel\n",
    "    all_events = []\n",
    "    conditions = ['All','Good','Bad']\n",
    "    for c,cond in enumerate(conditions):\n",
    "        match cond:\n",
    "            case 'All':\n",
    "                selection = \"All_SWR['toKeep'] | ~All_SWR['toKeep']\"\n",
    "            case 'Good':\n",
    "                selection = \"All_SWR['toKeep']\"\n",
    "            case 'Bad':\n",
    "                selection = \"~All_SWR['toKeep']\"\n",
    "        ev_times = All_SWR.loc[pd.eval(selection),'peak time'].values/1000\n",
    "        ev_labels = [f'SWR {i}'for i in All_SWR[pd.eval(selection)].index]\n",
    "        all_events.append({ 'time':ev_times, 'label':ev_labels, 'name': conditions[c] })\n",
    "    source_ev = InMemoryEventSource(all_events=all_events)\n",
    "    view2.source = source_ev\n",
    "    view2.refresh_list(view2.combo.currentIndex())\n",
    "\n",
    "button_Good = widgets.Button(description = 'Keep SWR')   \n",
    "button_Good.on_click(clicked)\n",
    "\n",
    "button_Bad = widgets.Button(description = 'Discard SWR')   \n",
    "button_Bad.on_click(clicked)\n",
    "\n",
    "display(button_Good, button_Bad)\n",
    "\n"
   ]
  }
 ],
 "metadata": {
  "kernelspec": {
   "display_name": "SleepRec2",
   "language": "python",
   "name": "python3"
  },
  "language_info": {
   "codemirror_mode": {
    "name": "ipython",
    "version": 3
   },
   "file_extension": ".py",
   "mimetype": "text/x-python",
   "name": "python",
   "nbconvert_exporter": "python",
   "pygments_lexer": "ipython3",
   "version": "3.11.10"
  }
 },
 "nbformat": 4,
 "nbformat_minor": 2
}
