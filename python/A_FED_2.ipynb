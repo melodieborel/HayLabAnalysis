{
 "cells": [
  {
   "cell_type": "code",
   "execution_count": null,
   "id": "d9edbdf0",
   "metadata": {},
   "outputs": [
    {
     "data": {
      "application/vnd.jupyter.widget-view+json": {
       "model_id": "c538f3b98f1a471086c8b357a46a878b",
       "version_major": 2,
       "version_minor": 0
      },
      "text/plain": [
       "FileChooser(path='C:\\Users\\AudreyHay\\Documents\\Carla\\Visual Code\\HayLabAnalysis\\python', filename='', title='<…"
      ]
     },
     "metadata": {},
     "output_type": "display_data"
    },
    {
     "data": {
      "application/vnd.microsoft.datawrangler.viewer.v0+json": {
       "columns": [
        {
         "name": "index",
         "rawType": "int64",
         "type": "integer"
        },
        {
         "name": "Essai",
         "rawType": "object",
         "type": "unknown"
        },
        {
         "name": "Erreurs avant poke correct",
         "rawType": "object",
         "type": "unknown"
        }
       ],
       "ref": "e672358b-7593-4ebf-9041-3b394696fb5c",
       "rows": [
        [
         "0",
         "Moyenne (avec 0)",
         "0.61"
        ],
        [
         "1",
         "Moyenne (sans 0)",
         "2.38"
        ],
        [
         "2",
         "1",
         "0"
        ],
        [
         "3",
         "2",
         "0"
        ],
        [
         "4",
         "3",
         "0"
        ],
        [
         "5",
         "4",
         "11"
        ],
        [
         "6",
         "5",
         "3"
        ],
        [
         "7",
         "6",
         "0"
        ],
        [
         "8",
         "7",
         "0"
        ],
        [
         "9",
         "8",
         "17"
        ]
       ],
       "shape": {
        "columns": 2,
        "rows": 10
       }
      },
      "text/html": [
       "<div>\n",
       "<style scoped>\n",
       "    .dataframe tbody tr th:only-of-type {\n",
       "        vertical-align: middle;\n",
       "    }\n",
       "\n",
       "    .dataframe tbody tr th {\n",
       "        vertical-align: top;\n",
       "    }\n",
       "\n",
       "    .dataframe thead th {\n",
       "        text-align: right;\n",
       "    }\n",
       "</style>\n",
       "<table border=\"1\" class=\"dataframe\">\n",
       "  <thead>\n",
       "    <tr style=\"text-align: right;\">\n",
       "      <th></th>\n",
       "      <th>Essai</th>\n",
       "      <th>Erreurs avant poke correct</th>\n",
       "    </tr>\n",
       "  </thead>\n",
       "  <tbody>\n",
       "    <tr>\n",
       "      <th>0</th>\n",
       "      <td>Moyenne (avec 0)</td>\n",
       "      <td>0.61</td>\n",
       "    </tr>\n",
       "    <tr>\n",
       "      <th>1</th>\n",
       "      <td>Moyenne (sans 0)</td>\n",
       "      <td>2.38</td>\n",
       "    </tr>\n",
       "    <tr>\n",
       "      <th>2</th>\n",
       "      <td>1</td>\n",
       "      <td>0</td>\n",
       "    </tr>\n",
       "    <tr>\n",
       "      <th>3</th>\n",
       "      <td>2</td>\n",
       "      <td>0</td>\n",
       "    </tr>\n",
       "    <tr>\n",
       "      <th>4</th>\n",
       "      <td>3</td>\n",
       "      <td>0</td>\n",
       "    </tr>\n",
       "    <tr>\n",
       "      <th>5</th>\n",
       "      <td>4</td>\n",
       "      <td>11</td>\n",
       "    </tr>\n",
       "    <tr>\n",
       "      <th>6</th>\n",
       "      <td>5</td>\n",
       "      <td>3</td>\n",
       "    </tr>\n",
       "    <tr>\n",
       "      <th>7</th>\n",
       "      <td>6</td>\n",
       "      <td>0</td>\n",
       "    </tr>\n",
       "    <tr>\n",
       "      <th>8</th>\n",
       "      <td>7</td>\n",
       "      <td>0</td>\n",
       "    </tr>\n",
       "    <tr>\n",
       "      <th>9</th>\n",
       "      <td>8</td>\n",
       "      <td>17</td>\n",
       "    </tr>\n",
       "  </tbody>\n",
       "</table>\n",
       "</div>"
      ],
      "text/plain": [
       "              Essai Erreurs avant poke correct\n",
       "0  Moyenne (avec 0)                       0.61\n",
       "1  Moyenne (sans 0)                       2.38\n",
       "2                 1                          0\n",
       "3                 2                          0\n",
       "4                 3                          0\n",
       "5                 4                         11\n",
       "6                 5                          3\n",
       "7                 6                          0\n",
       "8                 7                          0\n",
       "9                 8                         17"
      ]
     },
     "metadata": {},
     "output_type": "display_data"
    },
    {
     "data": {
      "application/vnd.microsoft.datawrangler.viewer.v0+json": {
       "columns": [
        {
         "name": "index",
         "rawType": "int64",
         "type": "integer"
        },
        {
         "name": "Essai",
         "rawType": "object",
         "type": "unknown"
        },
        {
         "name": "Erreurs avant poke correct",
         "rawType": "object",
         "type": "unknown"
        }
       ],
       "ref": "ba56f5eb-04b9-4eed-8030-c58431c3f8de",
       "rows": [
        [
         "0",
         "Moyenne (avec 0)",
         "2.43"
        ],
        [
         "1",
         "Moyenne (sans 0)",
         "4.56"
        ],
        [
         "2",
         "1",
         "2"
        ],
        [
         "3",
         "2",
         "6"
        ],
        [
         "4",
         "3",
         "6"
        ],
        [
         "5",
         "4",
         "1"
        ],
        [
         "6",
         "5",
         "0"
        ],
        [
         "7",
         "6",
         "0"
        ],
        [
         "8",
         "7",
         "0"
        ],
        [
         "9",
         "8",
         "14"
        ]
       ],
       "shape": {
        "columns": 2,
        "rows": 10
       }
      },
      "text/html": [
       "<div>\n",
       "<style scoped>\n",
       "    .dataframe tbody tr th:only-of-type {\n",
       "        vertical-align: middle;\n",
       "    }\n",
       "\n",
       "    .dataframe tbody tr th {\n",
       "        vertical-align: top;\n",
       "    }\n",
       "\n",
       "    .dataframe thead th {\n",
       "        text-align: right;\n",
       "    }\n",
       "</style>\n",
       "<table border=\"1\" class=\"dataframe\">\n",
       "  <thead>\n",
       "    <tr style=\"text-align: right;\">\n",
       "      <th></th>\n",
       "      <th>Essai</th>\n",
       "      <th>Erreurs avant poke correct</th>\n",
       "    </tr>\n",
       "  </thead>\n",
       "  <tbody>\n",
       "    <tr>\n",
       "      <th>0</th>\n",
       "      <td>Moyenne (avec 0)</td>\n",
       "      <td>2.43</td>\n",
       "    </tr>\n",
       "    <tr>\n",
       "      <th>1</th>\n",
       "      <td>Moyenne (sans 0)</td>\n",
       "      <td>4.56</td>\n",
       "    </tr>\n",
       "    <tr>\n",
       "      <th>2</th>\n",
       "      <td>1</td>\n",
       "      <td>2</td>\n",
       "    </tr>\n",
       "    <tr>\n",
       "      <th>3</th>\n",
       "      <td>2</td>\n",
       "      <td>6</td>\n",
       "    </tr>\n",
       "    <tr>\n",
       "      <th>4</th>\n",
       "      <td>3</td>\n",
       "      <td>6</td>\n",
       "    </tr>\n",
       "    <tr>\n",
       "      <th>5</th>\n",
       "      <td>4</td>\n",
       "      <td>1</td>\n",
       "    </tr>\n",
       "    <tr>\n",
       "      <th>6</th>\n",
       "      <td>5</td>\n",
       "      <td>0</td>\n",
       "    </tr>\n",
       "    <tr>\n",
       "      <th>7</th>\n",
       "      <td>6</td>\n",
       "      <td>0</td>\n",
       "    </tr>\n",
       "    <tr>\n",
       "      <th>8</th>\n",
       "      <td>7</td>\n",
       "      <td>0</td>\n",
       "    </tr>\n",
       "    <tr>\n",
       "      <th>9</th>\n",
       "      <td>8</td>\n",
       "      <td>14</td>\n",
       "    </tr>\n",
       "  </tbody>\n",
       "</table>\n",
       "</div>"
      ],
      "text/plain": [
       "              Essai Erreurs avant poke correct\n",
       "0  Moyenne (avec 0)                       2.43\n",
       "1  Moyenne (sans 0)                       4.56\n",
       "2                 1                          2\n",
       "3                 2                          6\n",
       "4                 3                          6\n",
       "5                 4                          1\n",
       "6                 5                          0\n",
       "7                 6                          0\n",
       "8                 7                          0\n",
       "9                 8                         14"
      ]
     },
     "metadata": {},
     "output_type": "display_data"
    },
    {
     "data": {
      "application/vnd.microsoft.datawrangler.viewer.v0+json": {
       "columns": [
        {
         "name": "index",
         "rawType": "int64",
         "type": "integer"
        },
        {
         "name": "Essai",
         "rawType": "object",
         "type": "unknown"
        },
        {
         "name": "Erreurs avant poke correct",
         "rawType": "object",
         "type": "unknown"
        }
       ],
       "ref": "3cf241a8-5a59-4add-96ac-c14dacce6422",
       "rows": [
        [
         "0",
         "Moyenne (avec 0)",
         "1.25"
        ],
        [
         "1",
         "Moyenne (sans 0)",
         "2.96"
        ],
        [
         "2",
         "1",
         "0"
        ],
        [
         "3",
         "2",
         "1"
        ],
        [
         "4",
         "3",
         "7"
        ],
        [
         "5",
         "4",
         "0"
        ],
        [
         "6",
         "5",
         "3"
        ],
        [
         "7",
         "6",
         "0"
        ],
        [
         "8",
         "7",
         "0"
        ],
        [
         "9",
         "8",
         "5"
        ]
       ],
       "shape": {
        "columns": 2,
        "rows": 10
       }
      },
      "text/html": [
       "<div>\n",
       "<style scoped>\n",
       "    .dataframe tbody tr th:only-of-type {\n",
       "        vertical-align: middle;\n",
       "    }\n",
       "\n",
       "    .dataframe tbody tr th {\n",
       "        vertical-align: top;\n",
       "    }\n",
       "\n",
       "    .dataframe thead th {\n",
       "        text-align: right;\n",
       "    }\n",
       "</style>\n",
       "<table border=\"1\" class=\"dataframe\">\n",
       "  <thead>\n",
       "    <tr style=\"text-align: right;\">\n",
       "      <th></th>\n",
       "      <th>Essai</th>\n",
       "      <th>Erreurs avant poke correct</th>\n",
       "    </tr>\n",
       "  </thead>\n",
       "  <tbody>\n",
       "    <tr>\n",
       "      <th>0</th>\n",
       "      <td>Moyenne (avec 0)</td>\n",
       "      <td>1.25</td>\n",
       "    </tr>\n",
       "    <tr>\n",
       "      <th>1</th>\n",
       "      <td>Moyenne (sans 0)</td>\n",
       "      <td>2.96</td>\n",
       "    </tr>\n",
       "    <tr>\n",
       "      <th>2</th>\n",
       "      <td>1</td>\n",
       "      <td>0</td>\n",
       "    </tr>\n",
       "    <tr>\n",
       "      <th>3</th>\n",
       "      <td>2</td>\n",
       "      <td>1</td>\n",
       "    </tr>\n",
       "    <tr>\n",
       "      <th>4</th>\n",
       "      <td>3</td>\n",
       "      <td>7</td>\n",
       "    </tr>\n",
       "    <tr>\n",
       "      <th>5</th>\n",
       "      <td>4</td>\n",
       "      <td>0</td>\n",
       "    </tr>\n",
       "    <tr>\n",
       "      <th>6</th>\n",
       "      <td>5</td>\n",
       "      <td>3</td>\n",
       "    </tr>\n",
       "    <tr>\n",
       "      <th>7</th>\n",
       "      <td>6</td>\n",
       "      <td>0</td>\n",
       "    </tr>\n",
       "    <tr>\n",
       "      <th>8</th>\n",
       "      <td>7</td>\n",
       "      <td>0</td>\n",
       "    </tr>\n",
       "    <tr>\n",
       "      <th>9</th>\n",
       "      <td>8</td>\n",
       "      <td>5</td>\n",
       "    </tr>\n",
       "  </tbody>\n",
       "</table>\n",
       "</div>"
      ],
      "text/plain": [
       "              Essai Erreurs avant poke correct\n",
       "0  Moyenne (avec 0)                       1.25\n",
       "1  Moyenne (sans 0)                       2.96\n",
       "2                 1                          0\n",
       "3                 2                          1\n",
       "4                 3                          7\n",
       "5                 4                          0\n",
       "6                 5                          3\n",
       "7                 6                          0\n",
       "8                 7                          0\n",
       "9                 8                          5"
      ]
     },
     "metadata": {},
     "output_type": "display_data"
    },
    {
     "data": {
      "application/vnd.microsoft.datawrangler.viewer.v0+json": {
       "columns": [
        {
         "name": "index",
         "rawType": "int64",
         "type": "integer"
        },
        {
         "name": "Essai",
         "rawType": "object",
         "type": "unknown"
        },
        {
         "name": "Erreurs avant poke correct",
         "rawType": "object",
         "type": "unknown"
        }
       ],
       "ref": "c4874c3c-a9ad-404e-beff-ae3b1b14aaab",
       "rows": [
        [
         "0",
         "Moyenne (avec 0)",
         "1.25"
        ],
        [
         "1",
         "Moyenne (sans 0)",
         "3.39"
        ],
        [
         "2",
         "1",
         "0"
        ],
        [
         "3",
         "2",
         "0"
        ],
        [
         "4",
         "3",
         "1"
        ],
        [
         "5",
         "4",
         "0"
        ],
        [
         "6",
         "5",
         "0"
        ],
        [
         "7",
         "6",
         "2"
        ],
        [
         "8",
         "7",
         "0"
        ],
        [
         "9",
         "8",
         "0"
        ]
       ],
       "shape": {
        "columns": 2,
        "rows": 10
       }
      },
      "text/html": [
       "<div>\n",
       "<style scoped>\n",
       "    .dataframe tbody tr th:only-of-type {\n",
       "        vertical-align: middle;\n",
       "    }\n",
       "\n",
       "    .dataframe tbody tr th {\n",
       "        vertical-align: top;\n",
       "    }\n",
       "\n",
       "    .dataframe thead th {\n",
       "        text-align: right;\n",
       "    }\n",
       "</style>\n",
       "<table border=\"1\" class=\"dataframe\">\n",
       "  <thead>\n",
       "    <tr style=\"text-align: right;\">\n",
       "      <th></th>\n",
       "      <th>Essai</th>\n",
       "      <th>Erreurs avant poke correct</th>\n",
       "    </tr>\n",
       "  </thead>\n",
       "  <tbody>\n",
       "    <tr>\n",
       "      <th>0</th>\n",
       "      <td>Moyenne (avec 0)</td>\n",
       "      <td>1.25</td>\n",
       "    </tr>\n",
       "    <tr>\n",
       "      <th>1</th>\n",
       "      <td>Moyenne (sans 0)</td>\n",
       "      <td>3.39</td>\n",
       "    </tr>\n",
       "    <tr>\n",
       "      <th>2</th>\n",
       "      <td>1</td>\n",
       "      <td>0</td>\n",
       "    </tr>\n",
       "    <tr>\n",
       "      <th>3</th>\n",
       "      <td>2</td>\n",
       "      <td>0</td>\n",
       "    </tr>\n",
       "    <tr>\n",
       "      <th>4</th>\n",
       "      <td>3</td>\n",
       "      <td>1</td>\n",
       "    </tr>\n",
       "    <tr>\n",
       "      <th>5</th>\n",
       "      <td>4</td>\n",
       "      <td>0</td>\n",
       "    </tr>\n",
       "    <tr>\n",
       "      <th>6</th>\n",
       "      <td>5</td>\n",
       "      <td>0</td>\n",
       "    </tr>\n",
       "    <tr>\n",
       "      <th>7</th>\n",
       "      <td>6</td>\n",
       "      <td>2</td>\n",
       "    </tr>\n",
       "    <tr>\n",
       "      <th>8</th>\n",
       "      <td>7</td>\n",
       "      <td>0</td>\n",
       "    </tr>\n",
       "    <tr>\n",
       "      <th>9</th>\n",
       "      <td>8</td>\n",
       "      <td>0</td>\n",
       "    </tr>\n",
       "  </tbody>\n",
       "</table>\n",
       "</div>"
      ],
      "text/plain": [
       "              Essai Erreurs avant poke correct\n",
       "0  Moyenne (avec 0)                       1.25\n",
       "1  Moyenne (sans 0)                       3.39\n",
       "2                 1                          0\n",
       "3                 2                          0\n",
       "4                 3                          1\n",
       "5                 4                          0\n",
       "6                 5                          0\n",
       "7                 6                          2\n",
       "8                 7                          0\n",
       "9                 8                          0"
      ]
     },
     "metadata": {},
     "output_type": "display_data"
    },
    {
     "ename": "",
     "evalue": "",
     "output_type": "error",
     "traceback": [
      "\u001b[1;31mThe Kernel crashed while executing code in the current cell or a previous cell. \n",
      "\u001b[1;31mPlease review the code in the cell(s) to identify a possible cause of the failure. \n",
      "\u001b[1;31mClick <a href='https://aka.ms/vscodeJupyterKernelCrash'>here</a> for more info. \n",
      "\u001b[1;31mView Jupyter <a href='command:jupyter.viewOutput'>log</a> for further details."
     ]
    }
   ],
   "source": [
    "import pandas as pd\n",
    "from ipyfilechooser import FileChooser\n",
    "from IPython.display import display\n",
    "import os\n",
    "from datetime import time\n",
    "\n",
    "# Étape 1 : Fonction de prétraitement du fichier original\n",
    "def preprocess_file(file_path):\n",
    "    df = pd.read_csv(file_path)\n",
    "\n",
    "    # Vérifie que la colonne de date/heure existe\n",
    "    if 'MM:DD:YYYY hh:mm:ss' not in df.columns:\n",
    "        raise ValueError(\"Colonne 'MM:DD:YYYY hh:mm:ss' absente du fichier.\")\n",
    "\n",
    "    # Séparer Date et Hour\n",
    "    df[['Date', 'Hour']] = df['MM:DD:YYYY hh:mm:ss'].astype(str).str.split(' ', expand=True)\n",
    "    df['Hour'] = pd.to_datetime(df['Hour'], format='%H:%M:%S', errors='coerce').dt.time\n",
    "    df['Date'] = pd.to_datetime(df['Date'], format='%m:%d:%Y', errors='coerce').dt.date\n",
    "\n",
    "    # Définir la période (Day/Night)\n",
    "    def get_period(hour):\n",
    "        if pd.isnull(hour):\n",
    "            return None\n",
    "        return 'Day' if time(7, 0, 1) <= hour <= time(19, 0, 0) else 'Night'\n",
    "    df['Period'] = df['Hour'].apply(get_period)\n",
    "\n",
    "    # Supprimer colonnes inutiles\n",
    "    drop_cols = [\n",
    "        'Library_Version', 'Session_type', 'Device_Number',\n",
    "        'Battery_Voltage', 'Motor_Turns', 'FR'\n",
    "    ]\n",
    "    df.drop(columns=[col for col in drop_cols if col in df.columns], inplace=True)\n",
    "\n",
    "    # Normaliser les chaînes (minuscule + trim)\n",
    "    if 'Event' in df.columns and 'Active_Poke' in df.columns:\n",
    "        df['Event'] = df['Event'].astype(str).str.strip().str.lower()\n",
    "        df['Active_Poke'] = df['Active_Poke'].astype(str).str.strip().str.lower()\n",
    "    else:\n",
    "        raise KeyError(\"Colonnes 'Event' et/ou 'Active_Poke' absentes du fichier.\")\n",
    "\n",
    "    return df\n",
    "\n",
    "# Étape 2 : Calcul de l’impulsivité avec insertion des moyennes en haut\n",
    "def calculer_impulsivite(df, original_file_path):\n",
    "    impulsivite_scores = []\n",
    "    compteur = 0\n",
    "    en_attente_de_correct = False\n",
    "\n",
    "    for _, row in df.iterrows():\n",
    "        event = row['Event']\n",
    "        active_poke = row['Active_Poke']\n",
    "\n",
    "        if event == 'pellet':\n",
    "            compteur = 0\n",
    "            en_attente_de_correct = True\n",
    "            continue\n",
    "\n",
    "        if en_attente_de_correct:\n",
    "            if event == active_poke:\n",
    "                impulsivite_scores.append(compteur)\n",
    "                compteur = 0\n",
    "                en_attente_de_correct = False\n",
    "            else:\n",
    "                compteur += 1\n",
    "\n",
    "    impulsivite_df = pd.DataFrame({\n",
    "        'Essai': range(1, len(impulsivite_scores) + 1),\n",
    "        'Erreurs avant poke correct': impulsivite_scores\n",
    "    })\n",
    "\n",
    "    # Moyennes\n",
    "    moyenne_globale = impulsivite_df['Erreurs avant poke correct'].mean()\n",
    "    moyenne_sans_zeros = impulsivite_df[impulsivite_df['Erreurs avant poke correct'] != 0]['Erreurs avant poke correct'].mean()\n",
    "\n",
    "    # Insertion des moyennes en haut du fichier\n",
    "    header_df = pd.DataFrame([\n",
    "        {'Essai': 'Moyenne (avec 0)', 'Erreurs avant poke correct': f\"{moyenne_globale:.2f}\"},\n",
    "        {'Essai': 'Moyenne (sans 0)', 'Erreurs avant poke correct': f\"{moyenne_sans_zeros:.2f}\"}\n",
    "    ])\n",
    "\n",
    "    final_df = pd.concat([header_df, impulsivite_df], ignore_index=True)\n",
    "\n",
    "    # Sauvegarde\n",
    "    base_name = os.path.splitext(os.path.basename(original_file_path))[0]\n",
    "    folder = os.path.dirname(original_file_path)\n",
    "    impulsivite_file_path = os.path.join(folder, f\"{base_name}_impulsivite.csv\")\n",
    "    final_df.to_csv(impulsivite_file_path, index=False)\n",
    "\n",
    "    # Affichage console\n",
    "    print(f\"\\n📊 Moyenne AVEC les 0 : {moyenne_globale:.2f}\")\n",
    "    print(f\"📊 Moyenne SANS les 0 : {moyenne_sans_zeros:.2f}\")\n",
    "    print(f\"✅ Fichier sauvegardé ici : {impulsivite_file_path}\")\n",
    "\n",
    "    display(final_df.head(10))\n",
    "\n",
    "# Étape 3 : Interface utilisateur\n",
    "def choisir_fichier_et_lancer():\n",
    "    def handle_file(chooser):\n",
    "        selected_file = chooser.selected\n",
    "        print(f\"\\n📂 Fichier sélectionné : {selected_file}\")\n",
    "        try:\n",
    "            df = preprocess_file(selected_file)\n",
    "            calculer_impulsivite(df, selected_file)\n",
    "        except Exception as e:\n",
    "            print(f\"❌ Erreur lors du traitement : {e}\")\n",
    "\n",
    "    file_chooser = FileChooser(\".\", title=\"<b>Sélectionnez le fichier CSV</b>\")\n",
    "    display(file_chooser)\n",
    "    file_chooser.register_callback(handle_file)\n",
    "\n",
    "# Lancer l’interface\n",
    "choisir_fichier_et_lancer()\n"
   ]
  }
 ],
 "metadata": {
  "kernelspec": {
   "display_name": "SleepRec2",
   "language": "python",
   "name": "python3"
  },
  "language_info": {
   "codemirror_mode": {
    "name": "ipython",
    "version": 3
   },
   "file_extension": ".py",
   "mimetype": "text/x-python",
   "name": "python",
   "nbconvert_exporter": "python",
   "pygments_lexer": "ipython3",
   "version": "3.11.10"
  }
 },
 "nbformat": 4,
 "nbformat_minor": 5
}
