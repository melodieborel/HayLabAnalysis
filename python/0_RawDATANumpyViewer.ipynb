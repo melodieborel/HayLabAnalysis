{
 "cells": [
  {
   "cell_type": "markdown",
   "metadata": {},
   "source": [
    "# This is just a notebook to visualise 1kHz filtered raw data"
   ]
  },
  {
   "cell_type": "markdown",
   "metadata": {},
   "source": [
    "## Setup everything"
   ]
  },
  {
   "cell_type": "markdown",
   "metadata": {},
   "source": [
    "### Import packages"
   ]
  },
  {
   "cell_type": "code",
   "execution_count": 1,
   "metadata": {},
   "outputs": [],
   "source": [
    "import numpy as np\n",
    "from scipy import signal\n",
    "\n",
    "from ephyviewer import mkQApp, MainViewer, TraceViewer, TimeFreqViewer\n",
    "from ephyviewer import InMemoryAnalogSignalSource\n",
    "import ephyviewer\n",
    "\n",
    "# add the Contrib dir that contains all tools developped by MB : mbTools.py\n",
    "#sys.path.append(os.path.join(os.path.dirname(sys.path[0]),'python'))\n",
    "#print(os.path.join(os.path.dirname(sys.path[0]),'python'))\n",
    "import mbTools"
   ]
  },
  {
   "cell_type": "markdown",
   "metadata": {},
   "source": [
    "### Import local config, create it if inexistant\n",
    "All user-specific configuration (projects, defautl path to files...) are stored in a file named localConfig.ini in the python subfolder of AudreyHayLab repo. It is ignored by git so that it remains truely local. If the file does not exist at beginning, it is created with default values that can be modified at whishes.\n",
    "\n",
    "> ℹ️ **Not in used for AB**"
   ]
  },
  {
   "cell_type": "code",
   "execution_count": 2,
   "metadata": {},
   "outputs": [
    {
     "name": "stdout",
     "output_type": "stream",
     "text": [
      "Local config file loaded from localConfig.ini\n"
     ]
    }
   ],
   "source": [
    "config = mbTools.localConf()\n",
    "#rawDataPath = config['DATA']['path']\n",
    "#print(f'All raw data are expected to be found in the folder: {rawDataPath}')\n",
    "#analysisPath = config['ANALYSIS']['path']\n",
    "#print(f'All analysis will be saved in the folder: {analysisPath}')\n",
    "#config.printAll()"
   ]
  },
  {
   "cell_type": "markdown",
   "metadata": {},
   "source": [
    "### Choose experiment"
   ]
  },
  {
   "cell_type": "code",
   "execution_count": 3,
   "metadata": {},
   "outputs": [
    {
     "name": "stdout",
     "output_type": "stream",
     "text": [
      "/Volumes/waking/audrey_hay/L1imaging/AnalysedMarch2023/Gaelle/Baseline_recording_ABmodified/RedLinesOK/session1/OpenEphys/\n"
     ]
    },
    {
     "data": {
      "application/vnd.jupyter.widget-view+json": {
       "model_id": "ef35153b2beb44bc96db84fd52560745",
       "version_major": 2,
       "version_minor": 0
      },
      "text/plain": [
       "FileChooser(path='/Volumes/waking/audrey_hay/L1imaging/AnalysedMarch2023/Gaelle/Baseline_recording_ABmodified/…"
      ]
     },
     "metadata": {},
     "output_type": "display_data"
    }
   ],
   "source": [
    "dpath = None\n",
    "%store -r dpath\n",
    "print(dpath)\n",
    "try:\n",
    "    theExpe = mbTools.experiment(dpath)\n",
    "except:\n",
    "    theExpe = mbTools.experiment()"
   ]
  },
  {
   "cell_type": "markdown",
   "metadata": {},
   "source": [
    "## Load LFPs data"
   ]
  },
  {
   "cell_type": "code",
   "execution_count": 4,
   "metadata": {},
   "outputs": [
    {
     "name": "stdout",
     "output_type": "stream",
     "text": [
      "NPY file loaded, with 31 channels and 940555 datapoint\n"
     ]
    },
    {
     "data": {
      "text/plain": [
       "(940555, 31)"
      ]
     },
     "execution_count": 4,
     "metadata": {},
     "output_type": "execute_result"
    }
   ],
   "source": [
    "All = theExpe.loadLFP()\n",
    "All.shape"
   ]
  },
  {
   "cell_type": "code",
   "execution_count": null,
   "metadata": {},
   "outputs": [],
   "source": [
    "#BOB\n",
    "theExpe.defineMap('EMG',[dict(canal = 27, status=1)])\n",
    "theExpe.defineMap('S1',[dict(canal = 5, status=1),\n",
    "                         dict(canal = 6, status=2)])\n",
    "theExpe.defineMap('PFC',[dict(canal = 2, status=1),\n",
    "                         dict(canal = 3, status=2)])\n",
    "theExpe.defineMap('CA1',[dict(canal = 29, status=1),\n",
    "                         dict(canal = 30, status=2)])\n",
    "theExpe.combineStructures(theExpe.channelsMap)"
   ]
  },
  {
   "cell_type": "code",
   "execution_count": null,
   "metadata": {},
   "outputs": [],
   "source": [
    "# Filtre parameter:\n",
    "f_lowcut = 1\n",
    "f_hicut = 50.\n",
    "fs = 1000\n",
    "nyq = 0.5 * fs\n",
    "N = 4                 # Filtre order\n",
    "Wn = [f_lowcut/nyq,f_hicut/nyq]  # Nyquist frequency fraction\n",
    "\n",
    "# Filtering:\n",
    "b, a = signal.butter(N, Wn, 'band')\n"
   ]
  },
  {
   "cell_type": "code",
   "execution_count": null,
   "metadata": {},
   "outputs": [],
   "source": [
    "#Blue\n",
    "PFC=All[:, 14]-All[:,15]\n",
    "PFC = signal.filtfilt(b, a, PFC)\n",
    "S1=All[:, 8]-All[:,9]\n",
    "S1 = signal.filtfilt(b, a, S1)\n",
    "EMG=All[:,20]\n",
    "combined = np.stack([S1,PFC, EMG/10], axis = 1)"
   ]
  },
  {
   "cell_type": "code",
   "execution_count": null,
   "metadata": {},
   "outputs": [],
   "source": [
    "#Pink\n",
    "PFC=All[:, 26+32]-All[:,27+32]\n",
    "EMG=All[:,9+32]\n",
    "S1=All[:, 0+32]-All[:,1+32]\n",
    "combined = np.stack([S1,PFC, EMG/10], axis = 1)"
   ]
  },
  {
   "cell_type": "markdown",
   "metadata": {},
   "source": [
    "### Visualise All"
   ]
  },
  {
   "cell_type": "code",
   "execution_count": 8,
   "metadata": {},
   "outputs": [],
   "source": [
    "%gui qt\n",
    "app = mkQApp()\n",
    "\n",
    "sample_rate = 1000.\n",
    "t_start = 0.\n",
    "\n",
    "#Create the main window that can contain several viewers\n",
    "win = MainViewer()\n",
    "view1 = TraceViewer.from_numpy(All, sample_rate, t_start, 'Signals')\n",
    "#add them to mainwindow\n",
    "\n",
    "view1.params['display_labels'] = True\n",
    "view1.params['scale_mode'] = 'same_for_all'\n",
    "view1.auto_scale()\n",
    "\n",
    "win.add_view(view1)\n",
    "\n",
    "\n",
    "#Run\n",
    "win.show()\n"
   ]
  },
  {
   "cell_type": "code",
   "execution_count": 9,
   "metadata": {},
   "outputs": [
    {
     "ename": "",
     "evalue": "",
     "output_type": "error",
     "traceback": [
      "\u001b[1;31mThe Kernel crashed while executing code in the current cell or a previous cell. \n",
      "\u001b[1;31mPlease review the code in the cell(s) to identify a possible cause of the failure. \n",
      "\u001b[1;31mClick <a href='https://aka.ms/vscodeJupyterKernelCrash'>here</a> for more info. \n",
      "\u001b[1;31mView Jupyter <a href='command:jupyter.viewOutput'>log</a> for further details."
     ]
    }
   ],
   "source": [
    "%gui qt\n",
    "app = mkQApp()\n",
    "\n",
    "sample_rate = 1000.\n",
    "t_start = 0.\n",
    "\n",
    "#Create the main window that can contain several viewers\n",
    "win = MainViewer()\n",
    "#view1 = TraceViewer.from_numpy(All, sample_rate, t_start, 'Signals')\n",
    "\n",
    "source = InMemoryAnalogSignalSource(combined, sample_rate, t_start)\n",
    "view1 = TraceViewer(source=source, name='trace')\n",
    "\n",
    "view1.params['display_labels'] = True\n",
    "view1.params['scale_mode'] = 'same_for_all'\n",
    "view1.auto_scale()\n",
    "\n",
    "#create a time freq viewer conencted to the same source\n",
    "view2 = TimeFreqViewer(source=source, name='tfr')\n",
    "\n",
    "view2.params['show_axis'] = True\n",
    "view2.params['timefreq', 'deltafreq'] = 1\n",
    "view2.params['timefreq', 'f_stop'] = 200\n",
    "#view2.by_channel_params['ch0', 'timefreq', 'f_stop'] = 20\n",
    "#view2.by_channel_params['ch1', 'timefreq', 'f_stop'] = 150\n",
    "view2.by_channel_params['ch0', 'visible'] = False\n",
    "view2.by_channel_params['ch1', 'visible'] = True\n",
    "view2.by_channel_params['ch1', 'clim'] = 100\n",
    "\n",
    "#add them to mainwindow\n",
    "win.add_view(view1)\n",
    "win.add_view(view2)\n",
    "\n",
    "\n",
    "#Run\n",
    "win.show()\n"
   ]
  }
 ],
 "metadata": {
  "kernelspec": {
   "display_name": "Python 3.9.12 ('formation')",
   "language": "python",
   "name": "python3"
  },
  "language_info": {
   "codemirror_mode": {
    "name": "ipython",
    "version": 3
   },
   "file_extension": ".py",
   "mimetype": "text/x-python",
   "name": "python",
   "nbconvert_exporter": "python",
   "pygments_lexer": "ipython3",
   "version": "3.11.7"
  },
  "orig_nbformat": 4,
  "vscode": {
   "interpreter": {
    "hash": "984d3fbee8ffa490637705ae3d7233e001ab0304f3daaca07b5aa8569b88ca53"
   }
  }
 },
 "nbformat": 4,
 "nbformat_minor": 2
}
