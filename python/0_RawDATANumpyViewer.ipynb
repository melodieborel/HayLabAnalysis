{
 "cells": [
  {
   "cell_type": "markdown",
   "metadata": {},
   "source": [
    "# This is just a notebook to visualise 1kHz filtered raw data"
   ]
  },
  {
   "cell_type": "markdown",
   "metadata": {},
   "source": [
    "## Setup everything"
   ]
  },
  {
   "cell_type": "markdown",
   "metadata": {},
   "source": [
    "### Import packages"
   ]
  },
  {
   "cell_type": "code",
   "execution_count": 1,
   "metadata": {},
   "outputs": [],
   "source": [
    "%load_ext autoreload\n",
    "%autoreload 2\n",
    "%reload_ext autoreload\n",
    "import os\n",
    "import numpy as np\n",
    "import matplotlib\n",
    "import matplotlib.pyplot as plt\n",
    "import pandas as pd\n",
    "\n",
    "from ephyviewer import mkQApp, MainViewer, TraceViewer, TimeFreqViewer, InMemoryAnalogSignalSource, EventList\n",
    "from ephyviewer import AnalogSignalSourceWithScatter, SpikeInterfaceRecordingSource, InMemoryEventSource\n",
    "\n",
    "import mbTools"
   ]
  },
  {
   "cell_type": "markdown",
   "metadata": {},
   "source": [
    "## Choose experiment\n",
    "Select the folder of the experiment to display. If the experiment was already analyzed, you can select the iterimAnalysis folder. Otherwise select the raw data recording folder."
   ]
  },
  {
   "cell_type": "code",
   "execution_count": 2,
   "metadata": {},
   "outputs": [
    {
     "name": "stdout",
     "output_type": "stream",
     "text": [
      "Local config file loaded from localConfig.ini\n",
      "current folder \\\\10.69.168.1\\crnldata\\waking\\audrey_hay\\NPX\\interimAnalysis\\NPX3\\Reuniens\\Expe_2024-07-24_18-40-02 contains a config file\n"
     ]
    },
    {
     "data": {
      "application/vnd.jupyter.widget-view+json": {
       "model_id": "279b600d0f5a4411bcdbcb6684a2ac5f",
       "version_major": 2,
       "version_minor": 0
      },
      "text/plain": [
       "FileChooser(path='\\\\10.69.168.1\\crnldata\\waking\\audrey_hay\\NPX\\interimAnalysis\\NPX3\\Reuniens\\Expe_2024-07-24_1…"
      ]
     },
     "metadata": {},
     "output_type": "display_data"
    }
   ],
   "source": [
    "theExpe = mbTools.experiment()"
   ]
  },
  {
   "cell_type": "markdown",
   "metadata": {},
   "source": [
    "## Load Data"
   ]
  },
  {
   "cell_type": "markdown",
   "metadata": {},
   "source": [
    "### Map the whole data into memory"
   ]
  },
  {
   "cell_type": "code",
   "execution_count": 3,
   "metadata": {},
   "outputs": [
    {
     "name": "stdout",
     "output_type": "stream",
     "text": [
      "Mapping found and loaded\n",
      "{'EMG': [{'canal': '6', 'status': 1}], 'PFC': [{'canal': '25', 'status': 2}, {'canal': '26', 'status': 1}], 'OFC': [{'canal': '21', 'status': 2}, {'canal': '22', 'status': 1}], 'M2': [{'canal': '28', 'status': 2}, {'canal': '29', 'status': 1}], 'M1': [{'canal': '19', 'status': 2}, {'canal': '18', 'status': 1}], 'S1fl': [{'canal': '17', 'status': 2}, {'canal': '16', 'status': 1}], 'RSP': [{'canal': '31', 'status': 2}, {'canal': '30', 'status': 1}], 'CA1-1': [{'canal': '1', 'status': 2}, {'canal': '0', 'status': 1}], 'V1': [{'canal': '4', 'status': 2}, {'canal': '3', 'status': 1}], 'CA1-2': [{'canal': '14', 'status': 2}, {'canal': '15', 'status': 1}], 'S1bf': [{'canal': '13', 'status': 2}, {'canal': '12', 'status': 1}], 'mEC': [{'canal': '10', 'status': 2}, {'canal': '11', 'status': 1}]}\n",
      "********found some .bin files********\n",
      "data recorded with Bonsai\n",
      "importing \\\\10.69.168.1\\crnldata\\waking\\audrey_hay\\NPX\\NPX3\\Reuniens\\Expe_2024-07-24_18-40-02\\OE_32ch_data_2024-07-24T18_40_02.bin\n",
      "applying offset\n",
      "converting to int16\n",
      "IntanLFP file loaded, with 32 channels and 136993792 datapoint\n",
      "\\\\10.69.168.1\\crnldata\\waking\\audrey_hay\\NPX\\NPX3\\Reuniens\\Expe_2024-07-24_18-40-02\\expeConfig.ini\n",
      "\n",
      "expeconfig exists so loading it\n",
      "the mapping: {'EMG': [{'canal': '6', 'status': 1}], 'PFC': [{'canal': '25', 'status': 2}, {'canal': '26', 'status': 1}], 'OFC': [{'canal': '21', 'status': 2}, {'canal': '22', 'status': 1}], 'M2': [{'canal': '28', 'status': 2}, {'canal': '29', 'status': 1}], 'M1': [{'canal': '19', 'status': 2}, {'canal': '18', 'status': 1}], 'S1fl': [{'canal': '17', 'status': 2}, {'canal': '16', 'status': 1}], 'RSP': [{'canal': '31', 'status': 2}, {'canal': '30', 'status': 1}], 'CA1-1': [{'canal': '1', 'status': 2}, {'canal': '0', 'status': 1}], 'V1': [{'canal': '4', 'status': 2}, {'canal': '3', 'status': 1}], 'CA1-2': [{'canal': '14', 'status': 2}, {'canal': '15', 'status': 1}], 'S1bf': [{'canal': '13', 'status': 2}, {'canal': '12', 'status': 1}], 'mEC': [{'canal': '10', 'status': 2}, {'canal': '11', 'status': 1}]}\n",
      "the offset:  51.7188644037642\n",
      "the sampling rate:  20046.759462452756\n",
      "********found some NPX files********\n",
      "the calculated sampling rate is 30070.23381387535 Hz\n",
      "launch start would be 2024-07-24 18:40:02.896598+02:00\n",
      "the interval to first clock is 0.00454\n",
      "the first timestamp for 1134968 samples, corresponding to 0.00454 s, would be 2024-07-24 18:40:02.901138+02:00\n",
      "there are 207047484 timestamps\n"
     ]
    },
    {
     "name": "stderr",
     "output_type": "stream",
     "text": [
      "c:\\Users\\manip\\Documents\\MB\\HayLabAnalysis\\.venv\\Lib\\site-packages\\spikeinterface\\core\\baserecording.py:488: UserWarning: Setting times with Recording.set_times() is not recommended because times are not always propagated across preprocessingUse this carefully!\n",
      "  warnings.warn(\n"
     ]
    }
   ],
   "source": [
    "#theExpe.loadAnimalInfo()\n",
    "theExpe.analyseExpe_findData(fullSampling=False)\n",
    "#theExpe.setnum_lfp_channels(32)"
   ]
  },
  {
   "cell_type": "markdown",
   "metadata": {},
   "source": [
    "### Extract submatrix of interest"
   ]
  },
  {
   "cell_type": "code",
   "execution_count": 4,
   "metadata": {},
   "outputs": [],
   "source": [
    "#initiate combined and channelLabels\n",
    "combined =  {}\n",
    "channelLabels = {}\n",
    "sample_rates = {}\n",
    "t_start = {}"
   ]
  },
  {
   "cell_type": "code",
   "execution_count": 5,
   "metadata": {},
   "outputs": [
    {
     "name": "stdout",
     "output_type": "stream",
     "text": [
      "dict_keys(['EMG', 'PFC', 'OFC', 'M2', 'M1', 'S1fl', 'RSP', 'CA1-1', 'V1', 'CA1-2', 'S1bf', 'mEC'])\n",
      "EMG -> [{'canal': '6', 'status': 1}]\n",
      "Getting floating signal of channel 6 for EMG\n",
      "PFC -> [{'canal': '25', 'status': 2}, {'canal': '26', 'status': 1}]\n",
      "Getting differential signal of channel 25 - channel 26 for PFC\n",
      "OFC -> [{'canal': '21', 'status': 2}, {'canal': '22', 'status': 1}]\n",
      "Getting differential signal of channel 21 - channel 22 for OFC\n",
      "M2 -> [{'canal': '28', 'status': 2}, {'canal': '29', 'status': 1}]\n",
      "Getting differential signal of channel 28 - channel 29 for M2\n",
      "M1 -> [{'canal': '19', 'status': 2}, {'canal': '18', 'status': 1}]\n",
      "Getting differential signal of channel 19 - channel 18 for M1\n",
      "S1fl -> [{'canal': '17', 'status': 2}, {'canal': '16', 'status': 1}]\n",
      "Getting differential signal of channel 17 - channel 16 for S1fl\n",
      "RSP -> [{'canal': '31', 'status': 2}, {'canal': '30', 'status': 1}]\n",
      "Getting differential signal of channel 31 - channel 30 for RSP\n",
      "CA1-1 -> [{'canal': '1', 'status': 2}, {'canal': '0', 'status': 1}]\n",
      "Getting differential signal of channel 1 - channel 0 for CA1-1\n",
      "V1 -> [{'canal': '4', 'status': 2}, {'canal': '3', 'status': 1}]\n",
      "Getting differential signal of channel 4 - channel 3 for V1\n",
      "CA1-2 -> [{'canal': '14', 'status': 2}, {'canal': '15', 'status': 1}]\n",
      "Getting differential signal of channel 14 - channel 15 for CA1-2\n",
      "S1bf -> [{'canal': '13', 'status': 2}, {'canal': '12', 'status': 1}]\n",
      "Getting differential signal of channel 13 - channel 12 for S1bf\n",
      "mEC -> [{'canal': '10', 'status': 2}, {'canal': '11', 'status': 1}]\n",
      "Getting differential signal of channel 10 - channel 11 for mEC\n",
      "LFP data combined\n",
      "\n"
     ]
    }
   ],
   "source": [
    "#LFP\n",
    "if 'OE_LFP' in theExpe.data:\n",
    "    sample_rates['LFP'] = theExpe.data['OE_LFP'].sampling_rate #20000\n",
    "    t_start['LFP'] = theExpe.data['OE_LFP'].start\n",
    "    combined['LFP'] = theExpe.data['OE_LFP'].combineStructures(\"All\")#['M1'])\n",
    "    channelLabels['LFP'] = theExpe.data['OE_LFP'].channelLabels[:]\n",
    "    print(\"LFP data combined\")\n",
    "else:\n",
    "    print(\"no LFP data to combine\")\n",
    "print()"
   ]
  },
  {
   "cell_type": "code",
   "execution_count": 6,
   "metadata": {},
   "outputs": [
    {
     "name": "stdout",
     "output_type": "stream",
     "text": [
      "no LFP data to combine\n"
     ]
    }
   ],
   "source": [
    "#LFP\n",
    "if 'LFP_DS' in theExpe.data:\n",
    "    theExpe.data['LFP_DS'].sampling_rate=1000\n",
    "    theExpe.data['LFP_DS'].start=0\n",
    "    print(theExpe.data['LFP_DS'].sampling_rate)\n",
    "\n",
    "    sample_rates['LFP_DS'] = theExpe.data['LFP_DS'].sampling_rate #20000\n",
    "    t_start['LFP_DS'] = theExpe.data['LFP_DS'].start\n",
    "    combined['LFP_DS'] = theExpe.data['LFP_DS'].combineStructures(\"All\")#['M1'])\n",
    "    channelLabels['LFP_DS'] = theExpe.data['LFP_DS'].channelLabels[:]\n",
    "    print(\"LFP data combined\")\n",
    "else:\n",
    "    print(\"no LFP data to combine\")"
   ]
  },
  {
   "cell_type": "code",
   "execution_count": 7,
   "metadata": {},
   "outputs": [
    {
     "name": "stdout",
     "output_type": "stream",
     "text": [
      "NPX data combined\n"
     ]
    }
   ],
   "source": [
    "#NPX\n",
    "if 'NPX' in theExpe.data:\n",
    "    sample_rates['NPX'] = theExpe.data['NPX'].sampling_rate #30000\n",
    "    t_start['NPX'] = theExpe.data['NPX'].start\n",
    "    combined['NPX'] = theExpe.data['NPX'].signal['spike']\n",
    "    channelLabels['NPX'] = theExpe.data['NPX'].channelLabels\n",
    "    print(\"NPX data combined\")\n",
    "else:\n",
    "    print(\"no NPX data to combine\")"
   ]
  },
  {
   "cell_type": "code",
   "execution_count": 8,
   "metadata": {},
   "outputs": [],
   "source": [
    "if 'Spindles' in theExpe.data:\n",
    "    structure = 'M1'\n",
    "    All_Spindle = theExpe.data['Spindles'][structure]\n",
    "    print(All_Spindle)"
   ]
  },
  {
   "cell_type": "code",
   "execution_count": null,
   "metadata": {},
   "outputs": [
    {
     "ename": "",
     "evalue": "",
     "output_type": "error",
     "traceback": [
      "\u001b[1;31mThe Kernel crashed while executing code in the current cell or a previous cell. \n",
      "\u001b[1;31mPlease review the code in the cell(s) to identify a possible cause of the failure. \n",
      "\u001b[1;31mClick <a href='https://aka.ms/vscodeJupyterKernelCrash'>here</a> for more info. \n",
      "\u001b[1;31mView Jupyter <a href='command:jupyter.viewOutput'>log</a> for further details."
     ]
    }
   ],
   "source": [
    "#this cell can be used to plot very precisely time of interest. Beware that it conflicts with ephyviewer however. It might be possible to have 2 notebooks open simultanéeously...\n",
    "if False:\n",
    "    %matplotlib widget\n",
    "    #you can confiure a y-offset and some scaling, have a look at the help of superCleanPlot\n",
    "    mbTools.tools.superCleanPlot(theExpe.data['OE_LFP'], theExpe.data['NPX'], structureLFP='All', canauxNPX=np.arange(30,59), time=1526.9, offset=50, pre=0.5, post=0.5) #canauxLFP=16, \n",
    "    picFN = theExpe.expe_path / 'MB-8978.svg'\n",
    "    plt.savefig(picFN, format=\"svg\")"
   ]
  },
  {
   "cell_type": "markdown",
   "metadata": {},
   "source": [
    "## Display"
   ]
  },
  {
   "cell_type": "code",
   "execution_count": null,
   "metadata": {},
   "outputs": [
    {
     "name": "stdout",
     "output_type": "stream",
     "text": [
      "debug True\n",
      "QT_MODE PySide6\n",
      "auto_scale same_for_all\n",
      "compute_auto_clim\n",
      "[ True False False False False False False False False False False False]\n",
      "refresh duration for LFP 0.0 s\n",
      "refresh duration for LFP 0.0 s\n",
      "refresh duration for LFP 0.0009999275207519531 s\n",
      "refresh duration for tfr 0.0 s\n",
      "viewer has moved already 0 51.7188644037642 0.0\n",
      "viewer has moved already 0 51.7188644037642 0.0\n"
     ]
    },
    {
     "name": "stdout",
     "output_type": "stream",
     "text": [
      "save_all_settings\n"
     ]
    }
   ],
   "source": [
    "%gui qt\n",
    "app = mkQApp()\n",
    "\n",
    "#Create the main window that can contain several viewers\n",
    "win = MainViewer(debug=True)\n",
    "\n",
    "if 'LFP' in combined:\n",
    "    source = InMemoryAnalogSignalSource(combined['LFP'], np.round(sample_rates['LFP']), t_start['LFP'], channel_names=channelLabels['LFP'])\n",
    "    view1 = TraceViewer(source=source, name = 'LFP')\n",
    "\n",
    "    #Parameters can be set in script\n",
    "    view1.params['display_labels'] = True\n",
    "    view1.params['scale_mode'] = 'same_for_all'\n",
    "    view1.auto_scale()\n",
    "\n",
    "    cmap = matplotlib.colormaps[\"hsv\"]#Wistia\"]\n",
    "    nCh = len(view1.by_channel_params.children())\n",
    "    for ch in range(nCh):\n",
    "        #view1.by_channel_params[f'ch{ch}', 'gain'] = 0.00002\n",
    "        #view1.by_channel_params[f'ch{ch}', 'offset'] = 0.1\n",
    "        view1.by_channel_params[f'ch{ch}', 'color'] = matplotlib.colors.to_hex(cmap(ch/nCh), keep_alpha=False)\n",
    "        pass\n",
    "\n",
    "    #create a time freq viewer conencted to the same source\n",
    "    view2 = TimeFreqViewer(source=source, name='tfr')\n",
    "    view2.params['show_axis'] = False\n",
    "    view2.params['timefreq', 'deltafreq'] = 1\n",
    "    #view2.by_channel_params['ch3', 'visible'] = False\n",
    "    view2.auto_scale()\n",
    "\n",
    "    win.add_view(view1)\n",
    "    win.add_view(view2)\n",
    "\n",
    "if 'LFP_DS' in combined:\n",
    "\n",
    "    if All_Spindle is not None:\n",
    "        #Create one data source with 3 event channel\n",
    "        all_events = []\n",
    "        conditions = ['All','Good','Bad']\n",
    "        for c,cond in enumerate(conditions):\n",
    "            match cond:\n",
    "                case 'All':\n",
    "                    selection = \"All_Spindle['toKeep'] | ~All_Spindle['toKeep']\"\n",
    "                case 'Good':\n",
    "                    selection = \"All_Spindle['toKeep']\"\n",
    "                case 'Bad':\n",
    "                    selection = \"~All_Spindle['toKeep']\"\n",
    "            ev_times = mbTools.convertTheoricIndex2realTime(All_Spindle.loc[pd.eval(selection),'peak time'].values, realFreq=sample_rates['LFP_DS'], offset=t_start['LFP_DS'])\n",
    "            ev_labels = [f'spindle {i}'for i in All_Spindle[pd.eval(selection)].index]\n",
    "            all_events.append({ 'time':ev_times, 'label':ev_labels, 'name': conditions[c] })\n",
    "        source_ev = InMemoryEventSource(all_events=all_events)\n",
    "\n",
    "        Spindle_peak = All_Spindle['peak time'].astype(int)\n",
    "        Spindle_start = All_Spindle['start time'].astype(int)\n",
    "        Spindle_end = All_Spindle['end time'].astype(int)\n",
    "\n",
    "        #create 2 familly scatters from theses 2 indexes\n",
    "        scatter_indexes = {0: Spindle_peak, 1: Spindle_start, 2: Spindle_end}\n",
    "        #and asign them to some channels each\n",
    "        scatter_channels = {0: [0], 1: [0], 2: [0]}\n",
    "        source = AnalogSignalSourceWithScatter(combined['LFP_DS'], sample_rates['LFP_DS'], t_start['LFP_DS'], scatter_indexes, scatter_channels, channel_names=channelLabels['LFP_DS'])\n",
    "        view_Events = EventList(source=source_ev, name='event')\n",
    "        \n",
    "    else:\n",
    "        source = InMemoryAnalogSignalSource(combined['LFP_DS'], sample_rates['LFP_DS'], t_start['LFP_DS'], channel_names=channelLabels['LFP_DS'])\n",
    "        view_Events = None\n",
    "    view_DS = TraceViewer(source=source, name = 'LFP_DS')\n",
    "\n",
    "    #Parameters can be set in script\n",
    "    view_DS.params['display_labels'] = True\n",
    "    view_DS.params['scale_mode'] = 'same_for_all'\n",
    "    view_DS.auto_scale()\n",
    "\n",
    "    cmap = matplotlib.colormaps[\"hsv\"]#Wistia\"]\n",
    "    nCh = len(view_DS.by_channel_params.children())\n",
    "    for ch in range(nCh):\n",
    "        #view_DS.by_channel_params[f'ch{ch}', 'gain'] = 0.00002\n",
    "        #view_DS.by_channel_params[f'ch{ch}', 'offset'] = 0.1\n",
    "        view_DS.by_channel_params[f'ch{ch}', 'color'] = matplotlib.colors.to_hex(cmap(ch/nCh), keep_alpha=False)\n",
    "        pass\n",
    "\n",
    "    #create a time freq viewer conencted to the same source\n",
    "    viewTFR_DS = TimeFreqViewer(source=source, name='tfr')\n",
    "    viewTFR_DS.params['show_axis'] = False\n",
    "    viewTFR_DS.params['timefreq', 'deltafreq'] = 1\n",
    "    #viewTFR_DS.by_channel_params['ch3', 'visible'] = False\n",
    "    viewTFR_DS.auto_scale()\n",
    "\n",
    "    win.add_view(view_DS)\n",
    "    win.add_view(viewTFR_DS)\n",
    "\n",
    "    \n",
    "else:\n",
    "    view_Events=None\n",
    "\n",
    "\n",
    "if 'NPX' in combined:\n",
    "    sig_source = SpikeInterfaceRecordingSource(recording=combined['NPX'], high_precision=False)\n",
    "    view3 = TraceViewer(source=sig_source, name='NPX')\n",
    "    win.add_view(view3)\n",
    "\n",
    "    #Parameters can be set in script\n",
    "    view3.params['display_labels'] = True\n",
    "    view3.params['scale_mode'] = 'same_for_all'\n",
    "    view3.auto_scale()\n",
    "\n",
    "    cmap = matplotlib.colormaps[\"hsv\"]#Wistia\"]\n",
    "    nCh = len(view3.by_channel_params.children())\n",
    "    for ch in range(nCh):\n",
    "        #view3.by_channel_params[f'ch{ch}', 'gain'] = 0.00002\n",
    "        #view3.by_channel_params[f'ch{ch}', 'offset'] = 0.1\n",
    "        view3.by_channel_params[f'ch{ch}', 'color'] = matplotlib.colors.to_hex(cmap(ch/nCh), keep_alpha=False)\n",
    "        pass\n",
    "\n",
    "if view_Events is not None:\n",
    "    win.add_view(view_Events)\n",
    "\n",
    "\n",
    "#Run\n",
    "win.show()"
   ]
  },
  {
   "cell_type": "code",
   "execution_count": null,
   "metadata": {},
   "outputs": [],
   "source": []
  }
 ],
 "metadata": {
  "kernelspec": {
   "display_name": ".venv",
   "language": "python",
   "name": "python3"
  },
  "language_info": {
   "codemirror_mode": {
    "name": "ipython",
    "version": 3
   },
   "file_extension": ".py",
   "mimetype": "text/x-python",
   "name": "python",
   "nbconvert_exporter": "python",
   "pygments_lexer": "ipython3",
   "version": "3.11.9"
  },
  "orig_nbformat": 4
 },
 "nbformat": 4,
 "nbformat_minor": 2
}
