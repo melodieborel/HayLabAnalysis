{
 "cells": [
  {
   "cell_type": "markdown",
   "metadata": {},
   "source": [
    "# This is just a notebook to visualise 1kHz filtered raw data"
   ]
  },
  {
   "cell_type": "markdown",
   "metadata": {},
   "source": [
    "## Setup everything"
   ]
  },
  {
   "cell_type": "markdown",
   "metadata": {},
   "source": [
    "### Import packages"
   ]
  },
  {
   "cell_type": "code",
   "execution_count": 12,
   "metadata": {},
   "outputs": [
    {
     "name": "stdout",
     "output_type": "stream",
     "text": [
      "The autoreload extension is already loaded. To reload it, use:\n",
      "  %reload_ext autoreload\n"
     ]
    }
   ],
   "source": [
    "%load_ext autoreload\n",
    "%autoreload 2\n",
    "%reload_ext autoreload\n",
    "import os\n",
    "import numpy as np\n",
    "import matplotlib\n",
    "import matplotlib.pyplot as plt\n",
    "import pandas as pd\n",
    "\n",
    "from ephyviewer import mkQApp, MainViewer, TraceViewer, TimeFreqViewer, InMemoryAnalogSignalSource, EventList\n",
    "from ephyviewer import AnalogSignalSourceWithScatter, SpikeInterfaceRecordingSource, InMemoryEventSource\n",
    "\n",
    "import mbTools"
   ]
  },
  {
   "cell_type": "markdown",
   "metadata": {},
   "source": [
    "## Choose experiment\n",
    "Select the folder of the experiment to display. If the experiment was already analyzed, you can select the iterimAnalysis folder. Otherwise select the raw data recording folder."
   ]
  },
  {
   "cell_type": "code",
   "execution_count": 13,
   "metadata": {},
   "outputs": [
    {
     "name": "stdout",
     "output_type": "stream",
     "text": [
      "Local config file loaded from localConfig.ini\n",
      "Local config file updated\n",
      "current folder /Users/ahay/Documents/DATA/AHCR/interimAnalysis/Bleu/20240220 contains a config file\n",
      "/Users/ahay/Documents/DATA/AHCR/interimAnalysis/Bleu/20240220/expeConfig1.ini\n",
      "/Users/ahay/Documents/DATA/AHCR/interimAnalysis/Bleu/20240220/expeConfig1.ini saved\n"
     ]
    },
    {
     "data": {
      "application/vnd.jupyter.widget-view+json": {
       "model_id": "2198ee46d0fd47789488de4e932ba40d",
       "version_major": 2,
       "version_minor": 0
      },
      "text/plain": [
       "FileChooser(path='/Users/ahay/Documents/DATA/AHCR/interimAnalysis/Bleu/20240220', filename='', title='<b>OpenE…"
      ]
     },
     "metadata": {},
     "output_type": "display_data"
    }
   ],
   "source": [
    "theExpe = mbTools.experiment()"
   ]
  },
  {
   "cell_type": "markdown",
   "metadata": {},
   "source": [
    "## Load Data"
   ]
  },
  {
   "cell_type": "markdown",
   "metadata": {},
   "source": [
    "### Map the whole data into memory"
   ]
  },
  {
   "cell_type": "code",
   "execution_count": 14,
   "metadata": {},
   "outputs": [
    {
     "name": "stdout",
     "output_type": "stream",
     "text": [
      "The autoreload extension is already loaded. To reload it, use:\n",
      "  %reload_ext autoreload\n",
      "/Users/ahay/Documents/DATA/AHCR/interimAnalysis/Bleu/channelMaps.ini\n",
      "Mapping found and loaded\n",
      "{'EMG': [{'canal': '20', 'status': 1}], 'Par * DS~': [{'canal': '5', 'status': 2}, {'canal': '4', 'status': 1}], 'PFC * chan 15': [{'canal': '14', 'status': 2}, {'canal': '15', 'status': 1}], 'OFC *': [{'canal': '12', 'status': 2}, {'canal': '13', 'status': 1}], 'S1 * DS+': [{'canal': '9', 'status': 2}, {'canal': '8', 'status': 1}], 'BLA': [{'canal': '10', 'status': 2}, {'canal': '11', 'status': 1}], 'mEC +': [{'canal': '2', 'status': 2}, {'canal': '3', 'status': 1}], 'CA1 +': [{'canal': '30', 'status': 1}, {'canal': '30', 'status': 0}], 'M1 * DS+': [{'canal': '16', 'status': 2}, {'canal': '17', 'status': 1}], 'RSP': [{'canal': '0', 'status': 2}, {'canal': '1', 'status': 1}], 'Perirhinal +': [{'canal': '6', 'status': 2}, {'canal': '7', 'status': 1}]}\n",
      "********found some RawDataChannelExtractedDS.npy files********\n",
      "the mapping: {'EMG': [{'canal': '20', 'status': 1}], 'Par * DS~': [{'canal': '5', 'status': 2}, {'canal': '4', 'status': 1}], 'PFC * chan 15': [{'canal': '14', 'status': 2}, {'canal': '15', 'status': 1}], 'OFC *': [{'canal': '12', 'status': 2}, {'canal': '13', 'status': 1}], 'S1 * DS+': [{'canal': '9', 'status': 2}, {'canal': '8', 'status': 1}], 'BLA': [{'canal': '10', 'status': 2}, {'canal': '11', 'status': 1}], 'mEC +': [{'canal': '2', 'status': 2}, {'canal': '3', 'status': 1}], 'CA1 +': [{'canal': '30', 'status': 1}, {'canal': '30', 'status': 0}], 'M1 * DS+': [{'canal': '16', 'status': 2}, {'canal': '17', 'status': 1}], 'RSP': [{'canal': '0', 'status': 2}, {'canal': '1', 'status': 1}], 'Perirhinal +': [{'canal': '6', 'status': 2}, {'canal': '7', 'status': 1}]}\n",
      "the offset:  0\n",
      "the sampling rate:  1000\n",
      "1000\n",
      "20.0\n",
      "20000.0\n",
      "********found some Spindles files********\n",
      "/Users/ahay/Documents/DATA/AHCR/interimAnalysis/Bleu/20240220/SPINDproperties_M1.csv\n",
      "M1\n",
      "file /Users/ahay/Documents/DATA/AHCR/interimAnalysis/Bleu/20240220/SPINDproperties_M1.csv was found so loading it\n",
      "/Users/ahay/Documents/DATA/AHCR/interimAnalysis/Bleu/20240220/SPINDproperties_S1.csv\n",
      "S1\n",
      "file /Users/ahay/Documents/DATA/AHCR/interimAnalysis/Bleu/20240220/SPINDproperties_S1.csv was found so loading it\n",
      "/Users/ahay/Documents/DATA/AHCR/interimAnalysis/Bleu/20240220/SPINDproperties_Par.csv\n",
      "Par\n",
      "file /Users/ahay/Documents/DATA/AHCR/interimAnalysis/Bleu/20240220/SPINDproperties_Par.csv was found so loading it\n",
      "/Users/ahay/Documents/DATA/AHCR/interimAnalysis/Bleu/20240220/SPINDproperties_RSP.csv\n",
      "RSP\n",
      "file /Users/ahay/Documents/DATA/AHCR/interimAnalysis/Bleu/20240220/SPINDproperties_RSP.csv was found so loading it\n",
      "/Users/ahay/Documents/DATA/AHCR/interimAnalysis/Bleu/20240220/SPINDproperties_OFC.csv\n",
      "OFC\n",
      "file /Users/ahay/Documents/DATA/AHCR/interimAnalysis/Bleu/20240220/SPINDproperties_OFC.csv was found so loading it\n",
      "/Users/ahay/Documents/DATA/AHCR/interimAnalysis/Bleu/20240220/SPINDproperties_PFC.csv\n",
      "PFC\n",
      "file /Users/ahay/Documents/DATA/AHCR/interimAnalysis/Bleu/20240220/SPINDproperties_PFC.csv was found so loading it\n"
     ]
    }
   ],
   "source": [
    "%load_ext autoreload\n",
    "%autoreload 2\n",
    "%reload_ext autoreload\n",
    "theExpe.analyseExpe_findData(fullSampling=False,spindleBN='SPINDproperties')"
   ]
  },
  {
   "cell_type": "code",
   "execution_count": 15,
   "metadata": {},
   "outputs": [
    {
     "name": "stdout",
     "output_type": "stream",
     "text": [
      "{'M1':      peak time  Duration  peak amp  start time   end time  Max freq  Max int  \\\n",
      "2      56428.0     573.0       1.0     56250.0    56823.0      16.0   3453.0   \n",
      "5      78944.0     885.0       1.0     78625.0    79510.0      16.0   3395.0   \n",
      "6      80653.0     559.0       1.0     80293.0    80852.0      16.0   2762.0   \n",
      "7      83315.0    1112.0       1.0     83112.0    84224.0      16.0   3935.0   \n",
      "15    167440.0     564.0       1.0    167203.0   167767.0      16.0   3018.0   \n",
      "..         ...       ...       ...         ...        ...       ...      ...   \n",
      "931  9099074.0    2013.0       2.0   9097914.0  9099927.0      16.0   4271.0   \n",
      "934  9109842.0    1571.0       1.0   9109610.0  9111181.0      16.0   4201.0   \n",
      "937  9114500.0     386.0       1.0   9114296.0  9114682.0      16.0   3734.0   \n",
      "939  9118827.0     601.0       1.0   9118408.0  9119009.0      16.0   4887.0   \n",
      "940  9131291.0    1464.0       1.0   9131109.0  9132573.0      16.0   2862.0   \n",
      "\n",
      "     Avg freq  Avg int  toKeep  \n",
      "2        12.0   1476.0    True  \n",
      "5        12.0   1259.0    True  \n",
      "6        12.0   1060.0    True  \n",
      "7        12.0   1470.0    True  \n",
      "15       12.0   1124.0    True  \n",
      "..        ...      ...     ...  \n",
      "931      12.0   1427.0    True  \n",
      "934      12.0   1422.0    True  \n",
      "937      12.0   1360.0    True  \n",
      "939      12.0   1528.0    True  \n",
      "940      12.0   1174.0    True  \n",
      "\n",
      "[496 rows x 10 columns], 'S1':       peak time  Duration  peak amp  start time   end time  Max freq  Max int  \\\n",
      "1       56789.0    1490.0       1.0     55832.0    57322.0      16.0   3328.0   \n",
      "2       79334.0     471.0       1.0     79034.0    79505.0      16.0   4067.0   \n",
      "4       84079.0    1518.0       1.0     83095.0    84613.0      16.0   5920.0   \n",
      "5       86820.0     487.0       1.0     86500.0    86987.0      16.0   4301.0   \n",
      "6       88122.0     362.0       1.0     87915.0    88277.0      16.0   3125.0   \n",
      "...         ...       ...       ...         ...        ...       ...      ...   \n",
      "1012  9111086.0    1996.0       1.0   9109688.0  9111684.0      16.0   5073.0   \n",
      "1013  9114450.0     694.0       1.0   9113960.0  9114654.0      16.0   4104.0   \n",
      "1017  9118468.0     877.0       1.0   9118268.0  9119145.0      16.0   5818.0   \n",
      "1018  9122047.0    1200.0       1.0   9121271.0  9122471.0      16.0   4899.0   \n",
      "1021  9131882.0    1134.0       1.0   9131263.0  9132397.0      16.0   3514.0   \n",
      "\n",
      "      Avg freq  Avg int  toKeep  \n",
      "1         12.0   1106.0    True  \n",
      "2         13.0   1388.0    True  \n",
      "4         12.0   1684.0    True  \n",
      "5         12.0   1548.0    True  \n",
      "6         12.0   1344.0    True  \n",
      "...        ...      ...     ...  \n",
      "1012      12.0   1567.0    True  \n",
      "1013      12.0   1443.0    True  \n",
      "1017      11.0   1569.0    True  \n",
      "1018      12.0   1531.0    True  \n",
      "1021      12.0   1293.0    True  \n",
      "\n",
      "[572 rows x 10 columns], 'Par':      peak time  Duration  peak amp  start time   end time  Max freq  Max int  \\\n",
      "1      48138.0     573.0       1.0     47771.0    48344.0      16.0   3241.0   \n",
      "2      49083.0     296.0       1.0     48922.0    49218.0      16.0   2535.0   \n",
      "5      56429.0     727.0       1.0     56264.0    56991.0      16.0   2432.0   \n",
      "7      83054.0    1173.0       1.0     82416.0    83589.0      16.0   3436.0   \n",
      "9     172076.0     853.0       1.0    171597.0   172450.0      16.0   2247.0   \n",
      "..         ...       ...       ...         ...        ...       ...      ...   \n",
      "908  9103786.0    1340.0       1.0   9102625.0  9103965.0      16.0   2809.0   \n",
      "909  9110419.0    1591.0       1.0   9109663.0  9111254.0      16.0   3110.0   \n",
      "911  9114283.0     477.0       1.0   9114110.0  9114587.0      16.0   3572.0   \n",
      "912  9121114.0    1163.0       1.0   9120477.0  9121640.0      16.0   3391.0   \n",
      "913  9132398.0     864.0       1.0   9132014.0  9132878.0      16.0   3485.0   \n",
      "\n",
      "     Avg freq  Avg int  toKeep  \n",
      "1        12.0   1082.0    True  \n",
      "2        12.0    994.0    True  \n",
      "5        12.0    990.0    True  \n",
      "7        12.0    959.0    True  \n",
      "9        12.0    950.0    True  \n",
      "..        ...      ...     ...  \n",
      "908      12.0    951.0    True  \n",
      "909      12.0   1004.0    True  \n",
      "911      12.0   1173.0    True  \n",
      "912      12.0    933.0    True  \n",
      "913      12.0   1253.0    True  \n",
      "\n",
      "[519 rows x 10 columns], 'RSP':       peak time  Duration  peak amp  start time   end time  Max freq  Max int  \\\n",
      "1       16775.0    1312.0       1.0     15660.0    16972.0      16.0   2906.0   \n",
      "2       21548.0     518.0       1.0     21325.0    21843.0      16.0   2483.0   \n",
      "3       24641.0     274.0       1.0     24505.0    24779.0      16.0   1963.0   \n",
      "4       25874.0     323.0       1.0     25721.0    26044.0      16.0   3315.0   \n",
      "5       41697.0     375.0       1.0     41506.0    41881.0      16.0   2354.0   \n",
      "...         ...       ...       ...         ...        ...       ...      ...   \n",
      "2736  9120016.0     507.0       1.0   9119729.0  9120236.0      16.0   2053.0   \n",
      "2737  9121114.0     340.0       1.0   9120946.0  9121286.0      16.0   2868.0   \n",
      "2738  9132367.0     740.0       1.0   9132195.0  9132935.0      16.0   3084.0   \n",
      "2739  9144922.0     447.0       1.0   9144655.0  9145102.0      16.0   2211.0   \n",
      "2740  9157692.0     385.0       1.0   9157490.0  9157875.0      16.0   2233.0   \n",
      "\n",
      "      Avg freq  Avg int  toKeep  \n",
      "1         11.0   1011.0    True  \n",
      "2         12.0    900.0    True  \n",
      "3         12.0    777.0    True  \n",
      "4         12.0   1169.0    True  \n",
      "5         12.0    895.0    True  \n",
      "...        ...      ...     ...  \n",
      "2736      12.0    726.0    True  \n",
      "2737      11.0   1155.0    True  \n",
      "2738      12.0   1067.0    True  \n",
      "2739      11.0    691.0    True  \n",
      "2740      12.0    914.0    True  \n",
      "\n",
      "[2426 rows x 10 columns], 'OFC':       peak time  Duration  peak amp  start time   end time  Max freq  Max int  \\\n",
      "13      79179.0     548.0       1.0     78791.0    79339.0      16.0   2039.0   \n",
      "16      83229.0     247.0       1.0     83101.0    83348.0      16.0   1624.0   \n",
      "30     172019.0     658.0       1.0    171887.0   172545.0      16.0   1718.0   \n",
      "34     251786.0     329.0       1.0    251620.0   251949.0      16.0   1159.0   \n",
      "42     272240.0     344.0       1.0    272046.0   272390.0      16.0   1233.0   \n",
      "...         ...       ...       ...         ...        ...       ...      ...   \n",
      "1890  9100939.0     355.0       1.0   9100756.0  9101111.0      16.0   1198.0   \n",
      "1893  9103786.0    1255.0       1.0   9103063.0  9104318.0      16.0   1929.0   \n",
      "1895  9110214.0    1483.0       1.0   9109577.0  9111060.0      16.0   2727.0   \n",
      "1897  9114514.0     706.0       1.0   9114257.0  9114963.0      16.0   1707.0   \n",
      "1900  9132387.0     430.0       1.0   9132135.0  9132565.0      16.0   1521.0   \n",
      "\n",
      "      Avg freq  Avg int  toKeep  \n",
      "13        12.0    777.0    True  \n",
      "16        12.0    712.0    True  \n",
      "30        12.0    612.0    True  \n",
      "34        12.0    477.0    True  \n",
      "42        12.0    510.0    True  \n",
      "...        ...      ...     ...  \n",
      "1890      12.0    536.0    True  \n",
      "1893      12.0    573.0    True  \n",
      "1895      12.0    825.0    True  \n",
      "1897      12.0    521.0    True  \n",
      "1900      12.0    644.0    True  \n",
      "\n",
      "[419 rows x 10 columns], 'PFC':       peak time  Duration  peak amp  start time   end time  Max freq  Max int  \\\n",
      "4       52327.0     399.0       1.0     52135.0    52534.0      16.0   6715.0   \n",
      "6       56958.0    1064.0       1.0     56301.0    57365.0      16.0   8254.0   \n",
      "8       79178.0    2144.0       1.0     78817.0    80961.0      16.0   7962.0   \n",
      "10      83209.0    2460.0       1.0     82641.0    85101.0      16.0  10272.0   \n",
      "17     167442.0     522.0       1.0    167233.0   167755.0      16.0   7308.0   \n",
      "...         ...       ...       ...         ...        ...       ...      ...   \n",
      "1453  9106687.0     880.0       1.0   9105954.0  9106834.0      16.0   4838.0   \n",
      "1455  9109849.0    1900.0       2.0   9109606.0  9111506.0      16.0  13702.0   \n",
      "1457  9114487.0     528.0       1.0   9114152.0  9114680.0      16.0   7686.0   \n",
      "1458  9121163.0     655.0       1.0   9120972.0  9121627.0      16.0   8057.0   \n",
      "1461  9132360.0    1680.0       1.0   9131416.0  9133096.0      16.0   8331.0   \n",
      "\n",
      "      Avg freq  Avg int  toKeep  \n",
      "4         12.0   2971.0    True  \n",
      "6         12.0   2971.0    True  \n",
      "8         12.0   2687.0    True  \n",
      "10        12.0   3013.0    True  \n",
      "17        12.0   3016.0    True  \n",
      "...        ...      ...     ...  \n",
      "1453      12.0   1838.0    True  \n",
      "1455      12.0   4373.0    True  \n",
      "1457      12.0   2663.0    True  \n",
      "1458      12.0   2450.0    True  \n",
      "1461      12.0   2934.0    True  \n",
      "\n",
      "[698 rows x 10 columns]}\n"
     ]
    }
   ],
   "source": [
    "print(theExpe.data['Spindles'])"
   ]
  },
  {
   "cell_type": "markdown",
   "metadata": {},
   "source": [
    "### Extract submatrix of interest"
   ]
  },
  {
   "cell_type": "code",
   "execution_count": 16,
   "metadata": {},
   "outputs": [],
   "source": [
    "#initiate combined and channelLabels\n",
    "combined =  {}\n",
    "channelLabels = {}\n",
    "sample_rates = {}\n",
    "t_start = {}\n",
    "#t_end = 300 #seconds"
   ]
  },
  {
   "cell_type": "markdown",
   "metadata": {},
   "source": [
    "### Extract submatrix of interest"
   ]
  },
  {
   "cell_type": "code",
   "execution_count": 17,
   "metadata": {},
   "outputs": [
    {
     "name": "stdout",
     "output_type": "stream",
     "text": [
      "no LFP data to combine\n"
     ]
    }
   ],
   "source": [
    "#LFP\n",
    "if 'OE_LFP' in theExpe.data:\n",
    "    sample_rates['LFP'] = theExpe.data['OE_LFP'].sampling_rate #20000\n",
    "    t_start['LFP'] = theExpe.data['OE_LFP'].start\n",
    "    combined['LFP'] = theExpe.data['OE_LFP'].combineStructures(\"All\")#['M1'])\n",
    "    channelLabels['LFP'] = theExpe.data['OE_LFP'].channelLabels[:]\n",
    "    print(\"LFP data combined\")\n",
    "else:\n",
    "    print(\"no LFP data to combine\")"
   ]
  },
  {
   "cell_type": "code",
   "execution_count": 18,
   "metadata": {},
   "outputs": [
    {
     "name": "stdout",
     "output_type": "stream",
     "text": [
      "1000\n"
     ]
    }
   ],
   "source": [
    "theExpe.data['LFP_DS'].sampling_rate=1000\n",
    "theExpe.data['LFP_DS'].start=0\n",
    "print(theExpe.data['LFP_DS'].sampling_rate)"
   ]
  },
  {
   "cell_type": "code",
   "execution_count": 19,
   "metadata": {},
   "outputs": [
    {
     "name": "stdout",
     "output_type": "stream",
     "text": [
      "dict_keys(['EMG', 'Par * DS~', 'PFC * chan 15', 'OFC *', 'S1 * DS+', 'BLA', 'mEC +', 'CA1 +', 'M1 * DS+', 'RSP', 'Perirhinal +'])\n",
      "EMG -> [{'canal': '20', 'status': 1}]\n",
      "Getting floating signal of channel 20 for EMG\n",
      "Par * DS~ -> [{'canal': '5', 'status': 2}, {'canal': '4', 'status': 1}]\n",
      "Getting differential signal of channel 5 - channel 4 for Par * DS~\n",
      "PFC * chan 15 -> [{'canal': '14', 'status': 2}, {'canal': '15', 'status': 1}]\n",
      "Getting differential signal of channel 14 - channel 15 for PFC * chan 15\n",
      "OFC * -> [{'canal': '12', 'status': 2}, {'canal': '13', 'status': 1}]\n",
      "Getting differential signal of channel 12 - channel 13 for OFC *\n",
      "S1 * DS+ -> [{'canal': '9', 'status': 2}, {'canal': '8', 'status': 1}]\n",
      "Getting differential signal of channel 9 - channel 8 for S1 * DS+\n",
      "BLA -> [{'canal': '10', 'status': 2}, {'canal': '11', 'status': 1}]\n",
      "Getting differential signal of channel 10 - channel 11 for BLA\n",
      "mEC + -> [{'canal': '2', 'status': 2}, {'canal': '3', 'status': 1}]\n",
      "Getting differential signal of channel 2 - channel 3 for mEC +\n",
      "CA1 + -> [{'canal': '30', 'status': 1}, {'canal': '30', 'status': 0}]\n",
      "Getting floating signal of channel 30 for CA1 +\n",
      "M1 * DS+ -> [{'canal': '16', 'status': 2}, {'canal': '17', 'status': 1}]\n",
      "Getting differential signal of channel 16 - channel 17 for M1 * DS+\n",
      "RSP -> [{'canal': '0', 'status': 2}, {'canal': '1', 'status': 1}]\n",
      "Getting differential signal of channel 0 - channel 1 for RSP\n",
      "Perirhinal + -> [{'canal': '6', 'status': 2}, {'canal': '7', 'status': 1}]\n",
      "Getting differential signal of channel 6 - channel 7 for Perirhinal +\n",
      "LFP data combined\n"
     ]
    }
   ],
   "source": [
    "#LFP\n",
    "if 'LFP_DS' in theExpe.data:\n",
    "    sample_rates['LFP_DS'] = theExpe.data['LFP_DS'].sampling_rate #20000\n",
    "    t_start['LFP_DS'] = theExpe.data['LFP_DS'].start\n",
    "    combined['LFP_DS'] = theExpe.data['LFP_DS'].combineStructures(\"All\")#['M1'])\n",
    "    channelLabels['LFP_DS'] = theExpe.data['LFP_DS'].channelLabels[:]\n",
    "    print(\"LFP data combined\")\n",
    "else:\n",
    "    print(\"no LFP data to combine\")"
   ]
  },
  {
   "cell_type": "code",
   "execution_count": 20,
   "metadata": {},
   "outputs": [
    {
     "name": "stdout",
     "output_type": "stream",
     "text": [
      "[[   286.72464291    465.47007197   -364.34381365 ...   -321.479472\n",
      "     208.13984933   -304.19478557]\n",
      " [   360.02647432    605.17853095   -494.72286115 ...   -476.81927054\n",
      "     322.11389408   -424.33979195]\n",
      " [   288.9930758     540.6598268    -402.08227197 ...   -478.36132137\n",
      "     364.12938751   -257.28041934]\n",
      " ...\n",
      " [  1144.13012125    691.80415105   -708.82905165 ...   -575.49523044\n",
      "     125.28480116  -1445.93494408]\n",
      " [  1736.34253229    816.74627692   -764.99692497 ...   -573.27219231\n",
      "      94.41668477  -1595.24030014]\n",
      " [    50.56811192    264.41274592 -16736.24226062 ...   -854.48517703\n",
      "     114.86325222   -274.99371362]]\n"
     ]
    }
   ],
   "source": [
    "print(combined['LFP_DS'])"
   ]
  },
  {
   "cell_type": "code",
   "execution_count": 21,
   "metadata": {},
   "outputs": [
    {
     "name": "stdout",
     "output_type": "stream",
     "text": [
      "no NPX data to combine\n"
     ]
    }
   ],
   "source": [
    "#NPX\n",
    "if 'NPX' in theExpe.data:\n",
    "    sample_rates['NPX'] = theExpe.data['NPX'].sampling_rate #30000\n",
    "    t_start['NPX'] = theExpe.data['NPX'].start\n",
    "    combined['NPX'] = theExpe.data['NPX'].signal['spike']\n",
    "    channelLabels['NPX'] = theExpe.data['NPX'].channelLabels\n",
    "    print(\"NPX data combined\")\n",
    "else:\n",
    "    print(\"no NPX data to combine\")"
   ]
  },
  {
   "cell_type": "code",
   "execution_count": 22,
   "metadata": {},
   "outputs": [
    {
     "name": "stdout",
     "output_type": "stream",
     "text": [
      "     peak time  Duration  peak amp  start time   end time  Max freq  Max int  \\\n",
      "2      56428.0     573.0       1.0     56250.0    56823.0      16.0   3453.0   \n",
      "5      78944.0     885.0       1.0     78625.0    79510.0      16.0   3395.0   \n",
      "6      80653.0     559.0       1.0     80293.0    80852.0      16.0   2762.0   \n",
      "7      83315.0    1112.0       1.0     83112.0    84224.0      16.0   3935.0   \n",
      "15    167440.0     564.0       1.0    167203.0   167767.0      16.0   3018.0   \n",
      "..         ...       ...       ...         ...        ...       ...      ...   \n",
      "931  9099074.0    2013.0       2.0   9097914.0  9099927.0      16.0   4271.0   \n",
      "934  9109842.0    1571.0       1.0   9109610.0  9111181.0      16.0   4201.0   \n",
      "937  9114500.0     386.0       1.0   9114296.0  9114682.0      16.0   3734.0   \n",
      "939  9118827.0     601.0       1.0   9118408.0  9119009.0      16.0   4887.0   \n",
      "940  9131291.0    1464.0       1.0   9131109.0  9132573.0      16.0   2862.0   \n",
      "\n",
      "     Avg freq  Avg int  toKeep  \n",
      "2        12.0   1476.0    True  \n",
      "5        12.0   1259.0    True  \n",
      "6        12.0   1060.0    True  \n",
      "7        12.0   1470.0    True  \n",
      "15       12.0   1124.0    True  \n",
      "..        ...      ...     ...  \n",
      "931      12.0   1427.0    True  \n",
      "934      12.0   1422.0    True  \n",
      "937      12.0   1360.0    True  \n",
      "939      12.0   1528.0    True  \n",
      "940      12.0   1174.0    True  \n",
      "\n",
      "[496 rows x 10 columns]\n"
     ]
    }
   ],
   "source": [
    "if 'Spindles' in theExpe.data:\n",
    "    structure = 'M1'\n",
    "    All_Spindle = theExpe.data['Spindles'][structure]\n",
    "    print(All_Spindle)"
   ]
  },
  {
   "cell_type": "code",
   "execution_count": 23,
   "metadata": {},
   "outputs": [],
   "source": [
    "#this cell can be used to plot very precisely time of interest. Beware that it conflicts with ephyviewer however. It might be possible to have 2 notebooks open simultanéeously...\n",
    "if False:\n",
    "    %matplotlib widget\n",
    "    #you can confiure a y-offset and some scaling, have a look at the help of superCleanPlot\n",
    "    mbTools.superCleanPlot(thedata.data['OE_LFP'], thedata.data['NPX'], structureLFP=['M1'], canauxNPX=[0], time=55) #canauxLFP=16, \n",
    "    picFN = os.path.sep.join([theExpe.rawDataPath,'A1-8978.svg'])\n",
    "    plt.savefig(picFN, format=\"svg\")"
   ]
  },
  {
   "cell_type": "markdown",
   "metadata": {},
   "source": [
    "## Display"
   ]
  },
  {
   "cell_type": "code",
   "execution_count": 24,
   "metadata": {},
   "outputs": [
    {
     "name": "stdout",
     "output_type": "stream",
     "text": [
      "debug True\n",
      "QT_MODE PySide6\n",
      "refresh duration for LFP_DS 9.393692016601562e-05 s\n",
      "refresh duration for LFP_DS 8.082389831542969e-05 s\n",
      "refresh duration for event 1.6689300537109375e-06 s\n"
     ]
    },
    {
     "name": "stdout",
     "output_type": "stream",
     "text": [
      "refresh duration for LFP_DS 0.0003540515899658203 s\n"
     ]
    }
   ],
   "source": [
    "%gui qt\n",
    "app = mkQApp()\n",
    "\n",
    "#Create the main window that can contain several viewers\n",
    "win = MainViewer(debug=True)\n",
    "\n",
    "if 'LFP' in combined:\n",
    "    source = InMemoryAnalogSignalSource(combined['LFP'], np.round(sample_rates['LFP']), t_start['LFP'], channel_names=channelLabels['LFP'])\n",
    "    view1 = TraceViewer(source=source, name = 'LFP')\n",
    "\n",
    "    #Parameters can be set in script\n",
    "    view1.params['display_labels'] = True\n",
    "    view1.params['scale_mode'] = 'same_for_all'\n",
    "    view1.auto_scale()\n",
    "\n",
    "    cmap = matplotlib.colormaps[\"hsv\"]#Wistia\"]\n",
    "    nCh = len(view1.by_channel_params.children())\n",
    "    for ch in range(nCh):\n",
    "        #view1.by_channel_params[f'ch{ch}', 'gain'] = 0.00002\n",
    "        #view1.by_channel_params[f'ch{ch}', 'offset'] = 0.1\n",
    "        view1.by_channel_params[f'ch{ch}', 'color'] = matplotlib.colors.to_hex(cmap(ch/nCh), keep_alpha=False)\n",
    "        pass\n",
    "\n",
    "    #create a time freq viewer conencted to the same source\n",
    "    view2 = TimeFreqViewer(source=source, name='tfr')\n",
    "    view2.params['show_axis'] = False\n",
    "    view2.params['timefreq', 'deltafreq'] = 1\n",
    "    #view2.by_channel_params['ch3', 'visible'] = False\n",
    "    view2.auto_scale()\n",
    "\n",
    "    win.add_view(view1)\n",
    "    #win.add_view(view2)\n",
    "\n",
    "if 'LFP_DS' in combined:\n",
    "\n",
    "    if All_Spindle is not None:\n",
    "        #Create one data source with 3 event channel\n",
    "        all_events = []\n",
    "        conditions = ['All','Good','Bad']\n",
    "        for c,cond in enumerate(conditions):\n",
    "            match cond:\n",
    "                case 'All':\n",
    "                    selection = \"All_Spindle['toKeep'] | ~All_Spindle['toKeep']\"\n",
    "                case 'Good':\n",
    "                    selection = \"All_Spindle['toKeep']\"\n",
    "                case 'Bad':\n",
    "                    selection = \"~All_Spindle['toKeep']\"\n",
    "            ev_times = mbTools.convertTheoricIndex2realTime(All_Spindle.loc[pd.eval(selection),'peak time'].values, realFreq=sample_rates['LFP_DS'], offset=t_start['LFP_DS'])\n",
    "            ev_labels = [f'spindle {i}'for i in All_Spindle[pd.eval(selection)].index]\n",
    "            all_events.append({ 'time':ev_times, 'label':ev_labels, 'name': conditions[c] })\n",
    "        source_ev = InMemoryEventSource(all_events=all_events)\n",
    "\n",
    "        Spindle_peak = All_Spindle['peak time'].astype(int)\n",
    "        Spindle_start = All_Spindle['start time'].astype(int)\n",
    "        Spindle_end = All_Spindle['end time'].astype(int)\n",
    "\n",
    "        #create 2 familly scatters from theses 2 indexes\n",
    "        scatter_indexes = {0: Spindle_peak, 1: Spindle_start, 2: Spindle_end}\n",
    "        #and asign them to some channels each\n",
    "        scatter_channels = {0: [0], 1: [0], 2: [0]}\n",
    "        source = AnalogSignalSourceWithScatter(combined['LFP_DS'], sample_rates['LFP_DS'], t_start['LFP_DS'], scatter_indexes, scatter_channels, channel_names=channelLabels['LFP_DS'])\n",
    "        view_Events = EventList(source=source_ev, name='event')\n",
    "        \n",
    "    else:\n",
    "        source = InMemoryAnalogSignalSource(combined['LFP_DS'], sample_rates['LFP_DS'], t_start['LFP_DS'], channel_names=channelLabels['LFP_DS'])\n",
    "        view_Events = None\n",
    "    view_DS = TraceViewer(source=source, name = 'LFP_DS')\n",
    "\n",
    "    #Parameters can be set in script\n",
    "    view_DS.params['display_labels'] = True\n",
    "    view_DS.params['scale_mode'] = 'same_for_all'\n",
    "    view_DS.auto_scale()\n",
    "\n",
    "    cmap = matplotlib.colormaps[\"hsv\"]#Wistia\"]\n",
    "    nCh = len(view_DS.by_channel_params.children())\n",
    "    for ch in range(nCh):\n",
    "        #view_DS.by_channel_params[f'ch{ch}', 'gain'] = 0.00002\n",
    "        #view_DS.by_channel_params[f'ch{ch}', 'offset'] = 0.1\n",
    "        view_DS.by_channel_params[f'ch{ch}', 'color'] = matplotlib.colors.to_hex(cmap(ch/nCh), keep_alpha=False)\n",
    "        pass\n",
    "\n",
    "    win.add_view(view_DS)\n",
    "else:\n",
    "    view_Events=None\n",
    "\n",
    "\n",
    "if 'NPX' in combined:\n",
    "    sig_source = SpikeInterfaceRecordingSource(recording=combined['NPX'])\n",
    "    #view3 = TraceViewer.from_numpy(combined['NPX'], sample_rates['NPX'], t_start['NPX'], 'NPX', channel_names=channelLabels['NPX'])\n",
    "    view3 = TraceViewer(source=sig_source, name='NPX')\n",
    "    win.add_view(view3)\n",
    "\n",
    "    #Parameters can be set in script\n",
    "    view3.params['display_labels'] = True\n",
    "    view3.params['scale_mode'] = 'same_for_all'\n",
    "    view3.auto_scale()\n",
    "\n",
    "    cmap = matplotlib.colormaps[\"hsv\"]#Wistia\"]\n",
    "    nCh = len(view3.by_channel_params.children())\n",
    "    for ch in range(nCh):\n",
    "        #view3.by_channel_params[f'ch{ch}', 'gain'] = 0.00002\n",
    "        #view3.by_channel_params[f'ch{ch}', 'offset'] = 0.1\n",
    "        view3.by_channel_params[f'ch{ch}', 'color'] = matplotlib.colors.to_hex(cmap(ch/nCh), keep_alpha=False)\n",
    "        pass\n",
    "\n",
    "if view_Events is not None:\n",
    "    win.add_view(view_Events)\n",
    "\n",
    "\n",
    "#Run\n",
    "win.show()\n",
    "#app.exec()  #if commented, the app is shown and fonctionnal. Maybe detecting buttons. the Python icon doesn't close any better"
   ]
  }
 ],
 "metadata": {
  "kernelspec": {
   "display_name": ".venv",
   "language": "python",
   "name": "python3"
  },
  "language_info": {
   "codemirror_mode": {
    "name": "ipython",
    "version": 3
   },
   "file_extension": ".py",
   "mimetype": "text/x-python",
   "name": "python",
   "nbconvert_exporter": "python",
   "pygments_lexer": "ipython3",
   "version": "3.11.9"
  },
  "orig_nbformat": 4
 },
 "nbformat": 4,
 "nbformat_minor": 2
}
