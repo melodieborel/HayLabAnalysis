{
 "cells": [
  {
   "cell_type": "markdown",
   "metadata": {},
   "source": [
    "# Define the average Reward position on video files\n",
    "Choose a path that contains one or mutliple .avi files. A window will open and the first frame of each video will be diplayed. Click on the frame where the reward position was. A red cross will appear at the location. Click again to change the location of the reward. Press \"s\" to save the last position and to go to the next video. The average X Y positions will be saved as a text file in the original path. Press \"q\" when you processed enough videos to get a good average of where the reward was."
   ]
  },
  {
   "cell_type": "code",
   "execution_count": 10,
   "metadata": {},
   "outputs": [],
   "source": [
    "##### LOCAL or INTERACTIVE NODES #####\n",
    "\n",
    "# Path to the root folder containing video files\n",
    "video_folder = '//10.69.168.1/crnldata/forgetting/Carla/Cheeseboard/'"
   ]
  },
  {
   "cell_type": "code",
   "execution_count": 12,
   "metadata": {},
   "outputs": [
    {
     "name": "stdout",
     "output_type": "stream",
     "text": [
      "Quitting program...\n"
     ]
    },
    {
     "ename": "NameError",
     "evalue": "name 'reward_position' is not defined",
     "output_type": "error",
     "traceback": [
      "\u001b[1;31m---------------------------------------------------------------------------\u001b[0m",
      "\u001b[1;31mNameError\u001b[0m                                 Traceback (most recent call last)",
      "Cell \u001b[1;32mIn[12], line 69\u001b[0m\n\u001b[0;32m     66\u001b[0m     \u001b[38;5;28;01mif\u001b[39;00m quit:\n\u001b[0;32m     67\u001b[0m         \u001b[38;5;28;01mbreak\u001b[39;00m\n\u001b[1;32m---> 69\u001b[0m \u001b[38;5;28;01mif\u001b[39;00m \u001b[43mreward_position\u001b[49m:\n\u001b[0;32m     70\u001b[0m     txt_file_path \u001b[38;5;241m=\u001b[39m os\u001b[38;5;241m.\u001b[39mpath\u001b[38;5;241m.\u001b[39msplitext(video_folder)[\u001b[38;5;241m2\u001b[39m] \u001b[38;5;241m+\u001b[39m \u001b[38;5;124m\"\u001b[39m\u001b[38;5;124m_Reward_position.txt\u001b[39m\u001b[38;5;124m\"\u001b[39m\n\u001b[0;32m     71\u001b[0m     \u001b[38;5;28;01mwith\u001b[39;00m \u001b[38;5;28mopen\u001b[39m(txt_file_path, \u001b[38;5;124m'\u001b[39m\u001b[38;5;124mw\u001b[39m\u001b[38;5;124m'\u001b[39m) \u001b[38;5;28;01mas\u001b[39;00m f:\n",
      "\u001b[1;31mNameError\u001b[0m: name 'reward_position' is not defined"
     ]
    }
   ],
   "source": [
    "import os\n",
    "import cv2\n",
    "import numpy as np\n",
    "\n",
    "# Global variables\n",
    "click_position = None\n",
    "frame_copy = None\n",
    "quit=False\n",
    "\n",
    "reward_postion=[]\n",
    "# Mouse click event handler\n",
    "def on_click(event, x, y, flags, param):\n",
    "    global click_position, frame_copy\n",
    "    if event == cv2.EVENT_LBUTTONDOWN:  # Left mouse button click\n",
    "        click_position = (x, y)\n",
    "        print(f\"Clicked at: ({x}, {y})\")\n",
    "        \n",
    "        # Draw a red cross at the clicked position\n",
    "        frame_copy = frame.copy()\n",
    "        cv2.line(frame_copy, (x-20, y), (x+20, y), (0, 0, 255), 2)  # Horizontal line\n",
    "        cv2.line(frame_copy, (x, y-20), (x, y+20), (0, 0, 255), 2)  # Vertical line\n",
    "\n",
    "# Loop through the video folder\n",
    "for root, dirs, files in os.walk(video_folder):\n",
    "    video_files = [f for f in files if f.endswith(('.avi', '.mp4', '.mov'))]\n",
    "    \n",
    "    for video_file in video_files:\n",
    "        video_path = os.path.join(root, video_file)\n",
    "        video_path = os.path.normpath(video_path)\n",
    "\n",
    "\n",
    " # Open the video capture\n",
    "        cap = cv2.VideoCapture(video_path)\n",
    "        \n",
    "        ret, frame = cap.read()\n",
    "        if not ret:\n",
    "            print(f\"Error: Could not read first frame of {video_file}\")\n",
    "            cap.release()\n",
    "            continue\n",
    "\n",
    "        frame_copy = frame.copy()\n",
    "        cv2.imshow(video_path, frame_copy)\n",
    "        cv2.setMouseCallback(video_path, on_click)\n",
    "        click_position = None\n",
    "\n",
    "        while not quit:\n",
    "            cv2.imshow(video_path, frame_copy)\n",
    "            key = cv2.waitKey(1) & 0xFF\n",
    "\n",
    "            if key == ord('q'):  # Quit everything\n",
    "                cap.release()\n",
    "                cv2.destroyAllWindows()\n",
    "                quit = True\n",
    "                print(\"Quitting program...\")\n",
    "            \n",
    "            elif key == ord('s'):  # Skip to next video\n",
    "                if click_position:\n",
    "                    reward_position.append(click_position)\n",
    "                break\n",
    "\n",
    "        cap.release()\n",
    "        cv2.destroyAllWindows()\n",
    "\n",
    "        if quit:\n",
    "            break\n",
    "    if quit:\n",
    "        break\n",
    "\n",
    "if reward_position:\n",
    "    txt_file_path = os.path.splitext(video_folder)[2] + \"_Reward_position.txt\"\n",
    "    with open(txt_file_path, 'w') as f:\n",
    "        f.write(f\"Reward Position: x={round(np.mean(reward_position, axis=0)[0],2)}, y={round(np.mean(reward_position, axis=0)[1],2)}\")\n",
    "    print(f\"Saved reward position ({round(np.mean(reward_position, axis=0)[0],2)}, {round(np.mean(reward_position, axis=0)[1],2)}) to {txt_file_path}\")\n"
   ]
  }
 ],
 "metadata": {
  "kernelspec": {
   "display_name": "SleepRec2",
   "language": "python",
   "name": "python3"
  },
  "language_info": {
   "codemirror_mode": {
    "name": "ipython",
    "version": 3
   },
   "file_extension": ".py",
   "mimetype": "text/x-python",
   "name": "python",
   "nbconvert_exporter": "python",
   "pygments_lexer": "ipython3",
   "version": "3.11.10"
  }
 },
 "nbformat": 4,
 "nbformat_minor": 2
}
