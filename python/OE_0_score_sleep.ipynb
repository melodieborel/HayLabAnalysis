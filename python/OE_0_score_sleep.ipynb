{
 "cells": [
  {
   "cell_type": "markdown",
   "metadata": {},
   "source": [
    "# Visualisation of LFP & Sleep scoring"
   ]
  },
  {
   "cell_type": "markdown",
   "metadata": {},
   "source": [
    "### Import recordings"
   ]
  },
  {
   "cell_type": "markdown",
   "metadata": {},
   "source": [
    "Load packages"
   ]
  },
  {
   "cell_type": "code",
   "execution_count": 1,
   "metadata": {},
   "outputs": [],
   "source": [
    "import numpy as np\n",
    "import pandas as pd\n",
    "from pathlib import Path\n",
    "from scipy import signal\n",
    "import os\n",
    "from IPython.display import display\n",
    "from ipyfilechooser import FileChooser\n",
    "from ephyviewer import mkQApp, MainViewer, TraceViewer\n",
    "import ephyviewer\n",
    "from scipy.stats import zscore\n",
    "from itertools import groupby\n",
    "from ephyviewer import mkQApp, MainViewer, TraceViewer, TimeFreqViewer\n",
    "from ephyviewer import InMemoryAnalogSignalSource\n",
    "from ephyviewer import mkQApp, MainViewer, TraceViewer, CsvEpochSource, EpochEncoder\n",
    "import json\n",
    "import IPython\n",
    "from matplotlib import cm\n",
    "from matplotlib.colors import to_hex\n",
    "import ast\n",
    "\n",
    "%matplotlib widget"
   ]
  },
  {
   "cell_type": "code",
   "execution_count": 2,
   "metadata": {},
   "outputs": [],
   "source": [
    "#Load LFP coordinates \n",
    "notebook_path = Path(\"/\".join(IPython.extract_module_locals()[1][\"__vsc_ipynb_file__\"].split(\"/\")[-5:]))\n",
    "Channels = f'{notebook_path.parent}/_LFP_coordinates_of_all_mice.csv'\n",
    "all_LFPcoordinates = pd.read_csv(Channels, index_col=0)"
   ]
  },
  {
   "cell_type": "markdown",
   "metadata": {},
   "source": [
    "Choose OpenEphys folder"
   ]
  },
  {
   "cell_type": "code",
   "execution_count": 3,
   "metadata": {},
   "outputs": [
    {
     "data": {
      "application/vnd.jupyter.widget-view+json": {
       "model_id": "cd1bddc87cd1472493444330c319bdc3",
       "version_major": 2,
       "version_minor": 0
      },
      "text/plain": [
       "FileChooser(path='\\\\10.69.168.1\\crnldata\\forgetting\\Carla', filename='', title='<b>Go inside the folder contai…"
      ]
     },
     "metadata": {},
     "output_type": "display_data"
    }
   ],
   "source": [
    "try: # tries to retrieve dpath either from a previous run or from a previous notebook\n",
    "    %store -r dpath\n",
    "except:\n",
    "    print(\"the path was not defined in store\")\n",
    "dpath = \"//10.69.168.1/crnldata/forgetting/Carla/\"\n",
    "\n",
    "fc1 = FileChooser(dpath,select_default=True, show_only_dirs = True, title = \"<b>Go inside the folder containing the LFP raw file</b>\")\n",
    "display(fc1)\n",
    "\n",
    "# Sample callback function\n",
    "def update_my_folder(chooser):\n",
    "    global dpath\n",
    "    dpath = chooser.selected\n",
    "    %store dpath\n",
    "    return \n",
    "\n",
    "# Register callback function\n",
    "fc1.register_callback(update_my_folder)"
   ]
  },
  {
   "cell_type": "markdown",
   "metadata": {},
   "source": [
    "Load LFPs data "
   ]
  },
  {
   "cell_type": "code",
   "execution_count": 4,
   "metadata": {},
   "outputs": [
    {
     "name": "stdout",
     "output_type": "stream",
     "text": [
      "continuous.dat file\n",
      "Metadata found\n",
      "LFPs timestamps file found\n",
      "sample rate = 1000.0 Hz\n",
      "54 channels recorded\n",
      "3970 min of recording\n"
     ]
    }
   ],
   "source": [
    "folder_base = Path(dpath) \n",
    "\n",
    "if Path(f'{folder_base}\\DataFrame_rawdataDS.pkl').exists(): # prefer loading downsample file over original file\n",
    "    print('DataFrame_rawdataDS.pkl file')\n",
    "    LFPfile = Path(f'{folder_base}\\DataFrame_rawdataDS.pkl')\n",
    "    LFPs_df = pd.read_pickle(LFPfile)\n",
    "    samplerate = 1000 \n",
    "    numchannel = LFPs_df.shape[1]\n",
    "    rec_ch_list = LFPs_df.columns.values\n",
    "    # Load LFPs timestamps \n",
    "    for file_pathTS in folder_base.parent.parent.glob('**/continuous/*/timeStampsDS.npy'):\n",
    "        print('LFPs timestamps file found')\n",
    "        LFPtimestamps = np.load(file_pathTS)  \n",
    "elif Path(f'{folder_base}\\RawDataChannelExtractedDS.npy').exists():\n",
    "    print('RawDataChannelExtractedDS.npy file')\n",
    "    LFPfile = Path(f'{folder_base}\\RawDataChannelExtractedDS.npy')\n",
    "    DataRec = np.load(LFPfile, mmap_mode= 'r')\n",
    "    samplerate = 1000 \n",
    "    numchannel = 32\n",
    "    rec_ch_list = np.arange(0,numchannel,1)\n",
    "    LFPs_df=pd.DataFrame(DataRec, columns=rec_ch_list)\n",
    "    print('No metadata found')\n",
    "elif Path(f'{folder_base}\\continuous.dat').exists():\n",
    "    print('continuous.dat file')\n",
    "    LFPfile = Path(f'{folder_base}\\continuous.dat')\n",
    "    DataRec = np.fromfile(LFPfile, dtype=\"int16\")\n",
    "    filepath = Path(os.path.join(folder_base.parent.parent, f'structure.oebin'))\n",
    "    with open(filepath) as f:\n",
    "        metadata = json.load(f)\n",
    "    samplerate = metadata['continuous'][0]['sample_rate']  \n",
    "    numchannel = metadata['continuous'][0]['num_channels'] \n",
    "    rec_ch_list = np.array([int(''.join(c for c in metadata['continuous'][0]['channels'][x]['channel_name'] if c.isdigit()))-1 for x in range(0, len(metadata['continuous'][0]['channels']))])\n",
    "    DataRec = DataRec.reshape(-1,numchannel)\n",
    "    print('Metadata found')\n",
    "    # Load LFPs timestamps \n",
    "    for file_pathTS in folder_base.parent.parent.glob('**/continuous/*/timeStamps.npy'):\n",
    "        print('LFPs timestamps file found')\n",
    "        LFPtimestamps = np.load(file_pathTS) \n",
    "    LFPs_df=pd.DataFrame(DataRec, columns=rec_ch_list) \n",
    "else: \n",
    "    print('no LFPs file found')\n",
    "\n",
    "print('sample rate =', samplerate, 'Hz')\n",
    "print(numchannel, 'channels recorded')\n",
    "print(round(LFPs_df.shape[0]/samplerate/60), 'min of recording')"
   ]
  },
  {
   "cell_type": "markdown",
   "metadata": {},
   "source": [
    "Downsample LFP data to 1kHz if needed & save it"
   ]
  },
  {
   "cell_type": "code",
   "execution_count": 5,
   "metadata": {},
   "outputs": [],
   "source": [
    "if samplerate > 1000:\n",
    "    new_sampling_rate = 1000 # Hz\n",
    "    Nmber_points = int(np.shape(LFPs_df)[0] * new_sampling_rate / samplerate)\n",
    "    LFPs_df_DS = pd.DataFrame(signal.resample(LFPs_df, Nmber_points, axis = 0), columns=LFPs_df.columns.values)\n",
    "    LFPtimestampsDS = LFPtimestamps[::int(samplerate/new_sampling_rate)][:-1]\n",
    "    samplerate = new_sampling_rate\n",
    "    LFPs_df_DS.to_pickle(f'{LFPfile.parent}/DataFrame_rawdataDS.pkl')\n",
    "    np.save(f'{file_pathTS.parent}/timeStampsDS.npy', LFPtimestampsDS)\n",
    "    LFPs_df = LFPs_df_DS\n",
    "    LFPtimestamps = LFPtimestampsDS\n",
    "# eventually delete original files to gain space"
   ]
  },
  {
   "cell_type": "markdown",
   "metadata": {},
   "source": [
    "Identify electrodes & create differential LFPs"
   ]
  },
  {
   "cell_type": "code",
   "execution_count": 5,
   "metadata": {},
   "outputs": [
    {
     "name": "stdout",
     "output_type": "stream",
     "text": [
      "/!\\ Mutliple mice recorded at the same time = ['RondRouge', 'RondOrange', 'RondMarron', 'RondNoir']. The n°3 was choosen automatically = RondMarron.\n",
      "RondMarron\n",
      "['EMG', 'S1', 'PFC', 'CA1', 'oPFC', 'EnthC', 'RH']\n",
      "[[74], [82, 83], [84, 85], [78, 79], [86, 87], [76, 77], [80, 81]]\n"
     ]
    }
   ],
   "source": [
    "mouse = []\n",
    "pos_mice = []\n",
    "for mouse_name in all_LFPcoordinates.index:\n",
    "    if mouse_name in LFPfile.__str__():\n",
    "        mouse.append(mouse_name)\n",
    "        pos_mice.append(LFPfile.__str__().find(mouse_name)) \n",
    "mouse = [x for _, x in sorted(zip(pos_mice, mouse))] # sort mouse in the same order as they appear in the path\n",
    "\n",
    "if len(mouse) > 1: # found multiple mouse name in the path\n",
    "    if max(rec_ch_list) <= 31: # no channels superior to 32, so only one mouse recorded\n",
    "        id =0 # change to 0 to see the first mouse name found, 1 the second, etc\n",
    "        ID = 0\n",
    "        print(f\"/!\\ Mutliple mice name found in the path but only mouse recorded = {mouse}. The n°{id+1} was choosen automatically = {mouse[id]}.\")\n",
    "        mouse = mouse[id]\n",
    "    else:\n",
    "        ###################################################################################################################################\n",
    "        ID = 2 # choose 0 to see the first mouse recorded, 1 the second, 2 the third, 3 the fourth (only 4 mice can be recorded at the same time)\n",
    "        ###################################################################################################################################\n",
    "        print(f\"/!\\ Mutliple mice recorded at the same time = {mouse}. The n°{ID+1} was choosen automatically = {mouse[ID]}.\")\n",
    "        mouse = mouse[ID] \n",
    "elif len(mouse) == 1: # found only one mouse name in the path\n",
    "    ID = 0\n",
    "    mouse = mouse[ID]\n",
    "    \n",
    "all_LFPcoordinates = all_LFPcoordinates.astype(str)\n",
    "for region in all_LFPcoordinates.loc[mouse].index:\n",
    "    locals()[region] = []\n",
    "    locals()[f'{region}_ch'] = []\n",
    "\n",
    "RecordedArea = []\n",
    "ChoosenChannels = []\n",
    "combined = []\n",
    "if mouse:\n",
    "    rec_ch_list_mouse = [value for value in rec_ch_list if 0+(ID*32) <= value <= 31+(ID*32)]\n",
    "    for rec_ch in rec_ch_list_mouse:\n",
    "        for idx, LFPcoord_str in enumerate(all_LFPcoordinates.loc[mouse]):\n",
    "            region = all_LFPcoordinates.loc[mouse].index[idx]\n",
    "            if LFPcoord_str != 'nan':\n",
    "                LFPcoord = LFPcoord_str.split('+AF8-')[:2] # only take into account the 2 first of electrode of that region \n",
    "                num_ch = np.where(str(rec_ch-(ID*32)) == np.array(LFPcoord))[0]\n",
    "                if len(num_ch) > 0:\n",
    "                    region = all_LFPcoordinates.loc[mouse].index[idx]\n",
    "                    LFP = locals()[region]\n",
    "                    LFP = LFP-np.array(LFPs_df[(rec_ch)]) if len(LFP) > 0 else np.array(LFPs_df[(rec_ch)])\n",
    "                    locals()[region] = LFP\n",
    "                    locals()[f'{region}_ch'].append(rec_ch)\n",
    "                    break\n",
    "                continue\n",
    "    \n",
    "    for region in all_LFPcoordinates.loc[mouse].index:\n",
    "        LFP = locals()[region]\n",
    "        LFP_ch = locals()[f'{region}_ch']\n",
    "        if len(LFP) > 0:\n",
    "            combined = zscore(LFP[:,np.newaxis]) if len(combined) == 0 else np.append(combined, zscore(LFP[:,np.newaxis]), axis=1)\n",
    "            RecordedArea.append(region) \n",
    "            ChoosenChannels.append(LFP_ch) \n",
    "else:\n",
    "    print(\"/!\\ No mouse name found in the path OR in the csv file '_LFP_coordinates_of_all_mice.csv'\")\n",
    "    mouse = '' # fill mouse name\n",
    "    RecordedArea = ['EMG','S1','PFC','CA1'] \n",
    "    EMG = LFPs_df[0]\n",
    "    S1 = LFPs_df[0]-LFPs_df[1]\n",
    "    combined = np.stack([zscore(EMG), zscore(S1)], axis=1)\n",
    "\n",
    "print(mouse)\n",
    "print(RecordedArea)\n",
    "print(ChoosenChannels) "
   ]
  },
  {
   "cell_type": "markdown",
   "metadata": {},
   "source": [
    "### Score sleep manually\n"
   ]
  },
  {
   "cell_type": "markdown",
   "metadata": {},
   "source": [
    "\n",
    "4 stages : Wake, NREM, REM, undefined"
   ]
  },
  {
   "cell_type": "code",
   "execution_count": 7,
   "metadata": {},
   "outputs": [
    {
     "data": {
      "text/plain": [
       "0"
      ]
     },
     "execution_count": 7,
     "metadata": {},
     "output_type": "execute_result"
    }
   ],
   "source": [
    "labels = ['Wake_1', 'NREM_2', 'REM_3', 'undefined_4'] # Wake, NREM sleep, REM sleep, undefined states\n",
    "epoch_dur = 5 # define epoch duration in sec\n",
    "winlen = 20 # default window length in sec\n",
    "\n",
    "# Avec le nom de la souris au début\n",
    "SleepScoring_filename = f'{dpath}/Sleep_Scoring_{len(labels)}Stages_{epoch_dur}sEpoch.csv'\n",
    "source_epoch = CsvEpochSource(SleepScoring_filename, labels)\n",
    "\n",
    "#you must first create a main Qt application (for event loop)\n",
    "app = mkQApp()\n",
    "\n",
    "t_start = 0.\n",
    "\n",
    "#Create the main window that can contain several viewers\n",
    "win = MainViewer(debug=False, show_auto_scale=True)\n",
    "\n",
    "#create a viewer for signal\n",
    "source =InMemoryAnalogSignalSource(combined, samplerate, t_start, channel_names=RecordedArea)\n",
    "view1 = TraceViewer(source=source)\n",
    "\n",
    "view1.params['xsize']= winlen\n",
    "view1.params['display_labels'] = True\n",
    "view1.params['scale_mode'] = 'same_for_all'\n",
    "colormap = np.insert(['#88FF88', '#8888FF', '#FF8888']* 10, 0, '#FFFFFF')\n",
    "for idx, ch in enumerate(RecordedArea): \n",
    "    view1.by_channel_params[f'ch{idx}', 'color'] = colormap[idx] #FF0000 red, #00FF00 green, and #0000FF blue\n",
    "view1.auto_scale()\n",
    "\n",
    "#create a viewer for the encoder itself\n",
    "view2 = EpochEncoder(source=source_epoch, name='Sleep Scoring')\n",
    "view2.params['xsize'] = winlen\n",
    "view2.params['new_epoch_step'] = epoch_dur\n",
    "\n",
    "view2.by_label_params['label0', 'color'] = '#ffcd69' #AW\n",
    "view2.by_label_params['label1', 'color'] = '#69cfff' #NREM\n",
    "view2.by_label_params['label2', 'color'] = '#ff69cd' #REM\n",
    "view2.by_label_params['label3', 'color'] = '#8f8f8f' #undefined\n",
    "view2.controls.hide()\n",
    "\n",
    "# FFT\n",
    "view3 = TimeFreqViewer(source=source, name='FFT')\n",
    "\n",
    "view3.params['show_axis'] = True\n",
    "view3.params['timefreq', 'f_start'] = 1\n",
    "view3.params['timefreq', 'f_stop'] = 20\n",
    "view3.params['timefreq', 'deltafreq'] = 1 #interval in Hz\n",
    "view3.params['xsize'] = winlen\n",
    "#addItem.ctrl.logXCheck.isChecked()\n",
    "\n",
    "for idx, ch in enumerate(RecordedArea):\n",
    "    if ch == 'EMG': \n",
    "        view3.by_channel_params[f'ch{idx}', 'visible'] = False\n",
    "    else:        \n",
    "        view3.by_channel_params[f'ch{idx}', 'clim'] = 1\n",
    "        view3.by_channel_params[f'ch{idx}', 'visible'] = True\n",
    "\n",
    "\n",
    "#show main window and run Qapp\n",
    "\n",
    "win.add_view(view1)\n",
    "win.add_view(view3)\n",
    "win.add_view(view2)\n",
    "win.navigation_toolbar.spinbox_xsize.setValue(winlen)\n",
    "win.show()\n",
    "\n",
    "app.exec()\n",
    "\n",
    "# press '1', '2', '3', '4' etc, to encode state.\n",
    "# or toggle 'Time range selector' and then use 'Insert within range'"
   ]
  },
  {
   "cell_type": "markdown",
   "metadata": {},
   "source": [
    "6 stages : AW, QW, NREM, IS, REM, undefined"
   ]
  },
  {
   "cell_type": "code",
   "execution_count": 2,
   "metadata": {},
   "outputs": [
    {
     "ename": "NameError",
     "evalue": "name 'dpath' is not defined",
     "output_type": "error",
     "traceback": [
      "\u001b[1;31m---------------------------------------------------------------------------\u001b[0m",
      "\u001b[1;31mNameError\u001b[0m                                 Traceback (most recent call last)",
      "Cell \u001b[1;32mIn[2], line 5\u001b[0m\n\u001b[0;32m      2\u001b[0m epoch_dur \u001b[38;5;241m=\u001b[39m \u001b[38;5;241m5\u001b[39m \u001b[38;5;66;03m# define epoch duration in sec\u001b[39;00m\n\u001b[0;32m      3\u001b[0m winlen \u001b[38;5;241m=\u001b[39m \u001b[38;5;241m20\u001b[39m \u001b[38;5;66;03m# default window length in sec\u001b[39;00m\n\u001b[1;32m----> 5\u001b[0m SleepScoring_filename \u001b[38;5;241m=\u001b[39m \u001b[38;5;124mf\u001b[39m\u001b[38;5;124m'\u001b[39m\u001b[38;5;132;01m{\u001b[39;00m\u001b[43mdpath\u001b[49m\u001b[38;5;132;01m}\u001b[39;00m\u001b[38;5;124m\\\u001b[39m\u001b[38;5;124mSleep_Scoring_\u001b[39m\u001b[38;5;132;01m{\u001b[39;00mmouse\u001b[38;5;132;01m}\u001b[39;00m\u001b[38;5;124m_\u001b[39m\u001b[38;5;132;01m{\u001b[39;00m\u001b[38;5;28mlen\u001b[39m(labels)\u001b[38;5;132;01m}\u001b[39;00m\u001b[38;5;124mStages_\u001b[39m\u001b[38;5;132;01m{\u001b[39;00mepoch_dur\u001b[38;5;132;01m}\u001b[39;00m\u001b[38;5;124msEpoch.csv\u001b[39m\u001b[38;5;124m'\u001b[39m\n\u001b[0;32m      6\u001b[0m source_epoch \u001b[38;5;241m=\u001b[39m CsvEpochSource(SleepScoring_filename, labels)\n\u001b[0;32m      8\u001b[0m \u001b[38;5;66;03m#you must first create a main Qt application (for event loop)\u001b[39;00m\n",
      "\u001b[1;31mNameError\u001b[0m: name 'dpath' is not defined"
     ]
    }
   ],
   "source": [
    "labels = ['AW_1', 'QW_2', 'NREM_3', 'IS_4',  'REM_5', 'undefined_6'] # Active wake, Quiet wake, NREM sleep, Intermediate sleep, REM sleep, undefined states\n",
    "epoch_dur = 5 # define epoch duration in sec\n",
    "winlen = 20 # default window length in sec\n",
    "\n",
    "SleepScoring_filename = f'{dpath}\\Sleep_Scoring_{mouse}_{len(labels)}Stages_{epoch_dur}sEpoch.csv'\n",
    "source_epoch = CsvEpochSource(SleepScoring_filename, labels)\n",
    "\n",
    "#you must first create a main Qt application (for event loop)\n",
    "app = mkQApp()\n",
    "\n",
    "t_start = 0.\n",
    "\n",
    "#Create the main window that can contain several viewers\n",
    "win = MainViewer(debug=False, show_auto_scale=True)\n",
    "\n",
    "#create a viewer for signal\n",
    "source =InMemoryAnalogSignalSource(combined, samplerate, t_start, channel_names=RecordedArea)\n",
    "view1 = TraceViewer(source=source)\n",
    "\n",
    "view1.params['xsize']= winlen\n",
    "view1.params['display_labels'] = True\n",
    "view1.params['scale_mode'] = 'same_for_all'\n",
    "colormap = np.insert(['#88FF88', '#8888FF', '#FF8888']* 10, 0, '#FFFFFF')\n",
    "for idx, ch in enumerate(RecordedArea): \n",
    "    view1.by_channel_params[f'ch{idx}', 'color'] = colormap[idx] #FF0000 red, #00FF00 green, and #0000FF blue\n",
    "view1.auto_scale()\n",
    "\n",
    "#create a viewer for the encoder itself\n",
    "view2 = EpochEncoder(source=source_epoch, name='Sleep Scoring')\n",
    "\n",
    "view2.params['xsize'] = winlen\n",
    "view2.params['new_epoch_step'] = epoch_dur\n",
    "view2.by_label_params['label0', 'color'] = '#ffcd69' #AW\n",
    "view2.by_label_params['label1', 'color'] = '#69ffe6' #QW\n",
    "view2.by_label_params['label2', 'color'] = '#69cfff' #NREM\n",
    "view2.by_label_params['label3', 'color'] = '#cd69ff' #IS\n",
    "view2.by_label_params['label4', 'color'] = '#ff69cd' #REM\n",
    "view2.by_label_params['label5', 'color'] = '#8f8f8f' #undefined\n",
    "view2.controls.hide()\n",
    "\n",
    "# FFT\n",
    "view3 = TimeFreqViewer(source=source, name='FFT')\n",
    "\n",
    "view3.params['show_axis'] = True\n",
    "view3.params['timefreq', 'f_start'] = 1\n",
    "view3.params['timefreq', 'f_stop'] = 50\n",
    "view3.params['timefreq', 'deltafreq'] = 1 #interval in Hz\n",
    "view3.params['xsize'] = winlen\n",
    "for idx, ch in enumerate(RecordedArea):\n",
    "    if ch == 'EMG': \n",
    "        view3.by_channel_params[f'ch{idx}', 'visible'] = False\n",
    "    else:        \n",
    "        view3.by_channel_params[f'ch{idx}', 'clim'] = 1\n",
    "        view3.by_channel_params[f'ch{idx}', 'visible'] = True\n",
    "\n",
    "#show main window and run Qapp\n",
    "\n",
    "win.add_view(view1)\n",
    "win.add_view(view3)\n",
    "win.add_view(view2)\n",
    "win.navigation_toolbar.spinbox_xsize.setValue(winlen)\n",
    "win.show()\n",
    "\n",
    "app.exec()\n",
    "\n",
    "# press '1', '2', '3', '4' etc, to encode state.\n",
    "# or toggle 'Time range selector' and then use 'Insert within range'"
   ]
  },
  {
   "cell_type": "markdown",
   "metadata": {},
   "source": [
    "### Check all channels"
   ]
  },
  {
   "cell_type": "code",
   "execution_count": 10,
   "metadata": {},
   "outputs": [
    {
     "data": {
      "text/plain": [
       "0"
      ]
     },
     "execution_count": 10,
     "metadata": {},
     "output_type": "execute_result"
    }
   ],
   "source": [
    "app = mkQApp()\n",
    "winlen = 20 # default window length in sec\n",
    "t_start = 0.\n",
    "\n",
    "#Create the main window that can contain several viewers\n",
    "win = MainViewer(debug=False, show_auto_scale=True)\n",
    "view1 = TraceViewer.from_numpy(np.array(LFPs_df), samplerate, t_start, 'Signals')\n",
    "\n",
    "cmap = cm.Spectral\n",
    "values = np.linspace(0, 1, np.array(LFPs_df).shape[1])\n",
    "colormap = [to_hex(rgb) for rgb in cmap(values)]\n",
    "for idx in range(np.array(LFPs_df).shape[1]): \n",
    "    view1.by_channel_params[f'ch{idx}', 'color'] = colormap[idx]\n",
    "\n",
    "view1.params['display_labels'] = True\n",
    "view1.params['scale_mode'] = 'same_for_all'\n",
    "view1.auto_scale()\n",
    "view1.params['xsize'] = winlen\n",
    "win.add_view(view1)\n",
    "win.navigation_toolbar.spinbox_xsize.setValue(winlen)\n",
    "\n",
    "#Run\n",
    "win.show()\n",
    "app.exec()\n"
   ]
  },
  {
   "cell_type": "markdown",
   "metadata": {},
   "source": [
    "### Flip omnetics headstage"
   ]
  },
  {
   "cell_type": "markdown",
   "metadata": {},
   "source": [
    "Run the cell bellow if you believe that the omnetic headstage was reverted for this mouse during this recording (if you run it twice it will go back to the initial configuration)."
   ]
  },
  {
   "cell_type": "code",
   "execution_count": null,
   "metadata": {},
   "outputs": [],
   "source": [
    "rec_ch_list_ID = LFPs_df.columns-ID*32\n",
    "rec_ch_list_mouse = [value for value in rec_ch_list_ID if 0 <= value <= 31]\n",
    "i = np.argmax(rec_ch_list_ID>=0)\n",
    "inverted_chs = np.concatenate([range(16,32,1), range(0,16,1)], axis=0)\n",
    "LFPs_df_mouse=LFPs_df.iloc[:,i:i+len(rec_ch_list_mouse)]\n",
    "flipped_ch=(inverted_chs[LFPs_df_mouse.columns-(ID*32)])+(ID*32)\n",
    "LFPs_df.columns.values[i:i+len(rec_ch_list_mouse)] = flipped_ch\n",
    "LFPs_df = LFPs_df.sort_index(axis=1)\n",
    "\n",
    "# Reselect electrodes\n",
    "all_LFPcoordinates = all_LFPcoordinates.astype(str)\n",
    "for region in all_LFPcoordinates.loc[mouse].index:\n",
    "    locals()[region] = []\n",
    "    locals()[f'{region}_ch'] = []\n",
    "    \n",
    "RecordedArea = []\n",
    "ChoosenChannels = []\n",
    "combined = []\n",
    "if mouse:\n",
    "    rec_ch_list_mouse = [value for value in rec_ch_list if 0+(ID*32) <= value <= 31+(ID*32)]\n",
    "    for rec_ch in rec_ch_list_mouse:\n",
    "        for idx, LFPcoord_str in enumerate(all_LFPcoordinates.loc[mouse]):\n",
    "            region = all_LFPcoordinates.loc[mouse].index[idx]\n",
    "            if LFPcoord_str != 'nan':\n",
    "                LFPcoord = LFPcoord_str.split('_')[:2] # only take into account the 2 first of electrode of that region \n",
    "                num_ch = np.where(str(rec_ch-(ID*32)) == np.array(LFPcoord))[0]\n",
    "                if len(num_ch) > 0:\n",
    "                    region = all_LFPcoordinates.loc[mouse].index[idx]\n",
    "                    LFP = locals()[region]\n",
    "                    LFP = LFP-np.array(LFPs_df[(rec_ch)]) if len(LFP) > 0 else np.array(LFPs_df[(rec_ch)])\n",
    "                    locals()[region] = LFP\n",
    "                    locals()[f'{region}_ch'].append(rec_ch)\n",
    "                    break\n",
    "                continue\n",
    "    \n",
    "    for region in all_LFPcoordinates.loc[mouse].index:\n",
    "        LFP = locals()[region]\n",
    "        LFP_ch = locals()[f'{region}_ch']\n",
    "        if len(LFP) > 0:\n",
    "            combined = zscore(LFP[:,np.newaxis]) if len(combined) == 0 else np.append(combined, zscore(LFP[:,np.newaxis]), axis=1)\n",
    "            RecordedArea.append(region) \n",
    "            ChoosenChannels.append(LFP_ch) \n",
    "else:\n",
    "    print(\"/!\\ No mouse name found in the path OR in the csv file '_LFP_coordinates_of_all_mice.csv'\")\n",
    "    mouse = '' # fill mouse name\n",
    "    RecordedArea = ['EMG','S1','PFC','CA1'] \n",
    "    EMG = LFPs_df[0]\n",
    "    S1 = LFPs_df[0]-LFPs_df[1]\n",
    "    combined = np.stack([zscore(EMG), zscore(S1)], axis=1)\n",
    "\n",
    "print(mouse)\n",
    "print(RecordedArea)\n",
    "print(ChoosenChannels) "
   ]
  },
  {
   "cell_type": "markdown",
   "metadata": {},
   "source": [
    "Save if you're now sure that the omnetic headstage was reverted for this mouse during this recording"
   ]
  },
  {
   "cell_type": "code",
   "execution_count": null,
   "metadata": {},
   "outputs": [],
   "source": [
    "if samplerate <= 1000:\n",
    "    LFPs_df.to_pickle(f'{LFPfile.parent}/DataFrame_rawdataDS.pkl')\n",
    "else: # best to downsample too\n",
    "    new_sampling_rate = 1000 # Hz\n",
    "    Nmber_points = int(np.shape(LFPs_df)[0] * new_sampling_rate / samplerate)\n",
    "    LFPs_df_DS = pd.DataFrame(signal.resample(LFPs_df, Nmber_points, axis = 0), columns=LFPs_df.columns.values)\n",
    "    LFPtimestampsDS = LFPtimestamps[::int(samplerate/new_sampling_rate)][:-1]\n",
    "    samplerate = new_sampling_rate\n",
    "    LFPs_df_DS.to_pickle(f'{LFPfile.parent}/DataFrame_rawdataDS.pkl')\n",
    "    np.save(f'{file_pathTS.parent}/timeStampsDS.npy', LFPtimestampsDS)\n",
    "    LFPs_df = LFPs_df_DS\n",
    "    LFPtimestamps = LFPtimestampsDS"
   ]
  }
 ],
 "metadata": {
  "kernelspec": {
   "display_name": "SleepRec2",
   "language": "python",
   "name": "python3"
  },
  "language_info": {
   "codemirror_mode": {
    "name": "ipython",
    "version": 3
   },
   "file_extension": ".py",
   "mimetype": "text/x-python",
   "name": "python",
   "nbconvert_exporter": "python",
   "pygments_lexer": "ipython3",
   "version": "3.11.10"
  },
  "orig_nbformat": 4
 },
 "nbformat": 4,
 "nbformat_minor": 2
}
