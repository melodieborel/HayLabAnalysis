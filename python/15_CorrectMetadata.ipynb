{
 "cells": [
  {
   "attachments": {},
   "cell_type": "markdown",
   "metadata": {},
   "source": [
    "# Post processing of minian output"
   ]
  },
  {
   "cell_type": "code",
   "execution_count": 1,
   "metadata": {},
   "outputs": [],
   "source": [
    "#%%capture\n",
    "#%load_ext autoreload\n",
    "#%autoreload 2\n",
    "minian_path = \".\"\n",
    "import os\n",
    "\n",
    "import sys\n",
    "import warnings\n",
    "import itertools as itt\n",
    "import numpy as np\n",
    "import xarray as xr\n",
    "import holoviews as hv\n",
    "import pandas as pd\n",
    "from pathlib import Path\n",
    "from holoviews.operation.datashader import datashade, regrid\n",
    "from dask.diagnostics import ProgressBar\n",
    "sys.path.append(minian_path)\n",
    "\n",
    "from minian.utilities import (\n",
    "    TaskAnnotation,\n",
    "    get_optimal_chk,\n",
    "    load_videos,\n",
    "    open_minian,\n",
    "    save_minian,\n",
    ")\n",
    "from minian.visualization import AlignViewer\n",
    "import matplotlib.pyplot as plt"
   ]
  },
  {
   "attachments": {},
   "cell_type": "markdown",
   "metadata": {},
   "source": [
    "load faulty minian dataset"
   ]
  },
  {
   "cell_type": "code",
   "execution_count": 11,
   "metadata": {},
   "outputs": [],
   "source": [
    "dpath = Path(\"Gaelle/DOR/BlackLines/HabD3Rec2/V4_Miniscope/\")\n",
    "minian_ds_path_Origin = os.path.join(dpath, \"minian\")\n",
    "minian_ds_path_Final = os.path.join(dpath, \"minian2\")\n",
    "\n",
    "def correct_meta(ds, minian_ds_path_Origin):\n",
    "    ds['session'] = 'session1'\n",
    "    ds['animal'] = 'Purple'\n",
    "    return ds\n",
    "\n",
    "minian_ds = open_minian(minian_ds_path_Origin, post_process=correct_meta)\n",
    "\n",
    "A = minian_ds['A']\n",
    "b = minian_ds['b']\n",
    "b0 = minian_ds['b0']\n",
    "C = minian_ds['C']\n",
    "c0 = minian_ds['c0']\n",
    "f = minian_ds['f']\n",
    "max_proj = minian_ds['max_proj']\n",
    "motion = minian_ds['motion']\n",
    "S = minian_ds['S']\n",
    "\n",
    "param_save_minian = {\n",
    "    \"dpath\": minian_ds_path_Final,\n",
    "    \"meta_dict\": dict(session=-2, animal=-3),\n",
    "    \"overwrite\": True,\n",
    "}\n",
    "\n",
    "A = save_minian(A.rename(\"A\"), **param_save_minian)\n",
    "b = save_minian(b.rename(\"b\"), **param_save_minian)\n",
    "b0 = save_minian(b0.rename(\"b0\"), **param_save_minian)\n",
    "C = save_minian(C.rename(\"C\"), **param_save_minian)\n",
    "c0 = save_minian(c0.rename(\"c0\"), **param_save_minian)\n",
    "f = save_minian(f.rename(\"f\"), **param_save_minian)\n",
    "max_proj = save_minian(max_proj.rename(\"max_proj\"), **param_save_minian)\n",
    "motion = save_minian(motion.rename(\"motion\"), **param_save_minian)\n",
    "S = save_minian(S.rename(\"S\"), **param_save_minian)"
   ]
  },
  {
   "attachments": {},
   "cell_type": "markdown",
   "metadata": {},
   "source": [
    "This one is to flip only the map so that cross-registration is possible"
   ]
  },
  {
   "cell_type": "code",
   "execution_count": 33,
   "metadata": {},
   "outputs": [],
   "source": [
    "dpath = Path(\"Gaelle/Baseline_recording/GreenLines/session4/\")\n",
    "minian_ds_path_Origin = os.path.join(dpath, \"V4_Miniscope/minian\")\n",
    "\n",
    "def correct_meta(ds, minian_ds_path_Origin):\n",
    "    ds['session'] = 'session4'\n",
    "    ds['animal'] = 'GreenLines'\n",
    "    return ds\n",
    "\n",
    "minian_ds = open_minian(minian_ds_path_Origin, post_process=correct_meta)\n",
    "\n",
    "max_proj = minian_ds['max_proj']\n",
    "max_projnp = minian_ds['max_proj'].values\n",
    "max_projnp = np.flip(max_projnp, (0,1))\n",
    "max_proj.values = max_projnp\n",
    "max_proj = save_minian(max_proj.rename(\"max_proj\"), **param_save_minian)"
   ]
  }
 ],
 "metadata": {
  "kernelspec": {
   "display_name": "minian",
   "language": "python",
   "name": "python3"
  },
  "language_info": {
   "codemirror_mode": {
    "name": "ipython",
    "version": 3
   },
   "file_extension": ".py",
   "mimetype": "text/x-python",
   "name": "python",
   "nbconvert_exporter": "python",
   "pygments_lexer": "ipython3",
   "version": "3.8.12 | packaged by conda-forge | (default, Oct 12 2021, 21:50:38) \n[Clang 11.1.0 ]"
  },
  "orig_nbformat": 4,
  "vscode": {
   "interpreter": {
    "hash": "d28f0aa69d972f186b6eef62f149b885b857325c1e4e259a67006c9c0c737cc7"
   }
  }
 },
 "nbformat": 4,
 "nbformat_minor": 2
}
