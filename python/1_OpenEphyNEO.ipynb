{
 "cells": [
  {
   "cell_type": "markdown",
   "metadata": {},
   "source": [
    "# Opening and cleaning out openephys data\n",
    "\n",
    "Note: Use L1imag/formation environment.\n",
    "## Import packages"
   ]
  },
  {
   "cell_type": "code",
   "execution_count": 1,
   "metadata": {},
   "outputs": [],
   "source": [
    "import quantities as pq\n",
    "import numpy as np\n",
    "import neo\n",
    "from pathlib import Path\n",
    "import xarray as xr\n",
    "import pandas as pd\n",
    "import matplotlib.pyplot as plt\n",
    "from matplotlib.widgets import Slider, Button, Cursor\n",
    "import scipy\n",
    "from scipy import interpolate\n",
    "from scipy import fftpack\n",
    "from scipy import signal\n",
    "%matplotlib widget\n",
    "\n",
    "from ephyviewer import mkQApp, MainViewer, TraceViewer\n",
    "\n",
    "#%reset"
   ]
  },
  {
   "cell_type": "markdown",
   "metadata": {},
   "source": [
    "## Load data\n",
    "### Load timestamps from continuous recording\n",
    "\n",
    "Note here the synchronised timestamps are not loaded. Attempt is made next cell but there is a bug because the files are of different lengths. \n",
    "What needs to be done is to understand the exact content of these files to then load them properly."
   ]
  },
  {
   "cell_type": "code",
   "execution_count": 10,
   "metadata": {},
   "outputs": [
    {
     "name": "stdout",
     "output_type": "stream",
     "text": [
      "/Users/ahay/Documents/DATA/L1imaging\n"
     ]
    }
   ],
   "source": [
    "\n",
    "folder = Path('.').absolute()\n",
    "print(folder)\n",
    "path_list_ERS = []\n",
    "Ephys_rec_stamps = {}\n",
    "\n",
    "for file in folder.glob('**/*continuous/Rhythm_FPGA-112.0/timestamps.npy'):\n",
    "    path_list_ERS.append(file)\n",
    "\n",
    "for file_path in folder.glob('**/*continuous/Rhythm_FPGA-112.0/timestamps.npy'):\n",
    "    recording = file_path.parents[2].stem\n",
    "    arr = np.load(file_path)\n",
    "    Ephys_rec_stamps[recording] = arr\n",
    "\n",
    "## Here the timestamps are stored in a dict which is not necessarily what I want, maybe will need to amend that\n",
    "\n",
    "    \n"
   ]
  },
  {
   "cell_type": "code",
   "execution_count": null,
   "metadata": {},
   "outputs": [],
   "source": [
    "# Not working yet as synchronised timestamps and timestamps for recording 2 are of different size.\n",
    "\n",
    "TTL_stamp2 = []\n",
    "for file_path in folder.glob('**/*.npy'):\n",
    "    subfolder = file_path.parents[1].stem\n",
    "    if subfolder == 'continuous':\n",
    "        recording = file_path.parents[2].stem.replace('recording','')\n",
    "        print(recording)\n",
    "        file = file_path.stem\n",
    "        print(recording, file)\n",
    "        np_arr = np.load(file_path)\n",
    "        datalen = len(np_arr)\n",
    "        print(file, datalen)\n",
    "        if recording == 1: #not in TTL_stamp2:\n",
    "            TTL_stamp2.append(recording)\n",
    "            coords = {\n",
    "                'channels' : np.array(['synchronized_timestamps', 'timestamps']),\n",
    "                'duration_rec' : np.arange(datalen)\n",
    "            }\n",
    "            globals()[f\"StampsCont_{recording}\"] = xr.DataArray(coords=coords, dims=['channels', 'duration_rec'])\n",
    "        globals()[f\"StampsCont_{recording}\"].loc[file,:] = np_arr   \n"
   ]
  },
  {
   "cell_type": "markdown",
   "metadata": {},
   "source": [
    "### Load timestamps for miniscope frames and laser (TTL in)\n"
   ]
  },
  {
   "cell_type": "code",
   "execution_count": 3,
   "metadata": {},
   "outputs": [],
   "source": [
    "\n",
    "TTL_stamps = []\n",
    "list_recordings = []\n",
    "for file_path in folder.glob('**/*.npy'):\n",
    "    subfolder = file_path.parents[0].stem\n",
    "    if subfolder == 'TTL_1':\n",
    "        recording = file_path.parents[3].stem.replace('recording','')\n",
    "        file = file_path.stem\n",
    "        np_arr = np.load(file_path)\n",
    "        datalen = len(np_arr)\n",
    "        if recording not in TTL_stamps:\n",
    "            TTL_stamps.append(recording)\n",
    "            list_recordings.append(file_path.parents[3].stem)\n",
    "            coords = {\n",
    "                'channels' : np.array(['full_words', 'timestamps', 'channel_states', 'channels']),\n",
    "                'duration_rec' : np.arange(datalen)\n",
    "            }\n",
    "            globals()[f\"Allstamps_{recording}\"] = xr.DataArray(coords=coords, dims=['channels', 'duration_rec'])\n",
    "        globals()[f\"Allstamps_{recording}\"].loc[file,:] = np_arr   \n",
    "\n",
    "\n"
   ]
  },
  {
   "cell_type": "markdown",
   "metadata": {},
   "source": [
    "### Load recordings"
   ]
  },
  {
   "cell_type": "code",
   "execution_count": 11,
   "metadata": {},
   "outputs": [
    {
     "name": "stdout",
     "output_type": "stream",
     "text": [
      "1\n",
      "2\n",
      "1\n",
      "2\n",
      "1\n",
      "2\n",
      "4\n",
      "3\n",
      "1\n",
      "1\n"
     ]
    }
   ],
   "source": [
    "\n",
    "folder = Path('.').absolute()\n",
    "list_raw = []\n",
    "for file_path in folder.glob('**/*.dat'):\n",
    "    subfolder = file_path.parents[1].stem\n",
    "    if subfolder == 'continuous':\n",
    "        recording = file_path.parents[2].stem.replace('recording','')\n",
    "        file = file_path.stem\n",
    "        print(recording)\n",
    "        globals()[f\"DataRec_{recording}\"] = np.fromfile(file_path, dtype=\"int16\")\n",
    "        globals()[f\"DataRaw_{recording}\"] = globals()[f\"DataRec_{recording}\"].reshape(-1,32)\n",
    "        list_raw.append(f\"DataRaw_{recording}\")"
   ]
  },
  {
   "cell_type": "markdown",
   "metadata": {},
   "source": [
    "### Distribute channels.\n",
    "\n",
    "EMG = 11, deep PFC = 17, superficial PFC = 18, deep S1 = 24, superficial S1 = 23, deep CA1 = 21, superficial CA1 = 20\n",
    "\n",
    "WARNING: this has to be adjusted for every mouse. In the future, add a cell at the beginning to enter these parameters"
   ]
  },
  {
   "cell_type": "code",
   "execution_count": 5,
   "metadata": {},
   "outputs": [
    {
     "name": "stdout",
     "output_type": "stream",
     "text": [
      "21688064.0\n",
      "19644672.0\n"
     ]
    }
   ],
   "source": [
    "list_rawchan = []\n",
    "\n",
    "for ele, file in enumerate(list_raw):\n",
    "    ele2 = ele + 1\n",
    "    # Distribute\n",
    "    EMG = globals()[f\"DataRaw_{ele2}\"][:,10]\n",
    "    PFC = globals()[f\"DataRaw_{ele2}\"][:,17] #- globals()[f\"DataRaw_{ele2}\"][:,17]\n",
    "    S1 = globals()[f\"DataRaw_{ele2}\"][:,22] - globals()[f\"DataRaw_{ele2}\"][:,23] \n",
    "    CA1 = globals()[f\"DataRaw_{ele2}\"][:,20]- globals()[f\"DataRaw_{ele2}\"][:,19]\n",
    "    # Stack back\n",
    "    globals()[f\"Good_channels_{ele2}\"] = np.stack((EMG, PFC, S1, CA1), axis = 1)#.reshape(-1, 4)\n",
    "    nmberchann = globals()[f\"Good_channels_{ele2}\"].shape\n",
    "    datalen = globals()[f\"Good_channels_{ele2}\"].size / nmberchann[1]\n",
    "    print(datalen)\n",
    "    coords = {\n",
    "        'brain_areas' : np.array(['EMG', 'PFC', \"S1\", \"CA1\"]),\n",
    "        'duration_rec' : np.arange(0, datalen/25000, 1/25000)\n",
    "    }\n",
    "    # Put in xarray\n",
    "    globals()[f\"xrGoodChannels_{ele2}\"] = xr.DataArray(coords=coords, dims=['duration_rec', 'brain_areas'])\n",
    "    globals()[f\"xrGoodChannels_{ele2}\"].loc[:,:]  = globals()[f\"Good_channels_{ele2}\"]\n",
    "    Good_channels = globals()[f\"xrGoodChannels_{ele2}\"]\n",
    "    # Save datas\n",
    "    np.save(f'RawDataChannelExtracted_{ele2}.npy', Good_channels)\n",
    "    list_rawchan.append(Good_channels)\n",
    "    # Empty array to free memory \n",
    "    globals()[f\"DataRaw_{ele2}\"] = None\n"
   ]
  },
  {
   "cell_type": "markdown",
   "metadata": {},
   "source": [
    "#  Downsample all signals to 1 kz.\n"
   ]
  },
  {
   "cell_type": "code",
   "execution_count": 6,
   "metadata": {},
   "outputs": [
    {
     "name": "stdout",
     "output_type": "stream",
     "text": [
      "1\n",
      "21688064.0 867522\n",
      "2\n",
      "19644672.0 785786\n"
     ]
    }
   ],
   "source": [
    "\n",
    "#list_rawchan = [xrGoodChannels_1, xrGoodChannels_2]\n",
    "list_rawchan_filt = []\n",
    "for ele, file in enumerate(list_rawchan):\n",
    "    ele2 = ele + 1\n",
    "    print(ele2)\n",
    "    sampling_rate = 25000 # Hz\n",
    "    new_sampling_rate = 1000 # Hz\n",
    "    nmberchann = file.shape\n",
    "    datalen = file.size/ nmberchann[1]\n",
    "    Nmber_points = int(datalen * new_sampling_rate / sampling_rate)\n",
    "    print(datalen, Nmber_points)\n",
    "    globals()[f\"DS_GoodChannels_{ele2}\"] = signal.resample(file, Nmber_points, axis = 0)\n",
    "    Good_channels_filtered = globals()[f\"DS_GoodChannels_{ele2}\"]\n",
    "    list_rawchan_filt.append(Good_channels_filtered)\n",
    "    np.save(f'RawDataChannelExtractedDS_{ele2}.npy', Good_channels_filtered)\n",
    "    globals()[f\"xrGoodChannels_{ele2}\"] = None\n",
    "\n",
    "list_rawchan = None\n",
    "\n",
    "# if done and no intention to display for assessment\n",
    "#%reset"
   ]
  },
  {
   "cell_type": "markdown",
   "metadata": {},
   "source": [
    "## End of notebook. \n",
    "Data is cleaned up and saved. Data processing for different cortical areas on specific notebooks. Next step is WakeRemoving notebook.\n",
    "\n",
    "Below is for quick filtering, plotting and visualisation to assess data quality. Filtering for data processing is done again in specific notebooks.\n",
    "\n",
    "Data quality is assessed on a Sample, whose value has to be attributed on the initial cell."
   ]
  },
  {
   "cell_type": "markdown",
   "metadata": {},
   "source": [
    "## Filtering \n",
    "\n",
    "SWR: 120 - 200 Hz"
   ]
  },
  {
   "cell_type": "code",
   "execution_count": 51,
   "metadata": {},
   "outputs": [
    {
     "name": "stdout",
     "output_type": "stream",
     "text": [
      "[0.24, 0.4]\n"
     ]
    }
   ],
   "source": [
    "Sample = filtered_GoodChannels_1\n",
    "\n",
    "f_CA1 = Sample[:, 3].copy()\n",
    "\n",
    "# Paramètres de notre filtre :\n",
    "f_lowcut = 120.\n",
    "f_hicut = 200.\n",
    "fs = new_sampling_rate\n",
    "nyq = 0.5 * fs\n",
    "N = 6                 # Ordre du filtre\n",
    "Wn = [f_lowcut/nyq,f_hicut/nyq]  # Nyquist frequency fraction\n",
    "print(Wn)\n",
    "\n",
    "# Création du filtre :\n",
    "b, a = scipy.signal.butter(N, Wn, 'band')\n",
    "filt_SWR_CA1 = scipy.signal.filtfilt(b, a, f_CA1)\n",
    "\n",
    "times = np.arange(0, f_CA1.size/new_sampling_rate, 1./new_sampling_rate)\n",
    "\n"
   ]
  },
  {
   "cell_type": "markdown",
   "metadata": {},
   "source": [
    "Spindles: 8 - 16 Hz"
   ]
  },
  {
   "cell_type": "code",
   "execution_count": 52,
   "metadata": {},
   "outputs": [],
   "source": [
    "f_PFC = Sample[:, 1].copy()\n",
    "f_S1 = Sample[:, 2].copy()\n",
    "\n",
    "# Paramètres de notre filtre :\n",
    "f_lowcut = 10.\n",
    "f_hicut = 16.\n",
    "Wn = [f_lowcut/nyq,f_hicut/nyq]  # Nyquist frequency fraction\n",
    "N = 4\n",
    "# Création du filtre :\n",
    "b, a = scipy.signal.butter(N, Wn, 'band')\n",
    "filt_Spind_PFC = scipy.signal.filtfilt(b, a, f_PFC)\n",
    "filt_Spind_S1 = scipy.signal.filtfilt(b, a, f_S1)\n",
    "\n",
    "# # Calcul de la reponse en fréquence du filtre\n",
    "# w, h = signal.freqz(b, a)\n",
    "\n",
    "# # Tracé de la réponse en fréquence du filtre\n",
    "# fig, ax = plt.subplots(figsize=(8,5)) \n",
    "\n",
    "# ax.plot(0.5*fs*w/np.pi, np.abs(h), 'b')\n",
    "\n",
    "# ax.set_xlabel('frequency [Hz]')\n",
    "# ax.set_ylabel('Amplitude [dB]')\n",
    "# ax.grid(which='both', axis='both')"
   ]
  },
  {
   "cell_type": "markdown",
   "metadata": {},
   "source": [
    "FFT display"
   ]
  },
  {
   "cell_type": "code",
   "execution_count": 54,
   "metadata": {},
   "outputs": [
    {
     "data": {
      "text/plain": [
       "Text(0, 0.5, 'PSD [V**2/Hz]')"
      ]
     },
     "execution_count": 54,
     "metadata": {},
     "output_type": "execute_result"
    },
    {
     "data": {
      "application/vnd.jupyter.widget-view+json": {
       "model_id": "58df2671bd3a4bdf9096c6c5893c2eb0",
       "version_major": 2,
       "version_minor": 0
      },
      "image/png": "[encoded data removed]",
      "text/html": [
       "\n",
       "            <div style=\"display: inline-block;\">\n",
       "                <div class=\"jupyter-widgets widget-label\" style=\"text-align: center;\">\n",
       "                    Figure\n",
       "                </div>\n",
       "                <img src='data:image/png;base64,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' width=1000.0/>\n",
       "            </div>\n",
       "        "
      ],
      "text/plain": [
       "Canvas(toolbar=Toolbar(toolitems=[('Home', 'Reset original view', 'home', 'home'), ('Back', 'Back to previous …"
      ]
     },
     "metadata": {},
     "output_type": "display_data"
    }
   ],
   "source": [
    "# Calcul du spectre\n",
    "f, Pxx_den = signal.welch(f_CA1, fs, nperseg=1024)\n",
    "\n",
    "# Tracé\n",
    "fig, ax = plt.subplots(figsize=(10,5)) \n",
    "ax.semilogy(f, Pxx_den)   #  plot with log scaling on the y axis\n",
    "ax.set_xlabel('frequency [Hz]')\n",
    "ax.set_ylabel('PSD [V**2/Hz]')"
   ]
  },
  {
   "cell_type": "code",
   "execution_count": 60,
   "metadata": {},
   "outputs": [],
   "source": [
    "plt.close('all')"
   ]
  },
  {
   "cell_type": "markdown",
   "metadata": {},
   "source": [
    "# Display. \n",
    "\n",
    "Can massively be improved: with Matplotlib"
   ]
  },
  {
   "cell_type": "code",
   "execution_count": 1,
   "metadata": {},
   "outputs": [
    {
     "ename": "NameError",
     "evalue": "name 'times' is not defined",
     "output_type": "error",
     "traceback": [
      "\u001b[0;31m---------------------------------------------------------------------------\u001b[0m",
      "\u001b[0;31mNameError\u001b[0m                                 Traceback (most recent call last)",
      "\u001b[1;32m/Users/ahay/Documents/DATA/L1imaging/1_OpenEphyNEO.ipynb Cell 23\u001b[0m in \u001b[0;36m<cell line: 1>\u001b[0;34m()\u001b[0m\n\u001b[0;32m----> <a href='vscode-notebook-cell:/Users/ahay/Documents/DATA/L1imaging/1_OpenEphyNEO.ipynb#X31sZmlsZQ%3D%3D?line=0'>1</a>\u001b[0m times_sliced \u001b[39m=\u001b[39m times[\u001b[39m000\u001b[39m:\u001b[39m200000\u001b[39m]\n\u001b[1;32m      <a href='vscode-notebook-cell:/Users/ahay/Documents/DATA/L1imaging/1_OpenEphyNEO.ipynb#X31sZmlsZQ%3D%3D?line=1'>2</a>\u001b[0m filt_to_display \u001b[39m=\u001b[39m filt_SWR_CA1[\u001b[39m000\u001b[39m:\u001b[39m200000\u001b[39m]\u001b[39m-\u001b[39m\u001b[39m1000\u001b[39m\n\u001b[1;32m      <a href='vscode-notebook-cell:/Users/ahay/Documents/DATA/L1imaging/1_OpenEphyNEO.ipynb#X31sZmlsZQ%3D%3D?line=2'>3</a>\u001b[0m f_CA1_sliced \u001b[39m=\u001b[39m f_CA1[\u001b[39m0000\u001b[39m:\u001b[39m200000\u001b[39m]\u001b[39m/\u001b[39m\u001b[39m2\u001b[39m\n",
      "\u001b[0;31mNameError\u001b[0m: name 'times' is not defined"
     ]
    }
   ],
   "source": [
    "times_sliced = times[000:200000]\n",
    "filt_to_display = filt_SWR_CA1[000:200000]-1000\n",
    "f_CA1_sliced = f_CA1[0000:200000]/2\n",
    "combined = np.stack((f_CA1_sliced, filt_to_display), axis = 1)\n",
    "# Tracé du signal filtré\n",
    "\n",
    "fig, ax = plt.subplots(1,1, figsize=(15,5), layout='constrained') \n",
    "ax.plot(times_sliced, combined, 'r')\n",
    "ax.set_xlabel('Temps [sec]')\n",
    "ax.set_ylabel('Amplitude')\n"
   ]
  },
  {
   "cell_type": "markdown",
   "metadata": {},
   "source": [
    "With ephyviewer. "
   ]
  },
  {
   "cell_type": "code",
   "execution_count": 57,
   "metadata": {},
   "outputs": [],
   "source": [
    "# prepare numpy array for ephyviewer\n",
    "\n",
    "filt_SWR_CA1_sliced= filt_SWR_CA1[000:200000, np.newaxis]\n",
    "filt_Spind_PFC_sliced= filt_Spind_PFC[000:200000, np.newaxis]\n",
    "filt_Spind_S1_sliced= filt_Spind_S1[000:200000, np.newaxis]\n",
    "filt_sliced = Sample[0000:200000,:]\n",
    "combined2 = filt_sliced[:,0:2].copy()\n",
    "intf_sliced = filt_sliced[:,2]\n",
    "intf_sliced = intf_sliced[:, np.newaxis]\n",
    "combined2 = np.append(combined2, filt_Spind_PFC_sliced, axis=1)\n",
    "combined2 = np.append(combined2, intf_sliced, axis=1)\n",
    "combined2 = np.append(combined2, filt_Spind_S1_sliced, axis=1)\n",
    "intf_sliced = filt_sliced[:,3]\n",
    "intf_sliced = intf_sliced[:, np.newaxis]\n",
    "combined2 = np.append(combined2, intf_sliced, axis=1)\n",
    "combined2 = np.append(combined2, filt_SWR_CA1_sliced, axis = 1)\n"
   ]
  },
  {
   "cell_type": "code",
   "execution_count": 58,
   "metadata": {},
   "outputs": [
    {
     "data": {
      "text/plain": [
       "0"
      ]
     },
     "execution_count": 58,
     "metadata": {},
     "output_type": "execute_result"
    }
   ],
   "source": [
    "app = mkQApp()\n",
    "\n",
    "\n",
    "sample_rate = 1000.\n",
    "t_start = 0.\n",
    "\n",
    "#Create the main window that can contain several viewers\n",
    "win = MainViewer()\n",
    "view1 = TraceViewer.from_numpy(combined2, sample_rate, t_start, 'Signals')\n",
    "win.add_view(view1)\n",
    "\n",
    "#Parameters can be set in script\n",
    "#view1.params['scale_mode'] = 'same_for_all'\n",
    "view1.params['display_labels'] = True\n",
    "#And also parameters for each channel\n",
    "view1.by_channel_params['ch0', 'color'] = '#aa0000'\n",
    "view1.by_channel_params['ch1', 'color'] = '#0055ff'\n",
    "view1.by_channel_params['ch2', 'color'] = '#0055ff'\n",
    "view1.by_channel_params['ch5', 'color'] = '#ff5500'\n",
    "view1.by_channel_params['ch6', 'color'] = '#ff5500'\n",
    "\n",
    "view1.by_channel_params['ch0', 'gain'] = 0.00002\n",
    "view1.by_channel_params['ch1', 'gain'] = 0.00002\n",
    "view1.by_channel_params['ch2', 'gain'] = 0.00004\n",
    "view1.by_channel_params['ch3', 'gain'] = 0.0001\n",
    "view1.by_channel_params['ch4', 'gain'] = 0.0001\n",
    "view1.by_channel_params['ch5', 'gain'] = 0.00002\n",
    "view1.by_channel_params['ch6', 'gain'] = 0.00005\n",
    "\n",
    "view1.by_channel_params['ch0', 'offset'] = 0.3\n",
    "view1.by_channel_params['ch1', 'offset'] = 0.2\n",
    "view1.by_channel_params['ch2', 'offset'] = 0.1\n",
    "view1.by_channel_params['ch3', 'offset'] = 0.\n",
    "view1.by_channel_params['ch4', 'offset'] = -0.1\n",
    "view1.by_channel_params['ch5', 'offset'] = -0.2\n",
    "view1.by_channel_params['ch6', 'offset'] = -0.3\n",
    "\n",
    "#Run\n",
    "win.show()\n",
    "app.exec_()\n"
   ]
  }
 ],
 "metadata": {
  "kernelspec": {
   "display_name": "Python 3.9.12 ('formation')",
   "language": "python",
   "name": "python3"
  },
  "language_info": {
   "codemirror_mode": {
    "name": "ipython",
    "version": 3
   },
   "file_extension": ".py",
   "mimetype": "text/x-python",
   "name": "python",
   "nbconvert_exporter": "python",
   "pygments_lexer": "ipython3",
   "version": "3.10.13"
  },
  "orig_nbformat": 4,
  "vscode": {
   "interpreter": {
    "hash": "984d3fbee8ffa490637705ae3d7233e001ab0304f3daaca07b5aa8569b88ca53"
   }
  }
 },
 "nbformat": 4,
 "nbformat_minor": 2
}
